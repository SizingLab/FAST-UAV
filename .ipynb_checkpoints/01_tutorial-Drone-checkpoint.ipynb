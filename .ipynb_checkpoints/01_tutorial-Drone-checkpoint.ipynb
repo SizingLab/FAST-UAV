{
 "cells": [
  {
   "cell_type": "markdown",
   "metadata": {},
   "source": [
    "# FAST-OAD Tutorial"
   ]
  },
  {
   "cell_type": "markdown",
   "metadata": {},
   "source": [
    "FAST-OAD is a framework for performing rapid Overall Aircraft Design. The computational core of FAST-OAD is based on the  [OpenMDAO framework](https://openmdao.org/)."
   ]
  },
  {
   "cell_type": "markdown",
   "metadata": {},
   "source": [
    "## 1. Setting up and analyzing the initial problem"
   ]
  },
  {
   "cell_type": "markdown",
   "metadata": {},
   "source": [
    "To organize our work, we propose to use two user folders `data/` and `workdir/`. For instance, in `data/` we store a XML file which describes the [CeRAS reference case](http://ceras.ilr.rwth-aachen.de/trac/wiki/CeRAS/AircraftDesigns/CSR01). In `workdir/`, we store files generated or modified by FAST-OAD."
   ]
  },
  {
   "cell_type": "code",
   "execution_count": 1,
   "metadata": {},
   "outputs": [
    {
     "name": "stdout",
     "output_type": "stream",
     "text": [
      "Unable to import mpi4py. Parallel processing unavailable.\n",
      "Unable to import petsc4py. Parallel processing unavailable.\n",
      "Unable to import petsc4py. Parallel processing unavailable.\n"
     ]
    },
    {
     "data": {
      "text/html": [
       "<style>.container { width:95% !important; }</style>"
      ],
      "text/plain": [
       "<IPython.core.display.HTML object>"
      ]
     },
     "metadata": {},
     "output_type": "display_data"
    }
   ],
   "source": [
    "import os.path as pth\n",
    "import openmdao.api as om\n",
    "from fastoad import api\n",
    "import logging\n",
    "from fastoad.utils.postprocessing import VariableViewer\n",
    "import shutil\n",
    "\n",
    "DATA_FOLDER_PATH = 'data'\n",
    "\n",
    "WORK_FOLDER_PATH = 'workdir'\n",
    "\n",
    "CONFIGURATION_FILE = pth.join(WORK_FOLDER_PATH, 'oad_process_drone.toml')\n",
    "SOURCE_FILE = pth.join(WORK_FOLDER_PATH, 'problem_inputs.xml')\n",
    "\n",
    "# For having log messages on screen\n",
    "logging.basicConfig(level=logging.INFO, format='%(levelname)-8s: %(message)s')\n",
    "\n",
    "# For using all screen width\n",
    "from IPython.core.display import display, HTML\n",
    "display(HTML(\"<style>.container { width:95% !important; }</style>\"))"
   ]
  },
  {
   "cell_type": "markdown",
   "metadata": {},
   "source": [
    "In the configuration file, we have specified an input file name 'problem_inputs.xml'. We can ask FAST-OAD to generate the inputs of the default model with the reference parameters from my_ref_values.xml as default values:"
   ]
  },
  {
   "cell_type": "code",
   "execution_count": 2,
   "metadata": {},
   "outputs": [
    {
     "name": "stderr",
     "output_type": "stream",
     "text": [
      "INFO    : Loading bundles from D:/THESE/Tools/FAST_OAD_Drone/components\n",
      "INFO    : Installed bundle components.register (ID 32 )\n",
      "INFO    : Installed bundle components (ID 24 )\n",
      "INFO    : Problem inputs written in D:\\THESE\\Tools\\FAST_OAD_Drone\\workdir\\problem_inputs.xml\n"
     ]
    }
   ],
   "source": [
    "api.generate_inputs(CONFIGURATION_FILE, SOURCE_FILE, overwrite=True)\n",
    "#api.generate_inputs(CONFIGURATION_FILE, overwrite=True)"
   ]
  },
  {
   "cell_type": "markdown",
   "metadata": {},
   "source": [
    "You can now checkout the generated [input file](./workdir/problem_inputs.xml). As shown previously in the user file architecture, the values in this file can be modified by the user and will be considered by FAST-OAD when executing a computational process."
   ]
  },
  {
   "cell_type": "markdown",
   "metadata": {},
   "source": [
    "A useful feature that FAST-OAD provides is to list the outputs of the model defined in the configuration file:"
   ]
  },
  {
   "cell_type": "code",
   "execution_count": 3,
   "metadata": {},
   "outputs": [
    {
     "name": "stderr",
     "output_type": "stream",
     "text": [
      "INFO    : Loading bundles from D:/THESE/Tools/FAST_OAD_Drone/components\n",
      "INFO    : Installed bundle components.register (ID 32 )\n",
      "INFO    : Installed bundle components (ID 24 )\n"
     ]
    },
    {
     "data": {
      "text/html": [
       "<table border=\"1\" class=\"dataframe\">\n",
       "  <thead>\n",
       "    <tr style=\"text-align: right;\">\n",
       "      <th></th>\n",
       "      <th>I/O</th>\n",
       "      <th>Name</th>\n",
       "      <th>Description</th>\n",
       "    </tr>\n",
       "  </thead>\n",
       "  <tbody>\n",
       "    <tr>\n",
       "      <th>0</th>\n",
       "      <td>IN</td>\n",
       "      <td>data:ESC:efficiency</td>\n",
       "      <td></td>\n",
       "    </tr>\n",
       "    <tr>\n",
       "      <th>1</th>\n",
       "      <td>IN</td>\n",
       "      <td>data:ESC:reference:mass_ref</td>\n",
       "      <td></td>\n",
       "    </tr>\n",
       "    <tr>\n",
       "      <th>2</th>\n",
       "      <td>IN</td>\n",
       "      <td>data:ESC:reference:power_ref</td>\n",
       "      <td></td>\n",
       "    </tr>\n",
       "    <tr>\n",
       "      <th>3</th>\n",
       "      <td>IN</td>\n",
       "      <td>data:ESC:reference:voltage_ref</td>\n",
       "      <td></td>\n",
       "    </tr>\n",
       "    <tr>\n",
       "      <th>4</th>\n",
       "      <td>IN</td>\n",
       "      <td>data:battery:reference:capacity_ref</td>\n",
       "      <td></td>\n",
       "    </tr>\n",
       "    <tr>\n",
       "      <th>5</th>\n",
       "      <td>IN</td>\n",
       "      <td>data:battery:reference:mass_ref</td>\n",
       "      <td></td>\n",
       "    </tr>\n",
       "    <tr>\n",
       "      <th>6</th>\n",
       "      <td>IN</td>\n",
       "      <td>data:battery:reference:max_current_ref</td>\n",
       "      <td></td>\n",
       "    </tr>\n",
       "    <tr>\n",
       "      <th>7</th>\n",
       "      <td>IN</td>\n",
       "      <td>data:battery:reference:voltage_ref</td>\n",
       "      <td></td>\n",
       "    </tr>\n",
       "    <tr>\n",
       "      <th>8</th>\n",
       "      <td>IN</td>\n",
       "      <td>data:motor:reference:mass_ref</td>\n",
       "      <td></td>\n",
       "    </tr>\n",
       "    <tr>\n",
       "      <th>9</th>\n",
       "      <td>IN</td>\n",
       "      <td>data:motor:reference:resistance_ref</td>\n",
       "      <td></td>\n",
       "    </tr>\n",
       "    <tr>\n",
       "      <th>10</th>\n",
       "      <td>IN</td>\n",
       "      <td>data:motor:reference:torque_coefficient_ref</td>\n",
       "      <td></td>\n",
       "    </tr>\n",
       "    <tr>\n",
       "      <th>11</th>\n",
       "      <td>IN</td>\n",
       "      <td>data:motor:reference:torque_friction_ref</td>\n",
       "      <td></td>\n",
       "    </tr>\n",
       "    <tr>\n",
       "      <th>12</th>\n",
       "      <td>IN</td>\n",
       "      <td>data:motor:reference:torque_max_ref</td>\n",
       "      <td></td>\n",
       "    </tr>\n",
       "    <tr>\n",
       "      <th>13</th>\n",
       "      <td>IN</td>\n",
       "      <td>data:motor:reference:torque_nominal_ref</td>\n",
       "      <td></td>\n",
       "    </tr>\n",
       "    <tr>\n",
       "      <th>14</th>\n",
       "      <td>IN</td>\n",
       "      <td>data:propeller:prop_number_per_arm</td>\n",
       "      <td></td>\n",
       "    </tr>\n",
       "    <tr>\n",
       "      <th>15</th>\n",
       "      <td>IN</td>\n",
       "      <td>data:propeller:reference:diameter_ref</td>\n",
       "      <td></td>\n",
       "    </tr>\n",
       "    <tr>\n",
       "      <th>16</th>\n",
       "      <td>IN</td>\n",
       "      <td>data:propeller:reference:mass_ref</td>\n",
       "      <td></td>\n",
       "    </tr>\n",
       "    <tr>\n",
       "      <th>17</th>\n",
       "      <td>IN</td>\n",
       "      <td>data:propeller:reference:nD_max</td>\n",
       "      <td></td>\n",
       "    </tr>\n",
       "    <tr>\n",
       "      <th>18</th>\n",
       "      <td>IN</td>\n",
       "      <td>data:structure:aerodynamics:C_D</td>\n",
       "      <td></td>\n",
       "    </tr>\n",
       "    <tr>\n",
       "      <th>19</th>\n",
       "      <td>IN</td>\n",
       "      <td>data:structure:arms:material:density</td>\n",
       "      <td></td>\n",
       "    </tr>\n",
       "    <tr>\n",
       "      <th>20</th>\n",
       "      <td>IN</td>\n",
       "      <td>data:structure:arms:material:sigma_max</td>\n",
       "      <td></td>\n",
       "    </tr>\n",
       "    <tr>\n",
       "      <th>21</th>\n",
       "      <td>IN</td>\n",
       "      <td>data:structure:geometry:arms:arm_number</td>\n",
       "      <td></td>\n",
       "    </tr>\n",
       "    <tr>\n",
       "      <th>22</th>\n",
       "      <td>IN</td>\n",
       "      <td>data:structure:geometry:top_surface</td>\n",
       "      <td></td>\n",
       "    </tr>\n",
       "    <tr>\n",
       "      <th>23</th>\n",
       "      <td>IN</td>\n",
       "      <td>data:structure:reference:mass_arms_ref</td>\n",
       "      <td></td>\n",
       "    </tr>\n",
       "    <tr>\n",
       "      <th>24</th>\n",
       "      <td>IN</td>\n",
       "      <td>data:structure:reference:mass_frame_ref</td>\n",
       "      <td></td>\n",
       "    </tr>\n",
       "    <tr>\n",
       "      <th>25</th>\n",
       "      <td>IN</td>\n",
       "      <td>optimization:settings:D_ratio_arms</td>\n",
       "      <td></td>\n",
       "    </tr>\n",
       "    <tr>\n",
       "      <th>26</th>\n",
       "      <td>IN</td>\n",
       "      <td>optimization:settings:advance_ratio</td>\n",
       "      <td></td>\n",
       "    </tr>\n",
       "    <tr>\n",
       "      <th>27</th>\n",
       "      <td>IN</td>\n",
       "      <td>optimization:settings:beta_pro</td>\n",
       "      <td></td>\n",
       "    </tr>\n",
       "    <tr>\n",
       "      <th>28</th>\n",
       "      <td>IN</td>\n",
       "      <td>optimization:settings:gearbox_reduction_ratio</td>\n",
       "      <td></td>\n",
       "    </tr>\n",
       "    <tr>\n",
       "      <th>29</th>\n",
       "      <td>IN</td>\n",
       "      <td>optimization:settings:k_ESC</td>\n",
       "      <td></td>\n",
       "    </tr>\n",
       "    <tr>\n",
       "      <th>30</th>\n",
       "      <td>IN</td>\n",
       "      <td>optimization:settings:k_M</td>\n",
       "      <td></td>\n",
       "    </tr>\n",
       "    <tr>\n",
       "      <th>31</th>\n",
       "      <td>IN</td>\n",
       "      <td>optimization:settings:k_Mb</td>\n",
       "      <td></td>\n",
       "    </tr>\n",
       "    <tr>\n",
       "      <th>32</th>\n",
       "      <td>IN</td>\n",
       "      <td>optimization:settings:k_ND</td>\n",
       "      <td></td>\n",
       "    </tr>\n",
       "    <tr>\n",
       "      <th>33</th>\n",
       "      <td>IN</td>\n",
       "      <td>optimization:settings:k_VB</td>\n",
       "      <td></td>\n",
       "    </tr>\n",
       "    <tr>\n",
       "      <th>34</th>\n",
       "      <td>IN</td>\n",
       "      <td>optimization:settings:k_mot</td>\n",
       "      <td></td>\n",
       "    </tr>\n",
       "    <tr>\n",
       "      <th>35</th>\n",
       "      <td>IN</td>\n",
       "      <td>optimization:settings:k_speed_mot</td>\n",
       "      <td></td>\n",
       "    </tr>\n",
       "    <tr>\n",
       "      <th>36</th>\n",
       "      <td>IN</td>\n",
       "      <td>specifications:MTOW</td>\n",
       "      <td></td>\n",
       "    </tr>\n",
       "    <tr>\n",
       "      <th>37</th>\n",
       "      <td>IN</td>\n",
       "      <td>specifications:altitude</td>\n",
       "      <td></td>\n",
       "    </tr>\n",
       "    <tr>\n",
       "      <th>38</th>\n",
       "      <td>IN</td>\n",
       "      <td>specifications:climb_speed</td>\n",
       "      <td></td>\n",
       "    </tr>\n",
       "    <tr>\n",
       "      <th>39</th>\n",
       "      <td>IN</td>\n",
       "      <td>specifications:dISA</td>\n",
       "      <td></td>\n",
       "    </tr>\n",
       "    <tr>\n",
       "      <th>40</th>\n",
       "      <td>IN</td>\n",
       "      <td>specifications:hover_time</td>\n",
       "      <td></td>\n",
       "    </tr>\n",
       "    <tr>\n",
       "      <th>41</th>\n",
       "      <td>IN</td>\n",
       "      <td>specifications:k_maxthrust</td>\n",
       "      <td></td>\n",
       "    </tr>\n",
       "    <tr>\n",
       "      <th>42</th>\n",
       "      <td>IN</td>\n",
       "      <td>specifications:load:mass</td>\n",
       "      <td></td>\n",
       "    </tr>\n",
       "    <tr>\n",
       "      <th>43</th>\n",
       "      <td>OUT</td>\n",
       "      <td>data:ESC:mass</td>\n",
       "      <td></td>\n",
       "    </tr>\n",
       "    <tr>\n",
       "      <th>44</th>\n",
       "      <td>OUT</td>\n",
       "      <td>data:ESC:power_max_climb</td>\n",
       "      <td></td>\n",
       "    </tr>\n",
       "    <tr>\n",
       "      <th>45</th>\n",
       "      <td>OUT</td>\n",
       "      <td>data:ESC:power_max_thrust</td>\n",
       "      <td></td>\n",
       "    </tr>\n",
       "    <tr>\n",
       "      <th>46</th>\n",
       "      <td>OUT</td>\n",
       "      <td>data:ESC:voltage_ESC</td>\n",
       "      <td></td>\n",
       "    </tr>\n",
       "    <tr>\n",
       "      <th>47</th>\n",
       "      <td>OUT</td>\n",
       "      <td>data:air_density</td>\n",
       "      <td></td>\n",
       "    </tr>\n",
       "    <tr>\n",
       "      <th>48</th>\n",
       "      <td>OUT</td>\n",
       "      <td>data:battery:cell_number</td>\n",
       "      <td></td>\n",
       "    </tr>\n",
       "    <tr>\n",
       "      <th>49</th>\n",
       "      <td>OUT</td>\n",
       "      <td>data:battery:mass</td>\n",
       "      <td></td>\n",
       "    </tr>\n",
       "    <tr>\n",
       "      <th>50</th>\n",
       "      <td>OUT</td>\n",
       "      <td>data:battery:capacity</td>\n",
       "      <td></td>\n",
       "    </tr>\n",
       "    <tr>\n",
       "      <th>51</th>\n",
       "      <td>OUT</td>\n",
       "      <td>data:battery:current</td>\n",
       "      <td></td>\n",
       "    </tr>\n",
       "    <tr>\n",
       "      <th>52</th>\n",
       "      <td>OUT</td>\n",
       "      <td>data:battery:max_current</td>\n",
       "      <td></td>\n",
       "    </tr>\n",
       "    <tr>\n",
       "      <th>53</th>\n",
       "      <td>OUT</td>\n",
       "      <td>data:battery:voltage</td>\n",
       "      <td></td>\n",
       "    </tr>\n",
       "    <tr>\n",
       "      <th>54</th>\n",
       "      <td>OUT</td>\n",
       "      <td>data:battery:voltage_estimation</td>\n",
       "      <td></td>\n",
       "    </tr>\n",
       "    <tr>\n",
       "      <th>55</th>\n",
       "      <td>OUT</td>\n",
       "      <td>data:gearbox:gear_diameter</td>\n",
       "      <td></td>\n",
       "    </tr>\n",
       "    <tr>\n",
       "      <th>56</th>\n",
       "      <td>OUT</td>\n",
       "      <td>data:gearbox:inner_diameter</td>\n",
       "      <td></td>\n",
       "    </tr>\n",
       "    <tr>\n",
       "      <th>57</th>\n",
       "      <td>OUT</td>\n",
       "      <td>data:gearbox:mass</td>\n",
       "      <td></td>\n",
       "    </tr>\n",
       "    <tr>\n",
       "      <th>58</th>\n",
       "      <td>OUT</td>\n",
       "      <td>data:gearbox:pinion_diameter</td>\n",
       "      <td></td>\n",
       "    </tr>\n",
       "    <tr>\n",
       "      <th>59</th>\n",
       "      <td>OUT</td>\n",
       "      <td>data:motor:mass</td>\n",
       "      <td></td>\n",
       "    </tr>\n",
       "    <tr>\n",
       "      <th>60</th>\n",
       "      <td>OUT</td>\n",
       "      <td>data:motor:current_climb</td>\n",
       "      <td></td>\n",
       "    </tr>\n",
       "    <tr>\n",
       "      <th>61</th>\n",
       "      <td>OUT</td>\n",
       "      <td>data:motor:current_hover</td>\n",
       "      <td></td>\n",
       "    </tr>\n",
       "    <tr>\n",
       "      <th>62</th>\n",
       "      <td>OUT</td>\n",
       "      <td>data:motor:current_takeoff</td>\n",
       "      <td></td>\n",
       "    </tr>\n",
       "    <tr>\n",
       "      <th>63</th>\n",
       "      <td>OUT</td>\n",
       "      <td>data:motor:elec_power_climb</td>\n",
       "      <td></td>\n",
       "    </tr>\n",
       "    <tr>\n",
       "      <th>64</th>\n",
       "      <td>OUT</td>\n",
       "      <td>data:motor:elec_power_hover</td>\n",
       "      <td></td>\n",
       "    </tr>\n",
       "    <tr>\n",
       "      <th>65</th>\n",
       "      <td>OUT</td>\n",
       "      <td>data:motor:elec_power_takeoff</td>\n",
       "      <td></td>\n",
       "    </tr>\n",
       "    <tr>\n",
       "      <th>66</th>\n",
       "      <td>OUT</td>\n",
       "      <td>data:motor:resistance</td>\n",
       "      <td></td>\n",
       "    </tr>\n",
       "    <tr>\n",
       "      <th>67</th>\n",
       "      <td>OUT</td>\n",
       "      <td>data:motor:torque_climb</td>\n",
       "      <td></td>\n",
       "    </tr>\n",
       "    <tr>\n",
       "      <th>68</th>\n",
       "      <td>OUT</td>\n",
       "      <td>data:motor:torque_coefficient</td>\n",
       "      <td></td>\n",
       "    </tr>\n",
       "    <tr>\n",
       "      <th>69</th>\n",
       "      <td>OUT</td>\n",
       "      <td>data:motor:torque_friction</td>\n",
       "      <td></td>\n",
       "    </tr>\n",
       "    <tr>\n",
       "      <th>70</th>\n",
       "      <td>OUT</td>\n",
       "      <td>data:motor:torque_hover</td>\n",
       "      <td></td>\n",
       "    </tr>\n",
       "    <tr>\n",
       "      <th>71</th>\n",
       "      <td>OUT</td>\n",
       "      <td>data:motor:torque_max</td>\n",
       "      <td></td>\n",
       "    </tr>\n",
       "    <tr>\n",
       "      <th>72</th>\n",
       "      <td>OUT</td>\n",
       "      <td>data:motor:torque_nominal</td>\n",
       "      <td></td>\n",
       "    </tr>\n",
       "    <tr>\n",
       "      <th>73</th>\n",
       "      <td>OUT</td>\n",
       "      <td>data:motor:torque_takeoff</td>\n",
       "      <td></td>\n",
       "    </tr>\n",
       "    <tr>\n",
       "      <th>74</th>\n",
       "      <td>OUT</td>\n",
       "      <td>data:motor:voltage_climb</td>\n",
       "      <td></td>\n",
       "    </tr>\n",
       "    <tr>\n",
       "      <th>75</th>\n",
       "      <td>OUT</td>\n",
       "      <td>data:motor:voltage_hover</td>\n",
       "      <td></td>\n",
       "    </tr>\n",
       "    <tr>\n",
       "      <th>76</th>\n",
       "      <td>OUT</td>\n",
       "      <td>data:motor:voltage_takeoff</td>\n",
       "      <td></td>\n",
       "    </tr>\n",
       "    <tr>\n",
       "      <th>77</th>\n",
       "      <td>OUT</td>\n",
       "      <td>data:propeller:aerodynamics:CP_dynamic</td>\n",
       "      <td></td>\n",
       "    </tr>\n",
       "    <tr>\n",
       "      <th>78</th>\n",
       "      <td>OUT</td>\n",
       "      <td>data:propeller:aerodynamics:CP_static</td>\n",
       "      <td></td>\n",
       "    </tr>\n",
       "    <tr>\n",
       "      <th>79</th>\n",
       "      <td>OUT</td>\n",
       "      <td>data:propeller:aerodynamics:CT_dynamic</td>\n",
       "      <td></td>\n",
       "    </tr>\n",
       "    <tr>\n",
       "      <th>80</th>\n",
       "      <td>OUT</td>\n",
       "      <td>data:propeller:aerodynamics:CT_static</td>\n",
       "      <td></td>\n",
       "    </tr>\n",
       "    <tr>\n",
       "      <th>81</th>\n",
       "      <td>OUT</td>\n",
       "      <td>data:propeller:geometry:diameter</td>\n",
       "      <td></td>\n",
       "    </tr>\n",
       "    <tr>\n",
       "      <th>82</th>\n",
       "      <td>OUT</td>\n",
       "      <td>data:propeller:mass</td>\n",
       "      <td></td>\n",
       "    </tr>\n",
       "    <tr>\n",
       "      <th>83</th>\n",
       "      <td>OUT</td>\n",
       "      <td>data:propeller:climb_thrust_prop</td>\n",
       "      <td></td>\n",
       "    </tr>\n",
       "    <tr>\n",
       "      <th>84</th>\n",
       "      <td>OUT</td>\n",
       "      <td>data:propeller:hover_thrust_prop</td>\n",
       "      <td></td>\n",
       "    </tr>\n",
       "    <tr>\n",
       "      <th>85</th>\n",
       "      <td>OUT</td>\n",
       "      <td>data:propeller:max_thrust_prop</td>\n",
       "      <td></td>\n",
       "    </tr>\n",
       "    <tr>\n",
       "      <th>86</th>\n",
       "      <td>OUT</td>\n",
       "      <td>data:propeller:power_climb</td>\n",
       "      <td></td>\n",
       "    </tr>\n",
       "    <tr>\n",
       "      <th>87</th>\n",
       "      <td>OUT</td>\n",
       "      <td>data:propeller:power_hover</td>\n",
       "      <td></td>\n",
       "    </tr>\n",
       "    <tr>\n",
       "      <th>88</th>\n",
       "      <td>OUT</td>\n",
       "      <td>data:propeller:power_takeoff</td>\n",
       "      <td></td>\n",
       "    </tr>\n",
       "    <tr>\n",
       "      <th>89</th>\n",
       "      <td>OUT</td>\n",
       "      <td>data:propeller:speed:climb</td>\n",
       "      <td></td>\n",
       "    </tr>\n",
       "    <tr>\n",
       "      <th>90</th>\n",
       "      <td>OUT</td>\n",
       "      <td>data:propeller:speed:hover</td>\n",
       "      <td></td>\n",
       "    </tr>\n",
       "    <tr>\n",
       "      <th>91</th>\n",
       "      <td>OUT</td>\n",
       "      <td>data:propeller:speed:takeoff</td>\n",
       "      <td></td>\n",
       "    </tr>\n",
       "    <tr>\n",
       "      <th>92</th>\n",
       "      <td>OUT</td>\n",
       "      <td>data:propeller:torque_climb</td>\n",
       "      <td></td>\n",
       "    </tr>\n",
       "    <tr>\n",
       "      <th>93</th>\n",
       "      <td>OUT</td>\n",
       "      <td>data:propeller:torque_hover</td>\n",
       "      <td></td>\n",
       "    </tr>\n",
       "    <tr>\n",
       "      <th>94</th>\n",
       "      <td>OUT</td>\n",
       "      <td>data:propeller:torque_takeoff</td>\n",
       "      <td></td>\n",
       "    </tr>\n",
       "    <tr>\n",
       "      <th>95</th>\n",
       "      <td>OUT</td>\n",
       "      <td>data:propeller:prop_number</td>\n",
       "      <td></td>\n",
       "    </tr>\n",
       "    <tr>\n",
       "      <th>96</th>\n",
       "      <td>OUT</td>\n",
       "      <td>data:structure:geometry:arms:arm_length</td>\n",
       "      <td></td>\n",
       "    </tr>\n",
       "    <tr>\n",
       "      <th>97</th>\n",
       "      <td>OUT</td>\n",
       "      <td>data:structure:geometry:arms:inner_diameter</td>\n",
       "      <td></td>\n",
       "    </tr>\n",
       "    <tr>\n",
       "      <th>98</th>\n",
       "      <td>OUT</td>\n",
       "      <td>data:structure:geometry:arms:outer_diameter</td>\n",
       "      <td></td>\n",
       "    </tr>\n",
       "    <tr>\n",
       "      <th>99</th>\n",
       "      <td>OUT</td>\n",
       "      <td>data:structure:mass:arms</td>\n",
       "      <td></td>\n",
       "    </tr>\n",
       "    <tr>\n",
       "      <th>100</th>\n",
       "      <td>OUT</td>\n",
       "      <td>data:structure:mass:frame</td>\n",
       "      <td></td>\n",
       "    </tr>\n",
       "    <tr>\n",
       "      <th>101</th>\n",
       "      <td>OUT</td>\n",
       "      <td>optimization:constraints:ESC:bat_voltage</td>\n",
       "      <td></td>\n",
       "    </tr>\n",
       "    <tr>\n",
       "      <th>102</th>\n",
       "      <td>OUT</td>\n",
       "      <td>optimization:constraints:ESC:climb_power</td>\n",
       "      <td></td>\n",
       "    </tr>\n",
       "    <tr>\n",
       "      <th>103</th>\n",
       "      <td>OUT</td>\n",
       "      <td>optimization:constraints:battery:climb_power</td>\n",
       "      <td></td>\n",
       "    </tr>\n",
       "    <tr>\n",
       "      <th>104</th>\n",
       "      <td>OUT</td>\n",
       "      <td>optimization:constraints:battery:climb_voltage</td>\n",
       "      <td></td>\n",
       "    </tr>\n",
       "    <tr>\n",
       "      <th>105</th>\n",
       "      <td>OUT</td>\n",
       "      <td>optimization:constraints:battery:takeoff_power</td>\n",
       "      <td></td>\n",
       "    </tr>\n",
       "    <tr>\n",
       "      <th>106</th>\n",
       "      <td>OUT</td>\n",
       "      <td>optimization:constraints:battery:takeoff_voltage</td>\n",
       "      <td></td>\n",
       "    </tr>\n",
       "    <tr>\n",
       "      <th>107</th>\n",
       "      <td>OUT</td>\n",
       "      <td>optimization:constraints:MTOW</td>\n",
       "      <td></td>\n",
       "    </tr>\n",
       "    <tr>\n",
       "      <th>108</th>\n",
       "      <td>OUT</td>\n",
       "      <td>optimization:constraints:flight_autonomy</td>\n",
       "      <td></td>\n",
       "    </tr>\n",
       "    <tr>\n",
       "      <th>109</th>\n",
       "      <td>OUT</td>\n",
       "      <td>optimization:constraints:mass_convergence</td>\n",
       "      <td></td>\n",
       "    </tr>\n",
       "    <tr>\n",
       "      <th>110</th>\n",
       "      <td>OUT</td>\n",
       "      <td>optimization:constraints:motor:climb_torque</td>\n",
       "      <td></td>\n",
       "    </tr>\n",
       "    <tr>\n",
       "      <th>111</th>\n",
       "      <td>OUT</td>\n",
       "      <td>optimization:constraints:motor:takeoff_torque</td>\n",
       "      <td></td>\n",
       "    </tr>\n",
       "    <tr>\n",
       "      <th>112</th>\n",
       "      <td>OUT</td>\n",
       "      <td>optimization:constraints:propeller:climb_speed</td>\n",
       "      <td></td>\n",
       "    </tr>\n",
       "    <tr>\n",
       "      <th>113</th>\n",
       "      <td>OUT</td>\n",
       "      <td>optimization:constraints:propeller:max_speed</td>\n",
       "      <td></td>\n",
       "    </tr>\n",
       "    <tr>\n",
       "      <th>114</th>\n",
       "      <td>OUT</td>\n",
       "      <td>optimization:objectives:hover_time</td>\n",
       "      <td></td>\n",
       "    </tr>\n",
       "    <tr>\n",
       "      <th>115</th>\n",
       "      <td>OUT</td>\n",
       "      <td>optimization:objectives:mass_total</td>\n",
       "      <td></td>\n",
       "    </tr>\n",
       "  </tbody>\n",
       "</table>"
      ],
      "text/plain": [
       "<IPython.core.display.HTML object>"
      ]
     },
     "metadata": {},
     "output_type": "display_data"
    }
   ],
   "source": [
    "api.list_variables(CONFIGURATION_FILE)"
   ]
  },
  {
   "cell_type": "markdown",
   "metadata": {},
   "source": [
    "Another useful feature is to list the modules of the model defined in the configuration file:"
   ]
  },
  {
   "cell_type": "code",
   "execution_count": 4,
   "metadata": {},
   "outputs": [
    {
     "name": "stderr",
     "output_type": "stream",
     "text": [
      "INFO    : Loading bundles from D:/THESE/Tools/FAST_OAD_Drone/components\n",
      "INFO    : Installed bundle components.register (ID 32 )\n",
      "INFO    : Installed bundle components (ID 24 )\n",
      "INFO    : Loading bundles from D:/THESE/Tools/FAST_OAD_Drone/components\n",
      "INFO    : Installed bundle components.register (ID 32 )\n",
      "INFO    : Installed bundle components (ID 24 )\n"
     ]
    },
    {
     "name": "stdout",
     "output_type": "stream",
     "text": [
      "== AVAILABLE SYSTEM IDENTIFIERS ====================================================================\n",
      "----------------------------------------------------------------------------------------------------\n",
      "  IDENTIFIER:   energy.battery\n",
      "  PATH:         D:\\THESE\\Tools\\FAST_OAD_Drone\\components\\Energy_source\\energy_source.py\n",
      "  DOMAIN:       Unspecified\n",
      "  DESCRIPTION:  \n",
      "    Group containing the Battery MDA.\n",
      "\n",
      "----------------------------------------------------------------------------------------------------\n",
      "  IDENTIFIER:   esc\n",
      "  PATH:         D:\\THESE\\Tools\\FAST_OAD_Drone\\components\\ESC\\esc.py\n",
      "  DOMAIN:       Unspecified\n",
      "  DESCRIPTION:  \n",
      "    Group containing the ESC MDA.\n",
      "\n",
      "----------------------------------------------------------------------------------------------------\n",
      "  IDENTIFIER:   fastoad.aerodynamics.highspeed.legacy\n",
      "  PATH:         D:\\Softwares\\Anaconda3\\envs\\Drone_OAD\\lib\\site-packages\\fastoad\\models\\aerodynamics\\aerodynamics_high_speed.py\n",
      "  DOMAIN:       Aerodynamics\n",
      "  DESCRIPTION:  \n",
      "    Computes aerodynamic polar of the aircraft in cruise conditions.\n",
      "\n",
      "    Drag contributions of each part of the aircraft are computed though analytical\n",
      "    models.\n",
      "\n",
      "----------------------------------------------------------------------------------------------------\n",
      "  IDENTIFIER:   fastoad.aerodynamics.landing.legacy\n",
      "  PATH:         D:\\Softwares\\Anaconda3\\envs\\Drone_OAD\\lib\\site-packages\\fastoad\\models\\aerodynamics\\aerodynamics_landing.py\n",
      "  DOMAIN:       Aerodynamics\n",
      "  DESCRIPTION:  \n",
      "    Computes aerodynamic characteristics at landing.\n",
      "\n",
      "    - Computes CL and CD increments due to high-lift devices at landing.\n",
      "    - Computes maximum CL of the aircraft in landing conditions.\n",
      "\n",
      "    Maximum 2D CL without high-lift is computed using XFoil (or provided as input if option\n",
      "    use_xfoil is set to False). 3D CL is deduced using sweep angle.\n",
      "\n",
      "    Contribution of high-lift devices is modelled according to their geometry (span and chord ratio)\n",
      "    and their deflection angles.\n",
      "\n",
      "    Options:\n",
      "      - use_xfoil:\n",
      "         - if True, maximum 2D CL without high-lift aerodynamics:aircraft:landing:CL_max_clean_2D\n",
      "           is computed using XFOIL\n",
      "         - if False, aerodynamics:aircraft:landing:CL_max_clean_2D must be provided as input (but\n",
      "           process is faster)\n",
      "      - alpha_min, alpha_max:\n",
      "         - used if use_xfoil is True. Sets the alpha range that is explored to find maximum 2D CL\n",
      "           without high-lift\n",
      "      - xfoil_exe_path:\n",
      "         - the path to the XFOIL executable. Needed for non-Windows OS.\n",
      "\n",
      "----------------------------------------------------------------------------------------------------\n",
      "  IDENTIFIER:   fastoad.aerodynamics.lowspeed.legacy\n",
      "  PATH:         D:\\Softwares\\Anaconda3\\envs\\Drone_OAD\\lib\\site-packages\\fastoad\\models\\aerodynamics\\aerodynamics_low_speed.py\n",
      "  DOMAIN:       Aerodynamics\n",
      "  DESCRIPTION:  \n",
      "    Models for low speed aerodynamics\n",
      "\n",
      "----------------------------------------------------------------------------------------------------\n",
      "  IDENTIFIER:   fastoad.aerodynamics.takeoff.legacy\n",
      "  PATH:         D:\\Softwares\\Anaconda3\\envs\\Drone_OAD\\lib\\site-packages\\fastoad\\models\\aerodynamics\\aerodynamics_takeoff.py\n",
      "  DOMAIN:       Aerodynamics\n",
      "  DESCRIPTION:  \n",
      "    Computes aerodynamic characteristics at takeoff.\n",
      "\n",
      "    - Computes CL and CD increments due to high-lift devices at takeoff.\n",
      "\n",
      "----------------------------------------------------------------------------------------------------\n",
      "  IDENTIFIER:   fastoad.geometry.legacy\n",
      "  PATH:         D:\\Softwares\\Anaconda3\\envs\\Drone_OAD\\lib\\site-packages\\fastoad\\models\\geometry\\geometry.py\n",
      "  DOMAIN:       Geometry\n",
      "  DESCRIPTION:  \n",
      "    Computes geometric characteristics of the (tube-wing) aircraft:\n",
      "      - fuselage size is computed from payload requirements\n",
      "      - wing dimensions are computed from global parameters (area, taper ratio...)\n",
      "      - tail planes are dimensioned from HQ requirements\n",
      "\n",
      "    This module also computes centers of gravity and static margin\n",
      "\n",
      "----------------------------------------------------------------------------------------------------\n",
      "  IDENTIFIER:   fastoad.handling_qualities.static_margin\n",
      "  PATH:         D:\\Softwares\\Anaconda3\\envs\\Drone_OAD\\lib\\site-packages\\fastoad\\models\\handling_qualities\\compute_static_margin.py\n",
      "  DOMAIN:       Handling Qualities\n",
      "  DESCRIPTION:  \n",
      "    Computation of static margin i.e. difference between CG ratio and neutral\n",
      "    point.\n",
      "\n",
      "----------------------------------------------------------------------------------------------------\n",
      "  IDENTIFIER:   fastoad.handling_qualities.tail_sizing\n",
      "  PATH:         D:\\Softwares\\Anaconda3\\envs\\Drone_OAD\\lib\\site-packages\\fastoad\\models\\handling_qualities\\tail_sizing\\compute_tail_areas.py\n",
      "  DOMAIN:       Handling Qualities\n",
      "  DESCRIPTION:  \n",
      "    Computes areas of vertical and horizontal tail.\n",
      "\n",
      "    - Horizontal tail area is computed so it can balance pitching moment of\n",
      "      aircraft at rotation speed.\n",
      "    - Vertical tail area is computed so aircraft can have the CNbeta in cruise\n",
      "      conditions\n",
      "\n",
      "----------------------------------------------------------------------------------------------------\n",
      "  IDENTIFIER:   fastoad.loop.mtow\n",
      "  PATH:         D:\\Softwares\\Anaconda3\\envs\\Drone_OAD\\lib\\site-packages\\fastoad\\models\\weight\\mass_breakdown\\mass_breakdown.py\n",
      "  DOMAIN:       Weight\n",
      "  DESCRIPTION:  \n",
      "    Computes MTOW from OWE, design payload and consumed fuel in sizing mission.\n",
      "\n",
      "----------------------------------------------------------------------------------------------------\n",
      "  IDENTIFIER:   fastoad.loop.wing_area\n",
      "  PATH:         D:\\Softwares\\Anaconda3\\envs\\Drone_OAD\\lib\\site-packages\\fastoad\\models\\loops\\compute_wing_area.py\n",
      "  DOMAIN:       Other\n",
      "  DESCRIPTION:  \n",
      "    Computes needed wing area for:\n",
      "      - having enough lift at required approach speed\n",
      "      - being able to load enough fuel to achieve the sizing mission\n",
      "\n",
      "----------------------------------------------------------------------------------------------------\n",
      "  IDENTIFIER:   fastoad.performances.breguet\n",
      "  PATH:         D:\\Softwares\\Anaconda3\\envs\\Drone_OAD\\lib\\site-packages\\fastoad\\models\\performances\\breguet\\openmdao.py\n",
      "  DOMAIN:       Performance\n",
      "  DESCRIPTION:  \n",
      "    Estimation of fuel consumption through Breguet formula.\n",
      "\n",
      "    It uses a rough estimate of climb and descent phases.\n",
      "\n",
      "    MTOW (Max TakeOff Weight) being an input, the model computes the ZFW (Zero Fuel\n",
      "    Weight) considering that all fuel but the reserve has been consumed during the\n",
      "    mission.\n",
      "    This model does not ensure consistency with OWE (Operating Empty Weight).\n",
      "\n",
      "----------------------------------------------------------------------------------------------------\n",
      "  IDENTIFIER:   fastoad.performances.sizing_flight\n",
      "  PATH:         D:\\Softwares\\Anaconda3\\envs\\Drone_OAD\\lib\\site-packages\\fastoad\\models\\performances\\mission\\openmdao\\flight.py\n",
      "  DOMAIN:       Performance\n",
      "  DESCRIPTION:  \n",
      "    Simulates a complete flight mission with diversion.\n",
      "\n",
      "----------------------------------------------------------------------------------------------------\n",
      "  IDENTIFIER:   fastoad.propulsion.rubber_engine\n",
      "  PATH:         D:\\Softwares\\Anaconda3\\envs\\Drone_OAD\\lib\\site-packages\\fastoad\\models\\propulsion\\fuel_propulsion\\rubber_engine\\openmdao.py\n",
      "  DOMAIN:       Propulsion\n",
      "  DESCRIPTION:  \n",
      "    Parametric engine model as OpenMDAO component.\n",
      "\n",
      "    Implementation of E. Roux models for fuel consumption of low bypass ratio engines\n",
      "    For more information, see RubberEngine class in FAST-OAD developer documentation.\n",
      "\n",
      "----------------------------------------------------------------------------------------------------\n",
      "  IDENTIFIER:   fastoad.weight.legacy\n",
      "  PATH:         D:\\Softwares\\Anaconda3\\envs\\Drone_OAD\\lib\\site-packages\\fastoad\\models\\weight\\weight.py\n",
      "  DOMAIN:       Weight\n",
      "  DESCRIPTION:  \n",
      "    Computes masses and Centers of Gravity for each part of the empty operating aircraft, among\n",
      "    these 5 categories:\n",
      "    airframe, propulsion, systems, furniture, crew\n",
      "\n",
      "    This model uses MTOW as an input, as it allows to size some elements, but resulting OWE do\n",
      "    not aim at being consistent with MTOW.\n",
      "\n",
      "    Consistency between OWE and MTOW can be achieved by cycling with a model that computes MTOW\n",
      "    from OWE, which should come from a mission computation that will assess needed block fuel.\n",
      "\n",
      "----------------------------------------------------------------------------------------------------\n",
      "  IDENTIFIER:   missions.multirotor\n",
      "  PATH:         D:\\THESE\\Tools\\FAST_OAD_Drone\\components\\Missions\\missions.py\n",
      "  DOMAIN:       Unspecified\n",
      "  DESCRIPTION:  \n",
      "    Group containing the sizings scenarios for Multi-Rotor drones\n",
      "\n",
      "----------------------------------------------------------------------------------------------------\n",
      "  IDENTIFIER:   motor.multirotor\n",
      "  PATH:         D:\\THESE\\Tools\\FAST_OAD_Drone\\components\\Motor\\motor.py\n",
      "  DOMAIN:       Unspecified\n",
      "  DESCRIPTION:  \n",
      "    Group containing the Motor MDA.\n",
      "\n",
      "----------------------------------------------------------------------------------------------------\n",
      "  IDENTIFIER:   objective\n",
      "  PATH:         D:\\THESE\\Tools\\FAST_OAD_Drone\\components\\Objectives\\objectives.py\n",
      "  DOMAIN:       Unspecified\n",
      "  DESCRIPTION:  \n",
      "    Group containing the objective functions\n",
      "\n",
      "----------------------------------------------------------------------------------------------------\n",
      "  IDENTIFIER:   propeller.multirotor\n",
      "  PATH:         D:\\THESE\\Tools\\FAST_OAD_Drone\\components\\Propeller\\propeller.py\n",
      "  DOMAIN:       Unspecified\n",
      "  DESCRIPTION:  \n",
      "    Group containing the Propeller MDA.\n",
      "\n",
      "----------------------------------------------------------------------------------------------------\n",
      "  IDENTIFIER:   structure.multirotor\n",
      "  PATH:         D:\\THESE\\Tools\\FAST_OAD_Drone\\components\\Structure\\structure.py\n",
      "  DOMAIN:       Unspecified\n",
      "  DESCRIPTION:  \n",
      "    Group containing the Structure MDA of a Multi-Rotor.\n",
      "\n",
      "----------------------------------------------------------------------------------------------------\n",
      "====================================================================================================\n",
      "\n",
      "== AVAILABLE PROPULSION WRAPPER IDENTIFIERS ========================================================\n",
      "----------------------------------------------------------------------------------------------------\n",
      "  IDENTIFIER:   fastoad.wrapper.propulsion.rubber_engine\n",
      "  PATH:         D:\\Softwares\\Anaconda3\\envs\\Drone_OAD\\lib\\site-packages\\fastoad\\models\\propulsion\\fuel_propulsion\\rubber_engine\\openmdao.py\n",
      "  DESCRIPTION:  \n",
      "    Parametric engine model as OpenMDAO component.\n",
      "\n",
      "    Implementation of E. Roux models for fuel consumption of low bypass ratio engines\n",
      "    For more information, see RubberEngine class in FAST-OAD developer documentation.\n",
      "\n",
      "----------------------------------------------------------------------------------------------------\n",
      "====================================================================================================\n"
     ]
    }
   ],
   "source": [
    "api.list_systems(CONFIGURATION_FILE)"
   ]
  },
  {
   "cell_type": "markdown",
   "metadata": {},
   "source": [
    "Another useful feature is the [N2 diagram](http://openmdao.org/twodocs/versions/latest/basic_guide/make_n2.html) visualization available in OpenMDAO to see the structure of the model:"
   ]
  },
  {
   "cell_type": "code",
   "execution_count": 5,
   "metadata": {
    "scrolled": false
   },
   "outputs": [
    {
     "name": "stderr",
     "output_type": "stream",
     "text": [
      "INFO    : Loading bundles from D:/THESE/Tools/FAST_OAD_Drone/components\n",
      "INFO    : Installed bundle components.register (ID 32 )\n",
      "INFO    : Installed bundle components (ID 24 )\n",
      "INFO    : N2 diagram written in D:\\THESE\\Tools\\FAST_OAD_Drone\\workdir\\n2.html\n"
     ]
    },
    {
     "data": {
      "text/html": [
       "\n",
       "        <iframe\n",
       "            width=\"100%\"\n",
       "            height=\"500px\"\n",
       "            src=\"workdir\\n2.html\"\n",
       "            frameborder=\"0\"\n",
       "            allowfullscreen\n",
       "        ></iframe>\n",
       "        "
      ],
      "text/plain": [
       "<IPython.lib.display.IFrame at 0x177affdc040>"
      ]
     },
     "execution_count": 5,
     "metadata": {},
     "output_type": "execute_result"
    }
   ],
   "source": [
    "N2_FILE = pth.join(WORK_FOLDER_PATH, 'n2.html')\n",
    "api.write_n2(CONFIGURATION_FILE, N2_FILE, overwrite=True)\n",
    "from IPython.display import IFrame\n",
    "IFrame(src=N2_FILE, width='100%', height='500px')"
   ]
  },
  {
   "cell_type": "markdown",
   "metadata": {},
   "source": [
    "Alternatively, you can create a [WhatsOpt](https://github.com/OneraHub/WhatsOpt-Doc#whatsopt-documentation) account to generate the XDSM of the problem. If your account is created, you may uncomment next lines and run them (this should take ~ 1 min):"
   ]
  },
  {
   "cell_type": "code",
   "execution_count": 29,
   "metadata": {},
   "outputs": [],
   "source": [
    "# XDSM_FILE = pth.join(WORK_FOLDER_PATH, 'xdsm.html')\n",
    "# api.write_xdsm(CONFIGURATION_FILE, XDSM_FILE, overwrite=True)\n",
    "# from IPython.display import IFrame\n",
    "# IFrame(src=XDSM_FILE, width='100%', height='500px')"
   ]
  },
  {
   "cell_type": "markdown",
   "metadata": {},
   "source": [
    "## 2. Running your first MDA"
   ]
  },
  {
   "cell_type": "markdown",
   "metadata": {},
   "source": [
    "Here we run an MDA, that is solving the multidisciplinary couplings using the different nested solvers in the model, without running the optimization problem even if it is defined in the configuration file."
   ]
  },
  {
   "cell_type": "code",
   "execution_count": 6,
   "metadata": {},
   "outputs": [
    {
     "data": {
      "application/vnd.jupyter.widget-view+json": {
       "model_id": "e6ac81a6082c4429bf68bb08a7932747",
       "version_major": 2,
       "version_minor": 0
      },
      "text/plain": [
       "VBox(children=(HBox(children=(Button(description='Load', icon='upload', style=ButtonStyle(), tooltip='Load the…"
      ]
     },
     "metadata": {},
     "output_type": "display_data"
    }
   ],
   "source": [
    "INPUT_FILE = pth.join(WORK_FOLDER_PATH, 'problem_inputs.xml')\n",
    "api.variable_viewer(INPUT_FILE)"
   ]
  },
  {
   "cell_type": "code",
   "execution_count": 7,
   "metadata": {},
   "outputs": [
    {
     "name": "stderr",
     "output_type": "stream",
     "text": [
      "INFO    : Loading bundles from D:/THESE/Tools/FAST_OAD_Drone/components\n",
      "INFO    : Installed bundle components.register (ID 32 )\n",
      "INFO    : Installed bundle components (ID 24 )\n"
     ]
    },
    {
     "name": "stdout",
     "output_type": "stream",
     "text": [
      "NL: NLBGS Converged in 2 iterations\n"
     ]
    },
    {
     "name": "stderr",
     "output_type": "stream",
     "text": [
      "INFO    : Computation finished after 0.13 seconds\n",
      "INFO    : Problem outputs written in D:\\THESE\\Tools\\FAST_OAD_Drone\\workdir\\problem_outputs.xml\n"
     ]
    }
   ],
   "source": [
    "eval_problem = api.evaluate_problem(CONFIGURATION_FILE, overwrite=True)"
   ]
  },
  {
   "cell_type": "markdown",
   "metadata": {},
   "source": [
    "Let's save these results. We will use them in the next workbook, that shows some post-processing utilities."
   ]
  },
  {
   "cell_type": "code",
   "execution_count": 8,
   "metadata": {},
   "outputs": [
    {
     "data": {
      "text/plain": [
       "'workdir\\\\problem_outputs_mda.xml'"
      ]
     },
     "execution_count": 8,
     "metadata": {},
     "output_type": "execute_result"
    }
   ],
   "source": [
    "OUTPUT_FILE = pth.join(WORK_FOLDER_PATH, 'problem_outputs.xml')\n",
    "MDA_OUTPUT_FILE = pth.join(WORK_FOLDER_PATH, 'problem_outputs_mda.xml')\n",
    "shutil.copy(OUTPUT_FILE, MDA_OUTPUT_FILE)"
   ]
  },
  {
   "cell_type": "markdown",
   "metadata": {},
   "source": [
    "The `variable-viewer` provides a way to inspect the content of the XML file. The dropdown lists above the table allow to filter the displayed variable."
   ]
  },
  {
   "cell_type": "code",
   "execution_count": 9,
   "metadata": {
    "scrolled": false
   },
   "outputs": [
    {
     "data": {
      "application/vnd.jupyter.widget-view+json": {
       "model_id": "9926a138a6f14bcfbb303825b5347eea",
       "version_major": 2,
       "version_minor": 0
      },
      "text/plain": [
       "VBox(children=(HBox(children=(Button(description='Load', icon='upload', style=ButtonStyle(), tooltip='Load the…"
      ]
     },
     "metadata": {},
     "output_type": "display_data"
    }
   ],
   "source": [
    "api.variable_viewer(OUTPUT_FILE)"
   ]
  },
  {
   "cell_type": "markdown",
   "metadata": {},
   "source": [
    "## 3. Running your first MDO\n"
   ]
  },
  {
   "cell_type": "code",
   "execution_count": null,
   "metadata": {},
   "outputs": [],
   "source": [
    "# api.generate_inputs(CONFIGURATION_FILE, SOURCE_FILE, overwrite=True)"
   ]
  },
  {
   "cell_type": "markdown",
   "metadata": {},
   "source": [
    "To visualize and edit the optimization problem definition (present in the configuration file .toml) you can use the `optimization_viewer` tool. If design variables or constraints have active bounds they are yellow whereas they are red if they are violated. Modifiying the `Initial Value` will modify the input file defined in the configuration file .toml whereas `Value` corresponds to the value found in the output file defined in the configuration file."
   ]
  },
  {
   "cell_type": "code",
   "execution_count": 10,
   "metadata": {},
   "outputs": [
    {
     "data": {
      "application/vnd.jupyter.widget-view+json": {
       "model_id": "2775b96391b448cf9bfecda16b77ce84",
       "version_major": 2,
       "version_minor": 0
      },
      "text/plain": [
       "VBox(children=(HBox(children=(Button(description='Load', icon='upload', style=ButtonStyle(), tooltip='Load the…"
      ]
     },
     "metadata": {},
     "output_type": "display_data"
    }
   ],
   "source": [
    "api.optimization_viewer(CONFIGURATION_FILE)"
   ]
  },
  {
   "cell_type": "code",
   "execution_count": 11,
   "metadata": {
    "jupyter": {
     "outputs_hidden": true
    }
   },
   "outputs": [
    {
     "name": "stderr",
     "output_type": "stream",
     "text": [
      "INFO    : Loading bundles from D:/THESE/Tools/FAST_OAD_Drone/components\n",
      "INFO    : Installed bundle components.register (ID 32 )\n",
      "INFO    : Installed bundle components (ID 24 )\n"
     ]
    },
    {
     "name": "stdout",
     "output_type": "stream",
     "text": [
      "NL: NLBGS Converged in 2 iterations\n",
      "NL: NLBGS Converged in 1 iterations\n",
      "NL: NLBGS Converged in 2 iterations\n",
      "NL: NLBGS Converged in 2 iterations\n",
      "NL: NLBGS Converged in 2 iterations\n",
      "NL: NLBGS Converged in 2 iterations\n",
      "NL: NLBGS Converged in 2 iterations\n",
      "NL: NLBGS Converged in 2 iterations\n",
      "NL: NLBGS Converged in 2 iterations\n",
      "NL: NLBGS Converged in 2 iterations\n",
      "NL: NLBGS Converged in 2 iterations\n",
      "NL: NLBGS Converged in 2 iterations\n",
      "NL: NLBGS Converged in 2 iterations\n",
      "NL: NLBGS Converged in 2 iterations\n",
      "NL: NLBGS Converged in 2 iterations\n",
      "NL: NLBGS Converged in 2 iterations\n",
      "NL: NLBGS Converged in 2 iterations\n",
      "NL: NLBGS Converged in 2 iterations\n",
      "NL: NLBGS Converged in 2 iterations\n",
      "NL: NLBGS Converged in 2 iterations\n",
      "Optimization terminated successfully    (Exit mode 0)\n",
      "            Current function value: [6.09528217]\n",
      "            Iterations: 16\n",
      "            Function evaluations: 19\n",
      "            Gradient evaluations: 16\n",
      "Optimization Complete\n",
      "-----------------------------------\n"
     ]
    },
    {
     "name": "stderr",
     "output_type": "stream",
     "text": [
      "INFO    : Computation finished after 1.2 seconds\n",
      "INFO    : Problem outputs written in D:\\THESE\\Tools\\FAST_OAD_Drone\\workdir\\problem_outputs.xml\n"
     ]
    }
   ],
   "source": [
    "optim_problem = api.optimize_problem(CONFIGURATION_FILE, overwrite=True)"
   ]
  },
  {
   "cell_type": "markdown",
   "metadata": {},
   "source": [
    "Let's save these results:"
   ]
  },
  {
   "cell_type": "code",
   "execution_count": 12,
   "metadata": {},
   "outputs": [
    {
     "data": {
      "text/plain": [
       "'workdir\\\\problem_outputs_mdo.xml'"
      ]
     },
     "execution_count": 12,
     "metadata": {},
     "output_type": "execute_result"
    }
   ],
   "source": [
    "OUTPUT_FILE = pth.join(WORK_FOLDER_PATH, 'problem_outputs.xml')\n",
    "OPT_OUTPUT_FILE = pth.join(WORK_FOLDER_PATH, 'problem_outputs_mdo.xml')\n",
    "shutil.copy(OUTPUT_FILE, OPT_OUTPUT_FILE)"
   ]
  },
  {
   "cell_type": "markdown",
   "metadata": {},
   "source": [
    "The `optimizer_viewer` offers a convenient summary of the optimization result:"
   ]
  },
  {
   "cell_type": "code",
   "execution_count": 13,
   "metadata": {
    "scrolled": false
   },
   "outputs": [
    {
     "data": {
      "application/vnd.jupyter.widget-view+json": {
       "model_id": "0c6f64862d6242e68a4a1a0cecbaacd2",
       "version_major": 2,
       "version_minor": 0
      },
      "text/plain": [
       "VBox(children=(HBox(children=(Button(description='Load', icon='upload', style=ButtonStyle(), tooltip='Load the…"
      ]
     },
     "metadata": {},
     "output_type": "display_data"
    }
   ],
   "source": [
    "api.optimization_viewer(CONFIGURATION_FILE)"
   ]
  },
  {
   "cell_type": "markdown",
   "metadata": {},
   "source": [
    "You can use the `VariableViewer` tool to see the optimization results for all variables of the system by loading the .xml output file:"
   ]
  },
  {
   "cell_type": "code",
   "execution_count": 14,
   "metadata": {},
   "outputs": [],
   "source": [
    "RESULT_FILE = pth.join(WORK_FOLDER_PATH, 'problem_outputs.xml')"
   ]
  },
  {
   "cell_type": "code",
   "execution_count": 15,
   "metadata": {
    "scrolled": false
   },
   "outputs": [
    {
     "data": {
      "application/vnd.jupyter.widget-view+json": {
       "model_id": "70fbf87632074467aed95b39b9960a4f",
       "version_major": 2,
       "version_minor": 0
      },
      "text/plain": [
       "VBox(children=(HBox(children=(Button(description='Load', icon='upload', style=ButtonStyle(), tooltip='Load the…"
      ]
     },
     "metadata": {},
     "output_type": "display_data"
    }
   ],
   "source": [
    "api.variable_viewer(RESULT_FILE)"
   ]
  },
  {
   "cell_type": "code",
   "execution_count": null,
   "metadata": {},
   "outputs": [],
   "source": []
  }
 ],
 "metadata": {
  "kernelspec": {
   "display_name": "Python 3",
   "language": "python",
   "name": "python3"
  },
  "language_info": {
   "codemirror_mode": {
    "name": "ipython",
    "version": 3
   },
   "file_extension": ".py",
   "mimetype": "text/x-python",
   "name": "python",
   "nbconvert_exporter": "python",
   "pygments_lexer": "ipython3",
   "version": "3.8.5"
  }
 },
 "nbformat": 4,
 "nbformat_minor": 4
}
