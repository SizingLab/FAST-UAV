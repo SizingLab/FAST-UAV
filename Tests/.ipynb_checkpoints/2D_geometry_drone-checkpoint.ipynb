{
 "cells": [
  {
   "cell_type": "code",
   "execution_count": 116,
   "metadata": {},
   "outputs": [],
   "source": [
    "import numpy as np\n",
    "import plotly\n",
    "import plotly.graph_objects as go\n",
    "from plotly.subplots import make_subplots\n",
    "from fastoad.io import VariableIO\n",
    "\n",
    "def drone_geometry_plot(\n",
    "    drone_file_path: str, name=None, fig=None, file_formatter=None\n",
    ") -> go.FigureWidget:\n",
    "    \"\"\"\n",
    "    Returns a figure plot of the top view of the wing.\n",
    "    Different designs can be superposed by providing an existing fig.\n",
    "    Each design can be provided a name.\n",
    "\n",
    "    :param drone_file_path: path of data file\n",
    "    :param name: name to give to the trace added to the figure\n",
    "    :param fig: existing figure to which add the plot\n",
    "    :param file_formatter: the formatter that defines the format of data file. If not provided, default format will\n",
    "                           be assumed.\n",
    "    :return: wing plot figure\n",
    "    \"\"\"\n",
    "    \n",
    "    variables = VariableIO(drone_file_path, file_formatter).read()\n",
    "    if fig is None:\n",
    "        fig = go.Figure()\n",
    "    fig.layout = go.Layout(yaxis=dict(scaleanchor=\"x\", scaleratio=1))\n",
    "\n",
    "    \n",
    "    N_arms = variables[\"data:structure:arms:arm_number\"].value[0]\n",
    "    N_pro_arm = variables[\"data:propeller:prop_number_per_arm\"].value[0]\n",
    "    arm_length = variables[\"data:structure:arms:length\"].value[0]\n",
    "    arm_diameter = variables[\"data:structure:arms:diameter:outer\"].value[0]\n",
    "    D_pro = variables[\"data:propeller:geometry:diameter\"].value[0]\n",
    "    \n",
    "    R = 0.0  # Frame radius #TODO: get frame radius\n",
    "    \n",
    "    x_arms = []\n",
    "    y_arms = []\n",
    "    prop_shapes = []\n",
    "    \n",
    "    for i in range(int(N_arms)):\n",
    "        sep_angle = - i * 2 * np.pi / N_arms\n",
    "        x_arm = np.array(\n",
    "            [- arm_diameter / 2 * np.sin(sep_angle), - arm_diameter / 2 * np.sin(sep_angle) + arm_length * np.cos(sep_angle), arm_length * np.cos(sep_angle) + arm_diameter / 2 * np.sin(sep_angle), arm_diameter / 2 * np.sin(sep_angle)]\n",
    "        )\n",
    "        y_arm = np.array(\n",
    "            [arm_diameter / 2 * np.cos(sep_angle), arm_diameter / 2 * np.cos(sep_angle) + arm_length * np.sin(sep_angle), arm_length * np.sin(sep_angle) - arm_diameter / 2 * np.cos(sep_angle), - arm_diameter / 2 * np.cos(sep_angle)]\n",
    "        )\n",
    "        \n",
    "        x_arm = x_arm + R * np.cos(sep_angle)  # frame radius\n",
    "        y_arm = y_arm + R * np.sin(sep_angle)  # frame radius\n",
    "        \n",
    "        x_arms = np.concatenate((x_arms, x_arm))\n",
    "        y_arms = np.concatenate((y_arms, y_arm))\n",
    "        \n",
    "        for j in range(int(N_pro_arm)):  # TODO: distinguish the two propellers if push/pull configuration\n",
    "            prop_shapes.append(\n",
    "                dict(type=\"circle\",\n",
    "                          x0=arm_length * np.cos(sep_angle) - D_pro / 2 + R * np.cos(sep_angle), \n",
    "                          y0=arm_length * np.sin(sep_angle) - D_pro / 2 + R * np.sin(sep_angle), \n",
    "                          x1=arm_length * np.cos(sep_angle) + D_pro / 2 + R * np.cos(sep_angle), \n",
    "                          y1=arm_length * np.sin(sep_angle) + D_pro / 2 + R * np.sin(sep_angle),\n",
    "                    )\n",
    "                )\n",
    "\n",
    "    # ARMS\n",
    "    x_arms = np.concatenate((x_arms,[x_arms[0]]))\n",
    "    y_arms = np.concatenate((y_arms,[y_arms[0]]))\n",
    "    scatter = go.Scatter(x=y_arms, y=x_arms, mode=\"lines+markers\", name=name)\n",
    "    fig.add_trace(scatter)\n",
    "    \n",
    "    # PROPELLERS\n",
    "    fig.update_layout(\n",
    "    shapes=prop_shapes)\n",
    "        \n",
    "    fig = go.FigureWidget(fig)\n",
    "    fig.update_shapes(opacity=0.3, xref=\"x\", yref=\"y\")\n",
    "    fig.update_layout(\n",
    "        title_text=\"Drone Geometry\", title_x=0.5, xaxis_title=\"y\", yaxis_title=\"x\",\n",
    "    )\n",
    "\n",
    "    return fig"
   ]
  },
  {
   "cell_type": "code",
   "execution_count": 117,
   "metadata": {},
   "outputs": [
    {
     "data": {
      "application/vnd.plotly.v1+json": {
       "config": {
        "plotlyServerURL": "https://plot.ly"
       },
       "data": [
        {
         "mode": "lines+markers",
         "type": "scatter",
         "uid": "e4a3f6a0-9878-407c-8006-81d9c56a5e84",
         "x": [
          0.021974544900529885,
          0.021974544900529885,
          -0.021974544900529885,
          -0.021974544900529885,
          0.01553834971265295,
          -0.4068593725515074,
          -0.4379360719768133,
          -0.01553834971265295,
          1.345552803757686e-18,
          -0.5973605875414794,
          -0.5973605875414794,
          -1.345552803757686e-18,
          -0.015538349712652949,
          -0.4379360719768133,
          -0.4068593725515074,
          0.015538349712652949,
          -0.021974544900529885,
          -0.021974544900529958,
          0.021974544900529813,
          0.021974544900529885,
          -0.015538349712652952,
          0.40685937255150734,
          0.4379360719768132,
          0.015538349712652952,
          -4.036658411273057e-18,
          0.5973605875414794,
          0.5973605875414794,
          4.036658411273057e-18,
          0.015538349712652945,
          0.43793607197681333,
          0.40685937255150745,
          -0.015538349712652945,
          0.021974544900529885
         ],
         "y": [
          0,
          0.5973605875414794,
          0.5973605875414794,
          0,
          0.01553834971265295,
          0.4379360719768133,
          0.4068593725515074,
          -0.01553834971265295,
          0.021974544900529885,
          0.021974544900529924,
          -0.021974544900529847,
          -0.021974544900529885,
          0.01553834971265295,
          -0.40685937255150734,
          -0.4379360719768132,
          -0.01553834971265295,
          2.691105607515372e-18,
          -0.5973605875414794,
          -0.5973605875414794,
          -2.691105607515372e-18,
          -0.015538349712652949,
          -0.43793607197681333,
          -0.40685937255150745,
          0.015538349712652949,
          -0.021974544900529885,
          -0.021974544900529996,
          0.021974544900529774,
          0.021974544900529885,
          -0.015538349712652952,
          0.4068593725515073,
          0.43793607197681317,
          0.015538349712652952,
          0
         ]
        }
       ],
       "layout": {
        "shapes": [
         {
          "opacity": 0.3,
          "type": "circle",
          "x0": 0.36876058754147933,
          "x1": 0.8259605875414794,
          "xref": "x",
          "y0": -0.2286,
          "y1": 0.2286,
          "yref": "y"
         },
         {
          "opacity": 0.3,
          "type": "circle",
          "x0": 0.36876058754147933,
          "x1": 0.8259605875414794,
          "xref": "x",
          "y0": -0.2286,
          "y1": 0.2286,
          "yref": "y"
         },
         {
          "opacity": 0.3,
          "type": "circle",
          "x0": 0.19379772226416034,
          "x1": 0.6509977222641603,
          "xref": "x",
          "y0": -0.6509977222641603,
          "y1": -0.19379772226416034,
          "yref": "y"
         },
         {
          "opacity": 0.3,
          "type": "circle",
          "x0": 0.19379772226416034,
          "x1": 0.6509977222641603,
          "xref": "x",
          "y0": -0.6509977222641603,
          "y1": -0.19379772226416034,
          "yref": "y"
         },
         {
          "opacity": 0.3,
          "type": "circle",
          "x0": -0.22859999999999997,
          "x1": 0.22860000000000003,
          "xref": "x",
          "y0": -0.8259605875414794,
          "y1": -0.36876058754147933,
          "yref": "y"
         },
         {
          "opacity": 0.3,
          "type": "circle",
          "x0": -0.22859999999999997,
          "x1": 0.22860000000000003,
          "xref": "x",
          "y0": -0.8259605875414794,
          "y1": -0.36876058754147933,
          "yref": "y"
         },
         {
          "opacity": 0.3,
          "type": "circle",
          "x0": -0.6509977222641603,
          "x1": -0.19379772226416028,
          "xref": "x",
          "y0": -0.6509977222641603,
          "y1": -0.19379772226416034,
          "yref": "y"
         },
         {
          "opacity": 0.3,
          "type": "circle",
          "x0": -0.6509977222641603,
          "x1": -0.19379772226416028,
          "xref": "x",
          "y0": -0.6509977222641603,
          "y1": -0.19379772226416034,
          "yref": "y"
         },
         {
          "opacity": 0.3,
          "type": "circle",
          "x0": -0.8259605875414794,
          "x1": -0.36876058754147933,
          "xref": "x",
          "y0": -0.22860000000000008,
          "y1": 0.22859999999999991,
          "yref": "y"
         },
         {
          "opacity": 0.3,
          "type": "circle",
          "x0": -0.8259605875414794,
          "x1": -0.36876058754147933,
          "xref": "x",
          "y0": -0.22860000000000008,
          "y1": 0.22859999999999991,
          "yref": "y"
         },
         {
          "opacity": 0.3,
          "type": "circle",
          "x0": -0.6509977222641604,
          "x1": -0.1937977222641604,
          "xref": "x",
          "y0": 0.19379772226416028,
          "y1": 0.6509977222641603,
          "yref": "y"
         },
         {
          "opacity": 0.3,
          "type": "circle",
          "x0": -0.6509977222641604,
          "x1": -0.1937977222641604,
          "xref": "x",
          "y0": 0.19379772226416028,
          "y1": 0.6509977222641603,
          "yref": "y"
         },
         {
          "opacity": 0.3,
          "type": "circle",
          "x0": -0.2286000000000001,
          "x1": 0.2285999999999999,
          "xref": "x",
          "y0": 0.36876058754147933,
          "y1": 0.8259605875414794,
          "yref": "y"
         },
         {
          "opacity": 0.3,
          "type": "circle",
          "x0": -0.2286000000000001,
          "x1": 0.2285999999999999,
          "xref": "x",
          "y0": 0.36876058754147933,
          "y1": 0.8259605875414794,
          "yref": "y"
         },
         {
          "opacity": 0.3,
          "type": "circle",
          "x0": 0.19379772226416023,
          "x1": 0.6509977222641602,
          "xref": "x",
          "y0": 0.1937977222641604,
          "y1": 0.6509977222641604,
          "yref": "y"
         },
         {
          "opacity": 0.3,
          "type": "circle",
          "x0": 0.19379772226416023,
          "x1": 0.6509977222641602,
          "xref": "x",
          "y0": 0.1937977222641604,
          "y1": 0.6509977222641604,
          "yref": "y"
         }
        ],
        "template": {
         "data": {
          "bar": [
           {
            "error_x": {
             "color": "#2a3f5f"
            },
            "error_y": {
             "color": "#2a3f5f"
            },
            "marker": {
             "line": {
              "color": "#E5ECF6",
              "width": 0.5
             }
            },
            "type": "bar"
           }
          ],
          "barpolar": [
           {
            "marker": {
             "line": {
              "color": "#E5ECF6",
              "width": 0.5
             }
            },
            "type": "barpolar"
           }
          ],
          "carpet": [
           {
            "aaxis": {
             "endlinecolor": "#2a3f5f",
             "gridcolor": "white",
             "linecolor": "white",
             "minorgridcolor": "white",
             "startlinecolor": "#2a3f5f"
            },
            "baxis": {
             "endlinecolor": "#2a3f5f",
             "gridcolor": "white",
             "linecolor": "white",
             "minorgridcolor": "white",
             "startlinecolor": "#2a3f5f"
            },
            "type": "carpet"
           }
          ],
          "choropleth": [
           {
            "colorbar": {
             "outlinewidth": 0,
             "ticks": ""
            },
            "type": "choropleth"
           }
          ],
          "contour": [
           {
            "colorbar": {
             "outlinewidth": 0,
             "ticks": ""
            },
            "colorscale": [
             [
              0,
              "#0d0887"
             ],
             [
              0.1111111111111111,
              "#46039f"
             ],
             [
              0.2222222222222222,
              "#7201a8"
             ],
             [
              0.3333333333333333,
              "#9c179e"
             ],
             [
              0.4444444444444444,
              "#bd3786"
             ],
             [
              0.5555555555555556,
              "#d8576b"
             ],
             [
              0.6666666666666666,
              "#ed7953"
             ],
             [
              0.7777777777777778,
              "#fb9f3a"
             ],
             [
              0.8888888888888888,
              "#fdca26"
             ],
             [
              1,
              "#f0f921"
             ]
            ],
            "type": "contour"
           }
          ],
          "contourcarpet": [
           {
            "colorbar": {
             "outlinewidth": 0,
             "ticks": ""
            },
            "type": "contourcarpet"
           }
          ],
          "heatmap": [
           {
            "colorbar": {
             "outlinewidth": 0,
             "ticks": ""
            },
            "colorscale": [
             [
              0,
              "#0d0887"
             ],
             [
              0.1111111111111111,
              "#46039f"
             ],
             [
              0.2222222222222222,
              "#7201a8"
             ],
             [
              0.3333333333333333,
              "#9c179e"
             ],
             [
              0.4444444444444444,
              "#bd3786"
             ],
             [
              0.5555555555555556,
              "#d8576b"
             ],
             [
              0.6666666666666666,
              "#ed7953"
             ],
             [
              0.7777777777777778,
              "#fb9f3a"
             ],
             [
              0.8888888888888888,
              "#fdca26"
             ],
             [
              1,
              "#f0f921"
             ]
            ],
            "type": "heatmap"
           }
          ],
          "heatmapgl": [
           {
            "colorbar": {
             "outlinewidth": 0,
             "ticks": ""
            },
            "colorscale": [
             [
              0,
              "#0d0887"
             ],
             [
              0.1111111111111111,
              "#46039f"
             ],
             [
              0.2222222222222222,
              "#7201a8"
             ],
             [
              0.3333333333333333,
              "#9c179e"
             ],
             [
              0.4444444444444444,
              "#bd3786"
             ],
             [
              0.5555555555555556,
              "#d8576b"
             ],
             [
              0.6666666666666666,
              "#ed7953"
             ],
             [
              0.7777777777777778,
              "#fb9f3a"
             ],
             [
              0.8888888888888888,
              "#fdca26"
             ],
             [
              1,
              "#f0f921"
             ]
            ],
            "type": "heatmapgl"
           }
          ],
          "histogram": [
           {
            "marker": {
             "colorbar": {
              "outlinewidth": 0,
              "ticks": ""
             }
            },
            "type": "histogram"
           }
          ],
          "histogram2d": [
           {
            "colorbar": {
             "outlinewidth": 0,
             "ticks": ""
            },
            "colorscale": [
             [
              0,
              "#0d0887"
             ],
             [
              0.1111111111111111,
              "#46039f"
             ],
             [
              0.2222222222222222,
              "#7201a8"
             ],
             [
              0.3333333333333333,
              "#9c179e"
             ],
             [
              0.4444444444444444,
              "#bd3786"
             ],
             [
              0.5555555555555556,
              "#d8576b"
             ],
             [
              0.6666666666666666,
              "#ed7953"
             ],
             [
              0.7777777777777778,
              "#fb9f3a"
             ],
             [
              0.8888888888888888,
              "#fdca26"
             ],
             [
              1,
              "#f0f921"
             ]
            ],
            "type": "histogram2d"
           }
          ],
          "histogram2dcontour": [
           {
            "colorbar": {
             "outlinewidth": 0,
             "ticks": ""
            },
            "colorscale": [
             [
              0,
              "#0d0887"
             ],
             [
              0.1111111111111111,
              "#46039f"
             ],
             [
              0.2222222222222222,
              "#7201a8"
             ],
             [
              0.3333333333333333,
              "#9c179e"
             ],
             [
              0.4444444444444444,
              "#bd3786"
             ],
             [
              0.5555555555555556,
              "#d8576b"
             ],
             [
              0.6666666666666666,
              "#ed7953"
             ],
             [
              0.7777777777777778,
              "#fb9f3a"
             ],
             [
              0.8888888888888888,
              "#fdca26"
             ],
             [
              1,
              "#f0f921"
             ]
            ],
            "type": "histogram2dcontour"
           }
          ],
          "mesh3d": [
           {
            "colorbar": {
             "outlinewidth": 0,
             "ticks": ""
            },
            "type": "mesh3d"
           }
          ],
          "parcoords": [
           {
            "line": {
             "colorbar": {
              "outlinewidth": 0,
              "ticks": ""
             }
            },
            "type": "parcoords"
           }
          ],
          "pie": [
           {
            "automargin": true,
            "type": "pie"
           }
          ],
          "scatter": [
           {
            "marker": {
             "colorbar": {
              "outlinewidth": 0,
              "ticks": ""
             }
            },
            "type": "scatter"
           }
          ],
          "scatter3d": [
           {
            "line": {
             "colorbar": {
              "outlinewidth": 0,
              "ticks": ""
             }
            },
            "marker": {
             "colorbar": {
              "outlinewidth": 0,
              "ticks": ""
             }
            },
            "type": "scatter3d"
           }
          ],
          "scattercarpet": [
           {
            "marker": {
             "colorbar": {
              "outlinewidth": 0,
              "ticks": ""
             }
            },
            "type": "scattercarpet"
           }
          ],
          "scattergeo": [
           {
            "marker": {
             "colorbar": {
              "outlinewidth": 0,
              "ticks": ""
             }
            },
            "type": "scattergeo"
           }
          ],
          "scattergl": [
           {
            "marker": {
             "colorbar": {
              "outlinewidth": 0,
              "ticks": ""
             }
            },
            "type": "scattergl"
           }
          ],
          "scattermapbox": [
           {
            "marker": {
             "colorbar": {
              "outlinewidth": 0,
              "ticks": ""
             }
            },
            "type": "scattermapbox"
           }
          ],
          "scatterpolar": [
           {
            "marker": {
             "colorbar": {
              "outlinewidth": 0,
              "ticks": ""
             }
            },
            "type": "scatterpolar"
           }
          ],
          "scatterpolargl": [
           {
            "marker": {
             "colorbar": {
              "outlinewidth": 0,
              "ticks": ""
             }
            },
            "type": "scatterpolargl"
           }
          ],
          "scatterternary": [
           {
            "marker": {
             "colorbar": {
              "outlinewidth": 0,
              "ticks": ""
             }
            },
            "type": "scatterternary"
           }
          ],
          "surface": [
           {
            "colorbar": {
             "outlinewidth": 0,
             "ticks": ""
            },
            "colorscale": [
             [
              0,
              "#0d0887"
             ],
             [
              0.1111111111111111,
              "#46039f"
             ],
             [
              0.2222222222222222,
              "#7201a8"
             ],
             [
              0.3333333333333333,
              "#9c179e"
             ],
             [
              0.4444444444444444,
              "#bd3786"
             ],
             [
              0.5555555555555556,
              "#d8576b"
             ],
             [
              0.6666666666666666,
              "#ed7953"
             ],
             [
              0.7777777777777778,
              "#fb9f3a"
             ],
             [
              0.8888888888888888,
              "#fdca26"
             ],
             [
              1,
              "#f0f921"
             ]
            ],
            "type": "surface"
           }
          ],
          "table": [
           {
            "cells": {
             "fill": {
              "color": "#EBF0F8"
             },
             "line": {
              "color": "white"
             }
            },
            "header": {
             "fill": {
              "color": "#C8D4E3"
             },
             "line": {
              "color": "white"
             }
            },
            "type": "table"
           }
          ]
         },
         "layout": {
          "annotationdefaults": {
           "arrowcolor": "#2a3f5f",
           "arrowhead": 0,
           "arrowwidth": 1
          },
          "autotypenumbers": "strict",
          "coloraxis": {
           "colorbar": {
            "outlinewidth": 0,
            "ticks": ""
           }
          },
          "colorscale": {
           "diverging": [
            [
             0,
             "#8e0152"
            ],
            [
             0.1,
             "#c51b7d"
            ],
            [
             0.2,
             "#de77ae"
            ],
            [
             0.3,
             "#f1b6da"
            ],
            [
             0.4,
             "#fde0ef"
            ],
            [
             0.5,
             "#f7f7f7"
            ],
            [
             0.6,
             "#e6f5d0"
            ],
            [
             0.7,
             "#b8e186"
            ],
            [
             0.8,
             "#7fbc41"
            ],
            [
             0.9,
             "#4d9221"
            ],
            [
             1,
             "#276419"
            ]
           ],
           "sequential": [
            [
             0,
             "#0d0887"
            ],
            [
             0.1111111111111111,
             "#46039f"
            ],
            [
             0.2222222222222222,
             "#7201a8"
            ],
            [
             0.3333333333333333,
             "#9c179e"
            ],
            [
             0.4444444444444444,
             "#bd3786"
            ],
            [
             0.5555555555555556,
             "#d8576b"
            ],
            [
             0.6666666666666666,
             "#ed7953"
            ],
            [
             0.7777777777777778,
             "#fb9f3a"
            ],
            [
             0.8888888888888888,
             "#fdca26"
            ],
            [
             1,
             "#f0f921"
            ]
           ],
           "sequentialminus": [
            [
             0,
             "#0d0887"
            ],
            [
             0.1111111111111111,
             "#46039f"
            ],
            [
             0.2222222222222222,
             "#7201a8"
            ],
            [
             0.3333333333333333,
             "#9c179e"
            ],
            [
             0.4444444444444444,
             "#bd3786"
            ],
            [
             0.5555555555555556,
             "#d8576b"
            ],
            [
             0.6666666666666666,
             "#ed7953"
            ],
            [
             0.7777777777777778,
             "#fb9f3a"
            ],
            [
             0.8888888888888888,
             "#fdca26"
            ],
            [
             1,
             "#f0f921"
            ]
           ]
          },
          "colorway": [
           "#636efa",
           "#EF553B",
           "#00cc96",
           "#ab63fa",
           "#FFA15A",
           "#19d3f3",
           "#FF6692",
           "#B6E880",
           "#FF97FF",
           "#FECB52"
          ],
          "font": {
           "color": "#2a3f5f"
          },
          "geo": {
           "bgcolor": "white",
           "lakecolor": "white",
           "landcolor": "#E5ECF6",
           "showlakes": true,
           "showland": true,
           "subunitcolor": "white"
          },
          "hoverlabel": {
           "align": "left"
          },
          "hovermode": "closest",
          "mapbox": {
           "style": "light"
          },
          "paper_bgcolor": "white",
          "plot_bgcolor": "#E5ECF6",
          "polar": {
           "angularaxis": {
            "gridcolor": "white",
            "linecolor": "white",
            "ticks": ""
           },
           "bgcolor": "#E5ECF6",
           "radialaxis": {
            "gridcolor": "white",
            "linecolor": "white",
            "ticks": ""
           }
          },
          "scene": {
           "xaxis": {
            "backgroundcolor": "#E5ECF6",
            "gridcolor": "white",
            "gridwidth": 2,
            "linecolor": "white",
            "showbackground": true,
            "ticks": "",
            "zerolinecolor": "white"
           },
           "yaxis": {
            "backgroundcolor": "#E5ECF6",
            "gridcolor": "white",
            "gridwidth": 2,
            "linecolor": "white",
            "showbackground": true,
            "ticks": "",
            "zerolinecolor": "white"
           },
           "zaxis": {
            "backgroundcolor": "#E5ECF6",
            "gridcolor": "white",
            "gridwidth": 2,
            "linecolor": "white",
            "showbackground": true,
            "ticks": "",
            "zerolinecolor": "white"
           }
          },
          "shapedefaults": {
           "line": {
            "color": "#2a3f5f"
           }
          },
          "ternary": {
           "aaxis": {
            "gridcolor": "white",
            "linecolor": "white",
            "ticks": ""
           },
           "baxis": {
            "gridcolor": "white",
            "linecolor": "white",
            "ticks": ""
           },
           "bgcolor": "#E5ECF6",
           "caxis": {
            "gridcolor": "white",
            "linecolor": "white",
            "ticks": ""
           }
          },
          "title": {
           "x": 0.05
          },
          "xaxis": {
           "automargin": true,
           "gridcolor": "white",
           "linecolor": "white",
           "ticks": "",
           "title": {
            "standoff": 15
           },
           "zerolinecolor": "white",
           "zerolinewidth": 2
          },
          "yaxis": {
           "automargin": true,
           "gridcolor": "white",
           "linecolor": "white",
           "ticks": "",
           "title": {
            "standoff": 15
           },
           "zerolinecolor": "white",
           "zerolinewidth": 2
          }
         }
        },
        "title": {
         "text": "Drone Geometry",
         "x": 0.5
        },
        "xaxis": {
         "title": {
          "text": "y"
         }
        },
        "yaxis": {
         "scaleanchor": "x",
         "scaleratio": 1,
         "title": {
          "text": "x"
         }
        }
       }
      },
      "text/html": [
       "<div>                            <div id=\"235a4a77-997e-4d8a-b1e4-d7ecff773d50\" class=\"plotly-graph-div\" style=\"height:525px; width:100%;\"></div>            <script type=\"text/javascript\">                require([\"plotly\"], function(Plotly) {                    window.PLOTLYENV=window.PLOTLYENV || {};                                    if (document.getElementById(\"235a4a77-997e-4d8a-b1e4-d7ecff773d50\")) {                    Plotly.newPlot(                        \"235a4a77-997e-4d8a-b1e4-d7ecff773d50\",                        [{\"mode\": \"lines+markers\", \"type\": \"scatter\", \"uid\": \"e4a3f6a0-9878-407c-8006-81d9c56a5e84\", \"x\": [0.021974544900529885, 0.021974544900529885, -0.021974544900529885, -0.021974544900529885, 0.01553834971265295, -0.4068593725515074, -0.4379360719768133, -0.01553834971265295, 1.345552803757686e-18, -0.5973605875414794, -0.5973605875414794, -1.345552803757686e-18, -0.015538349712652949, -0.4379360719768133, -0.4068593725515074, 0.015538349712652949, -0.021974544900529885, -0.021974544900529958, 0.021974544900529813, 0.021974544900529885, -0.015538349712652952, 0.40685937255150734, 0.4379360719768132, 0.015538349712652952, -4.036658411273057e-18, 0.5973605875414794, 0.5973605875414794, 4.036658411273057e-18, 0.015538349712652945, 0.43793607197681333, 0.40685937255150745, -0.015538349712652945, 0.021974544900529885], \"y\": [0.0, 0.5973605875414794, 0.5973605875414794, 0.0, 0.01553834971265295, 0.4379360719768133, 0.4068593725515074, -0.01553834971265295, 0.021974544900529885, 0.021974544900529924, -0.021974544900529847, -0.021974544900529885, 0.01553834971265295, -0.40685937255150734, -0.4379360719768132, -0.01553834971265295, 2.691105607515372e-18, -0.5973605875414794, -0.5973605875414794, -2.691105607515372e-18, -0.015538349712652949, -0.43793607197681333, -0.40685937255150745, 0.015538349712652949, -0.021974544900529885, -0.021974544900529996, 0.021974544900529774, 0.021974544900529885, -0.015538349712652952, 0.4068593725515073, 0.43793607197681317, 0.015538349712652952, 0.0]}],                        {\"shapes\": [{\"opacity\": 0.3, \"type\": \"circle\", \"x0\": 0.36876058754147933, \"x1\": 0.8259605875414794, \"xref\": \"x\", \"y0\": -0.2286, \"y1\": 0.2286, \"yref\": \"y\"}, {\"opacity\": 0.3, \"type\": \"circle\", \"x0\": 0.36876058754147933, \"x1\": 0.8259605875414794, \"xref\": \"x\", \"y0\": -0.2286, \"y1\": 0.2286, \"yref\": \"y\"}, {\"opacity\": 0.3, \"type\": \"circle\", \"x0\": 0.19379772226416034, \"x1\": 0.6509977222641603, \"xref\": \"x\", \"y0\": -0.6509977222641603, \"y1\": -0.19379772226416034, \"yref\": \"y\"}, {\"opacity\": 0.3, \"type\": \"circle\", \"x0\": 0.19379772226416034, \"x1\": 0.6509977222641603, \"xref\": \"x\", \"y0\": -0.6509977222641603, \"y1\": -0.19379772226416034, \"yref\": \"y\"}, {\"opacity\": 0.3, \"type\": \"circle\", \"x0\": -0.22859999999999997, \"x1\": 0.22860000000000003, \"xref\": \"x\", \"y0\": -0.8259605875414794, \"y1\": -0.36876058754147933, \"yref\": \"y\"}, {\"opacity\": 0.3, \"type\": \"circle\", \"x0\": -0.22859999999999997, \"x1\": 0.22860000000000003, \"xref\": \"x\", \"y0\": -0.8259605875414794, \"y1\": -0.36876058754147933, \"yref\": \"y\"}, {\"opacity\": 0.3, \"type\": \"circle\", \"x0\": -0.6509977222641603, \"x1\": -0.19379772226416028, \"xref\": \"x\", \"y0\": -0.6509977222641603, \"y1\": -0.19379772226416034, \"yref\": \"y\"}, {\"opacity\": 0.3, \"type\": \"circle\", \"x0\": -0.6509977222641603, \"x1\": -0.19379772226416028, \"xref\": \"x\", \"y0\": -0.6509977222641603, \"y1\": -0.19379772226416034, \"yref\": \"y\"}, {\"opacity\": 0.3, \"type\": \"circle\", \"x0\": -0.8259605875414794, \"x1\": -0.36876058754147933, \"xref\": \"x\", \"y0\": -0.22860000000000008, \"y1\": 0.22859999999999991, \"yref\": \"y\"}, {\"opacity\": 0.3, \"type\": \"circle\", \"x0\": -0.8259605875414794, \"x1\": -0.36876058754147933, \"xref\": \"x\", \"y0\": -0.22860000000000008, \"y1\": 0.22859999999999991, \"yref\": \"y\"}, {\"opacity\": 0.3, \"type\": \"circle\", \"x0\": -0.6509977222641604, \"x1\": -0.1937977222641604, \"xref\": \"x\", \"y0\": 0.19379772226416028, \"y1\": 0.6509977222641603, \"yref\": \"y\"}, {\"opacity\": 0.3, \"type\": \"circle\", \"x0\": -0.6509977222641604, \"x1\": -0.1937977222641604, \"xref\": \"x\", \"y0\": 0.19379772226416028, \"y1\": 0.6509977222641603, \"yref\": \"y\"}, {\"opacity\": 0.3, \"type\": \"circle\", \"x0\": -0.2286000000000001, \"x1\": 0.2285999999999999, \"xref\": \"x\", \"y0\": 0.36876058754147933, \"y1\": 0.8259605875414794, \"yref\": \"y\"}, {\"opacity\": 0.3, \"type\": \"circle\", \"x0\": -0.2286000000000001, \"x1\": 0.2285999999999999, \"xref\": \"x\", \"y0\": 0.36876058754147933, \"y1\": 0.8259605875414794, \"yref\": \"y\"}, {\"opacity\": 0.3, \"type\": \"circle\", \"x0\": 0.19379772226416023, \"x1\": 0.6509977222641602, \"xref\": \"x\", \"y0\": 0.1937977222641604, \"y1\": 0.6509977222641604, \"yref\": \"y\"}, {\"opacity\": 0.3, \"type\": \"circle\", \"x0\": 0.19379772226416023, \"x1\": 0.6509977222641602, \"xref\": \"x\", \"y0\": 0.1937977222641604, \"y1\": 0.6509977222641604, \"yref\": \"y\"}], \"template\": {\"data\": {\"bar\": [{\"error_x\": {\"color\": \"#2a3f5f\"}, \"error_y\": {\"color\": \"#2a3f5f\"}, \"marker\": {\"line\": {\"color\": \"#E5ECF6\", \"width\": 0.5}}, \"type\": \"bar\"}], \"barpolar\": [{\"marker\": {\"line\": {\"color\": \"#E5ECF6\", \"width\": 0.5}}, \"type\": \"barpolar\"}], \"carpet\": [{\"aaxis\": {\"endlinecolor\": \"#2a3f5f\", \"gridcolor\": \"white\", \"linecolor\": \"white\", \"minorgridcolor\": \"white\", \"startlinecolor\": \"#2a3f5f\"}, \"baxis\": {\"endlinecolor\": \"#2a3f5f\", \"gridcolor\": \"white\", \"linecolor\": \"white\", \"minorgridcolor\": \"white\", \"startlinecolor\": \"#2a3f5f\"}, \"type\": \"carpet\"}], \"choropleth\": [{\"colorbar\": {\"outlinewidth\": 0, \"ticks\": \"\"}, \"type\": \"choropleth\"}], \"contour\": [{\"colorbar\": {\"outlinewidth\": 0, \"ticks\": \"\"}, \"colorscale\": [[0.0, \"#0d0887\"], [0.1111111111111111, \"#46039f\"], [0.2222222222222222, \"#7201a8\"], [0.3333333333333333, \"#9c179e\"], [0.4444444444444444, \"#bd3786\"], [0.5555555555555556, \"#d8576b\"], [0.6666666666666666, \"#ed7953\"], [0.7777777777777778, \"#fb9f3a\"], [0.8888888888888888, \"#fdca26\"], [1.0, \"#f0f921\"]], \"type\": \"contour\"}], \"contourcarpet\": [{\"colorbar\": {\"outlinewidth\": 0, \"ticks\": \"\"}, \"type\": \"contourcarpet\"}], \"heatmap\": [{\"colorbar\": {\"outlinewidth\": 0, \"ticks\": \"\"}, \"colorscale\": [[0.0, \"#0d0887\"], [0.1111111111111111, \"#46039f\"], [0.2222222222222222, \"#7201a8\"], [0.3333333333333333, \"#9c179e\"], [0.4444444444444444, \"#bd3786\"], [0.5555555555555556, \"#d8576b\"], [0.6666666666666666, \"#ed7953\"], [0.7777777777777778, \"#fb9f3a\"], [0.8888888888888888, \"#fdca26\"], [1.0, \"#f0f921\"]], \"type\": \"heatmap\"}], \"heatmapgl\": [{\"colorbar\": {\"outlinewidth\": 0, \"ticks\": \"\"}, \"colorscale\": [[0.0, \"#0d0887\"], [0.1111111111111111, \"#46039f\"], [0.2222222222222222, \"#7201a8\"], [0.3333333333333333, \"#9c179e\"], [0.4444444444444444, \"#bd3786\"], [0.5555555555555556, \"#d8576b\"], [0.6666666666666666, \"#ed7953\"], [0.7777777777777778, \"#fb9f3a\"], [0.8888888888888888, \"#fdca26\"], [1.0, \"#f0f921\"]], \"type\": \"heatmapgl\"}], \"histogram\": [{\"marker\": {\"colorbar\": {\"outlinewidth\": 0, \"ticks\": \"\"}}, \"type\": \"histogram\"}], \"histogram2d\": [{\"colorbar\": {\"outlinewidth\": 0, \"ticks\": \"\"}, \"colorscale\": [[0.0, \"#0d0887\"], [0.1111111111111111, \"#46039f\"], [0.2222222222222222, \"#7201a8\"], [0.3333333333333333, \"#9c179e\"], [0.4444444444444444, \"#bd3786\"], [0.5555555555555556, \"#d8576b\"], [0.6666666666666666, \"#ed7953\"], [0.7777777777777778, \"#fb9f3a\"], [0.8888888888888888, \"#fdca26\"], [1.0, \"#f0f921\"]], \"type\": \"histogram2d\"}], \"histogram2dcontour\": [{\"colorbar\": {\"outlinewidth\": 0, \"ticks\": \"\"}, \"colorscale\": [[0.0, \"#0d0887\"], [0.1111111111111111, \"#46039f\"], [0.2222222222222222, \"#7201a8\"], [0.3333333333333333, \"#9c179e\"], [0.4444444444444444, \"#bd3786\"], [0.5555555555555556, \"#d8576b\"], [0.6666666666666666, \"#ed7953\"], [0.7777777777777778, \"#fb9f3a\"], [0.8888888888888888, \"#fdca26\"], [1.0, \"#f0f921\"]], \"type\": \"histogram2dcontour\"}], \"mesh3d\": [{\"colorbar\": {\"outlinewidth\": 0, \"ticks\": \"\"}, \"type\": \"mesh3d\"}], \"parcoords\": [{\"line\": {\"colorbar\": {\"outlinewidth\": 0, \"ticks\": \"\"}}, \"type\": \"parcoords\"}], \"pie\": [{\"automargin\": true, \"type\": \"pie\"}], \"scatter\": [{\"marker\": {\"colorbar\": {\"outlinewidth\": 0, \"ticks\": \"\"}}, \"type\": \"scatter\"}], \"scatter3d\": [{\"line\": {\"colorbar\": {\"outlinewidth\": 0, \"ticks\": \"\"}}, \"marker\": {\"colorbar\": {\"outlinewidth\": 0, \"ticks\": \"\"}}, \"type\": \"scatter3d\"}], \"scattercarpet\": [{\"marker\": {\"colorbar\": {\"outlinewidth\": 0, \"ticks\": \"\"}}, \"type\": \"scattercarpet\"}], \"scattergeo\": [{\"marker\": {\"colorbar\": {\"outlinewidth\": 0, \"ticks\": \"\"}}, \"type\": \"scattergeo\"}], \"scattergl\": [{\"marker\": {\"colorbar\": {\"outlinewidth\": 0, \"ticks\": \"\"}}, \"type\": \"scattergl\"}], \"scattermapbox\": [{\"marker\": {\"colorbar\": {\"outlinewidth\": 0, \"ticks\": \"\"}}, \"type\": \"scattermapbox\"}], \"scatterpolar\": [{\"marker\": {\"colorbar\": {\"outlinewidth\": 0, \"ticks\": \"\"}}, \"type\": \"scatterpolar\"}], \"scatterpolargl\": [{\"marker\": {\"colorbar\": {\"outlinewidth\": 0, \"ticks\": \"\"}}, \"type\": \"scatterpolargl\"}], \"scatterternary\": [{\"marker\": {\"colorbar\": {\"outlinewidth\": 0, \"ticks\": \"\"}}, \"type\": \"scatterternary\"}], \"surface\": [{\"colorbar\": {\"outlinewidth\": 0, \"ticks\": \"\"}, \"colorscale\": [[0.0, \"#0d0887\"], [0.1111111111111111, \"#46039f\"], [0.2222222222222222, \"#7201a8\"], [0.3333333333333333, \"#9c179e\"], [0.4444444444444444, \"#bd3786\"], [0.5555555555555556, \"#d8576b\"], [0.6666666666666666, \"#ed7953\"], [0.7777777777777778, \"#fb9f3a\"], [0.8888888888888888, \"#fdca26\"], [1.0, \"#f0f921\"]], \"type\": \"surface\"}], \"table\": [{\"cells\": {\"fill\": {\"color\": \"#EBF0F8\"}, \"line\": {\"color\": \"white\"}}, \"header\": {\"fill\": {\"color\": \"#C8D4E3\"}, \"line\": {\"color\": \"white\"}}, \"type\": \"table\"}]}, \"layout\": {\"annotationdefaults\": {\"arrowcolor\": \"#2a3f5f\", \"arrowhead\": 0, \"arrowwidth\": 1}, \"autotypenumbers\": \"strict\", \"coloraxis\": {\"colorbar\": {\"outlinewidth\": 0, \"ticks\": \"\"}}, \"colorscale\": {\"diverging\": [[0, \"#8e0152\"], [0.1, \"#c51b7d\"], [0.2, \"#de77ae\"], [0.3, \"#f1b6da\"], [0.4, \"#fde0ef\"], [0.5, \"#f7f7f7\"], [0.6, \"#e6f5d0\"], [0.7, \"#b8e186\"], [0.8, \"#7fbc41\"], [0.9, \"#4d9221\"], [1, \"#276419\"]], \"sequential\": [[0.0, \"#0d0887\"], [0.1111111111111111, \"#46039f\"], [0.2222222222222222, \"#7201a8\"], [0.3333333333333333, \"#9c179e\"], [0.4444444444444444, \"#bd3786\"], [0.5555555555555556, \"#d8576b\"], [0.6666666666666666, \"#ed7953\"], [0.7777777777777778, \"#fb9f3a\"], [0.8888888888888888, \"#fdca26\"], [1.0, \"#f0f921\"]], \"sequentialminus\": [[0.0, \"#0d0887\"], [0.1111111111111111, \"#46039f\"], [0.2222222222222222, \"#7201a8\"], [0.3333333333333333, \"#9c179e\"], [0.4444444444444444, \"#bd3786\"], [0.5555555555555556, \"#d8576b\"], [0.6666666666666666, \"#ed7953\"], [0.7777777777777778, \"#fb9f3a\"], [0.8888888888888888, \"#fdca26\"], [1.0, \"#f0f921\"]]}, \"colorway\": [\"#636efa\", \"#EF553B\", \"#00cc96\", \"#ab63fa\", \"#FFA15A\", \"#19d3f3\", \"#FF6692\", \"#B6E880\", \"#FF97FF\", \"#FECB52\"], \"font\": {\"color\": \"#2a3f5f\"}, \"geo\": {\"bgcolor\": \"white\", \"lakecolor\": \"white\", \"landcolor\": \"#E5ECF6\", \"showlakes\": true, \"showland\": true, \"subunitcolor\": \"white\"}, \"hoverlabel\": {\"align\": \"left\"}, \"hovermode\": \"closest\", \"mapbox\": {\"style\": \"light\"}, \"paper_bgcolor\": \"white\", \"plot_bgcolor\": \"#E5ECF6\", \"polar\": {\"angularaxis\": {\"gridcolor\": \"white\", \"linecolor\": \"white\", \"ticks\": \"\"}, \"bgcolor\": \"#E5ECF6\", \"radialaxis\": {\"gridcolor\": \"white\", \"linecolor\": \"white\", \"ticks\": \"\"}}, \"scene\": {\"xaxis\": {\"backgroundcolor\": \"#E5ECF6\", \"gridcolor\": \"white\", \"gridwidth\": 2, \"linecolor\": \"white\", \"showbackground\": true, \"ticks\": \"\", \"zerolinecolor\": \"white\"}, \"yaxis\": {\"backgroundcolor\": \"#E5ECF6\", \"gridcolor\": \"white\", \"gridwidth\": 2, \"linecolor\": \"white\", \"showbackground\": true, \"ticks\": \"\", \"zerolinecolor\": \"white\"}, \"zaxis\": {\"backgroundcolor\": \"#E5ECF6\", \"gridcolor\": \"white\", \"gridwidth\": 2, \"linecolor\": \"white\", \"showbackground\": true, \"ticks\": \"\", \"zerolinecolor\": \"white\"}}, \"shapedefaults\": {\"line\": {\"color\": \"#2a3f5f\"}}, \"ternary\": {\"aaxis\": {\"gridcolor\": \"white\", \"linecolor\": \"white\", \"ticks\": \"\"}, \"baxis\": {\"gridcolor\": \"white\", \"linecolor\": \"white\", \"ticks\": \"\"}, \"bgcolor\": \"#E5ECF6\", \"caxis\": {\"gridcolor\": \"white\", \"linecolor\": \"white\", \"ticks\": \"\"}}, \"title\": {\"x\": 0.05}, \"xaxis\": {\"automargin\": true, \"gridcolor\": \"white\", \"linecolor\": \"white\", \"ticks\": \"\", \"title\": {\"standoff\": 15}, \"zerolinecolor\": \"white\", \"zerolinewidth\": 2}, \"yaxis\": {\"automargin\": true, \"gridcolor\": \"white\", \"linecolor\": \"white\", \"ticks\": \"\", \"title\": {\"standoff\": 15}, \"zerolinecolor\": \"white\", \"zerolinewidth\": 2}}}, \"title\": {\"text\": \"Drone Geometry\", \"x\": 0.5}, \"xaxis\": {\"title\": {\"text\": \"y\"}}, \"yaxis\": {\"scaleanchor\": \"x\", \"scaleratio\": 1, \"title\": {\"text\": \"x\"}}},                        {\"responsive\": true}                    ).then(function(){\n",
       "                            \n",
       "var gd = document.getElementById('235a4a77-997e-4d8a-b1e4-d7ecff773d50');\n",
       "var x = new MutationObserver(function (mutations, observer) {{\n",
       "        var display = window.getComputedStyle(gd).display;\n",
       "        if (!display || display === 'none') {{\n",
       "            console.log([gd, 'removed!']);\n",
       "            Plotly.purge(gd);\n",
       "            observer.disconnect();\n",
       "        }}\n",
       "}});\n",
       "\n",
       "// Listen for the removal of the full notebook cells\n",
       "var notebookContainer = gd.closest('#notebook-container');\n",
       "if (notebookContainer) {{\n",
       "    x.observe(notebookContainer, {childList: true});\n",
       "}}\n",
       "\n",
       "// Listen for the clearing of the current output cell\n",
       "var outputEl = gd.closest('.output');\n",
       "if (outputEl) {{\n",
       "    x.observe(outputEl, {childList: true});\n",
       "}}\n",
       "\n",
       "                        })                };                });            </script>        </div>"
      ]
     },
     "metadata": {},
     "output_type": "display_data"
    }
   ],
   "source": [
    "import os.path as pth\n",
    "from fastoad.io import VariableIO\n",
    "\n",
    "DATA_FOLDER_PATH = '../data'\n",
    "WORK_FOLDER_PATH = '../workdir'\n",
    "\n",
    "MDA_OUTPUT_FILE = pth.join(WORK_FOLDER_PATH, 'problem_outputs_mda.xml')\n",
    "MDO_OUTPUT_FILE = pth.join(WORK_FOLDER_PATH, 'problem_outputs_mdo.xml')\n",
    "\n",
    "fig = drone_geometry_plot(MDO_OUTPUT_FILE)\n",
    "fig.show()"
   ]
  },
  {
   "cell_type": "code",
   "execution_count": null,
   "metadata": {},
   "outputs": [],
   "source": []
  }
 ],
 "metadata": {
  "kernelspec": {
   "display_name": "Python 3",
   "language": "python",
   "name": "python3"
  },
  "language_info": {
   "codemirror_mode": {
    "name": "ipython",
    "version": 3
   },
   "file_extension": ".py",
   "mimetype": "text/x-python",
   "name": "python",
   "nbconvert_exporter": "python",
   "pygments_lexer": "ipython3",
   "version": "3.8.5"
  }
 },
 "nbformat": 4,
 "nbformat_minor": 4
}
