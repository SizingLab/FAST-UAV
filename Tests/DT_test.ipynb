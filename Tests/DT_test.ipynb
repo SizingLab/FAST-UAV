{
 "cells": [
  {
   "cell_type": "code",
   "execution_count": 4,
   "metadata": {},
   "outputs": [
    {
     "name": "stdout",
     "output_type": "stream",
     "text": [
      "DecisionTreeRegressor(max_features=2, max_leaf_nodes=104)\n",
      "0.392857143 0.35559999999999997\n"
     ]
    }
   ],
   "source": [
    "import sys\n",
    "sys.path.append(\"../\")\n",
    "from utils.DecisionTrees.predicted_values_DT import DecisionTrees\n",
    "import pandas as pd \n",
    "import numpy as np\n",
    "\n",
    "path='../data/DecisionTrees/Propeller/'\n",
    "df_pro = pd.read_csv(path+'Non-Dominated-Propeller.csv', sep=';')\n",
    "ProDT=DecisionTrees(df_pro[['BETA','DIAMETER_IN']],df_pro[['BETA','DIAMETER_IN']],['next', 'next']).DT_handling()\n",
    "\n",
    "print(ProDT)\n",
    "beta = 0.33\n",
    "Dpro = 0.3\n",
    "#A=ProDT.predict(np.array([[beta,Dpro/0.0254]]))\n",
    "A=ProDT.predict([np.hstack(([beta], [Dpro/0.0254]))])\n",
    "beta=A[0][0]#[-] beta\n",
    "Dpro=A[0][1]*0.0254 #[m] diameter expressed in meters\n",
    "print(beta, Dpro)"
   ]
  },
  {
   "cell_type": "code",
   "execution_count": 15,
   "metadata": {},
   "outputs": [
    {
     "name": "stdout",
     "output_type": "stream",
     "text": [
      "1.2249908312368587\n"
     ]
    }
   ],
   "source": [
    "from fastoad.utils.physics.atmosphere import AtmosphereSI\n",
    "\n",
    "rho_air = AtmosphereSI(0, 0).density\n",
    "print(rho_air)"
   ]
  },
  {
   "cell_type": "code",
   "execution_count": 74,
   "metadata": {},
   "outputs": [
    {
     "name": "stdout",
     "output_type": "stream",
     "text": [
      "[[1 2]]\n",
      "[[ 0.33       39.37007874]]\n",
      "[array([ 0.33     , 39.5256917])]\n"
     ]
    }
   ],
   "source": [
    "a = [1]\n",
    "b = [2]\n",
    "c = np.concatenate((a,b), axis=0)\n",
    "\n",
    "print(np.array([[1, 2]]))\n",
    "print(np.array([[beta,Dpro/0.0254]]))\n",
    "print([np.hstack(([beta], [Dpro/0.0253]))])\n"
   ]
  },
  {
   "cell_type": "code",
   "execution_count": 12,
   "metadata": {},
   "outputs": [
    {
     "name": "stdout",
     "output_type": "stream",
     "text": [
      "DecisionTreeRegressor(max_features=2, max_leaf_nodes=419)\n",
      "0.127323954 0.003744822\n"
     ]
    }
   ],
   "source": [
    "from utils.DecisionTrees.predicted_values_DT import DecisionTrees\n",
    "import pandas as pd \n",
    "import numpy as np\n",
    "\n",
    "path='../data/DecisionTrees/Motors/'\n",
    "df_mot = pd.read_csv(path+'Non-Dominated-Motors.csv', sep=';')\n",
    "MotDT=DecisionTrees(df_mot[['Tmax_Nm','Kt_Nm_A']],df_mot[['Tnom_Nm','Kt_Nm_A','r_omn','Tmax_Nm','weight_g','Cf_Nm']],['previous','previous']).DT_handling()\n",
    "            \n",
    "\n",
    "print(MotDT)\n",
    "Tmot_max = 0.624\n",
    "Ktmot = 0.073\n",
    "#A=ProDT.predict(np.array([[beta,Dpro/0.0254]]))\n",
    "y_pred=MotDT.predict([np.hstack((Tmot_max, Ktmot))])\n",
    "Tmot = y_pred[0][0]  # nominal torque [N.m.]\n",
    "Ktmot = y_pred[0][1]  # Kt constant [N.m./A]\n",
    "Rmot = y_pred[0][2]  # motor resistance [ohm]\n",
    "Tmot_max = y_pred[0][3]  # max motor torque [Nm]\n",
    "Mmot = y_pred[0][4] / 1000  # motor mass [kg]\n",
    "Tfmot = y_pred[0][5]  # friction torque [Nm]\n",
    "print(Tmot_max, Ktmot)"
   ]
  },
  {
   "cell_type": "code",
   "execution_count": 5,
   "metadata": {},
   "outputs": [],
   "source": [
    "path='../data/DecisionTrees/Batteries/'\n",
    "df_bat = pd.read_csv(path+'Non-Dominated-Batteries.csv', sep=';')\n",
    "\n",
    "\n"
   ]
  },
  {
   "cell_type": "code",
   "execution_count": null,
   "metadata": {},
   "outputs": [],
   "source": []
  }
 ],
 "metadata": {
  "kernelspec": {
   "display_name": "Python 3",
   "language": "python",
   "name": "python3"
  },
  "language_info": {
   "codemirror_mode": {
    "name": "ipython",
    "version": 3
   },
   "file_extension": ".py",
   "mimetype": "text/x-python",
   "name": "python",
   "nbconvert_exporter": "python",
   "pygments_lexer": "ipython3",
   "version": "3.8.5"
  }
 },
 "nbformat": 4,
 "nbformat_minor": 4
}
