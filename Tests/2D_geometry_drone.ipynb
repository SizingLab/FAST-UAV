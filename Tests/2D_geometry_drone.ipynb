{
 "cells": [
  {
   "cell_type": "code",
   "execution_count": 18,
   "metadata": {},
   "outputs": [],
   "source": [
    "import numpy as np\n",
    "import plotly\n",
    "import plotly.graph_objects as go\n",
    "from plotly.subplots import make_subplots\n",
    "from fastoad.io import VariableIO\n",
    "\n",
    "COLS = plotly.colors.DEFAULT_PLOTLY_COLORS\n",
    "\n",
    "def drone_geometry_plot(\n",
    "    drone_file_path: str, name=None, fig=None, file_formatter=None\n",
    ") -> go.FigureWidget:\n",
    "    \"\"\"\n",
    "    Returns a figure plot of the top view of the wing.\n",
    "    Different designs can be superposed by providing an existing fig.\n",
    "    Each design can be provided a name.\n",
    "\n",
    "    :param drone_file_path: path of data file\n",
    "    :param name: name to give to the trace added to the figure\n",
    "    :param fig: existing figure to which add the plot\n",
    "    :param file_formatter: the formatter that defines the format of data file. If not provided, default format will\n",
    "                           be assumed.\n",
    "    :return: wing plot figure\n",
    "    \"\"\"\n",
    "    \n",
    "    variables = VariableIO(drone_file_path, file_formatter).read()\n",
    "    if fig is None:\n",
    "        fig = go.Figure()\n",
    "    k = len(fig.data)\n",
    "    \n",
    "    N_arms = variables[\"data:structure:arms:number\"].value[0]\n",
    "    N_pro_arm = variables[\"data:structure:arms:prop_per_arm\"].value[0]\n",
    "    arm_length = variables[\"data:structure:arms:length\"].value[0]\n",
    "    arm_diameter = variables[\"data:structure:arms:diameter:outer\"].value[0]\n",
    "    D_pro = variables[\"data:propeller:geometry:diameter\"].value[0]\n",
    "    \n",
    "    R = 0.0  # Frame radius #TODO: get frame radius\n",
    "\n",
    "    x_arms = []\n",
    "    y_arms = []\n",
    "    prop_shapes = []\n",
    "    \n",
    "    for i in range(int(N_arms)):\n",
    "        sep_angle = - i * 2 * np.pi / N_arms\n",
    "        x_arm = np.array(\n",
    "            [- arm_diameter / 2 * np.sin(sep_angle), - arm_diameter / 2 * np.sin(sep_angle) + arm_length * np.cos(sep_angle), arm_length * np.cos(sep_angle) + arm_diameter / 2 * np.sin(sep_angle), arm_diameter / 2 * np.sin(sep_angle)]\n",
    "        )\n",
    "        y_arm = np.array(\n",
    "            [arm_diameter / 2 * np.cos(sep_angle), arm_diameter / 2 * np.cos(sep_angle) + arm_length * np.sin(sep_angle), arm_length * np.sin(sep_angle) - arm_diameter / 2 * np.cos(sep_angle), - arm_diameter / 2 * np.cos(sep_angle)]\n",
    "        )\n",
    "        \n",
    "        x_arm = x_arm + R * np.cos(sep_angle)  # frame radius\n",
    "        y_arm = y_arm + R * np.sin(sep_angle)  # frame radius\n",
    "        \n",
    "        x_arms = np.concatenate((x_arms, x_arm))\n",
    "        y_arms = np.concatenate((y_arms, y_arm))\n",
    "        \n",
    "        for j in range(int(N_pro_arm)):  # TODO: distinguish the two propellers if push/pull configuration\n",
    "            fig.add_shape(\n",
    "                dict(type=\"circle\", line=dict(color='black',width=3), fillcolor=COLS[k],\n",
    "                          x0=arm_length * np.cos(sep_angle) - D_pro / 2 + R * np.cos(sep_angle), \n",
    "                          y0=arm_length * np.sin(sep_angle) - D_pro / 2 + R * np.sin(sep_angle), \n",
    "                          x1=arm_length * np.cos(sep_angle) + D_pro / 2 + R * np.cos(sep_angle), \n",
    "                          y1=arm_length * np.sin(sep_angle) + D_pro / 2 + R * np.sin(sep_angle),\n",
    "                    )\n",
    "                )\n",
    "\n",
    "    # ARMS\n",
    "    x_arms = np.concatenate((x_arms,[x_arms[0]]))\n",
    "    y_arms = np.concatenate((y_arms,[y_arms[0]]))\n",
    "    scatter = go.Scatter(x=y_arms, y=x_arms, mode=\"lines\", line_color = COLS[k], name=name)\n",
    "    fig.add_trace(scatter)\n",
    "    \n",
    "        \n",
    "    fig = go.FigureWidget(fig)\n",
    "    fig.update_shapes(opacity=0.2, xref=\"x\", yref=\"y\")\n",
    "    fig.update_layout(\n",
    "        title_text=\"Drone Geometry\", title_x=0.5, xaxis_title=\"y\", yaxis_title=\"x\",\n",
    "    )\n",
    "    fig.update_layout(yaxis=dict(scaleanchor=\"x\", scaleratio=1))\n",
    "\n",
    "    return fig"
   ]
  },
  {
   "cell_type": "code",
   "execution_count": 19,
   "metadata": {},
   "outputs": [
    {
     "data": {
      "application/vnd.plotly.v1+json": {
       "config": {
        "plotlyServerURL": "https://plot.ly"
       },
       "data": [
        {
         "line": {
          "color": "rgb(31, 119, 180)"
         },
         "mode": "lines",
         "name": "Drone MDA",
         "type": "scatter",
         "uid": "a4a3aeb2-316f-4d2a-bc45-9d8fce1162a5",
         "x": [
          0.00938358139220408,
          0.00938358139220408,
          -0.00938358139220408,
          -0.00938358139220408,
          0.00663519403424341,
          -0.3688294479783435,
          -0.3820998360468303,
          -0.00663519403424341,
          5.745786458250696e-19,
          -0.5309871889257594,
          -0.5309871889257594,
          -5.745786458250696e-19,
          -0.006635194034243409,
          -0.3820998360468303,
          -0.3688294479783435,
          0.006635194034243409,
          -0.00938358139220408,
          -0.009383581392204144,
          0.009383581392204016,
          0.00938358139220408,
          -0.006635194034243411,
          0.36882944797834344,
          0.38209983604683023,
          0.006635194034243411,
          -1.7237359374752085e-18,
          0.5309871889257594,
          0.5309871889257594,
          1.7237359374752085e-18,
          0.006635194034243408,
          0.3820998360468304,
          0.3688294479783436,
          -0.006635194034243408,
          0.00938358139220408
         ],
         "y": [
          0,
          0.5309871889257594,
          0.5309871889257594,
          0,
          0.00663519403424341,
          0.3820998360468303,
          0.3688294479783435,
          -0.00663519403424341,
          0.00938358139220408,
          0.009383581392204113,
          -0.009383581392204047,
          -0.00938358139220408,
          0.00663519403424341,
          -0.36882944797834344,
          -0.38209983604683023,
          -0.00663519403424341,
          1.1491572916501391e-18,
          -0.5309871889257594,
          -0.5309871889257594,
          -1.1491572916501391e-18,
          -0.006635194034243409,
          -0.3820998360468304,
          -0.3688294479783436,
          0.006635194034243409,
          -0.00938358139220408,
          -0.009383581392204177,
          0.009383581392203983,
          0.00938358139220408,
          -0.006635194034243411,
          0.3688294479783434,
          0.3820998360468302,
          0.006635194034243411,
          0
         ]
        },
        {
         "line": {
          "color": "rgb(255, 127, 14)"
         },
         "mode": "lines",
         "name": "Drone MDO",
         "type": "scatter",
         "uid": "8eaf5427-23ad-4260-b5e6-31ecda08182b",
         "x": [
          0.020424572734999168,
          0.020424572734999168,
          -0.020424572734999168,
          -0.020424572734999168,
          0.014442353883755782,
          -0.4079553683804046,
          -0.4368400761479161,
          -0.014442353883755782,
          1.2506443811934516e-18,
          -0.5973605875414794,
          -0.5973605875414794,
          -1.2506443811934516e-18,
          -0.01444235388375578,
          -0.4368400761479161,
          -0.4079553683804046,
          0.01444235388375578,
          -0.020424572734999168,
          -0.02042457273499924,
          0.020424572734999095,
          0.020424572734999168,
          -0.014442353883755784,
          0.40795536838040447,
          0.4368400761479161,
          0.014442353883755784,
          -3.751933143580355e-18,
          0.5973605875414794,
          0.5973605875414794,
          3.751933143580355e-18,
          0.014442353883755777,
          0.43684007614791615,
          0.40795536838040464,
          -0.014442353883755777,
          0.020424572734999168
         ],
         "y": [
          0,
          0.5973605875414794,
          0.5973605875414794,
          0,
          0.014442353883755782,
          0.4368400761479161,
          0.4079553683804046,
          -0.014442353883755782,
          0.020424572734999168,
          0.020424572734999206,
          -0.02042457273499913,
          -0.020424572734999168,
          0.014442353883755782,
          -0.40795536838040447,
          -0.4368400761479161,
          -0.014442353883755782,
          2.501288762386903e-18,
          -0.5973605875414794,
          -0.5973605875414794,
          -2.501288762386903e-18,
          -0.01444235388375578,
          -0.43684007614791615,
          -0.40795536838040464,
          0.01444235388375578,
          -0.020424572734999168,
          -0.02042457273499928,
          0.020424572734999057,
          0.020424572734999168,
          -0.014442353883755784,
          0.4079553683804044,
          0.43684007614791603,
          0.014442353883755784,
          0
         ]
        }
       ],
       "layout": {
        "shapes": [
         {
          "fillcolor": "rgb(31, 119, 180)",
          "line": {
           "color": "black",
           "width": 3
          },
          "opacity": 0.2,
          "type": "circle",
          "x0": 0.32778718892575937,
          "x1": 0.7341871889257594,
          "xref": "x",
          "y0": -0.2032,
          "y1": 0.2032,
          "yref": "y"
         },
         {
          "fillcolor": "rgb(31, 119, 180)",
          "line": {
           "color": "black",
           "width": 3
          },
          "opacity": 0.2,
          "type": "circle",
          "x0": 0.1722646420125869,
          "x1": 0.5786646420125869,
          "xref": "x",
          "y0": -0.5786646420125869,
          "y1": -0.1722646420125869,
          "yref": "y"
         },
         {
          "fillcolor": "rgb(31, 119, 180)",
          "line": {
           "color": "black",
           "width": 3
          },
          "opacity": 0.2,
          "type": "circle",
          "x0": -0.20319999999999996,
          "x1": 0.20320000000000002,
          "xref": "x",
          "y0": -0.7341871889257594,
          "y1": -0.32778718892575937,
          "yref": "y"
         },
         {
          "fillcolor": "rgb(31, 119, 180)",
          "line": {
           "color": "black",
           "width": 3
          },
          "opacity": 0.2,
          "type": "circle",
          "x0": -0.5786646420125868,
          "x1": -0.17226464201258684,
          "xref": "x",
          "y0": -0.5786646420125869,
          "y1": -0.1722646420125869,
          "yref": "y"
         },
         {
          "fillcolor": "rgb(31, 119, 180)",
          "line": {
           "color": "black",
           "width": 3
          },
          "opacity": 0.2,
          "type": "circle",
          "x0": -0.7341871889257594,
          "x1": -0.32778718892575937,
          "xref": "x",
          "y0": -0.20320000000000005,
          "y1": 0.20319999999999994,
          "yref": "y"
         },
         {
          "fillcolor": "rgb(31, 119, 180)",
          "line": {
           "color": "black",
           "width": 3
          },
          "opacity": 0.2,
          "type": "circle",
          "x0": -0.5786646420125869,
          "x1": -0.172264642012587,
          "xref": "x",
          "y0": 0.17226464201258684,
          "y1": 0.5786646420125868,
          "yref": "y"
         },
         {
          "fillcolor": "rgb(31, 119, 180)",
          "line": {
           "color": "black",
           "width": 3
          },
          "opacity": 0.2,
          "type": "circle",
          "x0": -0.2032000000000001,
          "x1": 0.20319999999999988,
          "xref": "x",
          "y0": 0.32778718892575937,
          "y1": 0.7341871889257594,
          "yref": "y"
         },
         {
          "fillcolor": "rgb(31, 119, 180)",
          "line": {
           "color": "black",
           "width": 3
          },
          "opacity": 0.2,
          "type": "circle",
          "x0": 0.1722646420125868,
          "x1": 0.5786646420125867,
          "xref": "x",
          "y0": 0.172264642012587,
          "y1": 0.5786646420125869,
          "yref": "y"
         },
         {
          "fillcolor": "rgb(255, 127, 14)",
          "line": {
           "color": "black",
           "width": 3
          },
          "opacity": 0.2,
          "type": "circle",
          "x0": 0.36876058754147933,
          "x1": 0.8259605875414794,
          "xref": "x",
          "y0": -0.2286,
          "y1": 0.2286,
          "yref": "y"
         },
         {
          "fillcolor": "rgb(255, 127, 14)",
          "line": {
           "color": "black",
           "width": 3
          },
          "opacity": 0.2,
          "type": "circle",
          "x0": 0.19379772226416034,
          "x1": 0.6509977222641603,
          "xref": "x",
          "y0": -0.6509977222641603,
          "y1": -0.19379772226416034,
          "yref": "y"
         },
         {
          "fillcolor": "rgb(255, 127, 14)",
          "line": {
           "color": "black",
           "width": 3
          },
          "opacity": 0.2,
          "type": "circle",
          "x0": -0.22859999999999997,
          "x1": 0.22860000000000003,
          "xref": "x",
          "y0": -0.8259605875414794,
          "y1": -0.36876058754147933,
          "yref": "y"
         },
         {
          "fillcolor": "rgb(255, 127, 14)",
          "line": {
           "color": "black",
           "width": 3
          },
          "opacity": 0.2,
          "type": "circle",
          "x0": -0.6509977222641603,
          "x1": -0.19379772226416028,
          "xref": "x",
          "y0": -0.6509977222641603,
          "y1": -0.19379772226416034,
          "yref": "y"
         },
         {
          "fillcolor": "rgb(255, 127, 14)",
          "line": {
           "color": "black",
           "width": 3
          },
          "opacity": 0.2,
          "type": "circle",
          "x0": -0.8259605875414794,
          "x1": -0.36876058754147933,
          "xref": "x",
          "y0": -0.22860000000000008,
          "y1": 0.22859999999999991,
          "yref": "y"
         },
         {
          "fillcolor": "rgb(255, 127, 14)",
          "line": {
           "color": "black",
           "width": 3
          },
          "opacity": 0.2,
          "type": "circle",
          "x0": -0.6509977222641604,
          "x1": -0.1937977222641604,
          "xref": "x",
          "y0": 0.19379772226416028,
          "y1": 0.6509977222641603,
          "yref": "y"
         },
         {
          "fillcolor": "rgb(255, 127, 14)",
          "line": {
           "color": "black",
           "width": 3
          },
          "opacity": 0.2,
          "type": "circle",
          "x0": -0.2286000000000001,
          "x1": 0.2285999999999999,
          "xref": "x",
          "y0": 0.36876058754147933,
          "y1": 0.8259605875414794,
          "yref": "y"
         },
         {
          "fillcolor": "rgb(255, 127, 14)",
          "line": {
           "color": "black",
           "width": 3
          },
          "opacity": 0.2,
          "type": "circle",
          "x0": 0.19379772226416023,
          "x1": 0.6509977222641602,
          "xref": "x",
          "y0": 0.1937977222641604,
          "y1": 0.6509977222641604,
          "yref": "y"
         }
        ],
        "template": {
         "data": {
          "bar": [
           {
            "error_x": {
             "color": "#2a3f5f"
            },
            "error_y": {
             "color": "#2a3f5f"
            },
            "marker": {
             "line": {
              "color": "#E5ECF6",
              "width": 0.5
             }
            },
            "type": "bar"
           }
          ],
          "barpolar": [
           {
            "marker": {
             "line": {
              "color": "#E5ECF6",
              "width": 0.5
             }
            },
            "type": "barpolar"
           }
          ],
          "carpet": [
           {
            "aaxis": {
             "endlinecolor": "#2a3f5f",
             "gridcolor": "white",
             "linecolor": "white",
             "minorgridcolor": "white",
             "startlinecolor": "#2a3f5f"
            },
            "baxis": {
             "endlinecolor": "#2a3f5f",
             "gridcolor": "white",
             "linecolor": "white",
             "minorgridcolor": "white",
             "startlinecolor": "#2a3f5f"
            },
            "type": "carpet"
           }
          ],
          "choropleth": [
           {
            "colorbar": {
             "outlinewidth": 0,
             "ticks": ""
            },
            "type": "choropleth"
           }
          ],
          "contour": [
           {
            "colorbar": {
             "outlinewidth": 0,
             "ticks": ""
            },
            "colorscale": [
             [
              0,
              "#0d0887"
             ],
             [
              0.1111111111111111,
              "#46039f"
             ],
             [
              0.2222222222222222,
              "#7201a8"
             ],
             [
              0.3333333333333333,
              "#9c179e"
             ],
             [
              0.4444444444444444,
              "#bd3786"
             ],
             [
              0.5555555555555556,
              "#d8576b"
             ],
             [
              0.6666666666666666,
              "#ed7953"
             ],
             [
              0.7777777777777778,
              "#fb9f3a"
             ],
             [
              0.8888888888888888,
              "#fdca26"
             ],
             [
              1,
              "#f0f921"
             ]
            ],
            "type": "contour"
           }
          ],
          "contourcarpet": [
           {
            "colorbar": {
             "outlinewidth": 0,
             "ticks": ""
            },
            "type": "contourcarpet"
           }
          ],
          "heatmap": [
           {
            "colorbar": {
             "outlinewidth": 0,
             "ticks": ""
            },
            "colorscale": [
             [
              0,
              "#0d0887"
             ],
             [
              0.1111111111111111,
              "#46039f"
             ],
             [
              0.2222222222222222,
              "#7201a8"
             ],
             [
              0.3333333333333333,
              "#9c179e"
             ],
             [
              0.4444444444444444,
              "#bd3786"
             ],
             [
              0.5555555555555556,
              "#d8576b"
             ],
             [
              0.6666666666666666,
              "#ed7953"
             ],
             [
              0.7777777777777778,
              "#fb9f3a"
             ],
             [
              0.8888888888888888,
              "#fdca26"
             ],
             [
              1,
              "#f0f921"
             ]
            ],
            "type": "heatmap"
           }
          ],
          "heatmapgl": [
           {
            "colorbar": {
             "outlinewidth": 0,
             "ticks": ""
            },
            "colorscale": [
             [
              0,
              "#0d0887"
             ],
             [
              0.1111111111111111,
              "#46039f"
             ],
             [
              0.2222222222222222,
              "#7201a8"
             ],
             [
              0.3333333333333333,
              "#9c179e"
             ],
             [
              0.4444444444444444,
              "#bd3786"
             ],
             [
              0.5555555555555556,
              "#d8576b"
             ],
             [
              0.6666666666666666,
              "#ed7953"
             ],
             [
              0.7777777777777778,
              "#fb9f3a"
             ],
             [
              0.8888888888888888,
              "#fdca26"
             ],
             [
              1,
              "#f0f921"
             ]
            ],
            "type": "heatmapgl"
           }
          ],
          "histogram": [
           {
            "marker": {
             "colorbar": {
              "outlinewidth": 0,
              "ticks": ""
             }
            },
            "type": "histogram"
           }
          ],
          "histogram2d": [
           {
            "colorbar": {
             "outlinewidth": 0,
             "ticks": ""
            },
            "colorscale": [
             [
              0,
              "#0d0887"
             ],
             [
              0.1111111111111111,
              "#46039f"
             ],
             [
              0.2222222222222222,
              "#7201a8"
             ],
             [
              0.3333333333333333,
              "#9c179e"
             ],
             [
              0.4444444444444444,
              "#bd3786"
             ],
             [
              0.5555555555555556,
              "#d8576b"
             ],
             [
              0.6666666666666666,
              "#ed7953"
             ],
             [
              0.7777777777777778,
              "#fb9f3a"
             ],
             [
              0.8888888888888888,
              "#fdca26"
             ],
             [
              1,
              "#f0f921"
             ]
            ],
            "type": "histogram2d"
           }
          ],
          "histogram2dcontour": [
           {
            "colorbar": {
             "outlinewidth": 0,
             "ticks": ""
            },
            "colorscale": [
             [
              0,
              "#0d0887"
             ],
             [
              0.1111111111111111,
              "#46039f"
             ],
             [
              0.2222222222222222,
              "#7201a8"
             ],
             [
              0.3333333333333333,
              "#9c179e"
             ],
             [
              0.4444444444444444,
              "#bd3786"
             ],
             [
              0.5555555555555556,
              "#d8576b"
             ],
             [
              0.6666666666666666,
              "#ed7953"
             ],
             [
              0.7777777777777778,
              "#fb9f3a"
             ],
             [
              0.8888888888888888,
              "#fdca26"
             ],
             [
              1,
              "#f0f921"
             ]
            ],
            "type": "histogram2dcontour"
           }
          ],
          "mesh3d": [
           {
            "colorbar": {
             "outlinewidth": 0,
             "ticks": ""
            },
            "type": "mesh3d"
           }
          ],
          "parcoords": [
           {
            "line": {
             "colorbar": {
              "outlinewidth": 0,
              "ticks": ""
             }
            },
            "type": "parcoords"
           }
          ],
          "pie": [
           {
            "automargin": true,
            "type": "pie"
           }
          ],
          "scatter": [
           {
            "marker": {
             "colorbar": {
              "outlinewidth": 0,
              "ticks": ""
             }
            },
            "type": "scatter"
           }
          ],
          "scatter3d": [
           {
            "line": {
             "colorbar": {
              "outlinewidth": 0,
              "ticks": ""
             }
            },
            "marker": {
             "colorbar": {
              "outlinewidth": 0,
              "ticks": ""
             }
            },
            "type": "scatter3d"
           }
          ],
          "scattercarpet": [
           {
            "marker": {
             "colorbar": {
              "outlinewidth": 0,
              "ticks": ""
             }
            },
            "type": "scattercarpet"
           }
          ],
          "scattergeo": [
           {
            "marker": {
             "colorbar": {
              "outlinewidth": 0,
              "ticks": ""
             }
            },
            "type": "scattergeo"
           }
          ],
          "scattergl": [
           {
            "marker": {
             "colorbar": {
              "outlinewidth": 0,
              "ticks": ""
             }
            },
            "type": "scattergl"
           }
          ],
          "scattermapbox": [
           {
            "marker": {
             "colorbar": {
              "outlinewidth": 0,
              "ticks": ""
             }
            },
            "type": "scattermapbox"
           }
          ],
          "scatterpolar": [
           {
            "marker": {
             "colorbar": {
              "outlinewidth": 0,
              "ticks": ""
             }
            },
            "type": "scatterpolar"
           }
          ],
          "scatterpolargl": [
           {
            "marker": {
             "colorbar": {
              "outlinewidth": 0,
              "ticks": ""
             }
            },
            "type": "scatterpolargl"
           }
          ],
          "scatterternary": [
           {
            "marker": {
             "colorbar": {
              "outlinewidth": 0,
              "ticks": ""
             }
            },
            "type": "scatterternary"
           }
          ],
          "surface": [
           {
            "colorbar": {
             "outlinewidth": 0,
             "ticks": ""
            },
            "colorscale": [
             [
              0,
              "#0d0887"
             ],
             [
              0.1111111111111111,
              "#46039f"
             ],
             [
              0.2222222222222222,
              "#7201a8"
             ],
             [
              0.3333333333333333,
              "#9c179e"
             ],
             [
              0.4444444444444444,
              "#bd3786"
             ],
             [
              0.5555555555555556,
              "#d8576b"
             ],
             [
              0.6666666666666666,
              "#ed7953"
             ],
             [
              0.7777777777777778,
              "#fb9f3a"
             ],
             [
              0.8888888888888888,
              "#fdca26"
             ],
             [
              1,
              "#f0f921"
             ]
            ],
            "type": "surface"
           }
          ],
          "table": [
           {
            "cells": {
             "fill": {
              "color": "#EBF0F8"
             },
             "line": {
              "color": "white"
             }
            },
            "header": {
             "fill": {
              "color": "#C8D4E3"
             },
             "line": {
              "color": "white"
             }
            },
            "type": "table"
           }
          ]
         },
         "layout": {
          "annotationdefaults": {
           "arrowcolor": "#2a3f5f",
           "arrowhead": 0,
           "arrowwidth": 1
          },
          "autotypenumbers": "strict",
          "coloraxis": {
           "colorbar": {
            "outlinewidth": 0,
            "ticks": ""
           }
          },
          "colorscale": {
           "diverging": [
            [
             0,
             "#8e0152"
            ],
            [
             0.1,
             "#c51b7d"
            ],
            [
             0.2,
             "#de77ae"
            ],
            [
             0.3,
             "#f1b6da"
            ],
            [
             0.4,
             "#fde0ef"
            ],
            [
             0.5,
             "#f7f7f7"
            ],
            [
             0.6,
             "#e6f5d0"
            ],
            [
             0.7,
             "#b8e186"
            ],
            [
             0.8,
             "#7fbc41"
            ],
            [
             0.9,
             "#4d9221"
            ],
            [
             1,
             "#276419"
            ]
           ],
           "sequential": [
            [
             0,
             "#0d0887"
            ],
            [
             0.1111111111111111,
             "#46039f"
            ],
            [
             0.2222222222222222,
             "#7201a8"
            ],
            [
             0.3333333333333333,
             "#9c179e"
            ],
            [
             0.4444444444444444,
             "#bd3786"
            ],
            [
             0.5555555555555556,
             "#d8576b"
            ],
            [
             0.6666666666666666,
             "#ed7953"
            ],
            [
             0.7777777777777778,
             "#fb9f3a"
            ],
            [
             0.8888888888888888,
             "#fdca26"
            ],
            [
             1,
             "#f0f921"
            ]
           ],
           "sequentialminus": [
            [
             0,
             "#0d0887"
            ],
            [
             0.1111111111111111,
             "#46039f"
            ],
            [
             0.2222222222222222,
             "#7201a8"
            ],
            [
             0.3333333333333333,
             "#9c179e"
            ],
            [
             0.4444444444444444,
             "#bd3786"
            ],
            [
             0.5555555555555556,
             "#d8576b"
            ],
            [
             0.6666666666666666,
             "#ed7953"
            ],
            [
             0.7777777777777778,
             "#fb9f3a"
            ],
            [
             0.8888888888888888,
             "#fdca26"
            ],
            [
             1,
             "#f0f921"
            ]
           ]
          },
          "colorway": [
           "#636efa",
           "#EF553B",
           "#00cc96",
           "#ab63fa",
           "#FFA15A",
           "#19d3f3",
           "#FF6692",
           "#B6E880",
           "#FF97FF",
           "#FECB52"
          ],
          "font": {
           "color": "#2a3f5f"
          },
          "geo": {
           "bgcolor": "white",
           "lakecolor": "white",
           "landcolor": "#E5ECF6",
           "showlakes": true,
           "showland": true,
           "subunitcolor": "white"
          },
          "hoverlabel": {
           "align": "left"
          },
          "hovermode": "closest",
          "mapbox": {
           "style": "light"
          },
          "paper_bgcolor": "white",
          "plot_bgcolor": "#E5ECF6",
          "polar": {
           "angularaxis": {
            "gridcolor": "white",
            "linecolor": "white",
            "ticks": ""
           },
           "bgcolor": "#E5ECF6",
           "radialaxis": {
            "gridcolor": "white",
            "linecolor": "white",
            "ticks": ""
           }
          },
          "scene": {
           "xaxis": {
            "backgroundcolor": "#E5ECF6",
            "gridcolor": "white",
            "gridwidth": 2,
            "linecolor": "white",
            "showbackground": true,
            "ticks": "",
            "zerolinecolor": "white"
           },
           "yaxis": {
            "backgroundcolor": "#E5ECF6",
            "gridcolor": "white",
            "gridwidth": 2,
            "linecolor": "white",
            "showbackground": true,
            "ticks": "",
            "zerolinecolor": "white"
           },
           "zaxis": {
            "backgroundcolor": "#E5ECF6",
            "gridcolor": "white",
            "gridwidth": 2,
            "linecolor": "white",
            "showbackground": true,
            "ticks": "",
            "zerolinecolor": "white"
           }
          },
          "shapedefaults": {
           "line": {
            "color": "#2a3f5f"
           }
          },
          "ternary": {
           "aaxis": {
            "gridcolor": "white",
            "linecolor": "white",
            "ticks": ""
           },
           "baxis": {
            "gridcolor": "white",
            "linecolor": "white",
            "ticks": ""
           },
           "bgcolor": "#E5ECF6",
           "caxis": {
            "gridcolor": "white",
            "linecolor": "white",
            "ticks": ""
           }
          },
          "title": {
           "x": 0.05
          },
          "xaxis": {
           "automargin": true,
           "gridcolor": "white",
           "linecolor": "white",
           "ticks": "",
           "title": {
            "standoff": 15
           },
           "zerolinecolor": "white",
           "zerolinewidth": 2
          },
          "yaxis": {
           "automargin": true,
           "gridcolor": "white",
           "linecolor": "white",
           "ticks": "",
           "title": {
            "standoff": 15
           },
           "zerolinecolor": "white",
           "zerolinewidth": 2
          }
         }
        },
        "title": {
         "text": "Drone Geometry",
         "x": 0.5
        },
        "xaxis": {
         "title": {
          "text": "y"
         }
        },
        "yaxis": {
         "scaleanchor": "x",
         "scaleratio": 1,
         "title": {
          "text": "x"
         }
        }
       }
      },
      "text/html": [
       "<div>                            <div id=\"57f89cdd-6e81-4d1a-bec0-88e07283dabc\" class=\"plotly-graph-div\" style=\"height:525px; width:100%;\"></div>            <script type=\"text/javascript\">                require([\"plotly\"], function(Plotly) {                    window.PLOTLYENV=window.PLOTLYENV || {};                                    if (document.getElementById(\"57f89cdd-6e81-4d1a-bec0-88e07283dabc\")) {                    Plotly.newPlot(                        \"57f89cdd-6e81-4d1a-bec0-88e07283dabc\",                        [{\"line\": {\"color\": \"rgb(31, 119, 180)\"}, \"mode\": \"lines\", \"name\": \"Drone MDA\", \"type\": \"scatter\", \"uid\": \"a4a3aeb2-316f-4d2a-bc45-9d8fce1162a5\", \"x\": [0.00938358139220408, 0.00938358139220408, -0.00938358139220408, -0.00938358139220408, 0.00663519403424341, -0.3688294479783435, -0.3820998360468303, -0.00663519403424341, 5.745786458250696e-19, -0.5309871889257594, -0.5309871889257594, -5.745786458250696e-19, -0.006635194034243409, -0.3820998360468303, -0.3688294479783435, 0.006635194034243409, -0.00938358139220408, -0.009383581392204144, 0.009383581392204016, 0.00938358139220408, -0.006635194034243411, 0.36882944797834344, 0.38209983604683023, 0.006635194034243411, -1.7237359374752085e-18, 0.5309871889257594, 0.5309871889257594, 1.7237359374752085e-18, 0.006635194034243408, 0.3820998360468304, 0.3688294479783436, -0.006635194034243408, 0.00938358139220408], \"y\": [0.0, 0.5309871889257594, 0.5309871889257594, 0.0, 0.00663519403424341, 0.3820998360468303, 0.3688294479783435, -0.00663519403424341, 0.00938358139220408, 0.009383581392204113, -0.009383581392204047, -0.00938358139220408, 0.00663519403424341, -0.36882944797834344, -0.38209983604683023, -0.00663519403424341, 1.1491572916501391e-18, -0.5309871889257594, -0.5309871889257594, -1.1491572916501391e-18, -0.006635194034243409, -0.3820998360468304, -0.3688294479783436, 0.006635194034243409, -0.00938358139220408, -0.009383581392204177, 0.009383581392203983, 0.00938358139220408, -0.006635194034243411, 0.3688294479783434, 0.3820998360468302, 0.006635194034243411, 0.0]}, {\"line\": {\"color\": \"rgb(255, 127, 14)\"}, \"mode\": \"lines\", \"name\": \"Drone MDO\", \"type\": \"scatter\", \"uid\": \"8eaf5427-23ad-4260-b5e6-31ecda08182b\", \"x\": [0.020424572734999168, 0.020424572734999168, -0.020424572734999168, -0.020424572734999168, 0.014442353883755782, -0.4079553683804046, -0.4368400761479161, -0.014442353883755782, 1.2506443811934516e-18, -0.5973605875414794, -0.5973605875414794, -1.2506443811934516e-18, -0.01444235388375578, -0.4368400761479161, -0.4079553683804046, 0.01444235388375578, -0.020424572734999168, -0.02042457273499924, 0.020424572734999095, 0.020424572734999168, -0.014442353883755784, 0.40795536838040447, 0.4368400761479161, 0.014442353883755784, -3.751933143580355e-18, 0.5973605875414794, 0.5973605875414794, 3.751933143580355e-18, 0.014442353883755777, 0.43684007614791615, 0.40795536838040464, -0.014442353883755777, 0.020424572734999168], \"y\": [0.0, 0.5973605875414794, 0.5973605875414794, 0.0, 0.014442353883755782, 0.4368400761479161, 0.4079553683804046, -0.014442353883755782, 0.020424572734999168, 0.020424572734999206, -0.02042457273499913, -0.020424572734999168, 0.014442353883755782, -0.40795536838040447, -0.4368400761479161, -0.014442353883755782, 2.501288762386903e-18, -0.5973605875414794, -0.5973605875414794, -2.501288762386903e-18, -0.01444235388375578, -0.43684007614791615, -0.40795536838040464, 0.01444235388375578, -0.020424572734999168, -0.02042457273499928, 0.020424572734999057, 0.020424572734999168, -0.014442353883755784, 0.4079553683804044, 0.43684007614791603, 0.014442353883755784, 0.0]}],                        {\"shapes\": [{\"fillcolor\": \"rgb(31, 119, 180)\", \"line\": {\"color\": \"black\", \"width\": 3}, \"opacity\": 0.2, \"type\": \"circle\", \"x0\": 0.32778718892575937, \"x1\": 0.7341871889257594, \"xref\": \"x\", \"y0\": -0.2032, \"y1\": 0.2032, \"yref\": \"y\"}, {\"fillcolor\": \"rgb(31, 119, 180)\", \"line\": {\"color\": \"black\", \"width\": 3}, \"opacity\": 0.2, \"type\": \"circle\", \"x0\": 0.1722646420125869, \"x1\": 0.5786646420125869, \"xref\": \"x\", \"y0\": -0.5786646420125869, \"y1\": -0.1722646420125869, \"yref\": \"y\"}, {\"fillcolor\": \"rgb(31, 119, 180)\", \"line\": {\"color\": \"black\", \"width\": 3}, \"opacity\": 0.2, \"type\": \"circle\", \"x0\": -0.20319999999999996, \"x1\": 0.20320000000000002, \"xref\": \"x\", \"y0\": -0.7341871889257594, \"y1\": -0.32778718892575937, \"yref\": \"y\"}, {\"fillcolor\": \"rgb(31, 119, 180)\", \"line\": {\"color\": \"black\", \"width\": 3}, \"opacity\": 0.2, \"type\": \"circle\", \"x0\": -0.5786646420125868, \"x1\": -0.17226464201258684, \"xref\": \"x\", \"y0\": -0.5786646420125869, \"y1\": -0.1722646420125869, \"yref\": \"y\"}, {\"fillcolor\": \"rgb(31, 119, 180)\", \"line\": {\"color\": \"black\", \"width\": 3}, \"opacity\": 0.2, \"type\": \"circle\", \"x0\": -0.7341871889257594, \"x1\": -0.32778718892575937, \"xref\": \"x\", \"y0\": -0.20320000000000005, \"y1\": 0.20319999999999994, \"yref\": \"y\"}, {\"fillcolor\": \"rgb(31, 119, 180)\", \"line\": {\"color\": \"black\", \"width\": 3}, \"opacity\": 0.2, \"type\": \"circle\", \"x0\": -0.5786646420125869, \"x1\": -0.172264642012587, \"xref\": \"x\", \"y0\": 0.17226464201258684, \"y1\": 0.5786646420125868, \"yref\": \"y\"}, {\"fillcolor\": \"rgb(31, 119, 180)\", \"line\": {\"color\": \"black\", \"width\": 3}, \"opacity\": 0.2, \"type\": \"circle\", \"x0\": -0.2032000000000001, \"x1\": 0.20319999999999988, \"xref\": \"x\", \"y0\": 0.32778718892575937, \"y1\": 0.7341871889257594, \"yref\": \"y\"}, {\"fillcolor\": \"rgb(31, 119, 180)\", \"line\": {\"color\": \"black\", \"width\": 3}, \"opacity\": 0.2, \"type\": \"circle\", \"x0\": 0.1722646420125868, \"x1\": 0.5786646420125867, \"xref\": \"x\", \"y0\": 0.172264642012587, \"y1\": 0.5786646420125869, \"yref\": \"y\"}, {\"fillcolor\": \"rgb(255, 127, 14)\", \"line\": {\"color\": \"black\", \"width\": 3}, \"opacity\": 0.2, \"type\": \"circle\", \"x0\": 0.36876058754147933, \"x1\": 0.8259605875414794, \"xref\": \"x\", \"y0\": -0.2286, \"y1\": 0.2286, \"yref\": \"y\"}, {\"fillcolor\": \"rgb(255, 127, 14)\", \"line\": {\"color\": \"black\", \"width\": 3}, \"opacity\": 0.2, \"type\": \"circle\", \"x0\": 0.19379772226416034, \"x1\": 0.6509977222641603, \"xref\": \"x\", \"y0\": -0.6509977222641603, \"y1\": -0.19379772226416034, \"yref\": \"y\"}, {\"fillcolor\": \"rgb(255, 127, 14)\", \"line\": {\"color\": \"black\", \"width\": 3}, \"opacity\": 0.2, \"type\": \"circle\", \"x0\": -0.22859999999999997, \"x1\": 0.22860000000000003, \"xref\": \"x\", \"y0\": -0.8259605875414794, \"y1\": -0.36876058754147933, \"yref\": \"y\"}, {\"fillcolor\": \"rgb(255, 127, 14)\", \"line\": {\"color\": \"black\", \"width\": 3}, \"opacity\": 0.2, \"type\": \"circle\", \"x0\": -0.6509977222641603, \"x1\": -0.19379772226416028, \"xref\": \"x\", \"y0\": -0.6509977222641603, \"y1\": -0.19379772226416034, \"yref\": \"y\"}, {\"fillcolor\": \"rgb(255, 127, 14)\", \"line\": {\"color\": \"black\", \"width\": 3}, \"opacity\": 0.2, \"type\": \"circle\", \"x0\": -0.8259605875414794, \"x1\": -0.36876058754147933, \"xref\": \"x\", \"y0\": -0.22860000000000008, \"y1\": 0.22859999999999991, \"yref\": \"y\"}, {\"fillcolor\": \"rgb(255, 127, 14)\", \"line\": {\"color\": \"black\", \"width\": 3}, \"opacity\": 0.2, \"type\": \"circle\", \"x0\": -0.6509977222641604, \"x1\": -0.1937977222641604, \"xref\": \"x\", \"y0\": 0.19379772226416028, \"y1\": 0.6509977222641603, \"yref\": \"y\"}, {\"fillcolor\": \"rgb(255, 127, 14)\", \"line\": {\"color\": \"black\", \"width\": 3}, \"opacity\": 0.2, \"type\": \"circle\", \"x0\": -0.2286000000000001, \"x1\": 0.2285999999999999, \"xref\": \"x\", \"y0\": 0.36876058754147933, \"y1\": 0.8259605875414794, \"yref\": \"y\"}, {\"fillcolor\": \"rgb(255, 127, 14)\", \"line\": {\"color\": \"black\", \"width\": 3}, \"opacity\": 0.2, \"type\": \"circle\", \"x0\": 0.19379772226416023, \"x1\": 0.6509977222641602, \"xref\": \"x\", \"y0\": 0.1937977222641604, \"y1\": 0.6509977222641604, \"yref\": \"y\"}], \"template\": {\"data\": {\"bar\": [{\"error_x\": {\"color\": \"#2a3f5f\"}, \"error_y\": {\"color\": \"#2a3f5f\"}, \"marker\": {\"line\": {\"color\": \"#E5ECF6\", \"width\": 0.5}}, \"type\": \"bar\"}], \"barpolar\": [{\"marker\": {\"line\": {\"color\": \"#E5ECF6\", \"width\": 0.5}}, \"type\": \"barpolar\"}], \"carpet\": [{\"aaxis\": {\"endlinecolor\": \"#2a3f5f\", \"gridcolor\": \"white\", \"linecolor\": \"white\", \"minorgridcolor\": \"white\", \"startlinecolor\": \"#2a3f5f\"}, \"baxis\": {\"endlinecolor\": \"#2a3f5f\", \"gridcolor\": \"white\", \"linecolor\": \"white\", \"minorgridcolor\": \"white\", \"startlinecolor\": \"#2a3f5f\"}, \"type\": \"carpet\"}], \"choropleth\": [{\"colorbar\": {\"outlinewidth\": 0, \"ticks\": \"\"}, \"type\": \"choropleth\"}], \"contour\": [{\"colorbar\": {\"outlinewidth\": 0, \"ticks\": \"\"}, \"colorscale\": [[0.0, \"#0d0887\"], [0.1111111111111111, \"#46039f\"], [0.2222222222222222, \"#7201a8\"], [0.3333333333333333, \"#9c179e\"], [0.4444444444444444, \"#bd3786\"], [0.5555555555555556, \"#d8576b\"], [0.6666666666666666, \"#ed7953\"], [0.7777777777777778, \"#fb9f3a\"], [0.8888888888888888, \"#fdca26\"], [1.0, \"#f0f921\"]], \"type\": \"contour\"}], \"contourcarpet\": [{\"colorbar\": {\"outlinewidth\": 0, \"ticks\": \"\"}, \"type\": \"contourcarpet\"}], \"heatmap\": [{\"colorbar\": {\"outlinewidth\": 0, \"ticks\": \"\"}, \"colorscale\": [[0.0, \"#0d0887\"], [0.1111111111111111, \"#46039f\"], [0.2222222222222222, \"#7201a8\"], [0.3333333333333333, \"#9c179e\"], [0.4444444444444444, \"#bd3786\"], [0.5555555555555556, \"#d8576b\"], [0.6666666666666666, \"#ed7953\"], [0.7777777777777778, \"#fb9f3a\"], [0.8888888888888888, \"#fdca26\"], [1.0, \"#f0f921\"]], \"type\": \"heatmap\"}], \"heatmapgl\": [{\"colorbar\": {\"outlinewidth\": 0, \"ticks\": \"\"}, \"colorscale\": [[0.0, \"#0d0887\"], [0.1111111111111111, \"#46039f\"], [0.2222222222222222, \"#7201a8\"], [0.3333333333333333, \"#9c179e\"], [0.4444444444444444, \"#bd3786\"], [0.5555555555555556, \"#d8576b\"], [0.6666666666666666, \"#ed7953\"], [0.7777777777777778, \"#fb9f3a\"], [0.8888888888888888, \"#fdca26\"], [1.0, \"#f0f921\"]], \"type\": \"heatmapgl\"}], \"histogram\": [{\"marker\": {\"colorbar\": {\"outlinewidth\": 0, \"ticks\": \"\"}}, \"type\": \"histogram\"}], \"histogram2d\": [{\"colorbar\": {\"outlinewidth\": 0, \"ticks\": \"\"}, \"colorscale\": [[0.0, \"#0d0887\"], [0.1111111111111111, \"#46039f\"], [0.2222222222222222, \"#7201a8\"], [0.3333333333333333, \"#9c179e\"], [0.4444444444444444, \"#bd3786\"], [0.5555555555555556, \"#d8576b\"], [0.6666666666666666, \"#ed7953\"], [0.7777777777777778, \"#fb9f3a\"], [0.8888888888888888, \"#fdca26\"], [1.0, \"#f0f921\"]], \"type\": \"histogram2d\"}], \"histogram2dcontour\": [{\"colorbar\": {\"outlinewidth\": 0, \"ticks\": \"\"}, \"colorscale\": [[0.0, \"#0d0887\"], [0.1111111111111111, \"#46039f\"], [0.2222222222222222, \"#7201a8\"], [0.3333333333333333, \"#9c179e\"], [0.4444444444444444, \"#bd3786\"], [0.5555555555555556, \"#d8576b\"], [0.6666666666666666, \"#ed7953\"], [0.7777777777777778, \"#fb9f3a\"], [0.8888888888888888, \"#fdca26\"], [1.0, \"#f0f921\"]], \"type\": \"histogram2dcontour\"}], \"mesh3d\": [{\"colorbar\": {\"outlinewidth\": 0, \"ticks\": \"\"}, \"type\": \"mesh3d\"}], \"parcoords\": [{\"line\": {\"colorbar\": {\"outlinewidth\": 0, \"ticks\": \"\"}}, \"type\": \"parcoords\"}], \"pie\": [{\"automargin\": true, \"type\": \"pie\"}], \"scatter\": [{\"marker\": {\"colorbar\": {\"outlinewidth\": 0, \"ticks\": \"\"}}, \"type\": \"scatter\"}], \"scatter3d\": [{\"line\": {\"colorbar\": {\"outlinewidth\": 0, \"ticks\": \"\"}}, \"marker\": {\"colorbar\": {\"outlinewidth\": 0, \"ticks\": \"\"}}, \"type\": \"scatter3d\"}], \"scattercarpet\": [{\"marker\": {\"colorbar\": {\"outlinewidth\": 0, \"ticks\": \"\"}}, \"type\": \"scattercarpet\"}], \"scattergeo\": [{\"marker\": {\"colorbar\": {\"outlinewidth\": 0, \"ticks\": \"\"}}, \"type\": \"scattergeo\"}], \"scattergl\": [{\"marker\": {\"colorbar\": {\"outlinewidth\": 0, \"ticks\": \"\"}}, \"type\": \"scattergl\"}], \"scattermapbox\": [{\"marker\": {\"colorbar\": {\"outlinewidth\": 0, \"ticks\": \"\"}}, \"type\": \"scattermapbox\"}], \"scatterpolar\": [{\"marker\": {\"colorbar\": {\"outlinewidth\": 0, \"ticks\": \"\"}}, \"type\": \"scatterpolar\"}], \"scatterpolargl\": [{\"marker\": {\"colorbar\": {\"outlinewidth\": 0, \"ticks\": \"\"}}, \"type\": \"scatterpolargl\"}], \"scatterternary\": [{\"marker\": {\"colorbar\": {\"outlinewidth\": 0, \"ticks\": \"\"}}, \"type\": \"scatterternary\"}], \"surface\": [{\"colorbar\": {\"outlinewidth\": 0, \"ticks\": \"\"}, \"colorscale\": [[0.0, \"#0d0887\"], [0.1111111111111111, \"#46039f\"], [0.2222222222222222, \"#7201a8\"], [0.3333333333333333, \"#9c179e\"], [0.4444444444444444, \"#bd3786\"], [0.5555555555555556, \"#d8576b\"], [0.6666666666666666, \"#ed7953\"], [0.7777777777777778, \"#fb9f3a\"], [0.8888888888888888, \"#fdca26\"], [1.0, \"#f0f921\"]], \"type\": \"surface\"}], \"table\": [{\"cells\": {\"fill\": {\"color\": \"#EBF0F8\"}, \"line\": {\"color\": \"white\"}}, \"header\": {\"fill\": {\"color\": \"#C8D4E3\"}, \"line\": {\"color\": \"white\"}}, \"type\": \"table\"}]}, \"layout\": {\"annotationdefaults\": {\"arrowcolor\": \"#2a3f5f\", \"arrowhead\": 0, \"arrowwidth\": 1}, \"autotypenumbers\": \"strict\", \"coloraxis\": {\"colorbar\": {\"outlinewidth\": 0, \"ticks\": \"\"}}, \"colorscale\": {\"diverging\": [[0, \"#8e0152\"], [0.1, \"#c51b7d\"], [0.2, \"#de77ae\"], [0.3, \"#f1b6da\"], [0.4, \"#fde0ef\"], [0.5, \"#f7f7f7\"], [0.6, \"#e6f5d0\"], [0.7, \"#b8e186\"], [0.8, \"#7fbc41\"], [0.9, \"#4d9221\"], [1, \"#276419\"]], \"sequential\": [[0.0, \"#0d0887\"], [0.1111111111111111, \"#46039f\"], [0.2222222222222222, \"#7201a8\"], [0.3333333333333333, \"#9c179e\"], [0.4444444444444444, \"#bd3786\"], [0.5555555555555556, \"#d8576b\"], [0.6666666666666666, \"#ed7953\"], [0.7777777777777778, \"#fb9f3a\"], [0.8888888888888888, \"#fdca26\"], [1.0, \"#f0f921\"]], \"sequentialminus\": [[0.0, \"#0d0887\"], [0.1111111111111111, \"#46039f\"], [0.2222222222222222, \"#7201a8\"], [0.3333333333333333, \"#9c179e\"], [0.4444444444444444, \"#bd3786\"], [0.5555555555555556, \"#d8576b\"], [0.6666666666666666, \"#ed7953\"], [0.7777777777777778, \"#fb9f3a\"], [0.8888888888888888, \"#fdca26\"], [1.0, \"#f0f921\"]]}, \"colorway\": [\"#636efa\", \"#EF553B\", \"#00cc96\", \"#ab63fa\", \"#FFA15A\", \"#19d3f3\", \"#FF6692\", \"#B6E880\", \"#FF97FF\", \"#FECB52\"], \"font\": {\"color\": \"#2a3f5f\"}, \"geo\": {\"bgcolor\": \"white\", \"lakecolor\": \"white\", \"landcolor\": \"#E5ECF6\", \"showlakes\": true, \"showland\": true, \"subunitcolor\": \"white\"}, \"hoverlabel\": {\"align\": \"left\"}, \"hovermode\": \"closest\", \"mapbox\": {\"style\": \"light\"}, \"paper_bgcolor\": \"white\", \"plot_bgcolor\": \"#E5ECF6\", \"polar\": {\"angularaxis\": {\"gridcolor\": \"white\", \"linecolor\": \"white\", \"ticks\": \"\"}, \"bgcolor\": \"#E5ECF6\", \"radialaxis\": {\"gridcolor\": \"white\", \"linecolor\": \"white\", \"ticks\": \"\"}}, \"scene\": {\"xaxis\": {\"backgroundcolor\": \"#E5ECF6\", \"gridcolor\": \"white\", \"gridwidth\": 2, \"linecolor\": \"white\", \"showbackground\": true, \"ticks\": \"\", \"zerolinecolor\": \"white\"}, \"yaxis\": {\"backgroundcolor\": \"#E5ECF6\", \"gridcolor\": \"white\", \"gridwidth\": 2, \"linecolor\": \"white\", \"showbackground\": true, \"ticks\": \"\", \"zerolinecolor\": \"white\"}, \"zaxis\": {\"backgroundcolor\": \"#E5ECF6\", \"gridcolor\": \"white\", \"gridwidth\": 2, \"linecolor\": \"white\", \"showbackground\": true, \"ticks\": \"\", \"zerolinecolor\": \"white\"}}, \"shapedefaults\": {\"line\": {\"color\": \"#2a3f5f\"}}, \"ternary\": {\"aaxis\": {\"gridcolor\": \"white\", \"linecolor\": \"white\", \"ticks\": \"\"}, \"baxis\": {\"gridcolor\": \"white\", \"linecolor\": \"white\", \"ticks\": \"\"}, \"bgcolor\": \"#E5ECF6\", \"caxis\": {\"gridcolor\": \"white\", \"linecolor\": \"white\", \"ticks\": \"\"}}, \"title\": {\"x\": 0.05}, \"xaxis\": {\"automargin\": true, \"gridcolor\": \"white\", \"linecolor\": \"white\", \"ticks\": \"\", \"title\": {\"standoff\": 15}, \"zerolinecolor\": \"white\", \"zerolinewidth\": 2}, \"yaxis\": {\"automargin\": true, \"gridcolor\": \"white\", \"linecolor\": \"white\", \"ticks\": \"\", \"title\": {\"standoff\": 15}, \"zerolinecolor\": \"white\", \"zerolinewidth\": 2}}}, \"title\": {\"text\": \"Drone Geometry\", \"x\": 0.5}, \"xaxis\": {\"title\": {\"text\": \"y\"}}, \"yaxis\": {\"scaleanchor\": \"x\", \"scaleratio\": 1, \"title\": {\"text\": \"x\"}}},                        {\"responsive\": true}                    ).then(function(){\n",
       "                            \n",
       "var gd = document.getElementById('57f89cdd-6e81-4d1a-bec0-88e07283dabc');\n",
       "var x = new MutationObserver(function (mutations, observer) {{\n",
       "        var display = window.getComputedStyle(gd).display;\n",
       "        if (!display || display === 'none') {{\n",
       "            console.log([gd, 'removed!']);\n",
       "            Plotly.purge(gd);\n",
       "            observer.disconnect();\n",
       "        }}\n",
       "}});\n",
       "\n",
       "// Listen for the removal of the full notebook cells\n",
       "var notebookContainer = gd.closest('#notebook-container');\n",
       "if (notebookContainer) {{\n",
       "    x.observe(notebookContainer, {childList: true});\n",
       "}}\n",
       "\n",
       "// Listen for the clearing of the current output cell\n",
       "var outputEl = gd.closest('.output');\n",
       "if (outputEl) {{\n",
       "    x.observe(outputEl, {childList: true});\n",
       "}}\n",
       "\n",
       "                        })                };                });            </script>        </div>"
      ]
     },
     "metadata": {},
     "output_type": "display_data"
    }
   ],
   "source": [
    "import os.path as pth\n",
    "from fastoad.io import VariableIO\n",
    "\n",
    "DATA_FOLDER_PATH = '../data'\n",
    "WORK_FOLDER_PATH = '../workdir'\n",
    "\n",
    "MDA_OUTPUT_FILE = pth.join(WORK_FOLDER_PATH, 'problem_outputs_mda.xml')\n",
    "MDO_OUTPUT_FILE = pth.join(WORK_FOLDER_PATH, 'problem_outputs_mdo.xml')\n",
    "\n",
    "fig = drone_geometry_plot(MDA_OUTPUT_FILE, name='Drone MDA')\n",
    "fig = drone_geometry_plot(MDO_OUTPUT_FILE, name='Drone MDO', fig=fig)\n",
    "fig.show()"
   ]
  },
  {
   "cell_type": "code",
   "execution_count": 12,
   "metadata": {},
   "outputs": [
    {
     "name": "stdout",
     "output_type": "stream",
     "text": [
      "rgba(rgb(31, 119, 180),0.5)\n"
     ]
    }
   ],
   "source": [
    "str = 'rgba(' + COLS[0] + ',0.5)'\n",
    "print(str)\n",
    "#plotly.colors.convert_colorscale_to_rgb(COLS[0])"
   ]
  },
  {
   "cell_type": "code",
   "execution_count": null,
   "metadata": {},
   "outputs": [],
   "source": []
  }
 ],
 "metadata": {
  "kernelspec": {
   "display_name": "Python 3",
   "language": "python",
   "name": "python3"
  },
  "language_info": {
   "codemirror_mode": {
    "name": "ipython",
    "version": 3
   },
   "file_extension": ".py",
   "mimetype": "text/x-python",
   "name": "python",
   "nbconvert_exporter": "python",
   "pygments_lexer": "ipython3",
   "version": "3.8.8"
  }
 },
 "nbformat": 4,
 "nbformat_minor": 4
}
