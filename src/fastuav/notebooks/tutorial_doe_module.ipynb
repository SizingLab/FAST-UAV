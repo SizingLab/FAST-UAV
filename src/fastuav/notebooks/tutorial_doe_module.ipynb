{
 "cells": [
  {
   "cell_type": "markdown",
   "id": "019595f9-a2b1-407a-8d79-a93c52b0dd4f",
   "metadata": {},
   "source": [
    "# DoE module for FAST-OAD\n",
    "\n",
    "*Author: Félix Pollet* <br>\n",
    "*Date: May 2023*\n",
    "\n",
    "The `doe_fast` module offers the capability of running design of experiments on a FAST-OAD problem.\n",
    "\n",
    "Various generators are available:\n",
    "* The `List` generator reads cases from a user-defined array of DoE cases\n",
    "* The `Uniform` generator creates random samples drawn from a uniform distribution\n",
    "* The `Latin Hypercube` generator instanciates a [latin hypercube sampling](https://en.wikipedia.org/wiki/Latin_hypercube_sampling)\n",
    "* The `Sobol` generator instanciates the [Sobol-Saltelli 2002 method provided by SALib](https://salib.readthedocs.io/en/latest/api.html#sobol-sensitivity-analysis). It is useful for performing a Sobol analysis, which is a form of [variance-based sensitivity analysis](https://en.wikipedia.org/wiki/Variance-based_sensitivity_analysis).\n",
    "* The `Morris` generator instanciates the [method of Morris provided by SALib](https://salib.readthedocs.io/en/latest/api.html#method-of-morris). The [method of Morris](https://en.wikipedia.org/wiki/Morris_method) is a one-step-at-a-time method (OAT) for sensitivity analysis.\n",
    "\n",
    "The examples below show some applications of the module."
   ]
  },
  {
   "cell_type": "code",
   "execution_count": 3,
   "id": "19446348-95a4-4eb7-bf6f-448997bcfe42",
   "metadata": {
    "tags": []
   },
   "outputs": [],
   "source": [
    "import os.path as pth\n",
    "import fastoad.api as oad\n",
    "from fastuav.utils.postprocessing.sensitivity_analysis.sensitivity_analysis import doe_fast\n",
    "import numpy as np\n",
    "\n",
    "DATA_FOLDER_PATH = \"../data/doe\"\n",
    "WORK_FOLDER_PATH = \"./workdir\"\n",
    "\n",
    "CONFIGURATION_FILE = pth.join(WORK_FOLDER_PATH, \"conf_file_doe.yaml\")\n",
    "SOURCE_FILE = pth.join(DATA_FOLDER_PATH, \"problem_inputs_doe.xml\")"
   ]
  },
  {
   "cell_type": "markdown",
   "id": "5c64f9ac-588a-451b-ac4a-6d4deba93659",
   "metadata": {},
   "source": [
    "## Example 1: running a model for many different input values"
   ]
  },
  {
   "cell_type": "code",
   "execution_count": null,
   "id": "26d7fd57-ce6f-42a0-a074-5e2dc2896f12",
   "metadata": {
    "tags": []
   },
   "outputs": [],
   "source": [
    "# Generate the configuration file for the problem to be evaluated\n",
    "oad.generate_configuration_file(\n",
    "    CONFIGURATION_FILE, overwrite=True, distribution_name=\"fastuav\", sample_file_name=\"doe_simple_model.yaml\"\n",
    ")"
   ]
  },
  {
   "cell_type": "code",
   "execution_count": null,
   "id": "761de28f-58c4-490f-b903-fbcf2aa9dea1",
   "metadata": {
    "tags": []
   },
   "outputs": [],
   "source": [
    "# Generate the inputs file and display data\n",
    "oad.generate_inputs(CONFIGURATION_FILE, SOURCE_FILE, overwrite=True)"
   ]
  },
  {
   "cell_type": "code",
   "execution_count": null,
   "id": "c745d246-13d9-4277-937f-7805d156877b",
   "metadata": {
    "tags": []
   },
   "outputs": [],
   "source": [
    "INPUT_FILE = pth.join(WORK_FOLDER_PATH, \"problem_inputs.xml\")\n",
    "oad.variable_viewer(INPUT_FILE)"
   ]
  },
  {
   "cell_type": "code",
   "execution_count": null,
   "id": "080e16d1-cf0a-4022-8ea1-fb870e3fce94",
   "metadata": {
    "tags": []
   },
   "outputs": [],
   "source": [
    "# Definition of the DoE\n",
    "\n",
    "# Inputs to be varied\n",
    "x_dict = {\n",
    "    \"lca:parameters:n_cycles_uav\": np.linspace(1.0, 10000.0, 100),  # DoE provided as a list\n",
    "         }\n",
    "\n",
    "# Outputs to observe\n",
    "y_list = [\n",
    "    'lca:postprocessing:aggregation:weighted_single_score:model_per_FU',\n",
    "    'lca:postprocessing:aggregation:weighted_single_score:model_per_FU:airframe',\n",
    "    'lca:postprocessing:aggregation:weighted_single_score:model_per_FU:airframe:efficiency',\n",
    "    'lca:postprocessing:aggregation:weighted_single_score:model_per_FU:airframe:mass',\n",
    "    'lca:postprocessing:aggregation:weighted_single_score:model_per_FU:airframe:production',\n",
    "    'lca:postprocessing:aggregation:weighted_single_score:model_per_FU:batteries',\n",
    "    'lca:postprocessing:aggregation:weighted_single_score:model_per_FU:batteries:efficiency',\n",
    "    'lca:postprocessing:aggregation:weighted_single_score:model_per_FU:batteries:mass',\n",
    "    'lca:postprocessing:aggregation:weighted_single_score:model_per_FU:batteries:production',\n",
    "    'lca:postprocessing:aggregation:weighted_single_score:model_per_FU:controllers',\n",
    "    'lca:postprocessing:aggregation:weighted_single_score:model_per_FU:controllers:efficiency',\n",
    "    'lca:postprocessing:aggregation:weighted_single_score:model_per_FU:controllers:mass',\n",
    "    'lca:postprocessing:aggregation:weighted_single_score:model_per_FU:controllers:production',\n",
    "    'lca:postprocessing:aggregation:weighted_single_score:model_per_FU:motors',\n",
    "    'lca:postprocessing:aggregation:weighted_single_score:model_per_FU:motors:efficiency',\n",
    "    'lca:postprocessing:aggregation:weighted_single_score:model_per_FU:motors:mass',\n",
    "    'lca:postprocessing:aggregation:weighted_single_score:model_per_FU:motors:production',\n",
    "    'lca:postprocessing:aggregation:weighted_single_score:model_per_FU:payload',\n",
    "    'lca:postprocessing:aggregation:weighted_single_score:model_per_FU:payload:mass',\n",
    "    'lca:postprocessing:aggregation:weighted_single_score:model_per_FU:propellers',\n",
    "    'lca:postprocessing:aggregation:weighted_single_score:model_per_FU:propellers:efficiency',\n",
    "    'lca:postprocessing:aggregation:weighted_single_score:model_per_FU:propellers:mass',\n",
    "    'lca:postprocessing:aggregation:weighted_single_score:model_per_FU:propellers:production',\n",
    "]"
   ]
  },
  {
   "cell_type": "code",
   "execution_count": null,
   "id": "09a3ad3f-d72d-41b3-9d1d-189df876c96a",
   "metadata": {
    "tags": []
   },
   "outputs": [],
   "source": [
    "# Run the DoE\n",
    "method = \"list\"  # DoE provided as a list\n",
    "df = doe_fast(method, x_dict, y_list, CONFIGURATION_FILE)"
   ]
  },
  {
   "cell_type": "markdown",
   "id": "a76e4c0c-ebe0-4a79-a198-d4e59be35c12",
   "metadata": {},
   "source": [
    "*Example of output*\n",
    "\n",
    "<img src=\"../data/doe/contribution_motor_n_cycles.png\"  width=\"600\" height=\"300\">"
   ]
  },
  {
   "cell_type": "markdown",
   "id": "5277ced6-9151-46d7-804e-a2686fc5e8f1",
   "metadata": {},
   "source": [
    "## Example 2: DoE on the optimization problem\n",
    "\n",
    "Sometimes you may want to run a DoE on an optimization problem rather than a model. The `doe_fast` module automatically detects if an optimization problem is defined in the configuration file, and each point of the DoE will run an optimization."
   ]
  },
  {
   "cell_type": "code",
   "execution_count": 4,
   "id": "4d7a98db-0388-407e-b727-5e2351321370",
   "metadata": {},
   "outputs": [
    {
     "data": {
      "text/plain": [
       "'D:\\\\THESE\\\\Tools\\\\FAST-UAV\\\\src\\\\fastuav\\\\notebooks\\\\workdir\\\\conf_file_doe.yaml'"
      ]
     },
     "execution_count": 4,
     "metadata": {},
     "output_type": "execute_result"
    }
   ],
   "source": [
    "# Configuration file with an optimization problem\n",
    "oad.generate_configuration_file(\n",
    "    CONFIGURATION_FILE, overwrite=True, distribution_name=\"fastuav\", sample_file_name=\"doe_optimization_problem_2.yaml\"\n",
    ")"
   ]
  },
  {
   "cell_type": "code",
   "execution_count": 5,
   "id": "ab0581cd-adf2-4fa6-be96-b260490dbbf1",
   "metadata": {},
   "outputs": [
    {
     "data": {
      "application/vnd.jupyter.widget-view+json": {
       "model_id": "6c5ea9a0c9d04468a94ae096a69bcffc",
       "version_major": 2,
       "version_minor": 0
      },
      "text/plain": [
       "VBox(children=(HBox(children=(Button(description='Load', icon='upload', style=ButtonStyle(), tooltip='Load the…"
      ]
     },
     "metadata": {},
     "output_type": "display_data"
    }
   ],
   "source": [
    "# Generate the inputs file and display data\n",
    "oad.generate_inputs(CONFIGURATION_FILE, SOURCE_FILE, overwrite=True)\n",
    "INPUT_FILE = pth.join(WORK_FOLDER_PATH, \"problem_inputs.xml\")\n",
    "oad.variable_viewer(INPUT_FILE)"
   ]
  },
  {
   "cell_type": "code",
   "execution_count": 52,
   "id": "e740a77d-723e-4e84-ae77-18c7f061cc23",
   "metadata": {},
   "outputs": [
    {
     "name": "stderr",
     "output_type": "stream",
     "text": [
      "C:\\Users\\f.pollet.ISAE-SUPAERO\\AppData\\Roaming\\Python\\Python38\\site-packages\\scipy\\optimize\\_optimize.py:353: RuntimeWarning:\n",
      "\n",
      "Values in x were outside bounds during a minimize step, clipping to bounds\n",
      "\n"
     ]
    },
    {
     "name": "stdout",
     "output_type": "stream",
     "text": [
      "19 out of 100 optimizations failed.\n"
     ]
    }
   ],
   "source": [
    "# Definition of the DoE\n",
    "\n",
    "# Inputs to be varied\n",
    "x_dict = {\n",
    "    \"data:weight:propulsion:multirotor:battery:mass:reference\": [0.5, 1.0],  # range of variation\n",
    "    #\"mission:sizing:main_route:cruise:distance\": [5000, 30000]\n",
    "    \"mission:sizing:main_route:hover:duration\": [10, 40]\n",
    "         }\n",
    "\n",
    "# Outputs to observe\n",
    "#y_list = [\"data:weight:mtow\", \"mission:operational:energy\"]\n",
    "y_list = [\"data:weight:mtow\", \"data:weight:propulsion:multirotor:battery:mass\", \"data:propulsion:multirotor:battery:energy\",\"data:performance:range:cruise\", \"data:performance:endurance:hover\"]\n",
    "\n",
    "# Run DoE\n",
    "#method = \"lhs\"  # LHS sampling\n",
    "method = \"fullfactorial\"  # full factorial sampling\n",
    "n_samples = 10  # Number of samples\n",
    "df = doe_fast(method, x_dict, y_list, CONFIGURATION_FILE, n_samples)"
   ]
  },
  {
   "cell_type": "code",
   "execution_count": 67,
   "id": "ee6629fb-666a-4b67-bec5-a39d44d35a2f",
   "metadata": {
    "tags": []
   },
   "outputs": [],
   "source": [
    "df = df.drop(df[df.optim_failed == 1.0].index)"
   ]
  },
  {
   "cell_type": "code",
   "execution_count": 154,
   "id": "5afdfaef-28ce-455f-8164-345b1a592cc3",
   "metadata": {
    "tags": []
   },
   "outputs": [
    {
     "data": {
      "application/vnd.plotly.v1+json": {
       "config": {
        "plotlyServerURL": "https://plot.ly"
       },
       "data": [
        {
         "colorbar": {
          "ticks": "outside",
          "title": {
           "font": {
            "size": 16
           },
           "side": "right",
           "text": "Total UAV mass [kg]"
          }
         },
         "colorscale": [
          [
           0,
           "rgb(5,48,97)"
          ],
          [
           0.1,
           "rgb(33,102,172)"
          ],
          [
           0.2,
           "rgb(67,147,195)"
          ],
          [
           0.3,
           "rgb(146,197,222)"
          ],
          [
           0.4,
           "rgb(209,229,240)"
          ],
          [
           0.5,
           "rgb(247,247,247)"
          ],
          [
           0.6,
           "rgb(253,219,199)"
          ],
          [
           0.7,
           "rgb(244,165,130)"
          ],
          [
           0.8,
           "rgb(214,96,77)"
          ],
          [
           0.9,
           "rgb(178,24,43)"
          ],
          [
           1,
           "rgb(103,0,31)"
          ]
         ],
         "connectgaps": true,
         "contours": {
          "end": 12,
          "showlabels": true,
          "size": 0.5,
          "start": 4
         },
         "line": {
          "smoothing": 0
         },
         "type": "contour",
         "x": [
          130,
          138,
          146,
          156,
          167,
          180,
          195,
          213,
          234,
          261
         ],
         "y": [
          10,
          13.333333333333334,
          16.666666666666668,
          20,
          23.333333333333336,
          26.666666666666668,
          30,
          33.333333333333336,
          36.66666666666667,
          40
         ],
         "z": [
          [
           5.491207220455868,
           5.322243997986277,
           5.163083636797512,
           5.0128001403497,
           4.870580784289241,
           4.735774987956694,
           4.608153342270794,
           4.4872605996916874,
           4.372410170774066,
           4.263217606081584
          ],
          [
           6.355544520875271,
           6.0831575276562075,
           5.832090400888131,
           5.59945023688733,
           5.382990849877197,
           5.182058026169081,
           4.995123068987571,
           4.820595135091909,
           4.657536216196248,
           4.505206994301867
          ],
          [
           7.536279031543087,
           7.084974854128424,
           6.685942103704699,
           6.330228265261232,
           6.009708839930557,
           5.718510415764224,
           5.452003100233921,
           5.207460225353115,
           4.983344285380751,
           4.776966387670995
          ],
          [
           9.327503625188221,
           8.510482008683049,
           7.840390789352113,
           7.276272454317291,
           6.791231897571372,
           6.3682940042196305,
           5.994228400591162,
           5.659628047937893,
           5.357369585192275,
           5.083985181299338
          ],
          [
           12.700209594069108,
           10.843882432098862,
           9.556499813317675,
           8.586008478327622,
           7.815840092991139,
           7.18294797627015,
           6.648823858256311,
           6.189693200973621,
           5.788230046869135,
           5.432331195770873
          ],
          [
           null,
           16.39958163401812,
           12.640036624208069,
           10.619074982045099,
           9.260997029453339,
           8.255815219208317,
           7.467921239909777,
           6.825703779547623,
           6.2879164834010375,
           5.82733914517739
          ],
          [
           null,
           null,
           null,
           14.716894250864495,
           11.586003961182925,
           9.78221368703173,
           8.542637459720016,
           7.61401909689125,
           6.880633252771606,
           6.279435441341841
          ],
          [
           null,
           null,
           null,
           null,
           16.900174552414523,
           12.280424224406637,
           10.061901570867143,
           8.63370624716562,
           7.60218770485853,
           6.806189195910832
          ],
          [
           null,
           null,
           null,
           null,
           null,
           18.52771858054983,
           12.52027531150406,
           10.042421482407134,
           8.513731716247696,
           7.433699621092946
          ],
          [
           null,
           null,
           null,
           null,
           null,
           null,
           18.44894544897175,
           12.223351501257095,
           9.726954928745588,
           8.201564844257598
          ]
         ]
        }
       ],
       "layout": {
        "font": {
         "size": 14
        },
        "height": 400,
        "margin": {
         "b": 0,
         "l": 10,
         "r": 10,
         "t": 0
        },
        "paper_bgcolor": "rgba(0, 0, 0, 0)",
        "plot_bgcolor": "rgba(0, 0, 0, 0)",
        "template": {
         "data": {
          "bar": [
           {
            "error_x": {
             "color": "#2a3f5f"
            },
            "error_y": {
             "color": "#2a3f5f"
            },
            "marker": {
             "line": {
              "color": "#E5ECF6",
              "width": 0.5
             },
             "pattern": {
              "fillmode": "overlay",
              "size": 10,
              "solidity": 0.2
             }
            },
            "type": "bar"
           }
          ],
          "barpolar": [
           {
            "marker": {
             "line": {
              "color": "#E5ECF6",
              "width": 0.5
             },
             "pattern": {
              "fillmode": "overlay",
              "size": 10,
              "solidity": 0.2
             }
            },
            "type": "barpolar"
           }
          ],
          "carpet": [
           {
            "aaxis": {
             "endlinecolor": "#2a3f5f",
             "gridcolor": "white",
             "linecolor": "white",
             "minorgridcolor": "white",
             "startlinecolor": "#2a3f5f"
            },
            "baxis": {
             "endlinecolor": "#2a3f5f",
             "gridcolor": "white",
             "linecolor": "white",
             "minorgridcolor": "white",
             "startlinecolor": "#2a3f5f"
            },
            "type": "carpet"
           }
          ],
          "choropleth": [
           {
            "colorbar": {
             "outlinewidth": 0,
             "ticks": ""
            },
            "type": "choropleth"
           }
          ],
          "contour": [
           {
            "colorbar": {
             "outlinewidth": 0,
             "ticks": ""
            },
            "colorscale": [
             [
              0,
              "#0d0887"
             ],
             [
              0.1111111111111111,
              "#46039f"
             ],
             [
              0.2222222222222222,
              "#7201a8"
             ],
             [
              0.3333333333333333,
              "#9c179e"
             ],
             [
              0.4444444444444444,
              "#bd3786"
             ],
             [
              0.5555555555555556,
              "#d8576b"
             ],
             [
              0.6666666666666666,
              "#ed7953"
             ],
             [
              0.7777777777777778,
              "#fb9f3a"
             ],
             [
              0.8888888888888888,
              "#fdca26"
             ],
             [
              1,
              "#f0f921"
             ]
            ],
            "type": "contour"
           }
          ],
          "contourcarpet": [
           {
            "colorbar": {
             "outlinewidth": 0,
             "ticks": ""
            },
            "type": "contourcarpet"
           }
          ],
          "heatmap": [
           {
            "colorbar": {
             "outlinewidth": 0,
             "ticks": ""
            },
            "colorscale": [
             [
              0,
              "#0d0887"
             ],
             [
              0.1111111111111111,
              "#46039f"
             ],
             [
              0.2222222222222222,
              "#7201a8"
             ],
             [
              0.3333333333333333,
              "#9c179e"
             ],
             [
              0.4444444444444444,
              "#bd3786"
             ],
             [
              0.5555555555555556,
              "#d8576b"
             ],
             [
              0.6666666666666666,
              "#ed7953"
             ],
             [
              0.7777777777777778,
              "#fb9f3a"
             ],
             [
              0.8888888888888888,
              "#fdca26"
             ],
             [
              1,
              "#f0f921"
             ]
            ],
            "type": "heatmap"
           }
          ],
          "heatmapgl": [
           {
            "colorbar": {
             "outlinewidth": 0,
             "ticks": ""
            },
            "colorscale": [
             [
              0,
              "#0d0887"
             ],
             [
              0.1111111111111111,
              "#46039f"
             ],
             [
              0.2222222222222222,
              "#7201a8"
             ],
             [
              0.3333333333333333,
              "#9c179e"
             ],
             [
              0.4444444444444444,
              "#bd3786"
             ],
             [
              0.5555555555555556,
              "#d8576b"
             ],
             [
              0.6666666666666666,
              "#ed7953"
             ],
             [
              0.7777777777777778,
              "#fb9f3a"
             ],
             [
              0.8888888888888888,
              "#fdca26"
             ],
             [
              1,
              "#f0f921"
             ]
            ],
            "type": "heatmapgl"
           }
          ],
          "histogram": [
           {
            "marker": {
             "pattern": {
              "fillmode": "overlay",
              "size": 10,
              "solidity": 0.2
             }
            },
            "type": "histogram"
           }
          ],
          "histogram2d": [
           {
            "colorbar": {
             "outlinewidth": 0,
             "ticks": ""
            },
            "colorscale": [
             [
              0,
              "#0d0887"
             ],
             [
              0.1111111111111111,
              "#46039f"
             ],
             [
              0.2222222222222222,
              "#7201a8"
             ],
             [
              0.3333333333333333,
              "#9c179e"
             ],
             [
              0.4444444444444444,
              "#bd3786"
             ],
             [
              0.5555555555555556,
              "#d8576b"
             ],
             [
              0.6666666666666666,
              "#ed7953"
             ],
             [
              0.7777777777777778,
              "#fb9f3a"
             ],
             [
              0.8888888888888888,
              "#fdca26"
             ],
             [
              1,
              "#f0f921"
             ]
            ],
            "type": "histogram2d"
           }
          ],
          "histogram2dcontour": [
           {
            "colorbar": {
             "outlinewidth": 0,
             "ticks": ""
            },
            "colorscale": [
             [
              0,
              "#0d0887"
             ],
             [
              0.1111111111111111,
              "#46039f"
             ],
             [
              0.2222222222222222,
              "#7201a8"
             ],
             [
              0.3333333333333333,
              "#9c179e"
             ],
             [
              0.4444444444444444,
              "#bd3786"
             ],
             [
              0.5555555555555556,
              "#d8576b"
             ],
             [
              0.6666666666666666,
              "#ed7953"
             ],
             [
              0.7777777777777778,
              "#fb9f3a"
             ],
             [
              0.8888888888888888,
              "#fdca26"
             ],
             [
              1,
              "#f0f921"
             ]
            ],
            "type": "histogram2dcontour"
           }
          ],
          "mesh3d": [
           {
            "colorbar": {
             "outlinewidth": 0,
             "ticks": ""
            },
            "type": "mesh3d"
           }
          ],
          "parcoords": [
           {
            "line": {
             "colorbar": {
              "outlinewidth": 0,
              "ticks": ""
             }
            },
            "type": "parcoords"
           }
          ],
          "pie": [
           {
            "automargin": true,
            "type": "pie"
           }
          ],
          "scatter": [
           {
            "fillpattern": {
             "fillmode": "overlay",
             "size": 10,
             "solidity": 0.2
            },
            "type": "scatter"
           }
          ],
          "scatter3d": [
           {
            "line": {
             "colorbar": {
              "outlinewidth": 0,
              "ticks": ""
             }
            },
            "marker": {
             "colorbar": {
              "outlinewidth": 0,
              "ticks": ""
             }
            },
            "type": "scatter3d"
           }
          ],
          "scattercarpet": [
           {
            "marker": {
             "colorbar": {
              "outlinewidth": 0,
              "ticks": ""
             }
            },
            "type": "scattercarpet"
           }
          ],
          "scattergeo": [
           {
            "marker": {
             "colorbar": {
              "outlinewidth": 0,
              "ticks": ""
             }
            },
            "type": "scattergeo"
           }
          ],
          "scattergl": [
           {
            "marker": {
             "colorbar": {
              "outlinewidth": 0,
              "ticks": ""
             }
            },
            "type": "scattergl"
           }
          ],
          "scattermapbox": [
           {
            "marker": {
             "colorbar": {
              "outlinewidth": 0,
              "ticks": ""
             }
            },
            "type": "scattermapbox"
           }
          ],
          "scatterpolar": [
           {
            "marker": {
             "colorbar": {
              "outlinewidth": 0,
              "ticks": ""
             }
            },
            "type": "scatterpolar"
           }
          ],
          "scatterpolargl": [
           {
            "marker": {
             "colorbar": {
              "outlinewidth": 0,
              "ticks": ""
             }
            },
            "type": "scatterpolargl"
           }
          ],
          "scatterternary": [
           {
            "marker": {
             "colorbar": {
              "outlinewidth": 0,
              "ticks": ""
             }
            },
            "type": "scatterternary"
           }
          ],
          "surface": [
           {
            "colorbar": {
             "outlinewidth": 0,
             "ticks": ""
            },
            "colorscale": [
             [
              0,
              "#0d0887"
             ],
             [
              0.1111111111111111,
              "#46039f"
             ],
             [
              0.2222222222222222,
              "#7201a8"
             ],
             [
              0.3333333333333333,
              "#9c179e"
             ],
             [
              0.4444444444444444,
              "#bd3786"
             ],
             [
              0.5555555555555556,
              "#d8576b"
             ],
             [
              0.6666666666666666,
              "#ed7953"
             ],
             [
              0.7777777777777778,
              "#fb9f3a"
             ],
             [
              0.8888888888888888,
              "#fdca26"
             ],
             [
              1,
              "#f0f921"
             ]
            ],
            "type": "surface"
           }
          ],
          "table": [
           {
            "cells": {
             "fill": {
              "color": "#EBF0F8"
             },
             "line": {
              "color": "white"
             }
            },
            "header": {
             "fill": {
              "color": "#C8D4E3"
             },
             "line": {
              "color": "white"
             }
            },
            "type": "table"
           }
          ]
         },
         "layout": {
          "annotationdefaults": {
           "arrowcolor": "#2a3f5f",
           "arrowhead": 0,
           "arrowwidth": 1
          },
          "autotypenumbers": "strict",
          "coloraxis": {
           "colorbar": {
            "outlinewidth": 0,
            "ticks": ""
           }
          },
          "colorscale": {
           "diverging": [
            [
             0,
             "#8e0152"
            ],
            [
             0.1,
             "#c51b7d"
            ],
            [
             0.2,
             "#de77ae"
            ],
            [
             0.3,
             "#f1b6da"
            ],
            [
             0.4,
             "#fde0ef"
            ],
            [
             0.5,
             "#f7f7f7"
            ],
            [
             0.6,
             "#e6f5d0"
            ],
            [
             0.7,
             "#b8e186"
            ],
            [
             0.8,
             "#7fbc41"
            ],
            [
             0.9,
             "#4d9221"
            ],
            [
             1,
             "#276419"
            ]
           ],
           "sequential": [
            [
             0,
             "#0d0887"
            ],
            [
             0.1111111111111111,
             "#46039f"
            ],
            [
             0.2222222222222222,
             "#7201a8"
            ],
            [
             0.3333333333333333,
             "#9c179e"
            ],
            [
             0.4444444444444444,
             "#bd3786"
            ],
            [
             0.5555555555555556,
             "#d8576b"
            ],
            [
             0.6666666666666666,
             "#ed7953"
            ],
            [
             0.7777777777777778,
             "#fb9f3a"
            ],
            [
             0.8888888888888888,
             "#fdca26"
            ],
            [
             1,
             "#f0f921"
            ]
           ],
           "sequentialminus": [
            [
             0,
             "#0d0887"
            ],
            [
             0.1111111111111111,
             "#46039f"
            ],
            [
             0.2222222222222222,
             "#7201a8"
            ],
            [
             0.3333333333333333,
             "#9c179e"
            ],
            [
             0.4444444444444444,
             "#bd3786"
            ],
            [
             0.5555555555555556,
             "#d8576b"
            ],
            [
             0.6666666666666666,
             "#ed7953"
            ],
            [
             0.7777777777777778,
             "#fb9f3a"
            ],
            [
             0.8888888888888888,
             "#fdca26"
            ],
            [
             1,
             "#f0f921"
            ]
           ]
          },
          "colorway": [
           "#636efa",
           "#EF553B",
           "#00cc96",
           "#ab63fa",
           "#FFA15A",
           "#19d3f3",
           "#FF6692",
           "#B6E880",
           "#FF97FF",
           "#FECB52"
          ],
          "font": {
           "color": "#2a3f5f"
          },
          "geo": {
           "bgcolor": "white",
           "lakecolor": "white",
           "landcolor": "#E5ECF6",
           "showlakes": true,
           "showland": true,
           "subunitcolor": "white"
          },
          "hoverlabel": {
           "align": "left"
          },
          "hovermode": "closest",
          "mapbox": {
           "style": "light"
          },
          "paper_bgcolor": "white",
          "plot_bgcolor": "#E5ECF6",
          "polar": {
           "angularaxis": {
            "gridcolor": "white",
            "linecolor": "white",
            "ticks": ""
           },
           "bgcolor": "#E5ECF6",
           "radialaxis": {
            "gridcolor": "white",
            "linecolor": "white",
            "ticks": ""
           }
          },
          "scene": {
           "xaxis": {
            "backgroundcolor": "#E5ECF6",
            "gridcolor": "white",
            "gridwidth": 2,
            "linecolor": "white",
            "showbackground": true,
            "ticks": "",
            "zerolinecolor": "white"
           },
           "yaxis": {
            "backgroundcolor": "#E5ECF6",
            "gridcolor": "white",
            "gridwidth": 2,
            "linecolor": "white",
            "showbackground": true,
            "ticks": "",
            "zerolinecolor": "white"
           },
           "zaxis": {
            "backgroundcolor": "#E5ECF6",
            "gridcolor": "white",
            "gridwidth": 2,
            "linecolor": "white",
            "showbackground": true,
            "ticks": "",
            "zerolinecolor": "white"
           }
          },
          "shapedefaults": {
           "line": {
            "color": "#2a3f5f"
           }
          },
          "ternary": {
           "aaxis": {
            "gridcolor": "white",
            "linecolor": "white",
            "ticks": ""
           },
           "baxis": {
            "gridcolor": "white",
            "linecolor": "white",
            "ticks": ""
           },
           "bgcolor": "#E5ECF6",
           "caxis": {
            "gridcolor": "white",
            "linecolor": "white",
            "ticks": ""
           }
          },
          "title": {
           "x": 0.05
          },
          "xaxis": {
           "automargin": true,
           "gridcolor": "white",
           "linecolor": "white",
           "ticks": "",
           "title": {
            "standoff": 15
           },
           "zerolinecolor": "white",
           "zerolinewidth": 2
          },
          "yaxis": {
           "automargin": true,
           "gridcolor": "white",
           "linecolor": "white",
           "ticks": "",
           "title": {
            "standoff": 15
           },
           "zerolinecolor": "white",
           "zerolinewidth": 2
          }
         }
        },
        "title": {},
        "width": 600,
        "xaxis": {
         "dtick": 15,
         "range": [
          130,
          260
         ],
         "ticks": "outside",
         "title": {
          "text": "Battery energy density [Wh/kg]"
         },
         "type": "linear"
        },
        "yaxis": {
         "range": [
          10,
          41
         ],
         "ticks": "outside",
         "title": {
          "text": "Hover endurance (min)"
         },
         "type": "linear"
        }
       }
      },
      "image/png": "[encoded data removed]",
      "text/html": [
       "<div>                            <div id=\"1e752e55-5b3c-415c-b0aa-94da441d4698\" class=\"plotly-graph-div\" style=\"height:400px; width:600px;\"></div>            <script type=\"text/javascript\">                require([\"plotly\"], function(Plotly) {                    window.PLOTLYENV=window.PLOTLYENV || {};                                    if (document.getElementById(\"1e752e55-5b3c-415c-b0aa-94da441d4698\")) {                    Plotly.newPlot(                        \"1e752e55-5b3c-415c-b0aa-94da441d4698\",                        [{\"colorbar\":{\"ticks\":\"outside\",\"title\":{\"font\":{\"size\":16},\"side\":\"right\",\"text\":\"Total UAV mass [kg]\"}},\"colorscale\":[[0.0,\"rgb(5,48,97)\"],[0.1,\"rgb(33,102,172)\"],[0.2,\"rgb(67,147,195)\"],[0.3,\"rgb(146,197,222)\"],[0.4,\"rgb(209,229,240)\"],[0.5,\"rgb(247,247,247)\"],[0.6,\"rgb(253,219,199)\"],[0.7,\"rgb(244,165,130)\"],[0.8,\"rgb(214,96,77)\"],[0.9,\"rgb(178,24,43)\"],[1.0,\"rgb(103,0,31)\"]],\"connectgaps\":true,\"contours\":{\"end\":12,\"showlabels\":true,\"size\":0.5,\"start\":4.0},\"line\":{\"smoothing\":0.0},\"x\":[130,138,146,156,167,180,195,213,234,261],\"y\":[10.0,13.333333333333334,16.666666666666668,20.0,23.333333333333336,26.666666666666668,30.0,33.333333333333336,36.66666666666667,40.0],\"z\":[[5.491207220455868,5.322243997986277,5.163083636797512,5.0128001403497,4.870580784289241,4.735774987956694,4.608153342270794,4.4872605996916874,4.372410170774066,4.263217606081584],[6.355544520875271,6.0831575276562075,5.832090400888131,5.59945023688733,5.382990849877197,5.182058026169081,4.995123068987571,4.820595135091909,4.657536216196248,4.505206994301867],[7.536279031543087,7.084974854128424,6.685942103704699,6.330228265261232,6.009708839930557,5.718510415764224,5.452003100233921,5.207460225353115,4.983344285380751,4.776966387670995],[9.327503625188221,8.510482008683049,7.840390789352113,7.276272454317291,6.791231897571372,6.3682940042196305,5.994228400591162,5.659628047937893,5.357369585192275,5.083985181299338],[12.700209594069108,10.843882432098862,9.556499813317675,8.586008478327622,7.815840092991139,7.18294797627015,6.648823858256311,6.189693200973621,5.788230046869135,5.432331195770873],[null,16.39958163401812,12.640036624208069,10.619074982045099,9.260997029453339,8.255815219208317,7.467921239909777,6.825703779547623,6.2879164834010375,5.82733914517739],[null,null,null,14.716894250864495,11.586003961182925,9.78221368703173,8.542637459720016,7.61401909689125,6.880633252771606,6.279435441341841],[null,null,null,null,16.900174552414523,12.280424224406637,10.061901570867143,8.63370624716562,7.60218770485853,6.806189195910832],[null,null,null,null,null,18.52771858054983,12.52027531150406,10.042421482407134,8.513731716247696,7.433699621092946],[null,null,null,null,null,null,18.44894544897175,12.223351501257095,9.726954928745588,8.201564844257598]],\"type\":\"contour\"}],                        {\"template\":{\"data\":{\"histogram2dcontour\":[{\"type\":\"histogram2dcontour\",\"colorbar\":{\"outlinewidth\":0,\"ticks\":\"\"},\"colorscale\":[[0.0,\"#0d0887\"],[0.1111111111111111,\"#46039f\"],[0.2222222222222222,\"#7201a8\"],[0.3333333333333333,\"#9c179e\"],[0.4444444444444444,\"#bd3786\"],[0.5555555555555556,\"#d8576b\"],[0.6666666666666666,\"#ed7953\"],[0.7777777777777778,\"#fb9f3a\"],[0.8888888888888888,\"#fdca26\"],[1.0,\"#f0f921\"]]}],\"choropleth\":[{\"type\":\"choropleth\",\"colorbar\":{\"outlinewidth\":0,\"ticks\":\"\"}}],\"histogram2d\":[{\"type\":\"histogram2d\",\"colorbar\":{\"outlinewidth\":0,\"ticks\":\"\"},\"colorscale\":[[0.0,\"#0d0887\"],[0.1111111111111111,\"#46039f\"],[0.2222222222222222,\"#7201a8\"],[0.3333333333333333,\"#9c179e\"],[0.4444444444444444,\"#bd3786\"],[0.5555555555555556,\"#d8576b\"],[0.6666666666666666,\"#ed7953\"],[0.7777777777777778,\"#fb9f3a\"],[0.8888888888888888,\"#fdca26\"],[1.0,\"#f0f921\"]]}],\"heatmap\":[{\"type\":\"heatmap\",\"colorbar\":{\"outlinewidth\":0,\"ticks\":\"\"},\"colorscale\":[[0.0,\"#0d0887\"],[0.1111111111111111,\"#46039f\"],[0.2222222222222222,\"#7201a8\"],[0.3333333333333333,\"#9c179e\"],[0.4444444444444444,\"#bd3786\"],[0.5555555555555556,\"#d8576b\"],[0.6666666666666666,\"#ed7953\"],[0.7777777777777778,\"#fb9f3a\"],[0.8888888888888888,\"#fdca26\"],[1.0,\"#f0f921\"]]}],\"heatmapgl\":[{\"type\":\"heatmapgl\",\"colorbar\":{\"outlinewidth\":0,\"ticks\":\"\"},\"colorscale\":[[0.0,\"#0d0887\"],[0.1111111111111111,\"#46039f\"],[0.2222222222222222,\"#7201a8\"],[0.3333333333333333,\"#9c179e\"],[0.4444444444444444,\"#bd3786\"],[0.5555555555555556,\"#d8576b\"],[0.6666666666666666,\"#ed7953\"],[0.7777777777777778,\"#fb9f3a\"],[0.8888888888888888,\"#fdca26\"],[1.0,\"#f0f921\"]]}],\"contourcarpet\":[{\"type\":\"contourcarpet\",\"colorbar\":{\"outlinewidth\":0,\"ticks\":\"\"}}],\"contour\":[{\"type\":\"contour\",\"colorbar\":{\"outlinewidth\":0,\"ticks\":\"\"},\"colorscale\":[[0.0,\"#0d0887\"],[0.1111111111111111,\"#46039f\"],[0.2222222222222222,\"#7201a8\"],[0.3333333333333333,\"#9c179e\"],[0.4444444444444444,\"#bd3786\"],[0.5555555555555556,\"#d8576b\"],[0.6666666666666666,\"#ed7953\"],[0.7777777777777778,\"#fb9f3a\"],[0.8888888888888888,\"#fdca26\"],[1.0,\"#f0f921\"]]}],\"surface\":[{\"type\":\"surface\",\"colorbar\":{\"outlinewidth\":0,\"ticks\":\"\"},\"colorscale\":[[0.0,\"#0d0887\"],[0.1111111111111111,\"#46039f\"],[0.2222222222222222,\"#7201a8\"],[0.3333333333333333,\"#9c179e\"],[0.4444444444444444,\"#bd3786\"],[0.5555555555555556,\"#d8576b\"],[0.6666666666666666,\"#ed7953\"],[0.7777777777777778,\"#fb9f3a\"],[0.8888888888888888,\"#fdca26\"],[1.0,\"#f0f921\"]]}],\"mesh3d\":[{\"type\":\"mesh3d\",\"colorbar\":{\"outlinewidth\":0,\"ticks\":\"\"}}],\"scatter\":[{\"fillpattern\":{\"fillmode\":\"overlay\",\"size\":10,\"solidity\":0.2},\"type\":\"scatter\"}],\"parcoords\":[{\"type\":\"parcoords\",\"line\":{\"colorbar\":{\"outlinewidth\":0,\"ticks\":\"\"}}}],\"scatterpolargl\":[{\"type\":\"scatterpolargl\",\"marker\":{\"colorbar\":{\"outlinewidth\":0,\"ticks\":\"\"}}}],\"bar\":[{\"error_x\":{\"color\":\"#2a3f5f\"},\"error_y\":{\"color\":\"#2a3f5f\"},\"marker\":{\"line\":{\"color\":\"#E5ECF6\",\"width\":0.5},\"pattern\":{\"fillmode\":\"overlay\",\"size\":10,\"solidity\":0.2}},\"type\":\"bar\"}],\"scattergeo\":[{\"type\":\"scattergeo\",\"marker\":{\"colorbar\":{\"outlinewidth\":0,\"ticks\":\"\"}}}],\"scatterpolar\":[{\"type\":\"scatterpolar\",\"marker\":{\"colorbar\":{\"outlinewidth\":0,\"ticks\":\"\"}}}],\"histogram\":[{\"marker\":{\"pattern\":{\"fillmode\":\"overlay\",\"size\":10,\"solidity\":0.2}},\"type\":\"histogram\"}],\"scattergl\":[{\"type\":\"scattergl\",\"marker\":{\"colorbar\":{\"outlinewidth\":0,\"ticks\":\"\"}}}],\"scatter3d\":[{\"type\":\"scatter3d\",\"line\":{\"colorbar\":{\"outlinewidth\":0,\"ticks\":\"\"}},\"marker\":{\"colorbar\":{\"outlinewidth\":0,\"ticks\":\"\"}}}],\"scattermapbox\":[{\"type\":\"scattermapbox\",\"marker\":{\"colorbar\":{\"outlinewidth\":0,\"ticks\":\"\"}}}],\"scatterternary\":[{\"type\":\"scatterternary\",\"marker\":{\"colorbar\":{\"outlinewidth\":0,\"ticks\":\"\"}}}],\"scattercarpet\":[{\"type\":\"scattercarpet\",\"marker\":{\"colorbar\":{\"outlinewidth\":0,\"ticks\":\"\"}}}],\"carpet\":[{\"aaxis\":{\"endlinecolor\":\"#2a3f5f\",\"gridcolor\":\"white\",\"linecolor\":\"white\",\"minorgridcolor\":\"white\",\"startlinecolor\":\"#2a3f5f\"},\"baxis\":{\"endlinecolor\":\"#2a3f5f\",\"gridcolor\":\"white\",\"linecolor\":\"white\",\"minorgridcolor\":\"white\",\"startlinecolor\":\"#2a3f5f\"},\"type\":\"carpet\"}],\"table\":[{\"cells\":{\"fill\":{\"color\":\"#EBF0F8\"},\"line\":{\"color\":\"white\"}},\"header\":{\"fill\":{\"color\":\"#C8D4E3\"},\"line\":{\"color\":\"white\"}},\"type\":\"table\"}],\"barpolar\":[{\"marker\":{\"line\":{\"color\":\"#E5ECF6\",\"width\":0.5},\"pattern\":{\"fillmode\":\"overlay\",\"size\":10,\"solidity\":0.2}},\"type\":\"barpolar\"}],\"pie\":[{\"automargin\":true,\"type\":\"pie\"}]},\"layout\":{\"autotypenumbers\":\"strict\",\"colorway\":[\"#636efa\",\"#EF553B\",\"#00cc96\",\"#ab63fa\",\"#FFA15A\",\"#19d3f3\",\"#FF6692\",\"#B6E880\",\"#FF97FF\",\"#FECB52\"],\"font\":{\"color\":\"#2a3f5f\"},\"hovermode\":\"closest\",\"hoverlabel\":{\"align\":\"left\"},\"paper_bgcolor\":\"white\",\"plot_bgcolor\":\"#E5ECF6\",\"polar\":{\"bgcolor\":\"#E5ECF6\",\"angularaxis\":{\"gridcolor\":\"white\",\"linecolor\":\"white\",\"ticks\":\"\"},\"radialaxis\":{\"gridcolor\":\"white\",\"linecolor\":\"white\",\"ticks\":\"\"}},\"ternary\":{\"bgcolor\":\"#E5ECF6\",\"aaxis\":{\"gridcolor\":\"white\",\"linecolor\":\"white\",\"ticks\":\"\"},\"baxis\":{\"gridcolor\":\"white\",\"linecolor\":\"white\",\"ticks\":\"\"},\"caxis\":{\"gridcolor\":\"white\",\"linecolor\":\"white\",\"ticks\":\"\"}},\"coloraxis\":{\"colorbar\":{\"outlinewidth\":0,\"ticks\":\"\"}},\"colorscale\":{\"sequential\":[[0.0,\"#0d0887\"],[0.1111111111111111,\"#46039f\"],[0.2222222222222222,\"#7201a8\"],[0.3333333333333333,\"#9c179e\"],[0.4444444444444444,\"#bd3786\"],[0.5555555555555556,\"#d8576b\"],[0.6666666666666666,\"#ed7953\"],[0.7777777777777778,\"#fb9f3a\"],[0.8888888888888888,\"#fdca26\"],[1.0,\"#f0f921\"]],\"sequentialminus\":[[0.0,\"#0d0887\"],[0.1111111111111111,\"#46039f\"],[0.2222222222222222,\"#7201a8\"],[0.3333333333333333,\"#9c179e\"],[0.4444444444444444,\"#bd3786\"],[0.5555555555555556,\"#d8576b\"],[0.6666666666666666,\"#ed7953\"],[0.7777777777777778,\"#fb9f3a\"],[0.8888888888888888,\"#fdca26\"],[1.0,\"#f0f921\"]],\"diverging\":[[0,\"#8e0152\"],[0.1,\"#c51b7d\"],[0.2,\"#de77ae\"],[0.3,\"#f1b6da\"],[0.4,\"#fde0ef\"],[0.5,\"#f7f7f7\"],[0.6,\"#e6f5d0\"],[0.7,\"#b8e186\"],[0.8,\"#7fbc41\"],[0.9,\"#4d9221\"],[1,\"#276419\"]]},\"xaxis\":{\"gridcolor\":\"white\",\"linecolor\":\"white\",\"ticks\":\"\",\"title\":{\"standoff\":15},\"zerolinecolor\":\"white\",\"automargin\":true,\"zerolinewidth\":2},\"yaxis\":{\"gridcolor\":\"white\",\"linecolor\":\"white\",\"ticks\":\"\",\"title\":{\"standoff\":15},\"zerolinecolor\":\"white\",\"automargin\":true,\"zerolinewidth\":2},\"scene\":{\"xaxis\":{\"backgroundcolor\":\"#E5ECF6\",\"gridcolor\":\"white\",\"linecolor\":\"white\",\"showbackground\":true,\"ticks\":\"\",\"zerolinecolor\":\"white\",\"gridwidth\":2},\"yaxis\":{\"backgroundcolor\":\"#E5ECF6\",\"gridcolor\":\"white\",\"linecolor\":\"white\",\"showbackground\":true,\"ticks\":\"\",\"zerolinecolor\":\"white\",\"gridwidth\":2},\"zaxis\":{\"backgroundcolor\":\"#E5ECF6\",\"gridcolor\":\"white\",\"linecolor\":\"white\",\"showbackground\":true,\"ticks\":\"\",\"zerolinecolor\":\"white\",\"gridwidth\":2}},\"shapedefaults\":{\"line\":{\"color\":\"#2a3f5f\"}},\"annotationdefaults\":{\"arrowcolor\":\"#2a3f5f\",\"arrowhead\":0,\"arrowwidth\":1},\"geo\":{\"bgcolor\":\"white\",\"landcolor\":\"#E5ECF6\",\"subunitcolor\":\"white\",\"showland\":true,\"showlakes\":true,\"lakecolor\":\"white\"},\"title\":{\"x\":0.05},\"mapbox\":{\"style\":\"light\"}}},\"font\":{\"size\":14},\"margin\":{\"l\":10,\"r\":10,\"t\":0,\"b\":0},\"title\":{},\"width\":600,\"height\":400,\"paper_bgcolor\":\"rgba(0,0,0,0)\",\"plot_bgcolor\":\"rgba(0,0,0,0)\",\"xaxis\":{\"title\":{\"text\":\"Battery energy density [Wh/kg]\"},\"ticks\":\"outside\",\"dtick\":15,\"range\":[130,260]},\"yaxis\":{\"title\":{\"text\":\"Hover endurance (min)\"},\"ticks\":\"outside\",\"range\":[10,41]}},                        {\"responsive\": true}                    ).then(function(){\n",
       "                            \n",
       "var gd = document.getElementById('1e752e55-5b3c-415c-b0aa-94da441d4698');\n",
       "var x = new MutationObserver(function (mutations, observer) {{\n",
       "        var display = window.getComputedStyle(gd).display;\n",
       "        if (!display || display === 'none') {{\n",
       "            console.log([gd, 'removed!']);\n",
       "            Plotly.purge(gd);\n",
       "            observer.disconnect();\n",
       "        }}\n",
       "}});\n",
       "\n",
       "// Listen for the removal of the full notebook cells\n",
       "var notebookContainer = gd.closest('#notebook-container');\n",
       "if (notebookContainer) {{\n",
       "    x.observe(notebookContainer, {childList: true});\n",
       "}}\n",
       "\n",
       "// Listen for the clearing of the current output cell\n",
       "var outputEl = gd.closest('.output');\n",
       "if (outputEl) {{\n",
       "    x.observe(outputEl, {childList: true});\n",
       "}}\n",
       "\n",
       "                        })                };                });            </script>        </div>"
      ]
     },
     "metadata": {},
     "output_type": "display_data"
    }
   ],
   "source": [
    "import plotly.graph_objects as go\n",
    "import plotly\n",
    "\n",
    "df[\"data:propulsion:multirotor:battery:energy:density\"] = df[\"data:propulsion:multirotor:battery:energy\"] / 3.6 / df[\"data:weight:propulsion:multirotor:battery:mass\"]\n",
    "#df[\"data:propulsion:multirotor:battery:energy:density:reference\"] = df[\"data:propulsion:multirotor:battery:energy:reference\"] / 3.6 / df[\"data:weight:propulsion:multirotor:battery:mass:reference\"]\n",
    "df[\"data:propulsion:multirotor:battery:energy:density\"] = df[\"data:propulsion:multirotor:battery:energy:density\"].astype(int)\n",
    "\n",
    "# Set variables to plot\n",
    "#x_name = list(x_dict.keys())[0]\n",
    "#y_name = list(x_dict.keys())[1]\n",
    "x_name = \"data:propulsion:multirotor:battery:energy:density\"\n",
    "y_name = \"mission:sizing:main_route:hover:duration\"#  \"data:performance:endurance:hover\"\n",
    "z_name = \"data:weight:mtow\"\n",
    "\n",
    "# Reshape data into a grid\n",
    "x_vals = sorted(df[x_name].unique())\n",
    "y_vals = sorted(df[y_name].unique())\n",
    "#y_vals = [val / 1000 for val in y_vals]\n",
    "z_grid = df.pivot(index=y_name, columns=x_name, values=z_name).values\n",
    "\n",
    "# Create the contour plot    \n",
    "fig = go.Figure()\n",
    "fig.add_trace(go.Contour(\n",
    "    x=x_vals, y=y_vals, z=z_grid, \n",
    "    connectgaps=True,\n",
    "    line_smoothing=0.0,\n",
    "    contours=dict(start=4.0, end=12, size=0.5, showlabels=True),\n",
    "    #contours=dict(start=df[z_name].min(), end=df[z_name].max(), size=0.00000025, showlabels=True),\n",
    "    #contours_coloring='heatmap', # can also be 'lines', or 'none'\n",
    "    colorbar=dict(\n",
    "        title='Total UAV mass [kg]', # title here\n",
    "        titleside='right',\n",
    "        titlefont=dict(size=16),\n",
    "        ticks='outside'\n",
    "    ),\n",
    "    colorscale='RdBu_r' # Blackbody,Bluered,Blues,Cividis,Earth,Electric,Greens,Greys,Hot,Jet,Picnic,Portland,Rainbow,RdBu,Reds,Viridis,YlGnBu,YlOrRd. (add '_r' for reversed)\n",
    "))\n",
    "\n",
    "#fig.add_trace(go.Scatter(x=df[x_name], y=df[y_name], mode='markers'))\n",
    "\n",
    "# Update layout\n",
    "fig.update_layout(title=None, width=600, height=400, paper_bgcolor='rgba(0,0,0,0)',  plot_bgcolor='rgba(0,0,0,0)', font=dict(size=14),\n",
    "                 margin=dict(l=10, r=10, t=0, b=0))\n",
    "fig.update_xaxes(title='Battery energy density [Wh/kg]', ticks='outside', dtick=15, range=[130,260])\n",
    "fig.update_yaxes(title='Hover endurance (min)', ticks='outside', range=[10,41])\n",
    "\n",
    "# Display the plot\n",
    "fig.show()\n",
    "plotly.io.write_image(fig, 'output_file.pdf', format='pdf')"
   ]
  },
  {
   "cell_type": "code",
   "execution_count": 131,
   "id": "57c46ed6-b675-4835-a230-d1df7c44f5f8",
   "metadata": {
    "tags": []
   },
   "outputs": [
    {
     "data": {
      "text/html": [
       "<div>\n",
       "<style scoped>\n",
       "    .dataframe tbody tr th:only-of-type {\n",
       "        vertical-align: middle;\n",
       "    }\n",
       "\n",
       "    .dataframe tbody tr th {\n",
       "        vertical-align: top;\n",
       "    }\n",
       "\n",
       "    .dataframe thead th {\n",
       "        text-align: right;\n",
       "    }\n",
       "</style>\n",
       "<table border=\"1\" class=\"dataframe\">\n",
       "  <thead>\n",
       "    <tr style=\"text-align: right;\">\n",
       "      <th></th>\n",
       "      <th>data:weight:propulsion:multirotor:battery:mass:reference</th>\n",
       "      <th>mission:sizing:main_route:hover:duration</th>\n",
       "      <th>data:performance:endurance:hover</th>\n",
       "      <th>data:performance:range:cruise</th>\n",
       "      <th>data:propulsion:multirotor:battery:energy</th>\n",
       "      <th>data:weight:mtow</th>\n",
       "      <th>data:weight:propulsion:multirotor:battery:mass</th>\n",
       "      <th>optim_failed</th>\n",
       "      <th>data:propulsion:multirotor:battery:energy:density</th>\n",
       "    </tr>\n",
       "  </thead>\n",
       "  <tbody>\n",
       "    <tr>\n",
       "      <th>0</th>\n",
       "      <td>0.500000</td>\n",
       "      <td>10.000000</td>\n",
       "      <td>13.967163</td>\n",
       "      <td>9399.306698</td>\n",
       "      <td>596.228812</td>\n",
       "      <td>4.263218</td>\n",
       "      <td>0.634381</td>\n",
       "      <td>0.0</td>\n",
       "      <td>261</td>\n",
       "    </tr>\n",
       "    <tr>\n",
       "      <th>1</th>\n",
       "      <td>0.555556</td>\n",
       "      <td>10.000000</td>\n",
       "      <td>13.955677</td>\n",
       "      <td>9462.412633</td>\n",
       "      <td>610.454984</td>\n",
       "      <td>4.372410</td>\n",
       "      <td>0.721686</td>\n",
       "      <td>0.0</td>\n",
       "      <td>234</td>\n",
       "    </tr>\n",
       "    <tr>\n",
       "      <th>2</th>\n",
       "      <td>0.611111</td>\n",
       "      <td>10.000000</td>\n",
       "      <td>13.944101</td>\n",
       "      <td>9526.967745</td>\n",
       "      <td>625.403079</td>\n",
       "      <td>4.487261</td>\n",
       "      <td>0.813294</td>\n",
       "      <td>0.0</td>\n",
       "      <td>213</td>\n",
       "    </tr>\n",
       "    <tr>\n",
       "      <th>3</th>\n",
       "      <td>0.666667</td>\n",
       "      <td>10.000000</td>\n",
       "      <td>13.931764</td>\n",
       "      <td>9596.983901</td>\n",
       "      <td>641.090281</td>\n",
       "      <td>4.608153</td>\n",
       "      <td>0.909484</td>\n",
       "      <td>0.0</td>\n",
       "      <td>195</td>\n",
       "    </tr>\n",
       "    <tr>\n",
       "      <th>4</th>\n",
       "      <td>0.722222</td>\n",
       "      <td>10.000000</td>\n",
       "      <td>13.920130</td>\n",
       "      <td>9663.880977</td>\n",
       "      <td>657.671558</td>\n",
       "      <td>4.735775</td>\n",
       "      <td>1.010758</td>\n",
       "      <td>0.0</td>\n",
       "      <td>180</td>\n",
       "    </tr>\n",
       "    <tr>\n",
       "      <th>5</th>\n",
       "      <td>0.777778</td>\n",
       "      <td>10.000000</td>\n",
       "      <td>13.907845</td>\n",
       "      <td>9734.688971</td>\n",
       "      <td>674.346216</td>\n",
       "      <td>4.870581</td>\n",
       "      <td>1.116107</td>\n",
       "      <td>0.0</td>\n",
       "      <td>167</td>\n",
       "    </tr>\n",
       "    <tr>\n",
       "      <th>6</th>\n",
       "      <td>0.833333</td>\n",
       "      <td>10.000000</td>\n",
       "      <td>13.893756</td>\n",
       "      <td>9814.229153</td>\n",
       "      <td>689.175006</td>\n",
       "      <td>5.012800</td>\n",
       "      <td>1.222125</td>\n",
       "      <td>0.0</td>\n",
       "      <td>156</td>\n",
       "    </tr>\n",
       "    <tr>\n",
       "      <th>7</th>\n",
       "      <td>0.888889</td>\n",
       "      <td>10.000000</td>\n",
       "      <td>13.880126</td>\n",
       "      <td>9893.390607</td>\n",
       "      <td>705.732321</td>\n",
       "      <td>5.163084</td>\n",
       "      <td>1.334918</td>\n",
       "      <td>0.0</td>\n",
       "      <td>146</td>\n",
       "    </tr>\n",
       "    <tr>\n",
       "      <th>8</th>\n",
       "      <td>0.944444</td>\n",
       "      <td>10.000000</td>\n",
       "      <td>13.866601</td>\n",
       "      <td>9973.658042</td>\n",
       "      <td>723.584645</td>\n",
       "      <td>5.322244</td>\n",
       "      <td>1.454230</td>\n",
       "      <td>0.0</td>\n",
       "      <td>138</td>\n",
       "    </tr>\n",
       "    <tr>\n",
       "      <th>9</th>\n",
       "      <td>1.000000</td>\n",
       "      <td>10.000000</td>\n",
       "      <td>13.853147</td>\n",
       "      <td>10055.211744</td>\n",
       "      <td>742.818025</td>\n",
       "      <td>5.491207</td>\n",
       "      <td>1.580701</td>\n",
       "      <td>0.0</td>\n",
       "      <td>130</td>\n",
       "    </tr>\n",
       "    <tr>\n",
       "      <th>10</th>\n",
       "      <td>0.500000</td>\n",
       "      <td>13.333333</td>\n",
       "      <td>17.275669</td>\n",
       "      <td>11816.967150</td>\n",
       "      <td>777.816516</td>\n",
       "      <td>4.505207</td>\n",
       "      <td>0.827588</td>\n",
       "      <td>0.0</td>\n",
       "      <td>261</td>\n",
       "    </tr>\n",
       "    <tr>\n",
       "      <th>11</th>\n",
       "      <td>0.555556</td>\n",
       "      <td>13.333333</td>\n",
       "      <td>17.260535</td>\n",
       "      <td>11926.276560</td>\n",
       "      <td>802.483149</td>\n",
       "      <td>4.657536</td>\n",
       "      <td>0.948704</td>\n",
       "      <td>0.0</td>\n",
       "      <td>234</td>\n",
       "    </tr>\n",
       "    <tr>\n",
       "      <th>12</th>\n",
       "      <td>0.611111</td>\n",
       "      <td>13.333333</td>\n",
       "      <td>17.245819</td>\n",
       "      <td>12034.045946</td>\n",
       "      <td>828.544210</td>\n",
       "      <td>4.820595</td>\n",
       "      <td>1.077465</td>\n",
       "      <td>0.0</td>\n",
       "      <td>213</td>\n",
       "    </tr>\n",
       "    <tr>\n",
       "      <th>13</th>\n",
       "      <td>0.666667</td>\n",
       "      <td>13.333333</td>\n",
       "      <td>17.228967</td>\n",
       "      <td>12155.579524</td>\n",
       "      <td>852.529485</td>\n",
       "      <td>4.995123</td>\n",
       "      <td>1.209443</td>\n",
       "      <td>0.0</td>\n",
       "      <td>195</td>\n",
       "    </tr>\n",
       "    <tr>\n",
       "      <th>14</th>\n",
       "      <td>0.722222</td>\n",
       "      <td>13.333333</td>\n",
       "      <td>17.212010</td>\n",
       "      <td>12280.563582</td>\n",
       "      <td>878.273447</td>\n",
       "      <td>5.182058</td>\n",
       "      <td>1.349795</td>\n",
       "      <td>0.0</td>\n",
       "      <td>180</td>\n",
       "    </tr>\n",
       "    <tr>\n",
       "      <th>15</th>\n",
       "      <td>0.777778</td>\n",
       "      <td>13.333333</td>\n",
       "      <td>17.195201</td>\n",
       "      <td>12407.810156</td>\n",
       "      <td>906.546852</td>\n",
       "      <td>5.382991</td>\n",
       "      <td>1.500420</td>\n",
       "      <td>0.0</td>\n",
       "      <td>167</td>\n",
       "    </tr>\n",
       "    <tr>\n",
       "      <th>16</th>\n",
       "      <td>0.833333</td>\n",
       "      <td>13.333333</td>\n",
       "      <td>17.187587</td>\n",
       "      <td>12502.355484</td>\n",
       "      <td>931.920890</td>\n",
       "      <td>5.599450</td>\n",
       "      <td>1.652590</td>\n",
       "      <td>0.0</td>\n",
       "      <td>156</td>\n",
       "    </tr>\n",
       "    <tr>\n",
       "      <th>17</th>\n",
       "      <td>0.888889</td>\n",
       "      <td>13.333333</td>\n",
       "      <td>17.185309</td>\n",
       "      <td>12579.733077</td>\n",
       "      <td>954.968723</td>\n",
       "      <td>5.832090</td>\n",
       "      <td>1.806358</td>\n",
       "      <td>0.0</td>\n",
       "      <td>146</td>\n",
       "    </tr>\n",
       "    <tr>\n",
       "      <th>18</th>\n",
       "      <td>0.944444</td>\n",
       "      <td>13.333333</td>\n",
       "      <td>17.181602</td>\n",
       "      <td>12665.852749</td>\n",
       "      <td>980.932778</td>\n",
       "      <td>6.083158</td>\n",
       "      <td>1.971437</td>\n",
       "      <td>0.0</td>\n",
       "      <td>138</td>\n",
       "    </tr>\n",
       "    <tr>\n",
       "      <th>19</th>\n",
       "      <td>1.000000</td>\n",
       "      <td>13.333333</td>\n",
       "      <td>17.176138</td>\n",
       "      <td>12762.203481</td>\n",
       "      <td>1010.560633</td>\n",
       "      <td>6.355545</td>\n",
       "      <td>2.150451</td>\n",
       "      <td>0.0</td>\n",
       "      <td>130</td>\n",
       "    </tr>\n",
       "    <tr>\n",
       "      <th>20</th>\n",
       "      <td>0.500000</td>\n",
       "      <td>16.666667</td>\n",
       "      <td>20.583145</td>\n",
       "      <td>14324.701057</td>\n",
       "      <td>980.637579</td>\n",
       "      <td>4.776966</td>\n",
       "      <td>1.043388</td>\n",
       "      <td>0.0</td>\n",
       "      <td>261</td>\n",
       "    </tr>\n",
       "    <tr>\n",
       "      <th>21</th>\n",
       "      <td>0.555556</td>\n",
       "      <td>16.666667</td>\n",
       "      <td>20.563561</td>\n",
       "      <td>14496.591808</td>\n",
       "      <td>1015.887046</td>\n",
       "      <td>4.983344</td>\n",
       "      <td>1.200992</td>\n",
       "      <td>0.0</td>\n",
       "      <td>234</td>\n",
       "    </tr>\n",
       "    <tr>\n",
       "      <th>22</th>\n",
       "      <td>0.611111</td>\n",
       "      <td>16.666667</td>\n",
       "      <td>20.543283</td>\n",
       "      <td>14677.900679</td>\n",
       "      <td>1052.952201</td>\n",
       "      <td>5.207460</td>\n",
       "      <td>1.369292</td>\n",
       "      <td>0.0</td>\n",
       "      <td>213</td>\n",
       "    </tr>\n",
       "    <tr>\n",
       "      <th>23</th>\n",
       "      <td>0.666667</td>\n",
       "      <td>16.666667</td>\n",
       "      <td>20.525815</td>\n",
       "      <td>14850.951135</td>\n",
       "      <td>1092.306593</td>\n",
       "      <td>5.452003</td>\n",
       "      <td>1.549603</td>\n",
       "      <td>0.0</td>\n",
       "      <td>195</td>\n",
       "    </tr>\n",
       "    <tr>\n",
       "      <th>24</th>\n",
       "      <td>0.722222</td>\n",
       "      <td>16.666667</td>\n",
       "      <td>20.524231</td>\n",
       "      <td>14953.983102</td>\n",
       "      <td>1122.756962</td>\n",
       "      <td>5.718510</td>\n",
       "      <td>1.725535</td>\n",
       "      <td>0.0</td>\n",
       "      <td>180</td>\n",
       "    </tr>\n",
       "    <tr>\n",
       "      <th>25</th>\n",
       "      <td>0.777778</td>\n",
       "      <td>16.666667</td>\n",
       "      <td>20.520359</td>\n",
       "      <td>15072.699472</td>\n",
       "      <td>1158.810598</td>\n",
       "      <td>6.009709</td>\n",
       "      <td>1.917941</td>\n",
       "      <td>0.0</td>\n",
       "      <td>167</td>\n",
       "    </tr>\n",
       "    <tr>\n",
       "      <th>26</th>\n",
       "      <td>0.833333</td>\n",
       "      <td>16.666667</td>\n",
       "      <td>20.514150</td>\n",
       "      <td>15208.689197</td>\n",
       "      <td>1200.137331</td>\n",
       "      <td>6.330228</td>\n",
       "      <td>2.128222</td>\n",
       "      <td>0.0</td>\n",
       "      <td>156</td>\n",
       "    </tr>\n",
       "    <tr>\n",
       "      <th>27</th>\n",
       "      <td>0.888889</td>\n",
       "      <td>16.666667</td>\n",
       "      <td>20.505443</td>\n",
       "      <td>15363.039176</td>\n",
       "      <td>1248.596660</td>\n",
       "      <td>6.685942</td>\n",
       "      <td>2.361766</td>\n",
       "      <td>0.0</td>\n",
       "      <td>146</td>\n",
       "    </tr>\n",
       "    <tr>\n",
       "      <th>28</th>\n",
       "      <td>0.944444</td>\n",
       "      <td>16.666667</td>\n",
       "      <td>20.496720</td>\n",
       "      <td>15515.794596</td>\n",
       "      <td>1305.880031</td>\n",
       "      <td>7.084975</td>\n",
       "      <td>2.624502</td>\n",
       "      <td>0.0</td>\n",
       "      <td>138</td>\n",
       "    </tr>\n",
       "    <tr>\n",
       "      <th>29</th>\n",
       "      <td>1.000000</td>\n",
       "      <td>16.666667</td>\n",
       "      <td>20.483770</td>\n",
       "      <td>15708.308066</td>\n",
       "      <td>1372.349380</td>\n",
       "      <td>7.536279</td>\n",
       "      <td>2.920330</td>\n",
       "      <td>0.0</td>\n",
       "      <td>130</td>\n",
       "    </tr>\n",
       "    <tr>\n",
       "      <th>30</th>\n",
       "      <td>0.500000</td>\n",
       "      <td>20.000000</td>\n",
       "      <td>23.887648</td>\n",
       "      <td>16943.053804</td>\n",
       "      <td>1200.112957</td>\n",
       "      <td>5.083985</td>\n",
       "      <td>1.276907</td>\n",
       "      <td>0.0</td>\n",
       "      <td>261</td>\n",
       "    </tr>\n",
       "    <tr>\n",
       "      <th>31</th>\n",
       "      <td>0.555556</td>\n",
       "      <td>20.000000</td>\n",
       "      <td>23.864177</td>\n",
       "      <td>17193.939188</td>\n",
       "      <td>1253.611738</td>\n",
       "      <td>5.357370</td>\n",
       "      <td>1.482033</td>\n",
       "      <td>0.0</td>\n",
       "      <td>234</td>\n",
       "    </tr>\n",
       "    <tr>\n",
       "      <th>32</th>\n",
       "      <td>0.611111</td>\n",
       "      <td>20.000000</td>\n",
       "      <td>23.861102</td>\n",
       "      <td>17338.527559</td>\n",
       "      <td>1294.569304</td>\n",
       "      <td>5.659628</td>\n",
       "      <td>1.683498</td>\n",
       "      <td>0.0</td>\n",
       "      <td>213</td>\n",
       "    </tr>\n",
       "    <tr>\n",
       "      <th>33</th>\n",
       "      <td>0.666667</td>\n",
       "      <td>20.000000</td>\n",
       "      <td>23.856946</td>\n",
       "      <td>17496.694548</td>\n",
       "      <td>1342.348574</td>\n",
       "      <td>5.994228</td>\n",
       "      <td>1.904326</td>\n",
       "      <td>0.0</td>\n",
       "      <td>195</td>\n",
       "    </tr>\n",
       "    <tr>\n",
       "      <th>34</th>\n",
       "      <td>0.722222</td>\n",
       "      <td>20.000000</td>\n",
       "      <td>23.849613</td>\n",
       "      <td>17682.473555</td>\n",
       "      <td>1398.385801</td>\n",
       "      <td>6.368294</td>\n",
       "      <td>2.149142</td>\n",
       "      <td>0.0</td>\n",
       "      <td>180</td>\n",
       "    </tr>\n",
       "    <tr>\n",
       "      <th>35</th>\n",
       "      <td>0.777778</td>\n",
       "      <td>20.000000</td>\n",
       "      <td>23.839397</td>\n",
       "      <td>17894.439985</td>\n",
       "      <td>1466.422234</td>\n",
       "      <td>6.791232</td>\n",
       "      <td>2.427067</td>\n",
       "      <td>0.0</td>\n",
       "      <td>167</td>\n",
       "    </tr>\n",
       "    <tr>\n",
       "      <th>36</th>\n",
       "      <td>0.833333</td>\n",
       "      <td>20.000000</td>\n",
       "      <td>23.827451</td>\n",
       "      <td>18119.781117</td>\n",
       "      <td>1547.884510</td>\n",
       "      <td>7.276272</td>\n",
       "      <td>2.744887</td>\n",
       "      <td>0.0</td>\n",
       "      <td>156</td>\n",
       "    </tr>\n",
       "    <tr>\n",
       "      <th>37</th>\n",
       "      <td>0.888889</td>\n",
       "      <td>20.000000</td>\n",
       "      <td>23.810932</td>\n",
       "      <td>18397.574847</td>\n",
       "      <td>1646.162032</td>\n",
       "      <td>7.840391</td>\n",
       "      <td>3.113775</td>\n",
       "      <td>0.0</td>\n",
       "      <td>146</td>\n",
       "    </tr>\n",
       "    <tr>\n",
       "      <th>38</th>\n",
       "      <td>0.944444</td>\n",
       "      <td>20.000000</td>\n",
       "      <td>23.791212</td>\n",
       "      <td>18712.035937</td>\n",
       "      <td>1766.957003</td>\n",
       "      <td>8.510482</td>\n",
       "      <td>3.551155</td>\n",
       "      <td>0.0</td>\n",
       "      <td>138</td>\n",
       "    </tr>\n",
       "    <tr>\n",
       "      <th>39</th>\n",
       "      <td>1.000000</td>\n",
       "      <td>20.000000</td>\n",
       "      <td>23.767756</td>\n",
       "      <td>19072.273699</td>\n",
       "      <td>1918.909350</td>\n",
       "      <td>9.327504</td>\n",
       "      <td>4.083397</td>\n",
       "      <td>0.0</td>\n",
       "      <td>130</td>\n",
       "    </tr>\n",
       "    <tr>\n",
       "      <th>40</th>\n",
       "      <td>0.500000</td>\n",
       "      <td>23.333333</td>\n",
       "      <td>27.197904</td>\n",
       "      <td>19629.417482</td>\n",
       "      <td>1439.268481</td>\n",
       "      <td>5.432331</td>\n",
       "      <td>1.531366</td>\n",
       "      <td>0.0</td>\n",
       "      <td>261</td>\n",
       "    </tr>\n",
       "    <tr>\n",
       "      <th>41</th>\n",
       "      <td>0.555556</td>\n",
       "      <td>23.333333</td>\n",
       "      <td>27.195423</td>\n",
       "      <td>19814.271303</td>\n",
       "      <td>1493.493539</td>\n",
       "      <td>5.788230</td>\n",
       "      <td>1.765623</td>\n",
       "      <td>0.0</td>\n",
       "      <td>234</td>\n",
       "    </tr>\n",
       "    <tr>\n",
       "      <th>42</th>\n",
       "      <td>0.611111</td>\n",
       "      <td>23.333333</td>\n",
       "      <td>27.189017</td>\n",
       "      <td>20036.795355</td>\n",
       "      <td>1560.525186</td>\n",
       "      <td>6.189693</td>\n",
       "      <td>2.029356</td>\n",
       "      <td>0.0</td>\n",
       "      <td>213</td>\n",
       "    </tr>\n",
       "    <tr>\n",
       "      <th>43</th>\n",
       "      <td>0.666667</td>\n",
       "      <td>23.333333</td>\n",
       "      <td>27.178586</td>\n",
       "      <td>20300.276778</td>\n",
       "      <td>1642.620508</td>\n",
       "      <td>6.648824</td>\n",
       "      <td>2.330307</td>\n",
       "      <td>0.0</td>\n",
       "      <td>195</td>\n",
       "    </tr>\n",
       "    <tr>\n",
       "      <th>44</th>\n",
       "      <td>0.722222</td>\n",
       "      <td>23.333333</td>\n",
       "      <td>27.165590</td>\n",
       "      <td>20587.198457</td>\n",
       "      <td>1743.861314</td>\n",
       "      <td>7.182948</td>\n",
       "      <td>2.680094</td>\n",
       "      <td>0.0</td>\n",
       "      <td>180</td>\n",
       "    </tr>\n",
       "    <tr>\n",
       "      <th>45</th>\n",
       "      <td>0.777778</td>\n",
       "      <td>23.333333</td>\n",
       "      <td>27.147044</td>\n",
       "      <td>20946.391938</td>\n",
       "      <td>1869.090391</td>\n",
       "      <td>7.815840</td>\n",
       "      <td>3.093521</td>\n",
       "      <td>0.0</td>\n",
       "      <td>167</td>\n",
       "    </tr>\n",
       "    <tr>\n",
       "      <th>46</th>\n",
       "      <td>0.833333</td>\n",
       "      <td>23.333333</td>\n",
       "      <td>27.124306</td>\n",
       "      <td>21360.679202</td>\n",
       "      <td>2027.609054</td>\n",
       "      <td>8.586008</td>\n",
       "      <td>3.595590</td>\n",
       "      <td>0.0</td>\n",
       "      <td>156</td>\n",
       "    </tr>\n",
       "    <tr>\n",
       "      <th>47</th>\n",
       "      <td>0.888889</td>\n",
       "      <td>23.333333</td>\n",
       "      <td>27.096569</td>\n",
       "      <td>21845.795016</td>\n",
       "      <td>2234.623303</td>\n",
       "      <td>9.556500</td>\n",
       "      <td>4.226871</td>\n",
       "      <td>0.0</td>\n",
       "      <td>146</td>\n",
       "    </tr>\n",
       "    <tr>\n",
       "      <th>48</th>\n",
       "      <td>0.944444</td>\n",
       "      <td>23.333333</td>\n",
       "      <td>27.062754</td>\n",
       "      <td>22421.870859</td>\n",
       "      <td>2518.821571</td>\n",
       "      <td>10.843882</td>\n",
       "      <td>5.062220</td>\n",
       "      <td>0.0</td>\n",
       "      <td>138</td>\n",
       "    </tr>\n",
       "    <tr>\n",
       "      <th>49</th>\n",
       "      <td>1.000000</td>\n",
       "      <td>23.333333</td>\n",
       "      <td>27.018870</td>\n",
       "      <td>23159.195439</td>\n",
       "      <td>2943.373069</td>\n",
       "      <td>12.700210</td>\n",
       "      <td>6.263434</td>\n",
       "      <td>0.0</td>\n",
       "      <td>130</td>\n",
       "    </tr>\n",
       "    <tr>\n",
       "      <th>50</th>\n",
       "      <td>0.500000</td>\n",
       "      <td>26.666667</td>\n",
       "      <td>30.530169</td>\n",
       "      <td>22252.707726</td>\n",
       "      <td>1681.571226</td>\n",
       "      <td>5.827339</td>\n",
       "      <td>1.789174</td>\n",
       "      <td>0.0</td>\n",
       "      <td>261</td>\n",
       "    </tr>\n",
       "    <tr>\n",
       "      <th>51</th>\n",
       "      <td>0.555556</td>\n",
       "      <td>26.666667</td>\n",
       "      <td>30.522078</td>\n",
       "      <td>22543.636454</td>\n",
       "      <td>1768.892876</td>\n",
       "      <td>6.287916</td>\n",
       "      <td>2.091203</td>\n",
       "      <td>0.0</td>\n",
       "      <td>234</td>\n",
       "    </tr>\n",
       "    <tr>\n",
       "      <th>52</th>\n",
       "      <td>0.611111</td>\n",
       "      <td>26.666667</td>\n",
       "      <td>30.509141</td>\n",
       "      <td>22891.944689</td>\n",
       "      <td>1878.915638</td>\n",
       "      <td>6.825704</td>\n",
       "      <td>2.443401</td>\n",
       "      <td>0.0</td>\n",
       "      <td>213</td>\n",
       "    </tr>\n",
       "    <tr>\n",
       "      <th>53</th>\n",
       "      <td>0.666667</td>\n",
       "      <td>26.666667</td>\n",
       "      <td>30.492419</td>\n",
       "      <td>23285.009732</td>\n",
       "      <td>2018.082112</td>\n",
       "      <td>7.467921</td>\n",
       "      <td>2.862957</td>\n",
       "      <td>0.0</td>\n",
       "      <td>195</td>\n",
       "    </tr>\n",
       "    <tr>\n",
       "      <th>54</th>\n",
       "      <td>0.722222</td>\n",
       "      <td>26.666667</td>\n",
       "      <td>30.468911</td>\n",
       "      <td>23777.701355</td>\n",
       "      <td>2197.247687</td>\n",
       "      <td>8.255815</td>\n",
       "      <td>3.376891</td>\n",
       "      <td>0.0</td>\n",
       "      <td>180</td>\n",
       "    </tr>\n",
       "    <tr>\n",
       "      <th>55</th>\n",
       "      <td>0.777778</td>\n",
       "      <td>26.666667</td>\n",
       "      <td>30.439643</td>\n",
       "      <td>24361.179115</td>\n",
       "      <td>2435.297602</td>\n",
       "      <td>9.260997</td>\n",
       "      <td>4.030647</td>\n",
       "      <td>0.0</td>\n",
       "      <td>167</td>\n",
       "    </tr>\n",
       "    <tr>\n",
       "      <th>56</th>\n",
       "      <td>0.833333</td>\n",
       "      <td>26.666667</td>\n",
       "      <td>30.403091</td>\n",
       "      <td>25066.237747</td>\n",
       "      <td>2769.736633</td>\n",
       "      <td>10.619075</td>\n",
       "      <td>4.911616</td>\n",
       "      <td>0.0</td>\n",
       "      <td>156</td>\n",
       "    </tr>\n",
       "    <tr>\n",
       "      <th>57</th>\n",
       "      <td>0.888889</td>\n",
       "      <td>26.666667</td>\n",
       "      <td>30.354689</td>\n",
       "      <td>25984.562258</td>\n",
       "      <td>3287.277668</td>\n",
       "      <td>12.640037</td>\n",
       "      <td>6.218005</td>\n",
       "      <td>0.0</td>\n",
       "      <td>146</td>\n",
       "    </tr>\n",
       "    <tr>\n",
       "      <th>58</th>\n",
       "      <td>0.944444</td>\n",
       "      <td>26.666667</td>\n",
       "      <td>30.286784</td>\n",
       "      <td>27247.798478</td>\n",
       "      <td>4299.174332</td>\n",
       "      <td>16.399582</td>\n",
       "      <td>8.640297</td>\n",
       "      <td>0.0</td>\n",
       "      <td>138</td>\n",
       "    </tr>\n",
       "    <tr>\n",
       "      <th>60</th>\n",
       "      <td>0.500000</td>\n",
       "      <td>30.000000</td>\n",
       "      <td>33.856949</td>\n",
       "      <td>24988.401151</td>\n",
       "      <td>1958.577569</td>\n",
       "      <td>6.279435</td>\n",
       "      <td>2.083905</td>\n",
       "      <td>0.0</td>\n",
       "      <td>261</td>\n",
       "    </tr>\n",
       "    <tr>\n",
       "      <th>61</th>\n",
       "      <td>0.555556</td>\n",
       "      <td>30.000000</td>\n",
       "      <td>33.843988</td>\n",
       "      <td>25392.023710</td>\n",
       "      <td>2095.346689</td>\n",
       "      <td>6.880633</td>\n",
       "      <td>2.477140</td>\n",
       "      <td>0.0</td>\n",
       "      <td>234</td>\n",
       "    </tr>\n",
       "    <tr>\n",
       "      <th>62</th>\n",
       "      <td>0.611111</td>\n",
       "      <td>30.000000</td>\n",
       "      <td>33.822757</td>\n",
       "      <td>25923.721458</td>\n",
       "      <td>2272.858488</td>\n",
       "      <td>7.614019</td>\n",
       "      <td>2.955696</td>\n",
       "      <td>0.0</td>\n",
       "      <td>213</td>\n",
       "    </tr>\n",
       "    <tr>\n",
       "      <th>63</th>\n",
       "      <td>0.666667</td>\n",
       "      <td>30.000000</td>\n",
       "      <td>33.795017</td>\n",
       "      <td>26559.909759</td>\n",
       "      <td>2509.846243</td>\n",
       "      <td>8.542637</td>\n",
       "      <td>3.560599</td>\n",
       "      <td>0.0</td>\n",
       "      <td>195</td>\n",
       "    </tr>\n",
       "    <tr>\n",
       "      <th>64</th>\n",
       "      <td>0.722222</td>\n",
       "      <td>30.000000</td>\n",
       "      <td>33.759611</td>\n",
       "      <td>27333.910786</td>\n",
       "      <td>2840.501708</td>\n",
       "      <td>9.782214</td>\n",
       "      <td>4.365491</td>\n",
       "      <td>0.0</td>\n",
       "      <td>180</td>\n",
       "    </tr>\n",
       "    <tr>\n",
       "      <th>65</th>\n",
       "      <td>0.777778</td>\n",
       "      <td>30.000000</td>\n",
       "      <td>33.713834</td>\n",
       "      <td>28305.606632</td>\n",
       "      <td>3343.128441</td>\n",
       "      <td>11.586004</td>\n",
       "      <td>5.533193</td>\n",
       "      <td>0.0</td>\n",
       "      <td>167</td>\n",
       "    </tr>\n",
       "    <tr>\n",
       "      <th>66</th>\n",
       "      <td>0.833333</td>\n",
       "      <td>30.000000</td>\n",
       "      <td>33.648925</td>\n",
       "      <td>29662.125559</td>\n",
       "      <td>4258.856600</td>\n",
       "      <td>14.716894</td>\n",
       "      <td>7.552295</td>\n",
       "      <td>0.0</td>\n",
       "      <td>156</td>\n",
       "    </tr>\n",
       "    <tr>\n",
       "      <th>70</th>\n",
       "      <td>0.500000</td>\n",
       "      <td>33.333333</td>\n",
       "      <td>37.178848</td>\n",
       "      <td>27855.832034</td>\n",
       "      <td>2280.672519</td>\n",
       "      <td>6.806189</td>\n",
       "      <td>2.426611</td>\n",
       "      <td>0.0</td>\n",
       "      <td>261</td>\n",
       "    </tr>\n",
       "    <tr>\n",
       "      <th>71</th>\n",
       "      <td>0.555556</td>\n",
       "      <td>33.333333</td>\n",
       "      <td>37.157531</td>\n",
       "      <td>28459.549903</td>\n",
       "      <td>2491.827159</td>\n",
       "      <td>7.602188</td>\n",
       "      <td>2.945863</td>\n",
       "      <td>0.0</td>\n",
       "      <td>234</td>\n",
       "    </tr>\n",
       "    <tr>\n",
       "      <th>72</th>\n",
       "      <td>0.611111</td>\n",
       "      <td>33.333333</td>\n",
       "      <td>37.126683</td>\n",
       "      <td>29236.373171</td>\n",
       "      <td>2781.627662</td>\n",
       "      <td>8.633706</td>\n",
       "      <td>3.617315</td>\n",
       "      <td>0.0</td>\n",
       "      <td>213</td>\n",
       "    </tr>\n",
       "    <tr>\n",
       "      <th>73</th>\n",
       "      <td>0.666667</td>\n",
       "      <td>33.333333</td>\n",
       "      <td>37.086299</td>\n",
       "      <td>30203.415116</td>\n",
       "      <td>3202.900368</td>\n",
       "      <td>10.061902</td>\n",
       "      <td>4.543802</td>\n",
       "      <td>0.0</td>\n",
       "      <td>195</td>\n",
       "    </tr>\n",
       "    <tr>\n",
       "      <th>74</th>\n",
       "      <td>0.722222</td>\n",
       "      <td>33.333333</td>\n",
       "      <td>37.030360</td>\n",
       "      <td>31503.985031</td>\n",
       "      <td>3890.799184</td>\n",
       "      <td>12.280424</td>\n",
       "      <td>5.979665</td>\n",
       "      <td>0.0</td>\n",
       "      <td>180</td>\n",
       "    </tr>\n",
       "    <tr>\n",
       "      <th>75</th>\n",
       "      <td>0.777778</td>\n",
       "      <td>33.333333</td>\n",
       "      <td>36.947233</td>\n",
       "      <td>33407.998713</td>\n",
       "      <td>5407.894677</td>\n",
       "      <td>16.900175</td>\n",
       "      <td>8.950575</td>\n",
       "      <td>0.0</td>\n",
       "      <td>167</td>\n",
       "    </tr>\n",
       "    <tr>\n",
       "      <th>80</th>\n",
       "      <td>0.500000</td>\n",
       "      <td>36.666667</td>\n",
       "      <td>40.496796</td>\n",
       "      <td>30858.598008</td>\n",
       "      <td>2663.870107</td>\n",
       "      <td>7.433700</td>\n",
       "      <td>2.834329</td>\n",
       "      <td>0.0</td>\n",
       "      <td>261</td>\n",
       "    </tr>\n",
       "    <tr>\n",
       "      <th>81</th>\n",
       "      <td>0.555556</td>\n",
       "      <td>36.666667</td>\n",
       "      <td>40.464508</td>\n",
       "      <td>31757.123142</td>\n",
       "      <td>2991.805958</td>\n",
       "      <td>8.513732</td>\n",
       "      <td>3.536943</td>\n",
       "      <td>0.0</td>\n",
       "      <td>234</td>\n",
       "    </tr>\n",
       "    <tr>\n",
       "      <th>82</th>\n",
       "      <td>0.611111</td>\n",
       "      <td>36.666667</td>\n",
       "      <td>40.420926</td>\n",
       "      <td>32897.169777</td>\n",
       "      <td>3482.429720</td>\n",
       "      <td>10.042421</td>\n",
       "      <td>4.528660</td>\n",
       "      <td>0.0</td>\n",
       "      <td>213</td>\n",
       "    </tr>\n",
       "    <tr>\n",
       "      <th>83</th>\n",
       "      <td>0.666667</td>\n",
       "      <td>36.666667</td>\n",
       "      <td>40.359591</td>\n",
       "      <td>34458.918824</td>\n",
       "      <td>4320.668809</td>\n",
       "      <td>12.520275</td>\n",
       "      <td>6.129526</td>\n",
       "      <td>0.0</td>\n",
       "      <td>195</td>\n",
       "    </tr>\n",
       "    <tr>\n",
       "      <th>84</th>\n",
       "      <td>0.722222</td>\n",
       "      <td>36.666667</td>\n",
       "      <td>40.257962</td>\n",
       "      <td>36990.645459</td>\n",
       "      <td>6499.810401</td>\n",
       "      <td>18.527719</td>\n",
       "      <td>9.989385</td>\n",
       "      <td>0.0</td>\n",
       "      <td>180</td>\n",
       "    </tr>\n",
       "    <tr>\n",
       "      <th>90</th>\n",
       "      <td>0.500000</td>\n",
       "      <td>40.000000</td>\n",
       "      <td>43.807886</td>\n",
       "      <td>34092.021102</td>\n",
       "      <td>3131.959036</td>\n",
       "      <td>8.201565</td>\n",
       "      <td>3.332370</td>\n",
       "      <td>0.0</td>\n",
       "      <td>261</td>\n",
       "    </tr>\n",
       "    <tr>\n",
       "      <th>91</th>\n",
       "      <td>0.555556</td>\n",
       "      <td>40.000000</td>\n",
       "      <td>43.763521</td>\n",
       "      <td>35362.520030</td>\n",
       "      <td>3656.085285</td>\n",
       "      <td>9.726955</td>\n",
       "      <td>4.322261</td>\n",
       "      <td>0.0</td>\n",
       "      <td>234</td>\n",
       "    </tr>\n",
       "    <tr>\n",
       "      <th>92</th>\n",
       "      <td>0.611111</td>\n",
       "      <td>40.000000</td>\n",
       "      <td>43.699823</td>\n",
       "      <td>37126.074659</td>\n",
       "      <td>4564.162588</td>\n",
       "      <td>12.223352</td>\n",
       "      <td>5.935379</td>\n",
       "      <td>0.0</td>\n",
       "      <td>213</td>\n",
       "    </tr>\n",
       "    <tr>\n",
       "      <th>93</th>\n",
       "      <td>0.666667</td>\n",
       "      <td>40.000000</td>\n",
       "      <td>43.592784</td>\n",
       "      <td>40020.888194</td>\n",
       "      <td>7003.158282</td>\n",
       "      <td>18.448945</td>\n",
       "      <td>9.935046</td>\n",
       "      <td>0.0</td>\n",
       "      <td>195</td>\n",
       "    </tr>\n",
       "  </tbody>\n",
       "</table>\n",
       "</div>"
      ],
      "text/plain": [
       "    data:weight:propulsion:multirotor:battery:mass:reference  \\\n",
       "0                                            0.500000          \n",
       "1                                            0.555556          \n",
       "2                                            0.611111          \n",
       "3                                            0.666667          \n",
       "4                                            0.722222          \n",
       "5                                            0.777778          \n",
       "6                                            0.833333          \n",
       "7                                            0.888889          \n",
       "8                                            0.944444          \n",
       "9                                            1.000000          \n",
       "10                                           0.500000          \n",
       "11                                           0.555556          \n",
       "12                                           0.611111          \n",
       "13                                           0.666667          \n",
       "14                                           0.722222          \n",
       "15                                           0.777778          \n",
       "16                                           0.833333          \n",
       "17                                           0.888889          \n",
       "18                                           0.944444          \n",
       "19                                           1.000000          \n",
       "20                                           0.500000          \n",
       "21                                           0.555556          \n",
       "22                                           0.611111          \n",
       "23                                           0.666667          \n",
       "24                                           0.722222          \n",
       "25                                           0.777778          \n",
       "26                                           0.833333          \n",
       "27                                           0.888889          \n",
       "28                                           0.944444          \n",
       "29                                           1.000000          \n",
       "30                                           0.500000          \n",
       "31                                           0.555556          \n",
       "32                                           0.611111          \n",
       "33                                           0.666667          \n",
       "34                                           0.722222          \n",
       "35                                           0.777778          \n",
       "36                                           0.833333          \n",
       "37                                           0.888889          \n",
       "38                                           0.944444          \n",
       "39                                           1.000000          \n",
       "40                                           0.500000          \n",
       "41                                           0.555556          \n",
       "42                                           0.611111          \n",
       "43                                           0.666667          \n",
       "44                                           0.722222          \n",
       "45                                           0.777778          \n",
       "46                                           0.833333          \n",
       "47                                           0.888889          \n",
       "48                                           0.944444          \n",
       "49                                           1.000000          \n",
       "50                                           0.500000          \n",
       "51                                           0.555556          \n",
       "52                                           0.611111          \n",
       "53                                           0.666667          \n",
       "54                                           0.722222          \n",
       "55                                           0.777778          \n",
       "56                                           0.833333          \n",
       "57                                           0.888889          \n",
       "58                                           0.944444          \n",
       "60                                           0.500000          \n",
       "61                                           0.555556          \n",
       "62                                           0.611111          \n",
       "63                                           0.666667          \n",
       "64                                           0.722222          \n",
       "65                                           0.777778          \n",
       "66                                           0.833333          \n",
       "70                                           0.500000          \n",
       "71                                           0.555556          \n",
       "72                                           0.611111          \n",
       "73                                           0.666667          \n",
       "74                                           0.722222          \n",
       "75                                           0.777778          \n",
       "80                                           0.500000          \n",
       "81                                           0.555556          \n",
       "82                                           0.611111          \n",
       "83                                           0.666667          \n",
       "84                                           0.722222          \n",
       "90                                           0.500000          \n",
       "91                                           0.555556          \n",
       "92                                           0.611111          \n",
       "93                                           0.666667          \n",
       "\n",
       "    mission:sizing:main_route:hover:duration  \\\n",
       "0                                  10.000000   \n",
       "1                                  10.000000   \n",
       "2                                  10.000000   \n",
       "3                                  10.000000   \n",
       "4                                  10.000000   \n",
       "5                                  10.000000   \n",
       "6                                  10.000000   \n",
       "7                                  10.000000   \n",
       "8                                  10.000000   \n",
       "9                                  10.000000   \n",
       "10                                 13.333333   \n",
       "11                                 13.333333   \n",
       "12                                 13.333333   \n",
       "13                                 13.333333   \n",
       "14                                 13.333333   \n",
       "15                                 13.333333   \n",
       "16                                 13.333333   \n",
       "17                                 13.333333   \n",
       "18                                 13.333333   \n",
       "19                                 13.333333   \n",
       "20                                 16.666667   \n",
       "21                                 16.666667   \n",
       "22                                 16.666667   \n",
       "23                                 16.666667   \n",
       "24                                 16.666667   \n",
       "25                                 16.666667   \n",
       "26                                 16.666667   \n",
       "27                                 16.666667   \n",
       "28                                 16.666667   \n",
       "29                                 16.666667   \n",
       "30                                 20.000000   \n",
       "31                                 20.000000   \n",
       "32                                 20.000000   \n",
       "33                                 20.000000   \n",
       "34                                 20.000000   \n",
       "35                                 20.000000   \n",
       "36                                 20.000000   \n",
       "37                                 20.000000   \n",
       "38                                 20.000000   \n",
       "39                                 20.000000   \n",
       "40                                 23.333333   \n",
       "41                                 23.333333   \n",
       "42                                 23.333333   \n",
       "43                                 23.333333   \n",
       "44                                 23.333333   \n",
       "45                                 23.333333   \n",
       "46                                 23.333333   \n",
       "47                                 23.333333   \n",
       "48                                 23.333333   \n",
       "49                                 23.333333   \n",
       "50                                 26.666667   \n",
       "51                                 26.666667   \n",
       "52                                 26.666667   \n",
       "53                                 26.666667   \n",
       "54                                 26.666667   \n",
       "55                                 26.666667   \n",
       "56                                 26.666667   \n",
       "57                                 26.666667   \n",
       "58                                 26.666667   \n",
       "60                                 30.000000   \n",
       "61                                 30.000000   \n",
       "62                                 30.000000   \n",
       "63                                 30.000000   \n",
       "64                                 30.000000   \n",
       "65                                 30.000000   \n",
       "66                                 30.000000   \n",
       "70                                 33.333333   \n",
       "71                                 33.333333   \n",
       "72                                 33.333333   \n",
       "73                                 33.333333   \n",
       "74                                 33.333333   \n",
       "75                                 33.333333   \n",
       "80                                 36.666667   \n",
       "81                                 36.666667   \n",
       "82                                 36.666667   \n",
       "83                                 36.666667   \n",
       "84                                 36.666667   \n",
       "90                                 40.000000   \n",
       "91                                 40.000000   \n",
       "92                                 40.000000   \n",
       "93                                 40.000000   \n",
       "\n",
       "    data:performance:endurance:hover  data:performance:range:cruise  \\\n",
       "0                          13.967163                    9399.306698   \n",
       "1                          13.955677                    9462.412633   \n",
       "2                          13.944101                    9526.967745   \n",
       "3                          13.931764                    9596.983901   \n",
       "4                          13.920130                    9663.880977   \n",
       "5                          13.907845                    9734.688971   \n",
       "6                          13.893756                    9814.229153   \n",
       "7                          13.880126                    9893.390607   \n",
       "8                          13.866601                    9973.658042   \n",
       "9                          13.853147                   10055.211744   \n",
       "10                         17.275669                   11816.967150   \n",
       "11                         17.260535                   11926.276560   \n",
       "12                         17.245819                   12034.045946   \n",
       "13                         17.228967                   12155.579524   \n",
       "14                         17.212010                   12280.563582   \n",
       "15                         17.195201                   12407.810156   \n",
       "16                         17.187587                   12502.355484   \n",
       "17                         17.185309                   12579.733077   \n",
       "18                         17.181602                   12665.852749   \n",
       "19                         17.176138                   12762.203481   \n",
       "20                         20.583145                   14324.701057   \n",
       "21                         20.563561                   14496.591808   \n",
       "22                         20.543283                   14677.900679   \n",
       "23                         20.525815                   14850.951135   \n",
       "24                         20.524231                   14953.983102   \n",
       "25                         20.520359                   15072.699472   \n",
       "26                         20.514150                   15208.689197   \n",
       "27                         20.505443                   15363.039176   \n",
       "28                         20.496720                   15515.794596   \n",
       "29                         20.483770                   15708.308066   \n",
       "30                         23.887648                   16943.053804   \n",
       "31                         23.864177                   17193.939188   \n",
       "32                         23.861102                   17338.527559   \n",
       "33                         23.856946                   17496.694548   \n",
       "34                         23.849613                   17682.473555   \n",
       "35                         23.839397                   17894.439985   \n",
       "36                         23.827451                   18119.781117   \n",
       "37                         23.810932                   18397.574847   \n",
       "38                         23.791212                   18712.035937   \n",
       "39                         23.767756                   19072.273699   \n",
       "40                         27.197904                   19629.417482   \n",
       "41                         27.195423                   19814.271303   \n",
       "42                         27.189017                   20036.795355   \n",
       "43                         27.178586                   20300.276778   \n",
       "44                         27.165590                   20587.198457   \n",
       "45                         27.147044                   20946.391938   \n",
       "46                         27.124306                   21360.679202   \n",
       "47                         27.096569                   21845.795016   \n",
       "48                         27.062754                   22421.870859   \n",
       "49                         27.018870                   23159.195439   \n",
       "50                         30.530169                   22252.707726   \n",
       "51                         30.522078                   22543.636454   \n",
       "52                         30.509141                   22891.944689   \n",
       "53                         30.492419                   23285.009732   \n",
       "54                         30.468911                   23777.701355   \n",
       "55                         30.439643                   24361.179115   \n",
       "56                         30.403091                   25066.237747   \n",
       "57                         30.354689                   25984.562258   \n",
       "58                         30.286784                   27247.798478   \n",
       "60                         33.856949                   24988.401151   \n",
       "61                         33.843988                   25392.023710   \n",
       "62                         33.822757                   25923.721458   \n",
       "63                         33.795017                   26559.909759   \n",
       "64                         33.759611                   27333.910786   \n",
       "65                         33.713834                   28305.606632   \n",
       "66                         33.648925                   29662.125559   \n",
       "70                         37.178848                   27855.832034   \n",
       "71                         37.157531                   28459.549903   \n",
       "72                         37.126683                   29236.373171   \n",
       "73                         37.086299                   30203.415116   \n",
       "74                         37.030360                   31503.985031   \n",
       "75                         36.947233                   33407.998713   \n",
       "80                         40.496796                   30858.598008   \n",
       "81                         40.464508                   31757.123142   \n",
       "82                         40.420926                   32897.169777   \n",
       "83                         40.359591                   34458.918824   \n",
       "84                         40.257962                   36990.645459   \n",
       "90                         43.807886                   34092.021102   \n",
       "91                         43.763521                   35362.520030   \n",
       "92                         43.699823                   37126.074659   \n",
       "93                         43.592784                   40020.888194   \n",
       "\n",
       "    data:propulsion:multirotor:battery:energy  data:weight:mtow  \\\n",
       "0                                  596.228812          4.263218   \n",
       "1                                  610.454984          4.372410   \n",
       "2                                  625.403079          4.487261   \n",
       "3                                  641.090281          4.608153   \n",
       "4                                  657.671558          4.735775   \n",
       "5                                  674.346216          4.870581   \n",
       "6                                  689.175006          5.012800   \n",
       "7                                  705.732321          5.163084   \n",
       "8                                  723.584645          5.322244   \n",
       "9                                  742.818025          5.491207   \n",
       "10                                 777.816516          4.505207   \n",
       "11                                 802.483149          4.657536   \n",
       "12                                 828.544210          4.820595   \n",
       "13                                 852.529485          4.995123   \n",
       "14                                 878.273447          5.182058   \n",
       "15                                 906.546852          5.382991   \n",
       "16                                 931.920890          5.599450   \n",
       "17                                 954.968723          5.832090   \n",
       "18                                 980.932778          6.083158   \n",
       "19                                1010.560633          6.355545   \n",
       "20                                 980.637579          4.776966   \n",
       "21                                1015.887046          4.983344   \n",
       "22                                1052.952201          5.207460   \n",
       "23                                1092.306593          5.452003   \n",
       "24                                1122.756962          5.718510   \n",
       "25                                1158.810598          6.009709   \n",
       "26                                1200.137331          6.330228   \n",
       "27                                1248.596660          6.685942   \n",
       "28                                1305.880031          7.084975   \n",
       "29                                1372.349380          7.536279   \n",
       "30                                1200.112957          5.083985   \n",
       "31                                1253.611738          5.357370   \n",
       "32                                1294.569304          5.659628   \n",
       "33                                1342.348574          5.994228   \n",
       "34                                1398.385801          6.368294   \n",
       "35                                1466.422234          6.791232   \n",
       "36                                1547.884510          7.276272   \n",
       "37                                1646.162032          7.840391   \n",
       "38                                1766.957003          8.510482   \n",
       "39                                1918.909350          9.327504   \n",
       "40                                1439.268481          5.432331   \n",
       "41                                1493.493539          5.788230   \n",
       "42                                1560.525186          6.189693   \n",
       "43                                1642.620508          6.648824   \n",
       "44                                1743.861314          7.182948   \n",
       "45                                1869.090391          7.815840   \n",
       "46                                2027.609054          8.586008   \n",
       "47                                2234.623303          9.556500   \n",
       "48                                2518.821571         10.843882   \n",
       "49                                2943.373069         12.700210   \n",
       "50                                1681.571226          5.827339   \n",
       "51                                1768.892876          6.287916   \n",
       "52                                1878.915638          6.825704   \n",
       "53                                2018.082112          7.467921   \n",
       "54                                2197.247687          8.255815   \n",
       "55                                2435.297602          9.260997   \n",
       "56                                2769.736633         10.619075   \n",
       "57                                3287.277668         12.640037   \n",
       "58                                4299.174332         16.399582   \n",
       "60                                1958.577569          6.279435   \n",
       "61                                2095.346689          6.880633   \n",
       "62                                2272.858488          7.614019   \n",
       "63                                2509.846243          8.542637   \n",
       "64                                2840.501708          9.782214   \n",
       "65                                3343.128441         11.586004   \n",
       "66                                4258.856600         14.716894   \n",
       "70                                2280.672519          6.806189   \n",
       "71                                2491.827159          7.602188   \n",
       "72                                2781.627662          8.633706   \n",
       "73                                3202.900368         10.061902   \n",
       "74                                3890.799184         12.280424   \n",
       "75                                5407.894677         16.900175   \n",
       "80                                2663.870107          7.433700   \n",
       "81                                2991.805958          8.513732   \n",
       "82                                3482.429720         10.042421   \n",
       "83                                4320.668809         12.520275   \n",
       "84                                6499.810401         18.527719   \n",
       "90                                3131.959036          8.201565   \n",
       "91                                3656.085285          9.726955   \n",
       "92                                4564.162588         12.223352   \n",
       "93                                7003.158282         18.448945   \n",
       "\n",
       "    data:weight:propulsion:multirotor:battery:mass  optim_failed  \\\n",
       "0                                         0.634381           0.0   \n",
       "1                                         0.721686           0.0   \n",
       "2                                         0.813294           0.0   \n",
       "3                                         0.909484           0.0   \n",
       "4                                         1.010758           0.0   \n",
       "5                                         1.116107           0.0   \n",
       "6                                         1.222125           0.0   \n",
       "7                                         1.334918           0.0   \n",
       "8                                         1.454230           0.0   \n",
       "9                                         1.580701           0.0   \n",
       "10                                        0.827588           0.0   \n",
       "11                                        0.948704           0.0   \n",
       "12                                        1.077465           0.0   \n",
       "13                                        1.209443           0.0   \n",
       "14                                        1.349795           0.0   \n",
       "15                                        1.500420           0.0   \n",
       "16                                        1.652590           0.0   \n",
       "17                                        1.806358           0.0   \n",
       "18                                        1.971437           0.0   \n",
       "19                                        2.150451           0.0   \n",
       "20                                        1.043388           0.0   \n",
       "21                                        1.200992           0.0   \n",
       "22                                        1.369292           0.0   \n",
       "23                                        1.549603           0.0   \n",
       "24                                        1.725535           0.0   \n",
       "25                                        1.917941           0.0   \n",
       "26                                        2.128222           0.0   \n",
       "27                                        2.361766           0.0   \n",
       "28                                        2.624502           0.0   \n",
       "29                                        2.920330           0.0   \n",
       "30                                        1.276907           0.0   \n",
       "31                                        1.482033           0.0   \n",
       "32                                        1.683498           0.0   \n",
       "33                                        1.904326           0.0   \n",
       "34                                        2.149142           0.0   \n",
       "35                                        2.427067           0.0   \n",
       "36                                        2.744887           0.0   \n",
       "37                                        3.113775           0.0   \n",
       "38                                        3.551155           0.0   \n",
       "39                                        4.083397           0.0   \n",
       "40                                        1.531366           0.0   \n",
       "41                                        1.765623           0.0   \n",
       "42                                        2.029356           0.0   \n",
       "43                                        2.330307           0.0   \n",
       "44                                        2.680094           0.0   \n",
       "45                                        3.093521           0.0   \n",
       "46                                        3.595590           0.0   \n",
       "47                                        4.226871           0.0   \n",
       "48                                        5.062220           0.0   \n",
       "49                                        6.263434           0.0   \n",
       "50                                        1.789174           0.0   \n",
       "51                                        2.091203           0.0   \n",
       "52                                        2.443401           0.0   \n",
       "53                                        2.862957           0.0   \n",
       "54                                        3.376891           0.0   \n",
       "55                                        4.030647           0.0   \n",
       "56                                        4.911616           0.0   \n",
       "57                                        6.218005           0.0   \n",
       "58                                        8.640297           0.0   \n",
       "60                                        2.083905           0.0   \n",
       "61                                        2.477140           0.0   \n",
       "62                                        2.955696           0.0   \n",
       "63                                        3.560599           0.0   \n",
       "64                                        4.365491           0.0   \n",
       "65                                        5.533193           0.0   \n",
       "66                                        7.552295           0.0   \n",
       "70                                        2.426611           0.0   \n",
       "71                                        2.945863           0.0   \n",
       "72                                        3.617315           0.0   \n",
       "73                                        4.543802           0.0   \n",
       "74                                        5.979665           0.0   \n",
       "75                                        8.950575           0.0   \n",
       "80                                        2.834329           0.0   \n",
       "81                                        3.536943           0.0   \n",
       "82                                        4.528660           0.0   \n",
       "83                                        6.129526           0.0   \n",
       "84                                        9.989385           0.0   \n",
       "90                                        3.332370           0.0   \n",
       "91                                        4.322261           0.0   \n",
       "92                                        5.935379           0.0   \n",
       "93                                        9.935046           0.0   \n",
       "\n",
       "    data:propulsion:multirotor:battery:energy:density  \n",
       "0                                                 261  \n",
       "1                                                 234  \n",
       "2                                                 213  \n",
       "3                                                 195  \n",
       "4                                                 180  \n",
       "5                                                 167  \n",
       "6                                                 156  \n",
       "7                                                 146  \n",
       "8                                                 138  \n",
       "9                                                 130  \n",
       "10                                                261  \n",
       "11                                                234  \n",
       "12                                                213  \n",
       "13                                                195  \n",
       "14                                                180  \n",
       "15                                                167  \n",
       "16                                                156  \n",
       "17                                                146  \n",
       "18                                                138  \n",
       "19                                                130  \n",
       "20                                                261  \n",
       "21                                                234  \n",
       "22                                                213  \n",
       "23                                                195  \n",
       "24                                                180  \n",
       "25                                                167  \n",
       "26                                                156  \n",
       "27                                                146  \n",
       "28                                                138  \n",
       "29                                                130  \n",
       "30                                                261  \n",
       "31                                                234  \n",
       "32                                                213  \n",
       "33                                                195  \n",
       "34                                                180  \n",
       "35                                                167  \n",
       "36                                                156  \n",
       "37                                                146  \n",
       "38                                                138  \n",
       "39                                                130  \n",
       "40                                                261  \n",
       "41                                                234  \n",
       "42                                                213  \n",
       "43                                                195  \n",
       "44                                                180  \n",
       "45                                                167  \n",
       "46                                                156  \n",
       "47                                                146  \n",
       "48                                                138  \n",
       "49                                                130  \n",
       "50                                                261  \n",
       "51                                                234  \n",
       "52                                                213  \n",
       "53                                                195  \n",
       "54                                                180  \n",
       "55                                                167  \n",
       "56                                                156  \n",
       "57                                                146  \n",
       "58                                                138  \n",
       "60                                                261  \n",
       "61                                                234  \n",
       "62                                                213  \n",
       "63                                                195  \n",
       "64                                                180  \n",
       "65                                                167  \n",
       "66                                                156  \n",
       "70                                                261  \n",
       "71                                                234  \n",
       "72                                                213  \n",
       "73                                                195  \n",
       "74                                                180  \n",
       "75                                                167  \n",
       "80                                                261  \n",
       "81                                                234  \n",
       "82                                                213  \n",
       "83                                                195  \n",
       "84                                                180  \n",
       "90                                                261  \n",
       "91                                                234  \n",
       "92                                                213  \n",
       "93                                                195  "
      ]
     },
     "execution_count": 131,
     "metadata": {},
     "output_type": "execute_result"
    }
   ],
   "source": [
    "df"
   ]
  },
  {
   "cell_type": "code",
   "execution_count": 70,
   "id": "59707e56-edef-444a-bb7a-3acc8939ee38",
   "metadata": {
    "tags": []
   },
   "outputs": [
    {
     "data": {
      "image/png": "[encoded data removed]",
      "text/plain": [
       "<Figure size 640x480 with 2 Axes>"
      ]
     },
     "metadata": {},
     "output_type": "display_data"
    }
   ],
   "source": [
    "import matplotlib.pyplot as plt\n",
    "\n",
    "def plot_contour(df, x_name, y_name, z_name, levels: int = None):\n",
    "    \"\"\"\n",
    "    Contour plot from dataframe values.\n",
    "    \"\"\"\n",
    "    # Get data\n",
    "    x = df[x_name]\n",
    "    y = df[y_name]\n",
    "    z = df[z_name]\n",
    "    \n",
    "    # Initialize plot\n",
    "    fig, ax = plt.subplots()\n",
    "\n",
    "    # Plot contour\n",
    "    ax.tricontour(x, y, z, levels=levels, linewidths=0.5, colors='k')\n",
    "    cntr = ax.tricontourf(x, y, z, levels=levels, cmap=\"RdBu_r\")\n",
    "    fig.colorbar(cntr, ax=ax)\n",
    "    \n",
    "    # Data points\n",
    "    ax.plot(x, y, 'ko', ms=3)\n",
    "    \n",
    "    return fig\n",
    "\n",
    "fig = plot_contour(df, x_name, y_name, z_name, levels=10)"
   ]
  },
  {
   "cell_type": "markdown",
   "id": "62ac04fb-6940-48e5-8bf3-ae5a9055be0f",
   "metadata": {},
   "source": [
    "*Example of output*\n",
    "\n",
    "<img src=\"../data/doe/payload_mass_doe.png\"  width=\"600\" height=\"300\">"
   ]
  },
  {
   "cell_type": "markdown",
   "id": "9599327b-62e5-4569-ac9e-1b59916c163e",
   "metadata": {},
   "source": [
    "## Example 3 : Sobol analysis\n",
    "The following example provides a more advanced example of what can be done using the `doe_fast` module. Ipywidget is used to set up an interactive interface to run a Sobol' analysis."
   ]
  },
  {
   "cell_type": "code",
   "execution_count": 2,
   "id": "85810249-fa0f-4c36-ae58-3b05768759f0",
   "metadata": {},
   "outputs": [
    {
     "data": {
      "text/plain": [
       "'D:\\\\THESE\\\\Tools\\\\FAST-UAV\\\\src\\\\fastuav\\\\notebooks\\\\workdir\\\\conf_file_doe.yaml'"
      ]
     },
     "execution_count": 2,
     "metadata": {},
     "output_type": "execute_result"
    }
   ],
   "source": [
    "from fastuav.utils.postprocessing.sensitivity_analysis.sensitivity_analysis import sobol_analysis\n",
    "\n",
    "# Generate the configuration file for the problem to be evaluated\n",
    "oad.generate_configuration_file(\n",
    "    CONFIGURATION_FILE, overwrite=True, distribution_name=\"fastuav\", sample_file_name=\"doe_sobol_analysis.yaml\"\n",
    ")"
   ]
  },
  {
   "cell_type": "code",
   "execution_count": 3,
   "id": "dfe8237f-2b20-45a1-aa9a-80c8396577b3",
   "metadata": {},
   "outputs": [
    {
     "name": "stdout",
     "output_type": "stream",
     "text": [
      "Optimization terminated successfully    (Exit mode 0)\n",
      "            Current function value: 0.5621522065691114\n",
      "            Iterations: 1\n",
      "            Function evaluations: 1\n",
      "            Gradient evaluations: 1\n",
      "Optimization Complete\n",
      "-----------------------------------\n"
     ]
    },
    {
     "data": {
      "application/vnd.jupyter.widget-view+json": {
       "model_id": "c148f642caf545c39b6bd3436d7ee60c",
       "version_major": 2,
       "version_minor": 0
      },
      "text/plain": [
       "VBox(children=(HBox(children=(Button(description='Load', icon='upload', style=ButtonStyle(), tooltip='Load the…"
      ]
     },
     "metadata": {},
     "output_type": "display_data"
    }
   ],
   "source": [
    "# Here we run a first optimization to get the optimal design\n",
    "INPUT_FILE = oad.generate_inputs(CONFIGURATION_FILE, SOURCE_FILE, overwrite=True)\n",
    "problem = oad.optimize_problem(\n",
    "    CONFIGURATION_FILE, overwrite=True\n",
    ")\n",
    "REFERENCE_DESIGN_FILE = pth.join(WORK_FOLDER_PATH, \"problem_outputs.xml\")\n",
    "oad.variable_viewer(REFERENCE_DESIGN_FILE)"
   ]
  },
  {
   "cell_type": "code",
   "execution_count": 4,
   "id": "8b4d0d15-0185-491d-a64e-7d6ff595eb65",
   "metadata": {},
   "outputs": [
    {
     "data": {
      "application/vnd.jupyter.widget-view+json": {
       "model_id": "a1f0fb11b05141c79a343ede2ca65e15",
       "version_major": 2,
       "version_minor": 0
      },
      "text/plain": [
       "VBox(children=(HBox(children=(FigureWidget({\n",
       "    'data': [{'error_y': {'array': [], 'type': 'data'},\n",
       "         …"
      ]
     },
     "metadata": {},
     "output_type": "display_data"
    }
   ],
   "source": [
    "# Now, we carry out a sensitivity analysis around the optimal design\n",
    "sobol_analysis(CONFIGURATION_FILE, REFERENCE_DESIGN_FILE)"
   ]
  },
  {
   "cell_type": "markdown",
   "id": "55e09b95-6d7e-4959-894d-2156cf286414",
   "metadata": {},
   "source": [
    "![Alt Text](../data/doe/uncertainty.gif)"
   ]
  },
  {
   "cell_type": "code",
   "execution_count": null,
   "id": "5188c2f0-af4c-4247-9c72-1cdb9e423bca",
   "metadata": {},
   "outputs": [],
   "source": []
  }
 ],
 "metadata": {
  "kernelspec": {
   "display_name": "Python 3 (ipykernel)",
   "language": "python",
   "name": "python3"
  },
  "language_info": {
   "codemirror_mode": {
    "name": "ipython",
    "version": 3
   },
   "file_extension": ".py",
   "mimetype": "text/x-python",
   "name": "python",
   "nbconvert_exporter": "python",
   "pygments_lexer": "ipython3",
   "version": "3.8.16"
  }
 },
 "nbformat": 4,
 "nbformat_minor": 5
}
