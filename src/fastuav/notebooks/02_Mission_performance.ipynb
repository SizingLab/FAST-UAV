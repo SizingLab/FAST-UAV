{
 "cells": [
  {
   "cell_type": "markdown",
   "metadata": {},
   "source": [
    "# FAST-UAV - Performance Analysis"
   ]
  },
  {
   "cell_type": "markdown",
   "metadata": {},
   "source": [
    "The analysis mode of FAST-UAV allows to compute the performance of a given design on an operational mission."
   ]
  },
  {
   "cell_type": "code",
   "execution_count": null,
   "metadata": {},
   "outputs": [],
   "source": [
    "import os.path as pth\n",
    "import logging\n",
    "import shutil\n",
    "import matplotlib.pyplot as plt\n",
    "import fastoad.api as oad\n",
    "from fastuav.utils.postprocessing.analysis_and_plots import *\n",
    "\n",
    "plt.rcParams[\"figure.figsize\"] = 16, 8\n",
    "plt.rcParams.update({\"font.size\": 13})\n",
    "\n",
    "DATA_FOLDER_PATH = \"../data\"\n",
    "CONFIGURATIONS_FOLDER_PATH = \"../configurations\"\n",
    "WORK_FOLDER_PATH = \"./workdir\"\n",
    "\n",
    "CONFIGURATION_FILE = pth.join(WORK_FOLDER_PATH, \"multirotor_performance.yaml\")\n",
    "SOURCE_FILE = pth.join(DATA_FOLDER_PATH, \"problem_outputs_DJI_M600_mdo.xml\")\n",
    "\n",
    "# For having log messages display on screen\n",
    "logging.basicConfig(level=logging.INFO, format=\"%(levelname)-8s: %(message)s\")\n",
    "\n",
    "# For using all screen width\n",
    "from IPython.core.display import display, HTML\n",
    "\n",
    "display(HTML(\"<style>.container { width:95% !important; }</style>\"))"
   ]
  },
  {
   "cell_type": "code",
   "execution_count": null,
   "metadata": {},
   "outputs": [],
   "source": [
    "oad.generate_configuration_file(\n",
    "    CONFIGURATION_FILE, overwrite=True, distribution_name=\"fastuav\", sample_file_name=\"multirotor_performance.yaml\"\n",
    ")"
   ]
  },
  {
   "cell_type": "markdown",
   "metadata": {},
   "source": [
    "## 1. Setting up the performance analysis"
   ]
  },
  {
   "cell_type": "markdown",
   "metadata": {},
   "source": [
    "The model used for the performance analysis solely consists of the `Missions` module. No design models for the components is used, only the performance models.<br>\n",
    "You can include several missions to be computed:\n",
    "\n",
    "```yaml\n",
    "model:\n",
    "    Performance:\n",
    "        design_mission:\n",
    "            id: mission.design\n",
    "        operational_mission:\n",
    "           id: mission.concordia\n",
    "```\n",
    "\n",
    "Note that the number and types of phases and flight segments are hard-coded for the moment. A future version of FAST-UAV should allow to define the operational mission in a separate .yaml file (see FAST-OAD [mission file](https://fast-oad.readthedocs.io/en/v1.2.1/documentation/mission_module/mission_file/mission_file.html))."
   ]
  },
  {
   "cell_type": "code",
   "execution_count": null,
   "metadata": {},
   "outputs": [],
   "source": [
    "N2_FILE = pth.join(WORK_FOLDER_PATH, \"n2.html\")\n",
    "oad.write_n2(CONFIGURATION_FILE, N2_FILE, overwrite=True)\n",
    "from IPython.display import IFrame\n",
    "IFrame(src=N2_FILE, width=\"100%\", height=\"500px\")"
   ]
  },
  {
   "cell_type": "markdown",
   "metadata": {},
   "source": [
    "## 2. Run the performance analysis\n",
    "\n",
    "To run a performance analysis, you need an XML file describing the drone design. This can be the output of a design problem (see the [Multirotor Design Notebook](./01_Multirotor_Design.ipynb))."
   ]
  },
  {
   "cell_type": "code",
   "execution_count": null,
   "metadata": {},
   "outputs": [],
   "source": [
    "oad.generate_inputs(CONFIGURATION_FILE, SOURCE_FILE, overwrite=True)"
   ]
  },
  {
   "cell_type": "markdown",
   "metadata": {},
   "source": [
    "You can use the `VariableViewer` tool on the input file to fill in the values for the mission profile, in the 'mission' menu (do not forget to save!):"
   ]
  },
  {
   "cell_type": "code",
   "execution_count": null,
   "metadata": {},
   "outputs": [],
   "source": [
    "INPUT_FILE = pth.join(WORK_FOLDER_PATH, \"problem_inputs.xml\")\n",
    "oad.variable_viewer(INPUT_FILE)"
   ]
  },
  {
   "cell_type": "markdown",
   "metadata": {},
   "source": [
    "We now run the problem once (no optimizer is required) using `evaluate_problem`."
   ]
  },
  {
   "cell_type": "code",
   "execution_count": null,
   "metadata": {},
   "outputs": [],
   "source": [
    "eval_problem = oad.evaluate_problem(CONFIGURATION_FILE, overwrite=True)"
   ]
  },
  {
   "cell_type": "code",
   "execution_count": null,
   "metadata": {},
   "outputs": [],
   "source": [
    "OUTPUT_FILE = pth.join(WORK_FOLDER_PATH, \"problem_outputs.xml\")\n",
    "oad.variable_viewer(OUTPUT_FILE)"
   ]
  },
  {
   "cell_type": "markdown",
   "metadata": {},
   "source": [
    "## 3. Analysis and plots\n",
    "\n",
    "For the moment, the post processing plots are limited to the visualization of the energy consumed over the mission. If several mission have been computed, you can compare them on the same plot."
   ]
  },
  {
   "cell_type": "code",
   "execution_count": null,
   "metadata": {},
   "outputs": [],
   "source": [
    "fig = energy_breakdown_sun_plot_drone(OUTPUT_FILE, mission_name=\"design_mission\")\n",
    "fig = energy_breakdown_sun_plot_drone(OUTPUT_FILE, mission_name=\"concordia_study\", fig=fig)\n",
    "fig.show()"
   ]
  }
 ],
 "metadata": {
  "kernelspec": {
   "display_name": "Python 3 (ipykernel)",
   "language": "python",
   "name": "python3"
  },
  "language_info": {
   "codemirror_mode": {
    "name": "ipython",
    "version": 3
   },
   "file_extension": ".py",
   "mimetype": "text/x-python",
   "name": "python",
   "nbconvert_exporter": "python",
   "pygments_lexer": "ipython3",
   "version": "3.8.10"
  }
 },
 "nbformat": 4,
 "nbformat_minor": 4
}
