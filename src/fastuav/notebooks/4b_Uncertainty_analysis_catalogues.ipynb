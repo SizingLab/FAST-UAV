{
 "cells": [
  {
   "cell_type": "markdown",
   "metadata": {},
   "source": [
    "# FAST-UAV - Uncertainty analysis including both custom and off-the-shelf components"
   ]
  },
  {
   "cell_type": "markdown",
   "metadata": {},
   "source": [
    "The purpose of this notebook is to run uncertainty analyses in order to evaluate the impacts of models uncertainty and input parameters uncertainty."
   ]
  },
  {
   "cell_type": "markdown",
   "metadata": {},
   "source": [
    "## 1. Setting up the deterministic problem"
   ]
  },
  {
   "cell_type": "markdown",
   "metadata": {},
   "source": [
    "In a first place, we define in the configuration file the UAV models that will be used to run the analyses. Here, no optimization of the design is carried out, i.e. we start from an existing design and analyse its performance on a given mission."
   ]
  },
  {
   "cell_type": "code",
   "execution_count": 1,
   "metadata": {},
   "outputs": [
    {
     "name": "stderr",
     "output_type": "stream",
     "text": [
      "C:\\Users\\f.pollet.ISAE-SUPAERO\\AppData\\Local\\Temp\\ipykernel_15900\\1871020117.py:29: DeprecationWarning: Importing display from IPython.core.display is deprecated since IPython 7.14, please import from IPython display\n",
      "  from IPython.core.display import display, HTML\n"
     ]
    },
    {
     "data": {
      "text/html": [
       "<style>.container { width:95% !important; }</style>"
      ],
      "text/plain": [
       "<IPython.core.display.HTML object>"
      ]
     },
     "metadata": {},
     "output_type": "display_data"
    }
   ],
   "source": [
    "import os.path as pth\n",
    "import openmdao.api as om\n",
    "import logging\n",
    "import shutil\n",
    "import fastoad.api as oad\n",
    "from time import time\n",
    "from fastuav.utils.drivers.cmaes_driver import CMAESDriver\n",
    "import cma\n",
    "import matplotlib.pyplot as plt\n",
    "from fastuav.utils.postprocessing.sensitivity_analysis.sensitivity_analysis import (\n",
    "    morris_analysis,\n",
    "    sobol_analysis,\n",
    ")\n",
    "\n",
    "plt.rcParams[\"figure.figsize\"] = 16, 8\n",
    "plt.rcParams.update({\"font.size\": 13})\n",
    "\n",
    "DATA_FOLDER_PATH = \"../data\"\n",
    "CONFIGURATIONS_FOLDER_PATH = \"../configurations\"\n",
    "WORK_FOLDER_PATH = \"./workdir\"\n",
    "\n",
    "CONFIGURATION_FILE_MDA = pth.join(WORK_FOLDER_PATH, \"multirotor_mda_cots.yaml\")  # MDA Problem (i.e., with consistency constraints solving)\n",
    "SOURCE_FILE = pth.join(DATA_FOLDER_PATH, \"problem_outputs_discrete_DJI_M600_mdo.xml\")\n",
    "\n",
    "# For having log messages display on screen\n",
    "# logging.basicConfig(level=logging.INFO, format='%(levelname)-8s: %(message)s')\n",
    "\n",
    "# For using all screen width\n",
    "from IPython.core.display import display, HTML\n",
    "\n",
    "display(HTML(\"<style>.container { width:95% !important; }</style>\"))"
   ]
  },
  {
   "cell_type": "markdown",
   "metadata": {},
   "source": [
    "Let's start by defining the multidisciplinary analysis (MDA). The [MDA](https://websites.isae-supaero.fr/IMG/pdf/2016_mca_martins_mdo_course_slides.pdf) consists of evaluating the model while solving the coupled equations.<br>\n",
    "With a NVH formulation as adopted in FAST-UAV, the MDA is carried out by the optimizer instead of a dedicated solver. The optimizer is responsible for solving the consistency constraints, that is the coupled states of the system. For more information about the consistency constraints please refer to Delbecq et al. article available [here](https://oatao.univ-toulouse.fr/26691/)."
   ]
  },
  {
   "cell_type": "code",
   "execution_count": 2,
   "metadata": {},
   "outputs": [
    {
     "data": {
      "text/plain": [
       "'D:\\\\THESE\\\\Tools\\\\FAST-UAV\\\\src\\\\fastuav\\\\notebooks\\\\workdir\\\\multirotor_mda_cots.yaml'"
      ]
     },
     "execution_count": 2,
     "metadata": {},
     "output_type": "execute_result"
    }
   ],
   "source": [
    "oad.generate_configuration_file(\n",
    "    CONFIGURATION_FILE_MDA, overwrite=True, distribution_name=\"fastuav\", sample_file_name=\"multirotor_mda_cots.yaml\"\n",
    ")"
   ]
  },
  {
   "cell_type": "code",
   "execution_count": 3,
   "metadata": {},
   "outputs": [
    {
     "data": {
      "text/html": [
       "\n",
       "        <iframe\n",
       "            width=\"100%\"\n",
       "            height=\"500px\"\n",
       "            src=\"./workdir\\n2.html\"\n",
       "            frameborder=\"0\"\n",
       "            allowfullscreen\n",
       "            \n",
       "        ></iframe>\n",
       "        "
      ],
      "text/plain": [
       "<IPython.lib.display.IFrame at 0x12714ec6ac0>"
      ]
     },
     "execution_count": 3,
     "metadata": {},
     "output_type": "execute_result"
    }
   ],
   "source": [
    "N2_FILE = pth.join(WORK_FOLDER_PATH, \"n2.html\")\n",
    "oad.write_n2(CONFIGURATION_FILE_MDA, N2_FILE, overwrite=True)\n",
    "from IPython.display import IFrame\n",
    "IFrame(src=N2_FILE, width=\"100%\", height=\"500px\")"
   ]
  },
  {
   "cell_type": "markdown",
   "metadata": {},
   "source": [
    "We now load an existing UAV design on which the uncertainty analysis will be run."
   ]
  },
  {
   "cell_type": "code",
   "execution_count": 4,
   "metadata": {},
   "outputs": [
    {
     "data": {
      "application/vnd.jupyter.widget-view+json": {
       "model_id": "da04229224a74f888a1bd1b4e01a8102",
       "version_major": 2,
       "version_minor": 0
      },
      "text/plain": [
       "VBox(children=(HBox(children=(Button(description='Load', icon='upload', style=ButtonStyle(), tooltip='Load the…"
      ]
     },
     "metadata": {},
     "output_type": "display_data"
    }
   ],
   "source": [
    "oad.variable_viewer(SOURCE_FILE)"
   ]
  },
  {
   "cell_type": "markdown",
   "metadata": {},
   "source": [
    "To make sure that the source file is consistent with the problem definition and the models, an MDA is carried out. No difference between the values of the source file and the output values of the problem should be observed.<br>"
   ]
  },
  {
   "cell_type": "code",
   "execution_count": 5,
   "metadata": {},
   "outputs": [
    {
     "name": "stdout",
     "output_type": "stream",
     "text": [
      "Optimization terminated successfully    (Exit mode 0)\n",
      "            Current function value: 1.5490026273154804\n",
      "            Iterations: 1\n",
      "            Function evaluations: 1\n",
      "            Gradient evaluations: 1\n",
      "Optimization Complete\n",
      "-----------------------------------\n"
     ]
    },
    {
     "data": {
      "application/vnd.jupyter.widget-view+json": {
       "model_id": "4b22dca018ba4ebb98326cf9d99f9435",
       "version_major": 2,
       "version_minor": 0
      },
      "text/plain": [
       "VBox(children=(HBox(children=(Button(description='Load', icon='upload', style=ButtonStyle(), tooltip='Load the…"
      ]
     },
     "metadata": {},
     "output_type": "display_data"
    }
   ],
   "source": [
    "INPUT_FILE = oad.generate_inputs(CONFIGURATION_FILE_MDA, SOURCE_FILE, overwrite=True)\n",
    "problem = oad.optimize_problem(\n",
    "    CONFIGURATION_FILE_MDA, overwrite=True\n",
    ")  # Run MDA\n",
    "REFERENCE_DESIGN_FILE = pth.join(WORK_FOLDER_PATH, \"problem_outputs.xml\")\n",
    "oad.variable_viewer(REFERENCE_DESIGN_FILE)"
   ]
  },
  {
   "cell_type": "markdown",
   "metadata": {},
   "source": [
    "## 2. Design of Experiments\n",
    "\n",
    "In contrast with a single problem evaluation, the uncertainty analysis relies on multiple evaluations of the problem to analyse the effects of varying one or several parameters on the output variables of interest.\n",
    "\n",
    "The [OpenTurns](https://openturns.github.io/openturns/latest/index.html) and [SALib](https://salib.readthedocs.io/en/latest/index.html) libraries are used to set up the DoEs and run the sensitivity analyses. \n",
    "The drivers to connect these librairies to FAST-UAV are provided by Onera's [OpenMDAO Extensions](https://github.com/OneraHub/openmdao_extensions)."
   ]
  },
  {
   "cell_type": "markdown",
   "metadata": {},
   "source": [
    "## 2.1 Screening procedure - Morris method\n",
    "\n",
    "The Morris method allows to get a measure of importance and interaction of input factors. It is used as a screening method to reduce the number of parameters prior to a more detailed analysis.\n",
    "\n",
    "The `morris_analysis` function takes the following inputs:\n",
    "- The configuration file of the problem to be evaluated;\n",
    "- The source file containing the reference design, to help the user to set up the analysis (uncertain parameters selection, output variable of interest, ...). \n",
    "\n",
    "The number of simulation runs required are $r(k+1)$ where $r$ is the number of trajectories (typically between 4 to 10) and $k$ the number of parameters.\n",
    "\n",
    "**Bibliography**\n",
    "\n",
    "> Ruano, M.V., Ribes, J., Seco, A., Ferrer, J., 2012. An improved sampling strategy based on trajectory design for application of the Morris method to systems with many input factors. Environmental Modelling & Software 37, 103–109. https://doi.org/10.1016/j.envsoft.2012.03.008\n",
    "\n",
    "> Morris, M.D., 1991. Factorial Sampling Plans for Preliminary Computational Experiments. Technometrics 33, 161–174. https://doi.org/10.1080/00401706.1991.10484804\n",
    "\n",
    "> Campolongo, F., Cariboni, J., Saltelli, A., 2007. An effective screening design for sensitivity analysis of large models. Environmental Modelling & Software, Modelling, computer-assisted simulations, and mapping of dangerous phenomena for hazard assessment 22, 1509–1518. https://doi.org/10.1016/j.envsoft.2006.10.004\n"
   ]
  },
  {
   "cell_type": "code",
   "execution_count": 6,
   "metadata": {},
   "outputs": [
    {
     "data": {
      "application/vnd.jupyter.widget-view+json": {
       "model_id": "d3a04e4190924d6ea6369f0ca85e8ead",
       "version_major": 2,
       "version_minor": 0
      },
      "text/plain": [
       "VBox(children=(HBox(children=(FigureWidget({\n",
       "    'data': [{'error_y': {'array': [], 'type': 'data'},\n",
       "         …"
      ]
     },
     "metadata": {},
     "output_type": "display_data"
    }
   ],
   "source": [
    "morris_analysis(CONFIGURATION_FILE_MDA, REFERENCE_DESIGN_FILE)"
   ]
  },
  {
   "cell_type": "markdown",
   "metadata": {},
   "source": [
    "## 2.2 Global sensitivity analysis - Sobol' indices using Saltelli's sampling scheme\n",
    "\n",
    "The Sobol' method allows to get a representation of the contribution of the inputs to the overall uncertainty in the model output. The space of the uncertain inputs is explored with a Monte Carlo sampling (here Saltelli's scheme, which extends the Sobol' sequence in a way to reduce the error rates in the resulting sensitivity index calculations).\n",
    "\n",
    "The number of simulation runs required are $m(k+2)$ where $m$ is the number of samples (typically between 100s to 1000s) and $k$ the number of parameters.\n",
    "\n",
    "**Bibliography**\n",
    "\n",
    "> Campolongo, F., Saltelli, A., Cariboni, J., 2011. From screening to quantitative sensitivity analysis. A unified approach. Computer Physics Communications 182, 978–988. https://doi.org/10.1016/j.cpc.2010.12.039\n",
    "\n",
    "> Saltelli, A., 2002. Making best use of model evaluations to compute sensitivity indices. Computer Physics Communications 145, 280–297. https://doi.org/10.1016/S0010-4655(02)00280-1\n",
    "\n",
    "> Sobol’, I.M., 2001. Global sensitivity indices for nonlinear mathematical models and their Monte Carlo estimates. Mathematics and Computers in Simulation, The Second IMACS Seminar on Monte Carlo Methods 55, 271–280. https://doi.org/10.1016/S0378-4754(00)00270-6\n"
   ]
  },
  {
   "cell_type": "code",
   "execution_count": 7,
   "metadata": {},
   "outputs": [
    {
     "data": {
      "application/vnd.jupyter.widget-view+json": {
       "model_id": "d10a1834c8b14bb995c325e6fb865683",
       "version_major": 2,
       "version_minor": 0
      },
      "text/plain": [
       "VBox(children=(HBox(children=(FigureWidget({\n",
       "    'data': [{'error_y': {'array': [], 'type': 'data'},\n",
       "         …"
      ]
     },
     "metadata": {},
     "output_type": "display_data"
    }
   ],
   "source": [
    "sobol_analysis(CONFIGURATION_FILE_MDA, REFERENCE_DESIGN_FILE)"
   ]
  }
 ],
 "metadata": {
  "kernelspec": {
   "display_name": "Python 3 (ipykernel)",
   "language": "python",
   "name": "python3"
  },
  "language_info": {
   "codemirror_mode": {
    "name": "ipython",
    "version": 3
   },
   "file_extension": ".py",
   "mimetype": "text/x-python",
   "name": "python",
   "nbconvert_exporter": "python",
   "pygments_lexer": "ipython3",
   "version": "3.8.15"
  }
 },
 "nbformat": 4,
 "nbformat_minor": 4
}
