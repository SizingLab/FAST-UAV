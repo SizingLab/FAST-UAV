{
 "cells": [
  {
   "cell_type": "markdown",
   "metadata": {},
   "source": [
    "# FAST-UAV - Multirotor Design Optimization with Off-The-Shelf components"
   ]
  },
  {
   "cell_type": "markdown",
   "metadata": {},
   "source": [
    "In this notebook, we will see how to achieve a design optimization using real off-the-shelf components instead of estimation models."
   ]
  },
  {
   "cell_type": "markdown",
   "metadata": {},
   "source": [
    "## 1. Setting up a problem with off-the-shelf components"
   ]
  },
  {
   "cell_type": "code",
   "execution_count": 7,
   "metadata": {},
   "outputs": [
    {
     "data": {
      "text/html": [
       "<style>.container { width:95% !important; }</style>"
      ],
      "text/plain": [
       "<IPython.core.display.HTML object>"
      ]
     },
     "metadata": {},
     "output_type": "display_data"
    }
   ],
   "source": [
    "import os.path as pth\n",
    "import openmdao.api as om\n",
    "import logging\n",
    "import shutil\n",
    "import fastoad.api as oad\n",
    "from time import time\n",
    "import matplotlib.pyplot as plt\n",
    "import cma\n",
    "from fastuav.utils.drivers.cmaes_driver import CMAESDriver\n",
    "from fastuav.utils.postprocessing.analysis_and_plots import *\n",
    "\n",
    "plt.rcParams[\"figure.figsize\"] = 16, 8\n",
    "plt.rcParams.update({\"font.size\": 13})\n",
    "\n",
    "DATA_FOLDER_PATH = \"../data\"\n",
    "CONFIGURATIONS_FOLDER_PATH = \"../configurations\"\n",
    "WORK_FOLDER_PATH = \"./workdir\"\n",
    "\n",
    "CONFIGURATION_FILE = pth.join(WORK_FOLDER_PATH, \"multirotor_mdo_discrete.yaml\")\n",
    "SOURCE_FILE = pth.join(DATA_FOLDER_PATH, \"problem_outputs_DJI_M600_mdo.xml\")\n",
    "\n",
    "# For having log messages display on screen\n",
    "logging.basicConfig(level=logging.INFO, format=\"%(levelname)-8s: %(message)s\")\n",
    "\n",
    "# For using all screen width\n",
    "from IPython.core.display import display, HTML\n",
    "\n",
    "display(HTML(\"<style>.container { width:95% !important; }</style>\"))"
   ]
  },
  {
   "cell_type": "code",
   "execution_count": 8,
   "metadata": {},
   "outputs": [
    {
     "name": "stderr",
     "output_type": "stream",
     "text": [
      "INFO    : Sample configuration written in \"D:\\THESE\\Tools\\FAST-UAV\\src\\fastuav\\notebooks\\workdir\\multirotor_mdo_discrete.yaml\".\n"
     ]
    },
    {
     "data": {
      "text/plain": [
       "'D:\\\\THESE\\\\Tools\\\\FAST-UAV\\\\src\\\\fastuav\\\\notebooks\\\\workdir\\\\multirotor_mdo_discrete.yaml'"
      ]
     },
     "execution_count": 8,
     "metadata": {},
     "output_type": "execute_result"
    }
   ],
   "source": [
    "oad.generate_configuration_file(\n",
    "    CONFIGURATION_FILE, overwrite=True, distribution_name=\"fastuav\", sample_file_name=\"multirotor_mdo_discrete.yaml\"\n",
    ")"
   ]
  },
  {
   "cell_type": "markdown",
   "metadata": {},
   "source": [
    "The changes in the model rely in the use of catalogues instead of continuous estimation models to select the components. This is described in the configuration file by the `off_the_shelf` option when defining the model:\n",
    "\n",
    "```yaml\n",
    "model:\n",
    "    scenarios:\n",
    "        id: fastuav.scenarios.multirotor\n",
    "    propulsion:\n",
    "        id: fastuav.propulsion.multirotor\n",
    "        off_the_shelf_propeller: True\n",
    "```\n",
    "\n",
    "You can check with the N2 diagram visualization that the `catalogue_selection` module has replaced the `skip_catalogue_selection` module for components where the option has been set to True."
   ]
  },
  {
   "cell_type": "code",
   "execution_count": 9,
   "metadata": {},
   "outputs": [
    {
     "name": "stderr",
     "output_type": "stream",
     "text": [
      "INFO    : N2 diagram written in D:\\THESE\\Tools\\FAST-UAV\\src\\fastuav\\notebooks\\workdir\\n2.html\n"
     ]
    },
    {
     "data": {
      "text/html": [
       "\n",
       "        <iframe\n",
       "            width=\"100%\"\n",
       "            height=\"500px\"\n",
       "            src=\"./workdir\\n2.html\"\n",
       "            frameborder=\"0\"\n",
       "            allowfullscreen\n",
       "            \n",
       "        ></iframe>\n",
       "        "
      ],
      "text/plain": [
       "<IPython.lib.display.IFrame at 0x1d6753d7ee0>"
      ]
     },
     "execution_count": 9,
     "metadata": {},
     "output_type": "execute_result"
    }
   ],
   "source": [
    "N2_FILE = pth.join(WORK_FOLDER_PATH, \"n2.html\")\n",
    "oad.write_n2(CONFIGURATION_FILE, N2_FILE, overwrite=True)\n",
    "from IPython.display import IFrame\n",
    "IFrame(src=N2_FILE, width=\"100%\", height=\"500px\")"
   ]
  },
  {
   "cell_type": "markdown",
   "metadata": {},
   "source": [
    "Now, the problem outputs from the design optimization in the continuous domain will be re-used as an initial guess for the optimization in the discrete domain."
   ]
  },
  {
   "cell_type": "code",
   "execution_count": 10,
   "metadata": {},
   "outputs": [
    {
     "name": "stderr",
     "output_type": "stream",
     "text": [
      "INFO    : Problem inputs written in D:\\THESE\\Tools\\FAST-UAV\\src\\fastuav\\notebooks\\workdir\\problem_inputs.xml\n"
     ]
    },
    {
     "data": {
      "text/plain": [
       "'D:\\\\THESE\\\\Tools\\\\FAST-UAV\\\\src\\\\fastuav\\\\notebooks\\\\workdir\\\\problem_inputs.xml'"
      ]
     },
     "execution_count": 10,
     "metadata": {},
     "output_type": "execute_result"
    }
   ],
   "source": [
    "oad.generate_inputs(CONFIGURATION_FILE, SOURCE_FILE, overwrite=True)"
   ]
  },
  {
   "cell_type": "code",
   "execution_count": 11,
   "metadata": {},
   "outputs": [
    {
     "data": {
      "application/vnd.jupyter.widget-view+json": {
       "model_id": "6200644b522b4185be73c7947572b351",
       "version_major": 2,
       "version_minor": 0
      },
      "text/plain": [
       "VBox(children=(HBox(children=(Button(description='Load', icon='upload', style=ButtonStyle(), tooltip='Load the…"
      ]
     },
     "metadata": {},
     "output_type": "display_data"
    }
   ],
   "source": [
    "INPUT_FILE = pth.join(WORK_FOLDER_PATH, \"problem_inputs.xml\")\n",
    "oad.variable_viewer(INPUT_FILE)"
   ]
  },
  {
   "cell_type": "markdown",
   "metadata": {},
   "source": [
    "## 2. Multirotor MDO with off-the-shelf components\n",
    "\n",
    "Due to the non-continuous nature of the selection process, the use of a gradient-based algorithm is risky. We therefore recommend the use of an evolutionary algorithm, [CMA-ES](http://www.cmap.polytechnique.fr/~nikolaus.hansen/cmaesintro.html).\n",
    "\n",
    "### a) Using a gradient-based algorithm: SLSQP"
   ]
  },
  {
   "cell_type": "code",
   "execution_count": 12,
   "metadata": {},
   "outputs": [
    {
     "name": "stderr",
     "output_type": "stream",
     "text": [
      "INFO    : Computation finished after 1.37 seconds\n",
      "INFO    : Problem outputs written in D:\\THESE\\Tools\\FAST-UAV\\src\\fastuav\\notebooks\\workdir\\problem_outputs.xml\n"
     ]
    },
    {
     "name": "stdout",
     "output_type": "stream",
     "text": [
      "Optimization terminated successfully    (Exit mode 0)\n",
      "            Current function value: [1.48691983]\n",
      "            Iterations: 15\n",
      "            Function evaluations: 28\n",
      "            Gradient evaluations: 15\n",
      "Optimization Complete\n",
      "-----------------------------------\n"
     ]
    }
   ],
   "source": [
    "optim_problem = oad.optimize_problem(CONFIGURATION_FILE, overwrite=True)"
   ]
  },
  {
   "cell_type": "markdown",
   "metadata": {},
   "source": [
    "### b) Using an evolutionnary strategy: CMA-ES\n",
    "The [pycma](https://github.com/CMA-ES/pycma) implementation of CMA-ES is used. The optimizer is wrapped with a modified version of the [OpenMDAO driver](https://github.com/OpenMDAO/RevHack2020/tree/master/problems/cma_es).<br>\n",
    "\n",
    "*Note that the use of custom-made drivers is not supported yet by FAST-OAD. Consequently, the setup and run of the problem is made by hand.*"
   ]
  },
  {
   "cell_type": "code",
   "execution_count": 13,
   "metadata": {},
   "outputs": [
    {
     "name": "stdout",
     "output_type": "stream",
     "text": [
      "(5_w,11)-aCMA-ES (mu_w=3.4,w_1=42%) in dimension 11 (seed=1004117, Tue Oct  4 16:03:27 2022)\n",
      "Iterat #Fevals   function value  axis ratio  sigma  min&max std  t[m:s]\n",
      "    1     11 3.219252718810693e+05 1.0e+00 9.58e-02  9e-02  1e-01 0:00.1\n",
      "    2     22 8.392799453909576e+04 1.2e+00 9.48e-02  9e-02  1e-01 0:00.2\n",
      "    3     33 2.573333777855834e+05 1.2e+00 9.12e-02  8e-02  9e-02 0:00.3\n",
      "   35    385 2.394790712242820e+04 5.7e+00 2.57e-02  6e-03  3e-02 0:03.4\n",
      "   77    847 1.535344559340325e+00 2.6e+01 5.25e-03  4e-04  8e-03 0:07.4\n",
      "  100   1100 1.514587495020715e+00 3.8e+01 3.91e-03  2e-04  6e-03 0:09.7\n",
      "  162   1782 1.505569624937891e+00 6.3e+01 1.71e-03  9e-05  3e-03 0:15.8\n",
      "  200   2200 1.497135133782938e+00 8.0e+01 4.80e-03  2e-04  8e-03 0:19.4\n",
      "  285   3135 1.488321740248722e+00 1.0e+02 2.63e-03  9e-05  5e-03 0:27.5\n",
      "  300   3300 1.487951475794545e+00 1.1e+02 1.62e-03  6e-05  2e-03 0:29.0\n",
      "  398   4378 1.487662936244335e+00 3.7e+02 3.00e-04  9e-06  5e-04 0:39.0\n",
      "  400   4400 1.487659933902844e+00 4.2e+02 3.13e-04  9e-06  5e-04 0:39.2\n",
      "  500   5500 1.487254933076664e+00 6.7e+02 9.52e-04  2e-05  9e-04 0:49.6\n",
      "  600   6600 1.487145936043668e+00 3.4e+03 7.23e-04  5e-06  1e-03 0:59.4\n",
      "  630   6930 1.487143926755342e+00 2.5e+03 1.09e-03  4e-06  1e-03 1:02.3\n",
      "termination on tolfunhist=1e-05 (Tue Oct  4 16:04:32 2022)\n",
      "final/bestever f-value = 1.487144e+00 1.487141e+00\n",
      "incumbent solution: [2.3419604  0.81963118 0.31727737 0.1336064  0.59299022 1.00000021\n",
      " 0.82122637 0.47101485 ...]\n",
      "std deviations: [4.31906883e-06 7.65808345e-04 8.75291087e-04 4.13247235e-05\n",
      " 9.32868506e-05 6.99026875e-04 2.96960983e-05 9.46202125e-06 ...]\n",
      "(11_w,22)-aCMA-ES (mu_w=6.5,w_1=26%) in dimension 11 (seed=1004118, Tue Oct  4 16:04:32 2022)\n"
     ]
    },
    {
     "name": "stderr",
     "output_type": "stream",
     "text": [
      "D:\\Softwares\\poetry\\cache\\virtualenvs\\fastuav-qz6dlUbG-py3.8\\lib\\site-packages\\cma\\utilities\\utils.py:343: UserWarning: CAVE: restart_from_best is often not useful ()\n",
      "  warnings.warn(msg + ' (' +\n"
     ]
    },
    {
     "name": "stdout",
     "output_type": "stream",
     "text": [
      "Iterat #Fevals   function value  axis ratio  sigma  min&max std  t[m:s]\n",
      "    1   6953 2.741720889438445e+05 1.0e+00 9.67e-02  9e-02  1e-01 0:00.2\n",
      "    2   6975 1.852526522224124e+05 1.2e+00 9.41e-02  8e-02  1e-01 0:00.4\n",
      "    3   6997 2.319571799495425e+05 1.3e+00 8.47e-02  7e-02  9e-02 0:00.6\n",
      "   19   7349 2.959317455490425e+04 5.2e+00 3.80e-02  1e-02  5e-02 0:03.7\n",
      "   39   7789 1.542018647412492e+00 2.1e+01 1.62e-02  1e-03  2e-02 0:07.7\n",
      "   63   8317 1.509318676281360e+00 8.4e+01 9.05e-03  4e-04  2e-02 0:12.9\n",
      "   95   9021 1.497616433719014e+00 8.0e+01 4.83e-03  1e-04  7e-03 0:19.1\n",
      "  100   9131 1.495806771444244e+00 8.6e+01 4.10e-03  1e-04  6e-03 0:20.0\n",
      "  143  10077 1.490400522874123e+00 1.6e+02 4.06e-03  8e-05  8e-03 0:28.2\n",
      "  189  11089 1.488479774465109e+00 5.7e+02 3.73e-03  1e-04  9e-03 0:37.2\n",
      "  200  11331 1.488335972069343e+00 6.2e+02 3.14e-03  8e-05  6e-03 0:39.5\n",
      "  253  12497 1.487994409245117e+00 7.3e+02 3.06e-03  3e-05  4e-03 0:50.7\n",
      "  300  13531 1.487690433413758e+00 7.7e+02 7.58e-03  7e-05  9e-03 1:00.7\n",
      "  363  14917 1.487401473334214e+00 4.5e+03 1.34e-02  4e-05  2e-02 1:13.8\n",
      "  400  15731 1.487312758186892e+00 7.4e+03 1.97e-02  3e-05  3e-02 1:21.5\n",
      "  473  17337 1.487190973395849e+00 2.2e+04 1.32e-02  9e-06  1e-02 1:36.6\n",
      "  500  17931 1.487153471902737e+00 2.8e+04 1.97e-02  1e-05  2e-02 1:42.2\n",
      "  581  19713 1.487078243300305e+00 8.7e+04 3.99e-02  7e-06  7e-02 1:59.2\n",
      "NOTE (module=cma, iteration=587):  \n",
      "condition in coordinate system exceeded 1.0e+08, rescaled to 1.0e+00, \n",
      "condition changed from 7.6e+09 to 5.6e+03\n",
      "  600  20131 1.487058555184652e+00 8.2e+01 5.12e-02  7e-06  8e-02 2:03.2\n",
      "  689  22089 1.486992839362886e+00 1.3e+02 7.39e-02  3e-06  1e-01 2:21.6\n",
      "termination on tolfunhist=1e-05 after 1 restart (Tue Oct  4 16:06:56 2022)\n",
      "final/bestever f-value = 1.486994e+00 1.486993e+00\n",
      "incumbent solution: [2.34172407 0.73914052 0.30018144 0.13335831 0.59083958 1.0000001\n",
      " 0.82026297 0.47128073 ...]\n",
      "std deviations: [3.42397529e-06 2.82965501e-02 1.30442664e-01 3.36269012e-05\n",
      " 8.32395765e-05 5.85755326e-04 1.50546716e-05 6.19582815e-06 ...]\n",
      "Objective function value  {'mtow.mtow_calculation.data:weights:mtow': array([1.48699269])}\n"
     ]
    },
    {
     "data": {
      "image/png": "[encoded data removed]",
      "text/plain": [
       "<Figure size 432x288 with 4 Axes>"
      ]
     },
     "metadata": {
      "needs_background": "light"
     },
     "output_type": "display_data"
    }
   ],
   "source": [
    "# Get problem configuration\n",
    "conf = oad.FASTOADProblemConfigurator(CONFIGURATION_FILE)\n",
    "prob = conf.get_problem(read_inputs=True, auto_scaling=True)\n",
    "\n",
    "# CMA-ES Driver setup (see cma.CMAOptions() for all possible options for CMA-ES)\n",
    "driver = prob.driver = CMAESDriver()\n",
    "driver.options[\"sigma0\"] = 0.1\n",
    "driver.options[\n",
    "    \"penalty_parameter\"\n",
    "] = 1.0e6  # should be chosen such that f and the constraints violation have a similar magnitude.\n",
    "driver.options[\"penalty_exponent\"] = 1.0\n",
    "driver.options[\"restarts\"] = 1\n",
    "driver.options[\"restart_from_best\"] = True\n",
    "driver.options[\"bipop\"] = False\n",
    "driver.CMAOptions[\"tolfun\"] = 1e-6\n",
    "driver.CMAOptions[\"tolfunhist\"] = 1e-5\n",
    "driver.CMAOptions[\"popsize_factor\"] = 1\n",
    "# driver.CMAOptions['CMA_stds'] = [1, 1, 100, 0.1, 0.1, 1, 1, 1, 1]\n",
    "# driver.CMAOptions['CSA_dampfac'] = 1.  # positive multiplier for step-size damping\n",
    "# driver.CMAOptions['CSA_squared'] = True\n",
    "# driver.CMAOptions['integer_variables'] = [2]\n",
    "# driver.options['augmented_lagrangian'] = True  # whether to use penalty method or augmented lagrangian for handling constraints\n",
    "\n",
    "# Setup and run problem\n",
    "prob.setup()\n",
    "start_time = time()\n",
    "prob.optim_failed = prob.run_driver()  # optimize\n",
    "end_time = time()\n",
    "computation_time = round(end_time - start_time, 2)\n",
    "prob.write_outputs()\n",
    "\n",
    "print(\"Objective function value \", driver.get_objective_values())\n",
    "\n",
    "logger = cma.plot()  # plot logger"
   ]
  },
  {
   "cell_type": "markdown",
   "metadata": {},
   "source": [
    "Let's save and visualize the optimization results:"
   ]
  },
  {
   "cell_type": "code",
   "execution_count": 15,
   "metadata": {},
   "outputs": [
    {
     "name": "stderr",
     "output_type": "stream",
     "text": [
      "D:\\Softwares\\poetry\\cache\\virtualenvs\\fastuav-qz6dlUbG-py3.8\\lib\\site-packages\\jupyter_client\\session.py:716: UserWarning:\n",
      "\n",
      "Message serialization failed with:\n",
      "Out of range float values are not JSON compliant\n",
      "Supporting this message is deprecated in jupyter-client 7, please make sure your message is JSON-compliant\n",
      "\n"
     ]
    },
    {
     "data": {
      "application/vnd.jupyter.widget-view+json": {
       "model_id": "0d2180ea759d4d7fb214f4183f5be88b",
       "version_major": 2,
       "version_minor": 0
      },
      "text/plain": [
       "VBox(children=(HBox(children=(Button(description='Load', icon='upload', style=ButtonStyle(), tooltip='Load the…"
      ]
     },
     "metadata": {},
     "output_type": "display_data"
    }
   ],
   "source": [
    "OUTPUT_FILE = pth.join(WORK_FOLDER_PATH, \"problem_outputs.xml\")\n",
    "DJI_M600_OUTPUT_FILE = pth.join(DATA_FOLDER_PATH, \"problem_outputs_discrete_DJI_M600_mdo.xml\")\n",
    "shutil.copy(OUTPUT_FILE, DJI_M600_OUTPUT_FILE)\n",
    "oad.optimization_viewer(CONFIGURATION_FILE)"
   ]
  },
  {
   "cell_type": "code",
   "execution_count": 16,
   "metadata": {},
   "outputs": [
    {
     "data": {
      "application/vnd.jupyter.widget-view+json": {
       "model_id": "8527419027e5404a8e1827aa0672f46f",
       "version_major": 2,
       "version_minor": 0
      },
      "text/plain": [
       "VBox(children=(HBox(children=(Button(description='Load', icon='upload', style=ButtonStyle(), tooltip='Load the…"
      ]
     },
     "metadata": {},
     "output_type": "display_data"
    }
   ],
   "source": [
    "oad.variable_viewer(OUTPUT_FILE)"
   ]
  },
  {
   "cell_type": "markdown",
   "metadata": {},
   "source": [
    "## 3. Analysis and plots\n",
    "\n",
    "We may now compare the results from the optimization in the continuous domain with the off-the-shelf configuration:"
   ]
  },
  {
   "cell_type": "code",
   "execution_count": 17,
   "metadata": {},
   "outputs": [
    {
     "data": {
      "application/vnd.plotly.v1+json": {
       "config": {
        "plotlyServerURL": "https://plot.ly"
       },
       "data": [
        {
         "line": {
          "color": "rgb(31, 119, 180)"
         },
         "mode": "lines",
         "name": "Drone custom",
         "type": "scatter",
         "uid": "8befeab8-02c9-4bdf-aab3-60209ffc0d0c",
         "x": [
          0.2933369190643414,
          0.4899781302341333,
          0.4899781302341333,
          0.2933369190643414,
          0.16609614803188497,
          0.26441675361678096,
          0.22556137661735245,
          0.12724077103245648,
          -0.1272407710324564,
          -0.2255613766173523,
          -0.2644167536167808,
          -0.16609614803188488,
          -0.2933369190643414,
          -0.4899781302341333,
          -0.4899781302341333,
          -0.2933369190643414,
          -0.16609614803188508,
          -0.26441675361678113,
          -0.22556137661735262,
          -0.1272407710324566,
          0.12724077103245648,
          0.22556137661735245,
          0.26441675361678096,
          0.16609614803188497,
          0.2933369190643414
         ],
         "y": [
          0.02243316237008444,
          0.02243316237008444,
          -0.02243316237008444,
          -0.02243316237008444,
          -0.24282064259253722,
          -0.4131169268965173,
          -0.4355500892666017,
          -0.26525380496262163,
          -0.2652538049626217,
          -0.43555008926660177,
          -0.41311692689651736,
          -0.24282064259253727,
          -0.022433162370084473,
          -0.022433162370084497,
          0.02243316237008438,
          0.022433162370084404,
          0.2428206425925372,
          0.41311692689651724,
          0.43555008926660166,
          0.26525380496262163,
          0.26525380496262163,
          0.4355500892666017,
          0.4131169268965173,
          0.24282064259253722,
          0.02243316237008444
         ]
        },
        {
         "line": {
          "color": "rgb(255, 127, 14)"
         },
         "mode": "lines",
         "name": "Drone off-the-shelf",
         "type": "scatter",
         "uid": "729e6abe-337f-4dd3-989f-3f552b81d155",
         "x": [
          0.289295260296887,
          0.45720000000000005,
          0.45720000000000005,
          0.289295260296887,
          0.1633704917768391,
          0.24732286162839565,
          0.20987713837160452,
          0.12592476852004797,
          -0.1259247685200479,
          -0.20987713837160435,
          -0.24732286162839548,
          -0.16337049177683902,
          -0.289295260296887,
          -0.45720000000000005,
          -0.45720000000000005,
          -0.289295260296887,
          -0.1633704917768392,
          -0.24732286162839578,
          -0.20987713837160465,
          -0.12592476852004808,
          0.12592476852004797,
          0.20987713837160452,
          0.24732286162839565,
          0.1633704917768391,
          0.289295260296887
         ],
         "y": [
          0.021619298402308595,
          0.021619298402308595,
          -0.021619298402308595,
          -0.021619298402308595,
          -0.23972739541038157,
          -0.3851371654090911,
          -0.4067564638113997,
          -0.26134669381269016,
          -0.26134669381269016,
          -0.40675646381139974,
          -0.38513716540909115,
          -0.23972739541038157,
          -0.02161929840230863,
          -0.02161929840230865,
          0.02161929840230854,
          0.02161929840230856,
          0.2397273954103815,
          0.38513716540909104,
          0.4067564638113996,
          0.2613466938126901,
          0.26134669381269016,
          0.4067564638113997,
          0.3851371654090911,
          0.23972739541038157,
          0.021619298402308595
         ]
        }
       ],
       "layout": {
        "annotations": [
         {
          "align": "center",
          "bgcolor": "white",
          "bordercolor": "rgb(31, 119, 180)",
          "borderpad": 4,
          "borderwidth": 2,
          "font": {
           "color": "rgb(31, 119, 180)"
          },
          "showarrow": false,
          "text": "Single propellers",
          "x": 1,
          "xanchor": "right",
          "xref": "paper",
          "xshift": 0,
          "y": 1,
          "yanchor": "top",
          "yref": "paper",
          "yshift": 0
         },
         {
          "align": "center",
          "bgcolor": "white",
          "bordercolor": "rgb(255, 127, 14)",
          "borderpad": 4,
          "borderwidth": 2,
          "font": {
           "color": "rgb(255, 127, 14)"
          },
          "showarrow": false,
          "text": "Single propellers",
          "x": 1,
          "xanchor": "right",
          "xref": "paper",
          "xshift": 0,
          "y": 1,
          "yanchor": "top",
          "yref": "paper",
          "yshift": -35
         }
        ],
        "autosize": true,
        "shapes": [
         {
          "fillcolor": "rgb(31, 119, 180)",
          "line": {
           "color": "rgb(31, 119, 180)",
           "width": 3
          },
          "type": "rect",
          "x0": -0.1166435688338027,
          "x1": 0.1166435688338027,
          "xref": "x",
          "y0": -0.03888118961126757,
          "y1": 0.03888118961126757,
          "yref": "y"
         },
         {
          "fillcolor": "rgb(31, 119, 180)",
          "line": {
           "color": "rgb(31, 119, 180)",
           "width": 3
          },
          "type": "circle",
          "x0": 0.4655356040610986,
          "x1": 0.5144206564071679,
          "xref": "x",
          "y0": -0.02444252617303468,
          "y1": 0.02444252617303468,
          "yref": "y"
         },
         {
          "fillcolor": "rgb(31, 119, 180)",
          "line": {
           "color": "rgb(31, 119, 180)",
           "width": 0
          },
          "opacity": 0.25,
          "type": "circle",
          "x0": 0.24498906511706667,
          "x1": 0.7349671953511999,
          "xref": "x",
          "y0": -0.2449890651170666,
          "y1": 0.2449890651170666,
          "yref": "y"
         },
         {
          "fillcolor": "rgb(31, 119, 180)",
          "line": {
           "color": "rgb(31, 119, 180)",
           "width": 3
          },
          "type": "circle",
          "x0": 0.220546538944032,
          "x1": 0.26943159129010136,
          "xref": "x",
          "y0": -0.44877603425459417,
          "y1": -0.39989098190852485,
          "yref": "y"
         },
         {
          "fillcolor": "rgb(31, 119, 180)",
          "line": {
           "color": "rgb(31, 119, 180)",
           "width": 0
          },
          "opacity": 0.25,
          "type": "circle",
          "x0": 8.326672684688674e-17,
          "x1": 0.4899781302341333,
          "xref": "x",
          "y0": -0.6693225731986261,
          "y1": -0.1793444429644929,
          "yref": "y"
         },
         {
          "fillcolor": "rgb(31, 119, 180)",
          "line": {
           "color": "rgb(31, 119, 180)",
           "width": 3
          },
          "type": "circle",
          "x0": -0.2694315912901012,
          "x1": -0.22054653894403184,
          "xref": "x",
          "y0": -0.4487760342545942,
          "y1": -0.3998909819085249,
          "yref": "y"
         },
         {
          "fillcolor": "rgb(31, 119, 180)",
          "line": {
           "color": "rgb(31, 119, 180)",
           "width": 0
          },
          "opacity": 0.25,
          "type": "circle",
          "x0": -0.48997813023413317,
          "x1": 8.326672684688674e-17,
          "xref": "x",
          "y0": -0.6693225731986262,
          "y1": -0.17934444296449295,
          "yref": "y"
         },
         {
          "fillcolor": "rgb(31, 119, 180)",
          "line": {
           "color": "rgb(31, 119, 180)",
           "width": 3
          },
          "type": "circle",
          "x0": -0.5144206564071679,
          "x1": -0.4655356040610986,
          "xref": "x",
          "y0": -0.02444252617303474,
          "y1": 0.02444252617303462,
          "yref": "y"
         },
         {
          "fillcolor": "rgb(31, 119, 180)",
          "line": {
           "color": "rgb(31, 119, 180)",
           "width": 0
          },
          "opacity": 0.25,
          "type": "circle",
          "x0": -0.7349671953511999,
          "x1": -0.24498906511706667,
          "xref": "x",
          "y0": -0.24498906511706667,
          "y1": 0.24498906511706656,
          "yref": "y"
         },
         {
          "fillcolor": "rgb(31, 119, 180)",
          "line": {
           "color": "rgb(31, 119, 180)",
           "width": 3
          },
          "type": "circle",
          "x0": -0.2694315912901015,
          "x1": -0.22054653894403217,
          "xref": "x",
          "y0": 0.3998909819085248,
          "y1": 0.4487760342545941,
          "yref": "y"
         },
         {
          "fillcolor": "rgb(31, 119, 180)",
          "line": {
           "color": "rgb(31, 119, 180)",
           "width": 0
          },
          "opacity": 0.25,
          "type": "circle",
          "x0": -0.4899781302341335,
          "x1": -2.498001805406602e-16,
          "xref": "x",
          "y0": 0.17934444296449284,
          "y1": 0.6693225731986261,
          "yref": "y"
         },
         {
          "fillcolor": "rgb(31, 119, 180)",
          "line": {
           "color": "rgb(31, 119, 180)",
           "width": 3
          },
          "type": "circle",
          "x0": 0.220546538944032,
          "x1": 0.26943159129010136,
          "xref": "x",
          "y0": 0.39989098190852485,
          "y1": 0.44877603425459417,
          "yref": "y"
         },
         {
          "fillcolor": "rgb(31, 119, 180)",
          "line": {
           "color": "rgb(31, 119, 180)",
           "width": 0
          },
          "opacity": 0.25,
          "type": "circle",
          "x0": 8.326672684688674e-17,
          "x1": 0.4899781302341333,
          "xref": "x",
          "y0": 0.1793444429644929,
          "y1": 0.6693225731986261,
          "yref": "y"
         },
         {
          "fillcolor": "rgb(255, 127, 14)",
          "line": {
           "color": "rgb(255, 127, 14)",
           "width": 3
          },
          "type": "rect",
          "x0": -0.11675086895681967,
          "x1": 0.11675086895681967,
          "xref": "x",
          "y0": -0.03891695631893989,
          "y1": 0.03891695631893989,
          "yref": "y"
         },
         {
          "fillcolor": "rgb(255, 127, 14)",
          "line": {
           "color": "rgb(255, 127, 14)",
           "width": 3
          },
          "type": "circle",
          "x0": 0.4334514139798039,
          "x1": 0.4809485860201962,
          "xref": "x",
          "y0": -0.023748586020196118,
          "y1": 0.023748586020196118,
          "yref": "y"
         },
         {
          "fillcolor": "rgb(255, 127, 14)",
          "line": {
           "color": "rgb(255, 127, 14)",
           "width": 0
          },
          "opacity": 0.25,
          "type": "circle",
          "x0": 0.22860000000000005,
          "x1": 0.6858000000000001,
          "xref": "x",
          "y0": -0.2286,
          "y1": 0.2286,
          "yref": "y"
         },
         {
          "fillcolor": "rgb(255, 127, 14)",
          "line": {
           "color": "rgb(255, 127, 14)",
           "width": 3
          },
          "type": "circle",
          "x0": 0.20485141397980397,
          "x1": 0.2523485860201962,
          "xref": "x",
          "y0": -0.41969540063044153,
          "y1": -0.37219822859004925,
          "yref": "y"
         },
         {
          "fillcolor": "rgb(255, 127, 14)",
          "line": {
           "color": "rgb(255, 127, 14)",
           "width": 0
          },
          "opacity": 0.25,
          "type": "circle",
          "x0": 8.326672684688674e-17,
          "x1": 0.45720000000000005,
          "xref": "x",
          "y0": -0.6245468146102454,
          "y1": -0.1673468146102454,
          "yref": "y"
         },
         {
          "fillcolor": "rgb(255, 127, 14)",
          "line": {
           "color": "rgb(255, 127, 14)",
           "width": 3
          },
          "type": "circle",
          "x0": -0.25234858602019605,
          "x1": -0.2048514139798038,
          "xref": "x",
          "y0": -0.4196954006304416,
          "y1": -0.3721982285900493,
          "yref": "y"
         },
         {
          "fillcolor": "rgb(255, 127, 14)",
          "line": {
           "color": "rgb(255, 127, 14)",
           "width": 0
          },
          "opacity": 0.25,
          "type": "circle",
          "x0": -0.45719999999999994,
          "x1": 8.326672684688674e-17,
          "xref": "x",
          "y0": -0.6245468146102454,
          "y1": -0.16734681461024545,
          "yref": "y"
         },
         {
          "fillcolor": "rgb(255, 127, 14)",
          "line": {
           "color": "rgb(255, 127, 14)",
           "width": 3
          },
          "type": "circle",
          "x0": -0.4809485860201962,
          "x1": -0.4334514139798039,
          "xref": "x",
          "y0": -0.023748586020196173,
          "y1": 0.023748586020196062,
          "yref": "y"
         },
         {
          "fillcolor": "rgb(255, 127, 14)",
          "line": {
           "color": "rgb(255, 127, 14)",
           "width": 0
          },
          "opacity": 0.25,
          "type": "circle",
          "x0": -0.6858000000000001,
          "x1": -0.22860000000000005,
          "xref": "x",
          "y0": -0.22860000000000005,
          "y1": 0.22859999999999994,
          "yref": "y"
         },
         {
          "fillcolor": "rgb(255, 127, 14)",
          "line": {
           "color": "rgb(255, 127, 14)",
           "width": 3
          },
          "type": "circle",
          "x0": -0.25234858602019633,
          "x1": -0.2048514139798041,
          "xref": "x",
          "y0": 0.3721982285900492,
          "y1": 0.4196954006304415,
          "yref": "y"
         },
         {
          "fillcolor": "rgb(255, 127, 14)",
          "line": {
           "color": "rgb(255, 127, 14)",
           "width": 0
          },
          "opacity": 0.25,
          "type": "circle",
          "x0": -0.4572000000000002,
          "x1": -2.220446049250313e-16,
          "xref": "x",
          "y0": 0.16734681461024534,
          "y1": 0.6245468146102453,
          "yref": "y"
         },
         {
          "fillcolor": "rgb(255, 127, 14)",
          "line": {
           "color": "rgb(255, 127, 14)",
           "width": 3
          },
          "type": "circle",
          "x0": 0.20485141397980397,
          "x1": 0.2523485860201962,
          "xref": "x",
          "y0": 0.37219822859004925,
          "y1": 0.41969540063044153,
          "yref": "y"
         },
         {
          "fillcolor": "rgb(255, 127, 14)",
          "line": {
           "color": "rgb(255, 127, 14)",
           "width": 0
          },
          "opacity": 0.25,
          "type": "circle",
          "x0": 8.326672684688674e-17,
          "x1": 0.45720000000000005,
          "xref": "x",
          "y0": 0.1673468146102454,
          "y1": 0.6245468146102454,
          "yref": "y"
         }
        ],
        "template": {
         "data": {
          "bar": [
           {
            "error_x": {
             "color": "#2a3f5f"
            },
            "error_y": {
             "color": "#2a3f5f"
            },
            "marker": {
             "line": {
              "color": "#E5ECF6",
              "width": 0.5
             },
             "pattern": {
              "fillmode": "overlay",
              "size": 10,
              "solidity": 0.2
             }
            },
            "type": "bar"
           }
          ],
          "barpolar": [
           {
            "marker": {
             "line": {
              "color": "#E5ECF6",
              "width": 0.5
             },
             "pattern": {
              "fillmode": "overlay",
              "size": 10,
              "solidity": 0.2
             }
            },
            "type": "barpolar"
           }
          ],
          "carpet": [
           {
            "aaxis": {
             "endlinecolor": "#2a3f5f",
             "gridcolor": "white",
             "linecolor": "white",
             "minorgridcolor": "white",
             "startlinecolor": "#2a3f5f"
            },
            "baxis": {
             "endlinecolor": "#2a3f5f",
             "gridcolor": "white",
             "linecolor": "white",
             "minorgridcolor": "white",
             "startlinecolor": "#2a3f5f"
            },
            "type": "carpet"
           }
          ],
          "choropleth": [
           {
            "colorbar": {
             "outlinewidth": 0,
             "ticks": ""
            },
            "type": "choropleth"
           }
          ],
          "contour": [
           {
            "colorbar": {
             "outlinewidth": 0,
             "ticks": ""
            },
            "colorscale": [
             [
              0,
              "#0d0887"
             ],
             [
              0.1111111111111111,
              "#46039f"
             ],
             [
              0.2222222222222222,
              "#7201a8"
             ],
             [
              0.3333333333333333,
              "#9c179e"
             ],
             [
              0.4444444444444444,
              "#bd3786"
             ],
             [
              0.5555555555555556,
              "#d8576b"
             ],
             [
              0.6666666666666666,
              "#ed7953"
             ],
             [
              0.7777777777777778,
              "#fb9f3a"
             ],
             [
              0.8888888888888888,
              "#fdca26"
             ],
             [
              1,
              "#f0f921"
             ]
            ],
            "type": "contour"
           }
          ],
          "contourcarpet": [
           {
            "colorbar": {
             "outlinewidth": 0,
             "ticks": ""
            },
            "type": "contourcarpet"
           }
          ],
          "heatmap": [
           {
            "colorbar": {
             "outlinewidth": 0,
             "ticks": ""
            },
            "colorscale": [
             [
              0,
              "#0d0887"
             ],
             [
              0.1111111111111111,
              "#46039f"
             ],
             [
              0.2222222222222222,
              "#7201a8"
             ],
             [
              0.3333333333333333,
              "#9c179e"
             ],
             [
              0.4444444444444444,
              "#bd3786"
             ],
             [
              0.5555555555555556,
              "#d8576b"
             ],
             [
              0.6666666666666666,
              "#ed7953"
             ],
             [
              0.7777777777777778,
              "#fb9f3a"
             ],
             [
              0.8888888888888888,
              "#fdca26"
             ],
             [
              1,
              "#f0f921"
             ]
            ],
            "type": "heatmap"
           }
          ],
          "heatmapgl": [
           {
            "colorbar": {
             "outlinewidth": 0,
             "ticks": ""
            },
            "colorscale": [
             [
              0,
              "#0d0887"
             ],
             [
              0.1111111111111111,
              "#46039f"
             ],
             [
              0.2222222222222222,
              "#7201a8"
             ],
             [
              0.3333333333333333,
              "#9c179e"
             ],
             [
              0.4444444444444444,
              "#bd3786"
             ],
             [
              0.5555555555555556,
              "#d8576b"
             ],
             [
              0.6666666666666666,
              "#ed7953"
             ],
             [
              0.7777777777777778,
              "#fb9f3a"
             ],
             [
              0.8888888888888888,
              "#fdca26"
             ],
             [
              1,
              "#f0f921"
             ]
            ],
            "type": "heatmapgl"
           }
          ],
          "histogram": [
           {
            "marker": {
             "pattern": {
              "fillmode": "overlay",
              "size": 10,
              "solidity": 0.2
             }
            },
            "type": "histogram"
           }
          ],
          "histogram2d": [
           {
            "colorbar": {
             "outlinewidth": 0,
             "ticks": ""
            },
            "colorscale": [
             [
              0,
              "#0d0887"
             ],
             [
              0.1111111111111111,
              "#46039f"
             ],
             [
              0.2222222222222222,
              "#7201a8"
             ],
             [
              0.3333333333333333,
              "#9c179e"
             ],
             [
              0.4444444444444444,
              "#bd3786"
             ],
             [
              0.5555555555555556,
              "#d8576b"
             ],
             [
              0.6666666666666666,
              "#ed7953"
             ],
             [
              0.7777777777777778,
              "#fb9f3a"
             ],
             [
              0.8888888888888888,
              "#fdca26"
             ],
             [
              1,
              "#f0f921"
             ]
            ],
            "type": "histogram2d"
           }
          ],
          "histogram2dcontour": [
           {
            "colorbar": {
             "outlinewidth": 0,
             "ticks": ""
            },
            "colorscale": [
             [
              0,
              "#0d0887"
             ],
             [
              0.1111111111111111,
              "#46039f"
             ],
             [
              0.2222222222222222,
              "#7201a8"
             ],
             [
              0.3333333333333333,
              "#9c179e"
             ],
             [
              0.4444444444444444,
              "#bd3786"
             ],
             [
              0.5555555555555556,
              "#d8576b"
             ],
             [
              0.6666666666666666,
              "#ed7953"
             ],
             [
              0.7777777777777778,
              "#fb9f3a"
             ],
             [
              0.8888888888888888,
              "#fdca26"
             ],
             [
              1,
              "#f0f921"
             ]
            ],
            "type": "histogram2dcontour"
           }
          ],
          "mesh3d": [
           {
            "colorbar": {
             "outlinewidth": 0,
             "ticks": ""
            },
            "type": "mesh3d"
           }
          ],
          "parcoords": [
           {
            "line": {
             "colorbar": {
              "outlinewidth": 0,
              "ticks": ""
             }
            },
            "type": "parcoords"
           }
          ],
          "pie": [
           {
            "automargin": true,
            "type": "pie"
           }
          ],
          "scatter": [
           {
            "fillpattern": {
             "fillmode": "overlay",
             "size": 10,
             "solidity": 0.2
            },
            "type": "scatter"
           }
          ],
          "scatter3d": [
           {
            "line": {
             "colorbar": {
              "outlinewidth": 0,
              "ticks": ""
             }
            },
            "marker": {
             "colorbar": {
              "outlinewidth": 0,
              "ticks": ""
             }
            },
            "type": "scatter3d"
           }
          ],
          "scattercarpet": [
           {
            "marker": {
             "colorbar": {
              "outlinewidth": 0,
              "ticks": ""
             }
            },
            "type": "scattercarpet"
           }
          ],
          "scattergeo": [
           {
            "marker": {
             "colorbar": {
              "outlinewidth": 0,
              "ticks": ""
             }
            },
            "type": "scattergeo"
           }
          ],
          "scattergl": [
           {
            "marker": {
             "colorbar": {
              "outlinewidth": 0,
              "ticks": ""
             }
            },
            "type": "scattergl"
           }
          ],
          "scattermapbox": [
           {
            "marker": {
             "colorbar": {
              "outlinewidth": 0,
              "ticks": ""
             }
            },
            "type": "scattermapbox"
           }
          ],
          "scatterpolar": [
           {
            "marker": {
             "colorbar": {
              "outlinewidth": 0,
              "ticks": ""
             }
            },
            "type": "scatterpolar"
           }
          ],
          "scatterpolargl": [
           {
            "marker": {
             "colorbar": {
              "outlinewidth": 0,
              "ticks": ""
             }
            },
            "type": "scatterpolargl"
           }
          ],
          "scatterternary": [
           {
            "marker": {
             "colorbar": {
              "outlinewidth": 0,
              "ticks": ""
             }
            },
            "type": "scatterternary"
           }
          ],
          "surface": [
           {
            "colorbar": {
             "outlinewidth": 0,
             "ticks": ""
            },
            "colorscale": [
             [
              0,
              "#0d0887"
             ],
             [
              0.1111111111111111,
              "#46039f"
             ],
             [
              0.2222222222222222,
              "#7201a8"
             ],
             [
              0.3333333333333333,
              "#9c179e"
             ],
             [
              0.4444444444444444,
              "#bd3786"
             ],
             [
              0.5555555555555556,
              "#d8576b"
             ],
             [
              0.6666666666666666,
              "#ed7953"
             ],
             [
              0.7777777777777778,
              "#fb9f3a"
             ],
             [
              0.8888888888888888,
              "#fdca26"
             ],
             [
              1,
              "#f0f921"
             ]
            ],
            "type": "surface"
           }
          ],
          "table": [
           {
            "cells": {
             "fill": {
              "color": "#EBF0F8"
             },
             "line": {
              "color": "white"
             }
            },
            "header": {
             "fill": {
              "color": "#C8D4E3"
             },
             "line": {
              "color": "white"
             }
            },
            "type": "table"
           }
          ]
         },
         "layout": {
          "annotationdefaults": {
           "arrowcolor": "#2a3f5f",
           "arrowhead": 0,
           "arrowwidth": 1
          },
          "autotypenumbers": "strict",
          "coloraxis": {
           "colorbar": {
            "outlinewidth": 0,
            "ticks": ""
           }
          },
          "colorscale": {
           "diverging": [
            [
             0,
             "#8e0152"
            ],
            [
             0.1,
             "#c51b7d"
            ],
            [
             0.2,
             "#de77ae"
            ],
            [
             0.3,
             "#f1b6da"
            ],
            [
             0.4,
             "#fde0ef"
            ],
            [
             0.5,
             "#f7f7f7"
            ],
            [
             0.6,
             "#e6f5d0"
            ],
            [
             0.7,
             "#b8e186"
            ],
            [
             0.8,
             "#7fbc41"
            ],
            [
             0.9,
             "#4d9221"
            ],
            [
             1,
             "#276419"
            ]
           ],
           "sequential": [
            [
             0,
             "#0d0887"
            ],
            [
             0.1111111111111111,
             "#46039f"
            ],
            [
             0.2222222222222222,
             "#7201a8"
            ],
            [
             0.3333333333333333,
             "#9c179e"
            ],
            [
             0.4444444444444444,
             "#bd3786"
            ],
            [
             0.5555555555555556,
             "#d8576b"
            ],
            [
             0.6666666666666666,
             "#ed7953"
            ],
            [
             0.7777777777777778,
             "#fb9f3a"
            ],
            [
             0.8888888888888888,
             "#fdca26"
            ],
            [
             1,
             "#f0f921"
            ]
           ],
           "sequentialminus": [
            [
             0,
             "#0d0887"
            ],
            [
             0.1111111111111111,
             "#46039f"
            ],
            [
             0.2222222222222222,
             "#7201a8"
            ],
            [
             0.3333333333333333,
             "#9c179e"
            ],
            [
             0.4444444444444444,
             "#bd3786"
            ],
            [
             0.5555555555555556,
             "#d8576b"
            ],
            [
             0.6666666666666666,
             "#ed7953"
            ],
            [
             0.7777777777777778,
             "#fb9f3a"
            ],
            [
             0.8888888888888888,
             "#fdca26"
            ],
            [
             1,
             "#f0f921"
            ]
           ]
          },
          "colorway": [
           "#636efa",
           "#EF553B",
           "#00cc96",
           "#ab63fa",
           "#FFA15A",
           "#19d3f3",
           "#FF6692",
           "#B6E880",
           "#FF97FF",
           "#FECB52"
          ],
          "font": {
           "color": "#2a3f5f"
          },
          "geo": {
           "bgcolor": "white",
           "lakecolor": "white",
           "landcolor": "#E5ECF6",
           "showlakes": true,
           "showland": true,
           "subunitcolor": "white"
          },
          "hoverlabel": {
           "align": "left"
          },
          "hovermode": "closest",
          "mapbox": {
           "style": "light"
          },
          "paper_bgcolor": "white",
          "plot_bgcolor": "#E5ECF6",
          "polar": {
           "angularaxis": {
            "gridcolor": "white",
            "linecolor": "white",
            "ticks": ""
           },
           "bgcolor": "#E5ECF6",
           "radialaxis": {
            "gridcolor": "white",
            "linecolor": "white",
            "ticks": ""
           }
          },
          "scene": {
           "xaxis": {
            "backgroundcolor": "#E5ECF6",
            "gridcolor": "white",
            "gridwidth": 2,
            "linecolor": "white",
            "showbackground": true,
            "ticks": "",
            "zerolinecolor": "white"
           },
           "yaxis": {
            "backgroundcolor": "#E5ECF6",
            "gridcolor": "white",
            "gridwidth": 2,
            "linecolor": "white",
            "showbackground": true,
            "ticks": "",
            "zerolinecolor": "white"
           },
           "zaxis": {
            "backgroundcolor": "#E5ECF6",
            "gridcolor": "white",
            "gridwidth": 2,
            "linecolor": "white",
            "showbackground": true,
            "ticks": "",
            "zerolinecolor": "white"
           }
          },
          "shapedefaults": {
           "line": {
            "color": "#2a3f5f"
           }
          },
          "ternary": {
           "aaxis": {
            "gridcolor": "white",
            "linecolor": "white",
            "ticks": ""
           },
           "baxis": {
            "gridcolor": "white",
            "linecolor": "white",
            "ticks": ""
           },
           "bgcolor": "#E5ECF6",
           "caxis": {
            "gridcolor": "white",
            "linecolor": "white",
            "ticks": ""
           }
          },
          "title": {
           "x": 0.05
          },
          "xaxis": {
           "automargin": true,
           "gridcolor": "white",
           "linecolor": "white",
           "ticks": "",
           "title": {
            "standoff": 15
           },
           "zerolinecolor": "white",
           "zerolinewidth": 2
          },
          "yaxis": {
           "automargin": true,
           "gridcolor": "white",
           "linecolor": "white",
           "ticks": "",
           "title": {
            "standoff": 15
           },
           "zerolinecolor": "white",
           "zerolinewidth": 2
          }
         }
        },
        "title": {
         "text": "Drone Geometry",
         "x": 0.5
        },
        "xaxis": {
         "autorange": true,
         "domain": [
          0,
          1
         ],
         "range": [
          -3.8448863371521074,
          3.8448863371521074
         ],
         "title": {
          "text": "y"
         },
         "type": "linear"
        },
        "yaxis": {
         "autorange": true,
         "domain": [
          0,
          1
         ],
         "range": [
          -0.6693225731986262,
          0.6693225731986261
         ],
         "scaleanchor": "x",
         "scaleratio": 1,
         "title": {
          "text": "x"
         },
         "type": "linear"
        }
       }
      },
      "image/png": "[encoded data removed]",
      "text/html": [
       "<div>                            <div id=\"0182d161-8e17-4d8e-8cd5-5883dcf6a080\" class=\"plotly-graph-div\" style=\"height:525px; width:100%;\"></div>            <script type=\"text/javascript\">                require([\"plotly\"], function(Plotly) {                    window.PLOTLYENV=window.PLOTLYENV || {};                                    if (document.getElementById(\"0182d161-8e17-4d8e-8cd5-5883dcf6a080\")) {                    Plotly.newPlot(                        \"0182d161-8e17-4d8e-8cd5-5883dcf6a080\",                        [{\"line\":{\"color\":\"rgb(31, 119, 180)\"},\"mode\":\"lines\",\"name\":\"Drone custom\",\"uid\":\"8befeab8-02c9-4bdf-aab3-60209ffc0d0c\",\"x\":[0.2933369190643414,0.4899781302341333,0.4899781302341333,0.2933369190643414,0.16609614803188497,0.26441675361678096,0.22556137661735245,0.12724077103245648,-0.1272407710324564,-0.2255613766173523,-0.2644167536167808,-0.16609614803188488,-0.2933369190643414,-0.4899781302341333,-0.4899781302341333,-0.2933369190643414,-0.16609614803188508,-0.26441675361678113,-0.22556137661735262,-0.1272407710324566,0.12724077103245648,0.22556137661735245,0.26441675361678096,0.16609614803188497,0.2933369190643414],\"y\":[0.02243316237008444,0.02243316237008444,-0.02243316237008444,-0.02243316237008444,-0.24282064259253722,-0.4131169268965173,-0.4355500892666017,-0.26525380496262163,-0.2652538049626217,-0.43555008926660177,-0.41311692689651736,-0.24282064259253727,-0.022433162370084473,-0.022433162370084497,0.02243316237008438,0.022433162370084404,0.2428206425925372,0.41311692689651724,0.43555008926660166,0.26525380496262163,0.26525380496262163,0.4355500892666017,0.4131169268965173,0.24282064259253722,0.02243316237008444],\"type\":\"scatter\"},{\"line\":{\"color\":\"rgb(255, 127, 14)\"},\"mode\":\"lines\",\"name\":\"Drone off-the-shelf\",\"uid\":\"729e6abe-337f-4dd3-989f-3f552b81d155\",\"x\":[0.289295260296887,0.45720000000000005,0.45720000000000005,0.289295260296887,0.1633704917768391,0.24732286162839565,0.20987713837160452,0.12592476852004797,-0.1259247685200479,-0.20987713837160435,-0.24732286162839548,-0.16337049177683902,-0.289295260296887,-0.45720000000000005,-0.45720000000000005,-0.289295260296887,-0.1633704917768392,-0.24732286162839578,-0.20987713837160465,-0.12592476852004808,0.12592476852004797,0.20987713837160452,0.24732286162839565,0.1633704917768391,0.289295260296887],\"y\":[0.021619298402308595,0.021619298402308595,-0.021619298402308595,-0.021619298402308595,-0.23972739541038157,-0.3851371654090911,-0.4067564638113997,-0.26134669381269016,-0.26134669381269016,-0.40675646381139974,-0.38513716540909115,-0.23972739541038157,-0.02161929840230863,-0.02161929840230865,0.02161929840230854,0.02161929840230856,0.2397273954103815,0.38513716540909104,0.4067564638113996,0.2613466938126901,0.26134669381269016,0.4067564638113997,0.3851371654090911,0.23972739541038157,0.021619298402308595],\"type\":\"scatter\"}],                        {\"annotations\":[{\"align\":\"center\",\"bgcolor\":\"white\",\"bordercolor\":\"rgb(31, 119, 180)\",\"borderpad\":4,\"borderwidth\":2,\"font\":{\"color\":\"rgb(31, 119, 180)\"},\"showarrow\":false,\"text\":\"Single propellers\",\"x\":1,\"xanchor\":\"right\",\"xref\":\"paper\",\"xshift\":0,\"y\":1,\"yanchor\":\"top\",\"yref\":\"paper\",\"yshift\":0},{\"align\":\"center\",\"bgcolor\":\"white\",\"bordercolor\":\"rgb(255, 127, 14)\",\"borderpad\":4,\"borderwidth\":2,\"font\":{\"color\":\"rgb(255, 127, 14)\"},\"showarrow\":false,\"text\":\"Single propellers\",\"x\":1,\"xanchor\":\"right\",\"xref\":\"paper\",\"xshift\":0,\"y\":1,\"yanchor\":\"top\",\"yref\":\"paper\",\"yshift\":-35}],\"shapes\":[{\"fillcolor\":\"rgb(31, 119, 180)\",\"line\":{\"color\":\"rgb(31, 119, 180)\",\"width\":3},\"type\":\"rect\",\"x0\":-0.1166435688338027,\"x1\":0.1166435688338027,\"xref\":\"x\",\"y0\":-0.03888118961126757,\"y1\":0.03888118961126757,\"yref\":\"y\"},{\"fillcolor\":\"rgb(31, 119, 180)\",\"line\":{\"color\":\"rgb(31, 119, 180)\",\"width\":3},\"type\":\"circle\",\"x0\":0.4655356040610986,\"x1\":0.5144206564071679,\"xref\":\"x\",\"y0\":-0.02444252617303468,\"y1\":0.02444252617303468,\"yref\":\"y\"},{\"fillcolor\":\"rgb(31, 119, 180)\",\"line\":{\"color\":\"rgb(31, 119, 180)\",\"width\":0},\"opacity\":0.25,\"type\":\"circle\",\"x0\":0.24498906511706667,\"x1\":0.7349671953511999,\"xref\":\"x\",\"y0\":-0.2449890651170666,\"y1\":0.2449890651170666,\"yref\":\"y\"},{\"fillcolor\":\"rgb(31, 119, 180)\",\"line\":{\"color\":\"rgb(31, 119, 180)\",\"width\":3},\"type\":\"circle\",\"x0\":0.220546538944032,\"x1\":0.26943159129010136,\"xref\":\"x\",\"y0\":-0.44877603425459417,\"y1\":-0.39989098190852485,\"yref\":\"y\"},{\"fillcolor\":\"rgb(31, 119, 180)\",\"line\":{\"color\":\"rgb(31, 119, 180)\",\"width\":0},\"opacity\":0.25,\"type\":\"circle\",\"x0\":8.326672684688674e-17,\"x1\":0.4899781302341333,\"xref\":\"x\",\"y0\":-0.6693225731986261,\"y1\":-0.1793444429644929,\"yref\":\"y\"},{\"fillcolor\":\"rgb(31, 119, 180)\",\"line\":{\"color\":\"rgb(31, 119, 180)\",\"width\":3},\"type\":\"circle\",\"x0\":-0.2694315912901012,\"x1\":-0.22054653894403184,\"xref\":\"x\",\"y0\":-0.4487760342545942,\"y1\":-0.3998909819085249,\"yref\":\"y\"},{\"fillcolor\":\"rgb(31, 119, 180)\",\"line\":{\"color\":\"rgb(31, 119, 180)\",\"width\":0},\"opacity\":0.25,\"type\":\"circle\",\"x0\":-0.48997813023413317,\"x1\":8.326672684688674e-17,\"xref\":\"x\",\"y0\":-0.6693225731986262,\"y1\":-0.17934444296449295,\"yref\":\"y\"},{\"fillcolor\":\"rgb(31, 119, 180)\",\"line\":{\"color\":\"rgb(31, 119, 180)\",\"width\":3},\"type\":\"circle\",\"x0\":-0.5144206564071679,\"x1\":-0.4655356040610986,\"xref\":\"x\",\"y0\":-0.02444252617303474,\"y1\":0.02444252617303462,\"yref\":\"y\"},{\"fillcolor\":\"rgb(31, 119, 180)\",\"line\":{\"color\":\"rgb(31, 119, 180)\",\"width\":0},\"opacity\":0.25,\"type\":\"circle\",\"x0\":-0.7349671953511999,\"x1\":-0.24498906511706667,\"xref\":\"x\",\"y0\":-0.24498906511706667,\"y1\":0.24498906511706656,\"yref\":\"y\"},{\"fillcolor\":\"rgb(31, 119, 180)\",\"line\":{\"color\":\"rgb(31, 119, 180)\",\"width\":3},\"type\":\"circle\",\"x0\":-0.2694315912901015,\"x1\":-0.22054653894403217,\"xref\":\"x\",\"y0\":0.3998909819085248,\"y1\":0.4487760342545941,\"yref\":\"y\"},{\"fillcolor\":\"rgb(31, 119, 180)\",\"line\":{\"color\":\"rgb(31, 119, 180)\",\"width\":0},\"opacity\":0.25,\"type\":\"circle\",\"x0\":-0.4899781302341335,\"x1\":-2.498001805406602e-16,\"xref\":\"x\",\"y0\":0.17934444296449284,\"y1\":0.6693225731986261,\"yref\":\"y\"},{\"fillcolor\":\"rgb(31, 119, 180)\",\"line\":{\"color\":\"rgb(31, 119, 180)\",\"width\":3},\"type\":\"circle\",\"x0\":0.220546538944032,\"x1\":0.26943159129010136,\"xref\":\"x\",\"y0\":0.39989098190852485,\"y1\":0.44877603425459417,\"yref\":\"y\"},{\"fillcolor\":\"rgb(31, 119, 180)\",\"line\":{\"color\":\"rgb(31, 119, 180)\",\"width\":0},\"opacity\":0.25,\"type\":\"circle\",\"x0\":8.326672684688674e-17,\"x1\":0.4899781302341333,\"xref\":\"x\",\"y0\":0.1793444429644929,\"y1\":0.6693225731986261,\"yref\":\"y\"},{\"fillcolor\":\"rgb(255, 127, 14)\",\"line\":{\"color\":\"rgb(255, 127, 14)\",\"width\":3},\"type\":\"rect\",\"x0\":-0.11675086895681967,\"x1\":0.11675086895681967,\"y0\":-0.03891695631893989,\"y1\":0.03891695631893989,\"xref\":\"x\",\"yref\":\"y\"},{\"fillcolor\":\"rgb(255, 127, 14)\",\"line\":{\"color\":\"rgb(255, 127, 14)\",\"width\":3},\"type\":\"circle\",\"x0\":0.4334514139798039,\"x1\":0.4809485860201962,\"y0\":-0.023748586020196118,\"y1\":0.023748586020196118,\"xref\":\"x\",\"yref\":\"y\"},{\"fillcolor\":\"rgb(255, 127, 14)\",\"line\":{\"color\":\"rgb(255, 127, 14)\",\"width\":0},\"opacity\":0.25,\"type\":\"circle\",\"x0\":0.22860000000000005,\"x1\":0.6858000000000001,\"y0\":-0.2286,\"y1\":0.2286,\"xref\":\"x\",\"yref\":\"y\"},{\"fillcolor\":\"rgb(255, 127, 14)\",\"line\":{\"color\":\"rgb(255, 127, 14)\",\"width\":3},\"type\":\"circle\",\"x0\":0.20485141397980397,\"x1\":0.2523485860201962,\"y0\":-0.41969540063044153,\"y1\":-0.37219822859004925,\"xref\":\"x\",\"yref\":\"y\"},{\"fillcolor\":\"rgb(255, 127, 14)\",\"line\":{\"color\":\"rgb(255, 127, 14)\",\"width\":0},\"opacity\":0.25,\"type\":\"circle\",\"x0\":8.326672684688674e-17,\"x1\":0.45720000000000005,\"y0\":-0.6245468146102454,\"y1\":-0.1673468146102454,\"xref\":\"x\",\"yref\":\"y\"},{\"fillcolor\":\"rgb(255, 127, 14)\",\"line\":{\"color\":\"rgb(255, 127, 14)\",\"width\":3},\"type\":\"circle\",\"x0\":-0.25234858602019605,\"x1\":-0.2048514139798038,\"y0\":-0.4196954006304416,\"y1\":-0.3721982285900493,\"xref\":\"x\",\"yref\":\"y\"},{\"fillcolor\":\"rgb(255, 127, 14)\",\"line\":{\"color\":\"rgb(255, 127, 14)\",\"width\":0},\"opacity\":0.25,\"type\":\"circle\",\"x0\":-0.45719999999999994,\"x1\":8.326672684688674e-17,\"y0\":-0.6245468146102454,\"y1\":-0.16734681461024545,\"xref\":\"x\",\"yref\":\"y\"},{\"fillcolor\":\"rgb(255, 127, 14)\",\"line\":{\"color\":\"rgb(255, 127, 14)\",\"width\":3},\"type\":\"circle\",\"x0\":-0.4809485860201962,\"x1\":-0.4334514139798039,\"y0\":-0.023748586020196173,\"y1\":0.023748586020196062,\"xref\":\"x\",\"yref\":\"y\"},{\"fillcolor\":\"rgb(255, 127, 14)\",\"line\":{\"color\":\"rgb(255, 127, 14)\",\"width\":0},\"opacity\":0.25,\"type\":\"circle\",\"x0\":-0.6858000000000001,\"x1\":-0.22860000000000005,\"y0\":-0.22860000000000005,\"y1\":0.22859999999999994,\"xref\":\"x\",\"yref\":\"y\"},{\"fillcolor\":\"rgb(255, 127, 14)\",\"line\":{\"color\":\"rgb(255, 127, 14)\",\"width\":3},\"type\":\"circle\",\"x0\":-0.25234858602019633,\"x1\":-0.2048514139798041,\"y0\":0.3721982285900492,\"y1\":0.4196954006304415,\"xref\":\"x\",\"yref\":\"y\"},{\"fillcolor\":\"rgb(255, 127, 14)\",\"line\":{\"color\":\"rgb(255, 127, 14)\",\"width\":0},\"opacity\":0.25,\"type\":\"circle\",\"x0\":-0.4572000000000002,\"x1\":-2.220446049250313e-16,\"y0\":0.16734681461024534,\"y1\":0.6245468146102453,\"xref\":\"x\",\"yref\":\"y\"},{\"fillcolor\":\"rgb(255, 127, 14)\",\"line\":{\"color\":\"rgb(255, 127, 14)\",\"width\":3},\"type\":\"circle\",\"x0\":0.20485141397980397,\"x1\":0.2523485860201962,\"y0\":0.37219822859004925,\"y1\":0.41969540063044153,\"xref\":\"x\",\"yref\":\"y\"},{\"fillcolor\":\"rgb(255, 127, 14)\",\"line\":{\"color\":\"rgb(255, 127, 14)\",\"width\":0},\"opacity\":0.25,\"type\":\"circle\",\"x0\":8.326672684688674e-17,\"x1\":0.45720000000000005,\"y0\":0.1673468146102454,\"y1\":0.6245468146102454,\"xref\":\"x\",\"yref\":\"y\"}],\"template\":{\"data\":{\"barpolar\":[{\"marker\":{\"line\":{\"color\":\"#E5ECF6\",\"width\":0.5},\"pattern\":{\"fillmode\":\"overlay\",\"size\":10,\"solidity\":0.2}},\"type\":\"barpolar\"}],\"bar\":[{\"error_x\":{\"color\":\"#2a3f5f\"},\"error_y\":{\"color\":\"#2a3f5f\"},\"marker\":{\"line\":{\"color\":\"#E5ECF6\",\"width\":0.5},\"pattern\":{\"fillmode\":\"overlay\",\"size\":10,\"solidity\":0.2}},\"type\":\"bar\"}],\"carpet\":[{\"aaxis\":{\"endlinecolor\":\"#2a3f5f\",\"gridcolor\":\"white\",\"linecolor\":\"white\",\"minorgridcolor\":\"white\",\"startlinecolor\":\"#2a3f5f\"},\"baxis\":{\"endlinecolor\":\"#2a3f5f\",\"gridcolor\":\"white\",\"linecolor\":\"white\",\"minorgridcolor\":\"white\",\"startlinecolor\":\"#2a3f5f\"},\"type\":\"carpet\"}],\"choropleth\":[{\"colorbar\":{\"outlinewidth\":0,\"ticks\":\"\"},\"type\":\"choropleth\"}],\"contourcarpet\":[{\"colorbar\":{\"outlinewidth\":0,\"ticks\":\"\"},\"type\":\"contourcarpet\"}],\"contour\":[{\"colorbar\":{\"outlinewidth\":0,\"ticks\":\"\"},\"colorscale\":[[0.0,\"#0d0887\"],[0.1111111111111111,\"#46039f\"],[0.2222222222222222,\"#7201a8\"],[0.3333333333333333,\"#9c179e\"],[0.4444444444444444,\"#bd3786\"],[0.5555555555555556,\"#d8576b\"],[0.6666666666666666,\"#ed7953\"],[0.7777777777777778,\"#fb9f3a\"],[0.8888888888888888,\"#fdca26\"],[1.0,\"#f0f921\"]],\"type\":\"contour\"}],\"heatmapgl\":[{\"colorbar\":{\"outlinewidth\":0,\"ticks\":\"\"},\"colorscale\":[[0.0,\"#0d0887\"],[0.1111111111111111,\"#46039f\"],[0.2222222222222222,\"#7201a8\"],[0.3333333333333333,\"#9c179e\"],[0.4444444444444444,\"#bd3786\"],[0.5555555555555556,\"#d8576b\"],[0.6666666666666666,\"#ed7953\"],[0.7777777777777778,\"#fb9f3a\"],[0.8888888888888888,\"#fdca26\"],[1.0,\"#f0f921\"]],\"type\":\"heatmapgl\"}],\"heatmap\":[{\"colorbar\":{\"outlinewidth\":0,\"ticks\":\"\"},\"colorscale\":[[0.0,\"#0d0887\"],[0.1111111111111111,\"#46039f\"],[0.2222222222222222,\"#7201a8\"],[0.3333333333333333,\"#9c179e\"],[0.4444444444444444,\"#bd3786\"],[0.5555555555555556,\"#d8576b\"],[0.6666666666666666,\"#ed7953\"],[0.7777777777777778,\"#fb9f3a\"],[0.8888888888888888,\"#fdca26\"],[1.0,\"#f0f921\"]],\"type\":\"heatmap\"}],\"histogram2dcontour\":[{\"colorbar\":{\"outlinewidth\":0,\"ticks\":\"\"},\"colorscale\":[[0.0,\"#0d0887\"],[0.1111111111111111,\"#46039f\"],[0.2222222222222222,\"#7201a8\"],[0.3333333333333333,\"#9c179e\"],[0.4444444444444444,\"#bd3786\"],[0.5555555555555556,\"#d8576b\"],[0.6666666666666666,\"#ed7953\"],[0.7777777777777778,\"#fb9f3a\"],[0.8888888888888888,\"#fdca26\"],[1.0,\"#f0f921\"]],\"type\":\"histogram2dcontour\"}],\"histogram2d\":[{\"colorbar\":{\"outlinewidth\":0,\"ticks\":\"\"},\"colorscale\":[[0.0,\"#0d0887\"],[0.1111111111111111,\"#46039f\"],[0.2222222222222222,\"#7201a8\"],[0.3333333333333333,\"#9c179e\"],[0.4444444444444444,\"#bd3786\"],[0.5555555555555556,\"#d8576b\"],[0.6666666666666666,\"#ed7953\"],[0.7777777777777778,\"#fb9f3a\"],[0.8888888888888888,\"#fdca26\"],[1.0,\"#f0f921\"]],\"type\":\"histogram2d\"}],\"histogram\":[{\"marker\":{\"pattern\":{\"fillmode\":\"overlay\",\"size\":10,\"solidity\":0.2}},\"type\":\"histogram\"}],\"mesh3d\":[{\"colorbar\":{\"outlinewidth\":0,\"ticks\":\"\"},\"type\":\"mesh3d\"}],\"parcoords\":[{\"line\":{\"colorbar\":{\"outlinewidth\":0,\"ticks\":\"\"}},\"type\":\"parcoords\"}],\"pie\":[{\"automargin\":true,\"type\":\"pie\"}],\"scatter3d\":[{\"line\":{\"colorbar\":{\"outlinewidth\":0,\"ticks\":\"\"}},\"marker\":{\"colorbar\":{\"outlinewidth\":0,\"ticks\":\"\"}},\"type\":\"scatter3d\"}],\"scattercarpet\":[{\"marker\":{\"colorbar\":{\"outlinewidth\":0,\"ticks\":\"\"}},\"type\":\"scattercarpet\"}],\"scattergeo\":[{\"marker\":{\"colorbar\":{\"outlinewidth\":0,\"ticks\":\"\"}},\"type\":\"scattergeo\"}],\"scattergl\":[{\"marker\":{\"colorbar\":{\"outlinewidth\":0,\"ticks\":\"\"}},\"type\":\"scattergl\"}],\"scattermapbox\":[{\"marker\":{\"colorbar\":{\"outlinewidth\":0,\"ticks\":\"\"}},\"type\":\"scattermapbox\"}],\"scatterpolargl\":[{\"marker\":{\"colorbar\":{\"outlinewidth\":0,\"ticks\":\"\"}},\"type\":\"scatterpolargl\"}],\"scatterpolar\":[{\"marker\":{\"colorbar\":{\"outlinewidth\":0,\"ticks\":\"\"}},\"type\":\"scatterpolar\"}],\"scatter\":[{\"fillpattern\":{\"fillmode\":\"overlay\",\"size\":10,\"solidity\":0.2},\"type\":\"scatter\"}],\"scatterternary\":[{\"marker\":{\"colorbar\":{\"outlinewidth\":0,\"ticks\":\"\"}},\"type\":\"scatterternary\"}],\"surface\":[{\"colorbar\":{\"outlinewidth\":0,\"ticks\":\"\"},\"colorscale\":[[0.0,\"#0d0887\"],[0.1111111111111111,\"#46039f\"],[0.2222222222222222,\"#7201a8\"],[0.3333333333333333,\"#9c179e\"],[0.4444444444444444,\"#bd3786\"],[0.5555555555555556,\"#d8576b\"],[0.6666666666666666,\"#ed7953\"],[0.7777777777777778,\"#fb9f3a\"],[0.8888888888888888,\"#fdca26\"],[1.0,\"#f0f921\"]],\"type\":\"surface\"}],\"table\":[{\"cells\":{\"fill\":{\"color\":\"#EBF0F8\"},\"line\":{\"color\":\"white\"}},\"header\":{\"fill\":{\"color\":\"#C8D4E3\"},\"line\":{\"color\":\"white\"}},\"type\":\"table\"}]},\"layout\":{\"annotationdefaults\":{\"arrowcolor\":\"#2a3f5f\",\"arrowhead\":0,\"arrowwidth\":1},\"autotypenumbers\":\"strict\",\"coloraxis\":{\"colorbar\":{\"outlinewidth\":0,\"ticks\":\"\"}},\"colorscale\":{\"diverging\":[[0,\"#8e0152\"],[0.1,\"#c51b7d\"],[0.2,\"#de77ae\"],[0.3,\"#f1b6da\"],[0.4,\"#fde0ef\"],[0.5,\"#f7f7f7\"],[0.6,\"#e6f5d0\"],[0.7,\"#b8e186\"],[0.8,\"#7fbc41\"],[0.9,\"#4d9221\"],[1,\"#276419\"]],\"sequential\":[[0.0,\"#0d0887\"],[0.1111111111111111,\"#46039f\"],[0.2222222222222222,\"#7201a8\"],[0.3333333333333333,\"#9c179e\"],[0.4444444444444444,\"#bd3786\"],[0.5555555555555556,\"#d8576b\"],[0.6666666666666666,\"#ed7953\"],[0.7777777777777778,\"#fb9f3a\"],[0.8888888888888888,\"#fdca26\"],[1.0,\"#f0f921\"]],\"sequentialminus\":[[0.0,\"#0d0887\"],[0.1111111111111111,\"#46039f\"],[0.2222222222222222,\"#7201a8\"],[0.3333333333333333,\"#9c179e\"],[0.4444444444444444,\"#bd3786\"],[0.5555555555555556,\"#d8576b\"],[0.6666666666666666,\"#ed7953\"],[0.7777777777777778,\"#fb9f3a\"],[0.8888888888888888,\"#fdca26\"],[1.0,\"#f0f921\"]]},\"colorway\":[\"#636efa\",\"#EF553B\",\"#00cc96\",\"#ab63fa\",\"#FFA15A\",\"#19d3f3\",\"#FF6692\",\"#B6E880\",\"#FF97FF\",\"#FECB52\"],\"font\":{\"color\":\"#2a3f5f\"},\"geo\":{\"bgcolor\":\"white\",\"lakecolor\":\"white\",\"landcolor\":\"#E5ECF6\",\"showlakes\":true,\"showland\":true,\"subunitcolor\":\"white\"},\"hoverlabel\":{\"align\":\"left\"},\"hovermode\":\"closest\",\"mapbox\":{\"style\":\"light\"},\"paper_bgcolor\":\"white\",\"plot_bgcolor\":\"#E5ECF6\",\"polar\":{\"angularaxis\":{\"gridcolor\":\"white\",\"linecolor\":\"white\",\"ticks\":\"\"},\"bgcolor\":\"#E5ECF6\",\"radialaxis\":{\"gridcolor\":\"white\",\"linecolor\":\"white\",\"ticks\":\"\"}},\"scene\":{\"xaxis\":{\"backgroundcolor\":\"#E5ECF6\",\"gridcolor\":\"white\",\"gridwidth\":2,\"linecolor\":\"white\",\"showbackground\":true,\"ticks\":\"\",\"zerolinecolor\":\"white\"},\"yaxis\":{\"backgroundcolor\":\"#E5ECF6\",\"gridcolor\":\"white\",\"gridwidth\":2,\"linecolor\":\"white\",\"showbackground\":true,\"ticks\":\"\",\"zerolinecolor\":\"white\"},\"zaxis\":{\"backgroundcolor\":\"#E5ECF6\",\"gridcolor\":\"white\",\"gridwidth\":2,\"linecolor\":\"white\",\"showbackground\":true,\"ticks\":\"\",\"zerolinecolor\":\"white\"}},\"shapedefaults\":{\"line\":{\"color\":\"#2a3f5f\"}},\"ternary\":{\"aaxis\":{\"gridcolor\":\"white\",\"linecolor\":\"white\",\"ticks\":\"\"},\"baxis\":{\"gridcolor\":\"white\",\"linecolor\":\"white\",\"ticks\":\"\"},\"bgcolor\":\"#E5ECF6\",\"caxis\":{\"gridcolor\":\"white\",\"linecolor\":\"white\",\"ticks\":\"\"}},\"title\":{\"x\":0.05},\"xaxis\":{\"automargin\":true,\"gridcolor\":\"white\",\"linecolor\":\"white\",\"ticks\":\"\",\"title\":{\"standoff\":15},\"zerolinecolor\":\"white\",\"zerolinewidth\":2},\"yaxis\":{\"automargin\":true,\"gridcolor\":\"white\",\"linecolor\":\"white\",\"ticks\":\"\",\"title\":{\"standoff\":15},\"zerolinecolor\":\"white\",\"zerolinewidth\":2}}},\"title\":{\"text\":\"Drone Geometry\",\"x\":0.5},\"xaxis\":{\"title\":{\"text\":\"y\"}},\"yaxis\":{\"scaleanchor\":\"x\",\"scaleratio\":1,\"title\":{\"text\":\"x\"}}},                        {\"responsive\": true}                    ).then(function(){\n",
       "                            \n",
       "var gd = document.getElementById('0182d161-8e17-4d8e-8cd5-5883dcf6a080');\n",
       "var x = new MutationObserver(function (mutations, observer) {{\n",
       "        var display = window.getComputedStyle(gd).display;\n",
       "        if (!display || display === 'none') {{\n",
       "            console.log([gd, 'removed!']);\n",
       "            Plotly.purge(gd);\n",
       "            observer.disconnect();\n",
       "        }}\n",
       "}});\n",
       "\n",
       "// Listen for the removal of the full notebook cells\n",
       "var notebookContainer = gd.closest('#notebook-container');\n",
       "if (notebookContainer) {{\n",
       "    x.observe(notebookContainer, {childList: true});\n",
       "}}\n",
       "\n",
       "// Listen for the clearing of the current output cell\n",
       "var outputEl = gd.closest('.output');\n",
       "if (outputEl) {{\n",
       "    x.observe(outputEl, {childList: true});\n",
       "}}\n",
       "\n",
       "                        })                };                });            </script>        </div>"
      ]
     },
     "metadata": {},
     "output_type": "display_data"
    }
   ],
   "source": [
    "OUTPUT_FILE_CONTINUOUS = pth.join(DATA_FOLDER_PATH, \"problem_outputs_DJI_M600_mdo.xml\")\n",
    "OUTPUT_FILE_DISCRETE = pth.join(DATA_FOLDER_PATH, \"problem_outputs_discrete_DJI_M600_mdo.xml\")\n",
    "fig = multirotor_geometry_plot(OUTPUT_FILE_CONTINUOUS, name=\"Drone custom\")\n",
    "fig = multirotor_geometry_plot(OUTPUT_FILE_DISCRETE, name=\"Drone off-the-shelf\", fig=fig)\n",
    "fig.show()"
   ]
  },
  {
   "cell_type": "code",
   "execution_count": 18,
   "metadata": {},
   "outputs": [
    {
     "data": {
      "application/vnd.plotly.v1+json": {
       "config": {
        "plotlyServerURL": "https://plot.ly"
       },
       "data": [
        {
         "branchvalues": "total",
         "labels": [
          "MTOW<br>14.87 [kg]",
          "Payload<br>6.35 [kg] (42.7%)",
          "Fuel mission<br>0.00 [kg] (0.0%)",
          "Propulsion<br>6.11 [kg] (41.1%)",
          "Airframe<br>2.41 [kg] (16.2%)",
          "multirotor<br>6.11 [kg] (100.0%)",
          "Propellers<br>0.37 [kg] (6.0%)",
          "Motors<br>1.58 [kg] (25.9%)",
          "Gearboxes<br>0.00 [kg] (0.0%)",
          "esc<br>0.20 [kg] (3.3%)",
          "Battery<br>3.85 [kg] (63.0%)",
          "Wires<br>0.11 [kg] (1.9%)",
          "fixedwing<br>0.00 [kg] (0.0%)",
          "Propellers<br>0.00 [kg] (0.0%)",
          "Motors<br>0.00 [kg] (0.0%)",
          "Gearboxes<br>0.00 [kg] (0.0%)",
          "esc<br>0.00 [kg] (0.0%)",
          "Battery<br>0.00 [kg] (0.0%)",
          "Wires<br>0.00 [kg] (0.0%)",
          "Body<br>2.28 [kg] (94.4%)",
          "Arms<br>0.14 [kg] (5.6%)",
          "Wing<br>0.00 [kg] (0.0%)",
          "Fuselage<br>0.00 [kg] (0.0%)",
          "HTP<br>0.00 [kg] (0.0%)",
          "VTP<br>0.00 [kg] (0.0%)"
         ],
         "parents": [
          "",
          "MTOW<br>14.87 [kg]",
          "MTOW<br>14.87 [kg]",
          "MTOW<br>14.87 [kg]",
          "MTOW<br>14.87 [kg]",
          "Propulsion<br>6.11 [kg] (41.1%)",
          "multirotor<br>6.11 [kg] (100.0%)",
          "multirotor<br>6.11 [kg] (100.0%)",
          "multirotor<br>6.11 [kg] (100.0%)",
          "multirotor<br>6.11 [kg] (100.0%)",
          "multirotor<br>6.11 [kg] (100.0%)",
          "multirotor<br>6.11 [kg] (100.0%)",
          "Propulsion<br>6.11 [kg] (41.1%)",
          "fixedwing<br>0.00 [kg] (0.0%)",
          "fixedwing<br>0.00 [kg] (0.0%)",
          "fixedwing<br>0.00 [kg] (0.0%)",
          "fixedwing<br>0.00 [kg] (0.0%)",
          "fixedwing<br>0.00 [kg] (0.0%)",
          "fixedwing<br>0.00 [kg] (0.0%)",
          "Airframe<br>2.41 [kg] (16.2%)",
          "Airframe<br>2.41 [kg] (16.2%)",
          "Airframe<br>2.41 [kg] (16.2%)",
          "Airframe<br>2.41 [kg] (16.2%)",
          "Airframe<br>2.41 [kg] (16.2%)",
          "Airframe<br>2.41 [kg] (16.2%)"
         ],
         "type": "sunburst",
         "values": [
          14.869990569972497,
          6.35,
          0,
          6.107504418341347,
          2.4124861516311507,
          6.107504418341347,
          0.366,
          1.5815401318479232,
          0,
          0.19859554367889465,
          3.8476605140271265,
          0.11370822878740303,
          0,
          0,
          0,
          0,
          0,
          0,
          0,
          2.2762185701180435,
          0.13626758151310703,
          0,
          0,
          0,
          0
         ]
        }
       ],
       "layout": {
        "autosize": true,
        "margin": {
         "b": 0,
         "l": 0,
         "r": 0,
         "t": 80
        },
        "template": {
         "data": {
          "bar": [
           {
            "error_x": {
             "color": "#2a3f5f"
            },
            "error_y": {
             "color": "#2a3f5f"
            },
            "marker": {
             "line": {
              "color": "#E5ECF6",
              "width": 0.5
             },
             "pattern": {
              "fillmode": "overlay",
              "size": 10,
              "solidity": 0.2
             }
            },
            "type": "bar"
           }
          ],
          "barpolar": [
           {
            "marker": {
             "line": {
              "color": "#E5ECF6",
              "width": 0.5
             },
             "pattern": {
              "fillmode": "overlay",
              "size": 10,
              "solidity": 0.2
             }
            },
            "type": "barpolar"
           }
          ],
          "carpet": [
           {
            "aaxis": {
             "endlinecolor": "#2a3f5f",
             "gridcolor": "white",
             "linecolor": "white",
             "minorgridcolor": "white",
             "startlinecolor": "#2a3f5f"
            },
            "baxis": {
             "endlinecolor": "#2a3f5f",
             "gridcolor": "white",
             "linecolor": "white",
             "minorgridcolor": "white",
             "startlinecolor": "#2a3f5f"
            },
            "type": "carpet"
           }
          ],
          "choropleth": [
           {
            "colorbar": {
             "outlinewidth": 0,
             "ticks": ""
            },
            "type": "choropleth"
           }
          ],
          "contour": [
           {
            "colorbar": {
             "outlinewidth": 0,
             "ticks": ""
            },
            "colorscale": [
             [
              0,
              "#0d0887"
             ],
             [
              0.1111111111111111,
              "#46039f"
             ],
             [
              0.2222222222222222,
              "#7201a8"
             ],
             [
              0.3333333333333333,
              "#9c179e"
             ],
             [
              0.4444444444444444,
              "#bd3786"
             ],
             [
              0.5555555555555556,
              "#d8576b"
             ],
             [
              0.6666666666666666,
              "#ed7953"
             ],
             [
              0.7777777777777778,
              "#fb9f3a"
             ],
             [
              0.8888888888888888,
              "#fdca26"
             ],
             [
              1,
              "#f0f921"
             ]
            ],
            "type": "contour"
           }
          ],
          "contourcarpet": [
           {
            "colorbar": {
             "outlinewidth": 0,
             "ticks": ""
            },
            "type": "contourcarpet"
           }
          ],
          "heatmap": [
           {
            "colorbar": {
             "outlinewidth": 0,
             "ticks": ""
            },
            "colorscale": [
             [
              0,
              "#0d0887"
             ],
             [
              0.1111111111111111,
              "#46039f"
             ],
             [
              0.2222222222222222,
              "#7201a8"
             ],
             [
              0.3333333333333333,
              "#9c179e"
             ],
             [
              0.4444444444444444,
              "#bd3786"
             ],
             [
              0.5555555555555556,
              "#d8576b"
             ],
             [
              0.6666666666666666,
              "#ed7953"
             ],
             [
              0.7777777777777778,
              "#fb9f3a"
             ],
             [
              0.8888888888888888,
              "#fdca26"
             ],
             [
              1,
              "#f0f921"
             ]
            ],
            "type": "heatmap"
           }
          ],
          "heatmapgl": [
           {
            "colorbar": {
             "outlinewidth": 0,
             "ticks": ""
            },
            "colorscale": [
             [
              0,
              "#0d0887"
             ],
             [
              0.1111111111111111,
              "#46039f"
             ],
             [
              0.2222222222222222,
              "#7201a8"
             ],
             [
              0.3333333333333333,
              "#9c179e"
             ],
             [
              0.4444444444444444,
              "#bd3786"
             ],
             [
              0.5555555555555556,
              "#d8576b"
             ],
             [
              0.6666666666666666,
              "#ed7953"
             ],
             [
              0.7777777777777778,
              "#fb9f3a"
             ],
             [
              0.8888888888888888,
              "#fdca26"
             ],
             [
              1,
              "#f0f921"
             ]
            ],
            "type": "heatmapgl"
           }
          ],
          "histogram": [
           {
            "marker": {
             "pattern": {
              "fillmode": "overlay",
              "size": 10,
              "solidity": 0.2
             }
            },
            "type": "histogram"
           }
          ],
          "histogram2d": [
           {
            "colorbar": {
             "outlinewidth": 0,
             "ticks": ""
            },
            "colorscale": [
             [
              0,
              "#0d0887"
             ],
             [
              0.1111111111111111,
              "#46039f"
             ],
             [
              0.2222222222222222,
              "#7201a8"
             ],
             [
              0.3333333333333333,
              "#9c179e"
             ],
             [
              0.4444444444444444,
              "#bd3786"
             ],
             [
              0.5555555555555556,
              "#d8576b"
             ],
             [
              0.6666666666666666,
              "#ed7953"
             ],
             [
              0.7777777777777778,
              "#fb9f3a"
             ],
             [
              0.8888888888888888,
              "#fdca26"
             ],
             [
              1,
              "#f0f921"
             ]
            ],
            "type": "histogram2d"
           }
          ],
          "histogram2dcontour": [
           {
            "colorbar": {
             "outlinewidth": 0,
             "ticks": ""
            },
            "colorscale": [
             [
              0,
              "#0d0887"
             ],
             [
              0.1111111111111111,
              "#46039f"
             ],
             [
              0.2222222222222222,
              "#7201a8"
             ],
             [
              0.3333333333333333,
              "#9c179e"
             ],
             [
              0.4444444444444444,
              "#bd3786"
             ],
             [
              0.5555555555555556,
              "#d8576b"
             ],
             [
              0.6666666666666666,
              "#ed7953"
             ],
             [
              0.7777777777777778,
              "#fb9f3a"
             ],
             [
              0.8888888888888888,
              "#fdca26"
             ],
             [
              1,
              "#f0f921"
             ]
            ],
            "type": "histogram2dcontour"
           }
          ],
          "mesh3d": [
           {
            "colorbar": {
             "outlinewidth": 0,
             "ticks": ""
            },
            "type": "mesh3d"
           }
          ],
          "parcoords": [
           {
            "line": {
             "colorbar": {
              "outlinewidth": 0,
              "ticks": ""
             }
            },
            "type": "parcoords"
           }
          ],
          "pie": [
           {
            "automargin": true,
            "type": "pie"
           }
          ],
          "scatter": [
           {
            "fillpattern": {
             "fillmode": "overlay",
             "size": 10,
             "solidity": 0.2
            },
            "type": "scatter"
           }
          ],
          "scatter3d": [
           {
            "line": {
             "colorbar": {
              "outlinewidth": 0,
              "ticks": ""
             }
            },
            "marker": {
             "colorbar": {
              "outlinewidth": 0,
              "ticks": ""
             }
            },
            "type": "scatter3d"
           }
          ],
          "scattercarpet": [
           {
            "marker": {
             "colorbar": {
              "outlinewidth": 0,
              "ticks": ""
             }
            },
            "type": "scattercarpet"
           }
          ],
          "scattergeo": [
           {
            "marker": {
             "colorbar": {
              "outlinewidth": 0,
              "ticks": ""
             }
            },
            "type": "scattergeo"
           }
          ],
          "scattergl": [
           {
            "marker": {
             "colorbar": {
              "outlinewidth": 0,
              "ticks": ""
             }
            },
            "type": "scattergl"
           }
          ],
          "scattermapbox": [
           {
            "marker": {
             "colorbar": {
              "outlinewidth": 0,
              "ticks": ""
             }
            },
            "type": "scattermapbox"
           }
          ],
          "scatterpolar": [
           {
            "marker": {
             "colorbar": {
              "outlinewidth": 0,
              "ticks": ""
             }
            },
            "type": "scatterpolar"
           }
          ],
          "scatterpolargl": [
           {
            "marker": {
             "colorbar": {
              "outlinewidth": 0,
              "ticks": ""
             }
            },
            "type": "scatterpolargl"
           }
          ],
          "scatterternary": [
           {
            "marker": {
             "colorbar": {
              "outlinewidth": 0,
              "ticks": ""
             }
            },
            "type": "scatterternary"
           }
          ],
          "surface": [
           {
            "colorbar": {
             "outlinewidth": 0,
             "ticks": ""
            },
            "colorscale": [
             [
              0,
              "#0d0887"
             ],
             [
              0.1111111111111111,
              "#46039f"
             ],
             [
              0.2222222222222222,
              "#7201a8"
             ],
             [
              0.3333333333333333,
              "#9c179e"
             ],
             [
              0.4444444444444444,
              "#bd3786"
             ],
             [
              0.5555555555555556,
              "#d8576b"
             ],
             [
              0.6666666666666666,
              "#ed7953"
             ],
             [
              0.7777777777777778,
              "#fb9f3a"
             ],
             [
              0.8888888888888888,
              "#fdca26"
             ],
             [
              1,
              "#f0f921"
             ]
            ],
            "type": "surface"
           }
          ],
          "table": [
           {
            "cells": {
             "fill": {
              "color": "#EBF0F8"
             },
             "line": {
              "color": "white"
             }
            },
            "header": {
             "fill": {
              "color": "#C8D4E3"
             },
             "line": {
              "color": "white"
             }
            },
            "type": "table"
           }
          ]
         },
         "layout": {
          "annotationdefaults": {
           "arrowcolor": "#2a3f5f",
           "arrowhead": 0,
           "arrowwidth": 1
          },
          "autotypenumbers": "strict",
          "coloraxis": {
           "colorbar": {
            "outlinewidth": 0,
            "ticks": ""
           }
          },
          "colorscale": {
           "diverging": [
            [
             0,
             "#8e0152"
            ],
            [
             0.1,
             "#c51b7d"
            ],
            [
             0.2,
             "#de77ae"
            ],
            [
             0.3,
             "#f1b6da"
            ],
            [
             0.4,
             "#fde0ef"
            ],
            [
             0.5,
             "#f7f7f7"
            ],
            [
             0.6,
             "#e6f5d0"
            ],
            [
             0.7,
             "#b8e186"
            ],
            [
             0.8,
             "#7fbc41"
            ],
            [
             0.9,
             "#4d9221"
            ],
            [
             1,
             "#276419"
            ]
           ],
           "sequential": [
            [
             0,
             "#0d0887"
            ],
            [
             0.1111111111111111,
             "#46039f"
            ],
            [
             0.2222222222222222,
             "#7201a8"
            ],
            [
             0.3333333333333333,
             "#9c179e"
            ],
            [
             0.4444444444444444,
             "#bd3786"
            ],
            [
             0.5555555555555556,
             "#d8576b"
            ],
            [
             0.6666666666666666,
             "#ed7953"
            ],
            [
             0.7777777777777778,
             "#fb9f3a"
            ],
            [
             0.8888888888888888,
             "#fdca26"
            ],
            [
             1,
             "#f0f921"
            ]
           ],
           "sequentialminus": [
            [
             0,
             "#0d0887"
            ],
            [
             0.1111111111111111,
             "#46039f"
            ],
            [
             0.2222222222222222,
             "#7201a8"
            ],
            [
             0.3333333333333333,
             "#9c179e"
            ],
            [
             0.4444444444444444,
             "#bd3786"
            ],
            [
             0.5555555555555556,
             "#d8576b"
            ],
            [
             0.6666666666666666,
             "#ed7953"
            ],
            [
             0.7777777777777778,
             "#fb9f3a"
            ],
            [
             0.8888888888888888,
             "#fdca26"
            ],
            [
             1,
             "#f0f921"
            ]
           ]
          },
          "colorway": [
           "#636efa",
           "#EF553B",
           "#00cc96",
           "#ab63fa",
           "#FFA15A",
           "#19d3f3",
           "#FF6692",
           "#B6E880",
           "#FF97FF",
           "#FECB52"
          ],
          "font": {
           "color": "#2a3f5f"
          },
          "geo": {
           "bgcolor": "white",
           "lakecolor": "white",
           "landcolor": "#E5ECF6",
           "showlakes": true,
           "showland": true,
           "subunitcolor": "white"
          },
          "hoverlabel": {
           "align": "left"
          },
          "hovermode": "closest",
          "mapbox": {
           "style": "light"
          },
          "paper_bgcolor": "white",
          "plot_bgcolor": "#E5ECF6",
          "polar": {
           "angularaxis": {
            "gridcolor": "white",
            "linecolor": "white",
            "ticks": ""
           },
           "bgcolor": "#E5ECF6",
           "radialaxis": {
            "gridcolor": "white",
            "linecolor": "white",
            "ticks": ""
           }
          },
          "scene": {
           "xaxis": {
            "backgroundcolor": "#E5ECF6",
            "gridcolor": "white",
            "gridwidth": 2,
            "linecolor": "white",
            "showbackground": true,
            "ticks": "",
            "zerolinecolor": "white"
           },
           "yaxis": {
            "backgroundcolor": "#E5ECF6",
            "gridcolor": "white",
            "gridwidth": 2,
            "linecolor": "white",
            "showbackground": true,
            "ticks": "",
            "zerolinecolor": "white"
           },
           "zaxis": {
            "backgroundcolor": "#E5ECF6",
            "gridcolor": "white",
            "gridwidth": 2,
            "linecolor": "white",
            "showbackground": true,
            "ticks": "",
            "zerolinecolor": "white"
           }
          },
          "shapedefaults": {
           "line": {
            "color": "#2a3f5f"
           }
          },
          "ternary": {
           "aaxis": {
            "gridcolor": "white",
            "linecolor": "white",
            "ticks": ""
           },
           "baxis": {
            "gridcolor": "white",
            "linecolor": "white",
            "ticks": ""
           },
           "bgcolor": "#E5ECF6",
           "caxis": {
            "gridcolor": "white",
            "linecolor": "white",
            "ticks": ""
           }
          },
          "title": {
           "x": 0.05
          },
          "xaxis": {
           "automargin": true,
           "gridcolor": "white",
           "linecolor": "white",
           "ticks": "",
           "title": {
            "standoff": 15
           },
           "zerolinecolor": "white",
           "zerolinewidth": 2
          },
          "yaxis": {
           "automargin": true,
           "gridcolor": "white",
           "linecolor": "white",
           "ticks": "",
           "title": {
            "standoff": 15
           },
           "zerolinecolor": "white",
           "zerolinewidth": 2
          }
         }
        },
        "title": {
         "text": "Mass Breakdown",
         "x": 0.5
        }
       }
      },
      "image/png": "[encoded data removed]",
      "text/html": [
       "<div>                            <div id=\"5aa699d0-b770-4526-9050-22c0790a34bd\" class=\"plotly-graph-div\" style=\"height:525px; width:100%;\"></div>            <script type=\"text/javascript\">                require([\"plotly\"], function(Plotly) {                    window.PLOTLYENV=window.PLOTLYENV || {};                                    if (document.getElementById(\"5aa699d0-b770-4526-9050-22c0790a34bd\")) {                    Plotly.newPlot(                        \"5aa699d0-b770-4526-9050-22c0790a34bd\",                        [{\"branchvalues\":\"total\",\"labels\":[\"MTOW<br>14.87 [kg]\",\"Payload<br>6.35 [kg] (42.7%)\",\"Fuel mission<br>0.00 [kg] (0.0%)\",\"Propulsion<br>6.11 [kg] (41.1%)\",\"Airframe<br>2.41 [kg] (16.2%)\",\"multirotor<br>6.11 [kg] (100.0%)\",\"Propellers<br>0.37 [kg] (6.0%)\",\"Motors<br>1.58 [kg] (25.9%)\",\"Gearboxes<br>0.00 [kg] (0.0%)\",\"esc<br>0.20 [kg] (3.3%)\",\"Battery<br>3.85 [kg] (63.0%)\",\"Wires<br>0.11 [kg] (1.9%)\",\"fixedwing<br>0.00 [kg] (0.0%)\",\"Propellers<br>0.00 [kg] (0.0%)\",\"Motors<br>0.00 [kg] (0.0%)\",\"Gearboxes<br>0.00 [kg] (0.0%)\",\"esc<br>0.00 [kg] (0.0%)\",\"Battery<br>0.00 [kg] (0.0%)\",\"Wires<br>0.00 [kg] (0.0%)\",\"Body<br>2.28 [kg] (94.4%)\",\"Arms<br>0.14 [kg] (5.6%)\",\"Wing<br>0.00 [kg] (0.0%)\",\"Fuselage<br>0.00 [kg] (0.0%)\",\"HTP<br>0.00 [kg] (0.0%)\",\"VTP<br>0.00 [kg] (0.0%)\"],\"parents\":[\"\",\"MTOW<br>14.87 [kg]\",\"MTOW<br>14.87 [kg]\",\"MTOW<br>14.87 [kg]\",\"MTOW<br>14.87 [kg]\",\"Propulsion<br>6.11 [kg] (41.1%)\",\"multirotor<br>6.11 [kg] (100.0%)\",\"multirotor<br>6.11 [kg] (100.0%)\",\"multirotor<br>6.11 [kg] (100.0%)\",\"multirotor<br>6.11 [kg] (100.0%)\",\"multirotor<br>6.11 [kg] (100.0%)\",\"multirotor<br>6.11 [kg] (100.0%)\",\"Propulsion<br>6.11 [kg] (41.1%)\",\"fixedwing<br>0.00 [kg] (0.0%)\",\"fixedwing<br>0.00 [kg] (0.0%)\",\"fixedwing<br>0.00 [kg] (0.0%)\",\"fixedwing<br>0.00 [kg] (0.0%)\",\"fixedwing<br>0.00 [kg] (0.0%)\",\"fixedwing<br>0.00 [kg] (0.0%)\",\"Airframe<br>2.41 [kg] (16.2%)\",\"Airframe<br>2.41 [kg] (16.2%)\",\"Airframe<br>2.41 [kg] (16.2%)\",\"Airframe<br>2.41 [kg] (16.2%)\",\"Airframe<br>2.41 [kg] (16.2%)\",\"Airframe<br>2.41 [kg] (16.2%)\"],\"values\":[14.869990569972497,6.35,0,6.107504418341347,2.4124861516311507,6.107504418341347,0.366,1.5815401318479232,0.0,0.19859554367889465,3.8476605140271265,0.11370822878740303,0.0,0.0,0.0,0.0,0.0,0.0,0.0,2.2762185701180435,0.13626758151310703,0.0,0.0,0.0,0.0],\"type\":\"sunburst\"}],                        {\"template\":{\"data\":{\"histogram2dcontour\":[{\"type\":\"histogram2dcontour\",\"colorbar\":{\"outlinewidth\":0,\"ticks\":\"\"},\"colorscale\":[[0.0,\"#0d0887\"],[0.1111111111111111,\"#46039f\"],[0.2222222222222222,\"#7201a8\"],[0.3333333333333333,\"#9c179e\"],[0.4444444444444444,\"#bd3786\"],[0.5555555555555556,\"#d8576b\"],[0.6666666666666666,\"#ed7953\"],[0.7777777777777778,\"#fb9f3a\"],[0.8888888888888888,\"#fdca26\"],[1.0,\"#f0f921\"]]}],\"choropleth\":[{\"type\":\"choropleth\",\"colorbar\":{\"outlinewidth\":0,\"ticks\":\"\"}}],\"histogram2d\":[{\"type\":\"histogram2d\",\"colorbar\":{\"outlinewidth\":0,\"ticks\":\"\"},\"colorscale\":[[0.0,\"#0d0887\"],[0.1111111111111111,\"#46039f\"],[0.2222222222222222,\"#7201a8\"],[0.3333333333333333,\"#9c179e\"],[0.4444444444444444,\"#bd3786\"],[0.5555555555555556,\"#d8576b\"],[0.6666666666666666,\"#ed7953\"],[0.7777777777777778,\"#fb9f3a\"],[0.8888888888888888,\"#fdca26\"],[1.0,\"#f0f921\"]]}],\"heatmap\":[{\"type\":\"heatmap\",\"colorbar\":{\"outlinewidth\":0,\"ticks\":\"\"},\"colorscale\":[[0.0,\"#0d0887\"],[0.1111111111111111,\"#46039f\"],[0.2222222222222222,\"#7201a8\"],[0.3333333333333333,\"#9c179e\"],[0.4444444444444444,\"#bd3786\"],[0.5555555555555556,\"#d8576b\"],[0.6666666666666666,\"#ed7953\"],[0.7777777777777778,\"#fb9f3a\"],[0.8888888888888888,\"#fdca26\"],[1.0,\"#f0f921\"]]}],\"heatmapgl\":[{\"type\":\"heatmapgl\",\"colorbar\":{\"outlinewidth\":0,\"ticks\":\"\"},\"colorscale\":[[0.0,\"#0d0887\"],[0.1111111111111111,\"#46039f\"],[0.2222222222222222,\"#7201a8\"],[0.3333333333333333,\"#9c179e\"],[0.4444444444444444,\"#bd3786\"],[0.5555555555555556,\"#d8576b\"],[0.6666666666666666,\"#ed7953\"],[0.7777777777777778,\"#fb9f3a\"],[0.8888888888888888,\"#fdca26\"],[1.0,\"#f0f921\"]]}],\"contourcarpet\":[{\"type\":\"contourcarpet\",\"colorbar\":{\"outlinewidth\":0,\"ticks\":\"\"}}],\"contour\":[{\"type\":\"contour\",\"colorbar\":{\"outlinewidth\":0,\"ticks\":\"\"},\"colorscale\":[[0.0,\"#0d0887\"],[0.1111111111111111,\"#46039f\"],[0.2222222222222222,\"#7201a8\"],[0.3333333333333333,\"#9c179e\"],[0.4444444444444444,\"#bd3786\"],[0.5555555555555556,\"#d8576b\"],[0.6666666666666666,\"#ed7953\"],[0.7777777777777778,\"#fb9f3a\"],[0.8888888888888888,\"#fdca26\"],[1.0,\"#f0f921\"]]}],\"surface\":[{\"type\":\"surface\",\"colorbar\":{\"outlinewidth\":0,\"ticks\":\"\"},\"colorscale\":[[0.0,\"#0d0887\"],[0.1111111111111111,\"#46039f\"],[0.2222222222222222,\"#7201a8\"],[0.3333333333333333,\"#9c179e\"],[0.4444444444444444,\"#bd3786\"],[0.5555555555555556,\"#d8576b\"],[0.6666666666666666,\"#ed7953\"],[0.7777777777777778,\"#fb9f3a\"],[0.8888888888888888,\"#fdca26\"],[1.0,\"#f0f921\"]]}],\"mesh3d\":[{\"type\":\"mesh3d\",\"colorbar\":{\"outlinewidth\":0,\"ticks\":\"\"}}],\"scatter\":[{\"fillpattern\":{\"fillmode\":\"overlay\",\"size\":10,\"solidity\":0.2},\"type\":\"scatter\"}],\"parcoords\":[{\"type\":\"parcoords\",\"line\":{\"colorbar\":{\"outlinewidth\":0,\"ticks\":\"\"}}}],\"scatterpolargl\":[{\"type\":\"scatterpolargl\",\"marker\":{\"colorbar\":{\"outlinewidth\":0,\"ticks\":\"\"}}}],\"bar\":[{\"error_x\":{\"color\":\"#2a3f5f\"},\"error_y\":{\"color\":\"#2a3f5f\"},\"marker\":{\"line\":{\"color\":\"#E5ECF6\",\"width\":0.5},\"pattern\":{\"fillmode\":\"overlay\",\"size\":10,\"solidity\":0.2}},\"type\":\"bar\"}],\"scattergeo\":[{\"type\":\"scattergeo\",\"marker\":{\"colorbar\":{\"outlinewidth\":0,\"ticks\":\"\"}}}],\"scatterpolar\":[{\"type\":\"scatterpolar\",\"marker\":{\"colorbar\":{\"outlinewidth\":0,\"ticks\":\"\"}}}],\"histogram\":[{\"marker\":{\"pattern\":{\"fillmode\":\"overlay\",\"size\":10,\"solidity\":0.2}},\"type\":\"histogram\"}],\"scattergl\":[{\"type\":\"scattergl\",\"marker\":{\"colorbar\":{\"outlinewidth\":0,\"ticks\":\"\"}}}],\"scatter3d\":[{\"type\":\"scatter3d\",\"line\":{\"colorbar\":{\"outlinewidth\":0,\"ticks\":\"\"}},\"marker\":{\"colorbar\":{\"outlinewidth\":0,\"ticks\":\"\"}}}],\"scattermapbox\":[{\"type\":\"scattermapbox\",\"marker\":{\"colorbar\":{\"outlinewidth\":0,\"ticks\":\"\"}}}],\"scatterternary\":[{\"type\":\"scatterternary\",\"marker\":{\"colorbar\":{\"outlinewidth\":0,\"ticks\":\"\"}}}],\"scattercarpet\":[{\"type\":\"scattercarpet\",\"marker\":{\"colorbar\":{\"outlinewidth\":0,\"ticks\":\"\"}}}],\"carpet\":[{\"aaxis\":{\"endlinecolor\":\"#2a3f5f\",\"gridcolor\":\"white\",\"linecolor\":\"white\",\"minorgridcolor\":\"white\",\"startlinecolor\":\"#2a3f5f\"},\"baxis\":{\"endlinecolor\":\"#2a3f5f\",\"gridcolor\":\"white\",\"linecolor\":\"white\",\"minorgridcolor\":\"white\",\"startlinecolor\":\"#2a3f5f\"},\"type\":\"carpet\"}],\"table\":[{\"cells\":{\"fill\":{\"color\":\"#EBF0F8\"},\"line\":{\"color\":\"white\"}},\"header\":{\"fill\":{\"color\":\"#C8D4E3\"},\"line\":{\"color\":\"white\"}},\"type\":\"table\"}],\"barpolar\":[{\"marker\":{\"line\":{\"color\":\"#E5ECF6\",\"width\":0.5},\"pattern\":{\"fillmode\":\"overlay\",\"size\":10,\"solidity\":0.2}},\"type\":\"barpolar\"}],\"pie\":[{\"automargin\":true,\"type\":\"pie\"}]},\"layout\":{\"autotypenumbers\":\"strict\",\"colorway\":[\"#636efa\",\"#EF553B\",\"#00cc96\",\"#ab63fa\",\"#FFA15A\",\"#19d3f3\",\"#FF6692\",\"#B6E880\",\"#FF97FF\",\"#FECB52\"],\"font\":{\"color\":\"#2a3f5f\"},\"hovermode\":\"closest\",\"hoverlabel\":{\"align\":\"left\"},\"paper_bgcolor\":\"white\",\"plot_bgcolor\":\"#E5ECF6\",\"polar\":{\"bgcolor\":\"#E5ECF6\",\"angularaxis\":{\"gridcolor\":\"white\",\"linecolor\":\"white\",\"ticks\":\"\"},\"radialaxis\":{\"gridcolor\":\"white\",\"linecolor\":\"white\",\"ticks\":\"\"}},\"ternary\":{\"bgcolor\":\"#E5ECF6\",\"aaxis\":{\"gridcolor\":\"white\",\"linecolor\":\"white\",\"ticks\":\"\"},\"baxis\":{\"gridcolor\":\"white\",\"linecolor\":\"white\",\"ticks\":\"\"},\"caxis\":{\"gridcolor\":\"white\",\"linecolor\":\"white\",\"ticks\":\"\"}},\"coloraxis\":{\"colorbar\":{\"outlinewidth\":0,\"ticks\":\"\"}},\"colorscale\":{\"sequential\":[[0.0,\"#0d0887\"],[0.1111111111111111,\"#46039f\"],[0.2222222222222222,\"#7201a8\"],[0.3333333333333333,\"#9c179e\"],[0.4444444444444444,\"#bd3786\"],[0.5555555555555556,\"#d8576b\"],[0.6666666666666666,\"#ed7953\"],[0.7777777777777778,\"#fb9f3a\"],[0.8888888888888888,\"#fdca26\"],[1.0,\"#f0f921\"]],\"sequentialminus\":[[0.0,\"#0d0887\"],[0.1111111111111111,\"#46039f\"],[0.2222222222222222,\"#7201a8\"],[0.3333333333333333,\"#9c179e\"],[0.4444444444444444,\"#bd3786\"],[0.5555555555555556,\"#d8576b\"],[0.6666666666666666,\"#ed7953\"],[0.7777777777777778,\"#fb9f3a\"],[0.8888888888888888,\"#fdca26\"],[1.0,\"#f0f921\"]],\"diverging\":[[0,\"#8e0152\"],[0.1,\"#c51b7d\"],[0.2,\"#de77ae\"],[0.3,\"#f1b6da\"],[0.4,\"#fde0ef\"],[0.5,\"#f7f7f7\"],[0.6,\"#e6f5d0\"],[0.7,\"#b8e186\"],[0.8,\"#7fbc41\"],[0.9,\"#4d9221\"],[1,\"#276419\"]]},\"xaxis\":{\"gridcolor\":\"white\",\"linecolor\":\"white\",\"ticks\":\"\",\"title\":{\"standoff\":15},\"zerolinecolor\":\"white\",\"automargin\":true,\"zerolinewidth\":2},\"yaxis\":{\"gridcolor\":\"white\",\"linecolor\":\"white\",\"ticks\":\"\",\"title\":{\"standoff\":15},\"zerolinecolor\":\"white\",\"automargin\":true,\"zerolinewidth\":2},\"scene\":{\"xaxis\":{\"backgroundcolor\":\"#E5ECF6\",\"gridcolor\":\"white\",\"linecolor\":\"white\",\"showbackground\":true,\"ticks\":\"\",\"zerolinecolor\":\"white\",\"gridwidth\":2},\"yaxis\":{\"backgroundcolor\":\"#E5ECF6\",\"gridcolor\":\"white\",\"linecolor\":\"white\",\"showbackground\":true,\"ticks\":\"\",\"zerolinecolor\":\"white\",\"gridwidth\":2},\"zaxis\":{\"backgroundcolor\":\"#E5ECF6\",\"gridcolor\":\"white\",\"linecolor\":\"white\",\"showbackground\":true,\"ticks\":\"\",\"zerolinecolor\":\"white\",\"gridwidth\":2}},\"shapedefaults\":{\"line\":{\"color\":\"#2a3f5f\"}},\"annotationdefaults\":{\"arrowcolor\":\"#2a3f5f\",\"arrowhead\":0,\"arrowwidth\":1},\"geo\":{\"bgcolor\":\"white\",\"landcolor\":\"#E5ECF6\",\"subunitcolor\":\"white\",\"showland\":true,\"showlakes\":true,\"lakecolor\":\"white\"},\"title\":{\"x\":0.05},\"mapbox\":{\"style\":\"light\"}}},\"margin\":{\"t\":80,\"l\":0,\"r\":0,\"b\":0},\"title\":{\"text\":\"Mass Breakdown\",\"x\":0.5}},                        {\"responsive\": true}                    ).then(function(){\n",
       "                            \n",
       "var gd = document.getElementById('5aa699d0-b770-4526-9050-22c0790a34bd');\n",
       "var x = new MutationObserver(function (mutations, observer) {{\n",
       "        var display = window.getComputedStyle(gd).display;\n",
       "        if (!display || display === 'none') {{\n",
       "            console.log([gd, 'removed!']);\n",
       "            Plotly.purge(gd);\n",
       "            observer.disconnect();\n",
       "        }}\n",
       "}});\n",
       "\n",
       "// Listen for the removal of the full notebook cells\n",
       "var notebookContainer = gd.closest('#notebook-container');\n",
       "if (notebookContainer) {{\n",
       "    x.observe(notebookContainer, {childList: true});\n",
       "}}\n",
       "\n",
       "// Listen for the clearing of the current output cell\n",
       "var outputEl = gd.closest('.output');\n",
       "if (outputEl) {{\n",
       "    x.observe(outputEl, {childList: true});\n",
       "}}\n",
       "\n",
       "                        })                };                });            </script>        </div>"
      ]
     },
     "metadata": {},
     "output_type": "display_data"
    }
   ],
   "source": [
    "fig = mass_breakdown_sun_plot_drone(OUTPUT_FILE_DISCRETE)\n",
    "fig.show()"
   ]
  },
  {
   "cell_type": "code",
   "execution_count": 14,
   "metadata": {},
   "outputs": [],
   "source": [
    "#fig = mass_breakdown_bar_plot_drone(OUTPUT_FILE_CONTINUOUS, name=\"Drone custom\")\n",
    "#fig = mass_breakdown_bar_plot_drone(OUTPUT_FILE_DISCRETE, name=\"Drone off-the-shelf\", fig=fig)\n",
    "#fig.show()"
   ]
  }
 ],
 "metadata": {
  "kernelspec": {
   "display_name": "Python 3 (ipykernel)",
   "language": "python",
   "name": "python3"
  },
  "language_info": {
   "codemirror_mode": {
    "name": "ipython",
    "version": 3
   },
   "file_extension": ".py",
   "mimetype": "text/x-python",
   "name": "python",
   "nbconvert_exporter": "python",
   "pygments_lexer": "ipython3",
   "version": "3.8.10"
  }
 },
 "nbformat": 4,
 "nbformat_minor": 4
}
