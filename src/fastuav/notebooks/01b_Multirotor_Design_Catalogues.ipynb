{
 "cells": [
  {
   "cell_type": "markdown",
   "metadata": {},
   "source": [
    "# FAST-UAV - Multirotor Design Optimization with Off-The-Shelf components"
   ]
  },
  {
   "cell_type": "markdown",
   "metadata": {},
   "source": [
    "In this notebook, we will see how to achieve a design optimization using real off-the-shelf components instead of estimation models."
   ]
  },
  {
   "cell_type": "markdown",
   "metadata": {},
   "source": [
    "## 1. Setting up a problem with off-the-shelf components"
   ]
  },
  {
   "cell_type": "code",
   "execution_count": 3,
   "metadata": {},
   "outputs": [
    {
     "data": {
      "text/html": [
       "<style>.container { width:95% !important; }</style>"
      ],
      "text/plain": [
       "<IPython.core.display.HTML object>"
      ]
     },
     "metadata": {},
     "output_type": "display_data"
    }
   ],
   "source": [
    "import os.path as pth\n",
    "import openmdao.api as om\n",
    "import logging\n",
    "import shutil\n",
    "import fastoad.api as oad\n",
    "from time import time\n",
    "import matplotlib.pyplot as plt\n",
    "import cma\n",
    "from fastuav.utils.drivers.cmaes_driver import CMAESDriver\n",
    "from fastuav.utils.postprocessing.analysis_and_plots import *\n",
    "\n",
    "plt.rcParams[\"figure.figsize\"] = 16, 8\n",
    "plt.rcParams.update({\"font.size\": 13})\n",
    "\n",
    "DATA_FOLDER_PATH = \"../data\"\n",
    "CONFIGURATIONS_FOLDER_PATH = \"../configurations\"\n",
    "WORK_FOLDER_PATH = \"./workdir\"\n",
    "\n",
    "CONFIGURATION_FILE = pth.join(WORK_FOLDER_PATH, \"multirotor_mdo_discrete.yaml\")\n",
    "SOURCE_FILE = pth.join(DATA_FOLDER_PATH, \"problem_outputs_DJI_M600_mdo.xml\")\n",
    "\n",
    "# For having log messages display on screen\n",
    "logging.basicConfig(level=logging.INFO, format=\"%(levelname)-8s: %(message)s\")\n",
    "\n",
    "# For using all screen width\n",
    "from IPython.core.display import display, HTML\n",
    "\n",
    "display(HTML(\"<style>.container { width:95% !important; }</style>\"))"
   ]
  },
  {
   "cell_type": "code",
   "execution_count": 4,
   "metadata": {},
   "outputs": [
    {
     "name": "stderr",
     "output_type": "stream",
     "text": [
      "INFO    : Loading FAST-OAD plugin uav\n",
      "INFO    : Loading bundles from fastuav.models\n",
      "INFO    : Installed bundle fastuav.models.aerodynamics.aerodynamics_hybrid (ID 13 )\n",
      "INFO    : Installed bundle fastuav.models.mtow.mtow (ID 20 )\n",
      "INFO    : Installed bundle fastuav.models.scenarios.wing_loading.wing_loading (ID 84 )\n",
      "INFO    : Installed bundle fastuav.models.aerodynamics.__init__ (ID 15 )\n",
      "INFO    : Installed bundle fastuav.models.mtow.mtow_fixedwing (ID 21 )\n",
      "INFO    : Installed bundle fastuav.models.propulsion.energy.battery.catalogue (ID 38 )\n",
      "INFO    : Installed bundle fastuav.models.propulsion.esc.catalogue (ID 45 )\n",
      "INFO    : Installed bundle fastuav.models.scenarios.__init__ (ID 86 )\n",
      "INFO    : Installed bundle fastuav.models.stability.static_longitudinal.center_of_gravity.__init__ (ID 92 )\n",
      "INFO    : Installed bundle fastuav.models.aerodynamics.aerodynamics_multirotor (ID 14 )\n",
      "INFO    : Installed bundle fastuav.models.propulsion.esc.constraints (ID 46 )\n",
      "INFO    : Installed bundle fastuav.models.propulsion.propeller.definition_parameters (ID 65 )\n",
      "INFO    : Installed bundle fastuav.models.propulsion.energy.battery.constraints (ID 39 )\n",
      "INFO    : Installed bundle fastuav.models.stability.static_longitudinal.neutral_point (ID 93 )\n",
      "INFO    : Installed bundle fastuav.models.__init__ (ID 105 )\n",
      "INFO    : Installed bundle fastuav.models.mtow.mtow_hybrid (ID 22 )\n",
      "INFO    : Installed bundle fastuav.models.propulsion.energy.battery.definition_parameters (ID 40 )\n",
      "INFO    : Installed bundle fastuav.models.stability.static_longitudinal.static_margin (ID 94 )\n",
      "INFO    : Installed bundle fastuav.models.propulsion.propeller.estimation_models (ID 66 )\n",
      "INFO    : Installed bundle fastuav.models.stability.__init__ (ID 96 )\n",
      "INFO    : Installed bundle fastuav.models.mtow.mtow_multirotor (ID 23 )\n",
      "INFO    : Installed bundle fastuav.models.propulsion.energy.battery.estimation_models (ID 41 )\n",
      "INFO    : Installed bundle fastuav.models.propulsion.esc.definition_parameters (ID 47 )\n",
      "INFO    : Installed bundle fastuav.models.propulsion.motor.estimation_models (ID 57 )\n",
      "INFO    : Installed bundle fastuav.models.propulsion.propeller.__init__ (ID 69 )\n",
      "INFO    : Installed bundle fastuav.models.stability.static_longitudinal.__init__ (ID 95 )\n",
      "INFO    : Installed bundle fastuav.models.propulsion.energy.battery.performance_analysis (ID 42 )\n",
      "INFO    : Installed bundle fastuav.models.propulsion.propeller.performance_analysis (ID 67 )\n",
      "INFO    : Installed bundle fastuav.models.propulsion.esc.esc (ID 48 )\n",
      "INFO    : Installed bundle fastuav.models.mtow.__init__ (ID 24 )\n",
      "INFO    : Installed bundle fastuav.models.propulsion.motor.performance_analysis (ID 59 )\n",
      "INFO    : Installed bundle fastuav.models.propulsion.propeller.propeller (ID 68 )\n",
      "INFO    : Installed bundle fastuav.models.propulsion.propeller.constraints (ID 64 )\n",
      "INFO    : Installed bundle fastuav.models.propulsion.energy.battery.__init__ (ID 43 )\n",
      "INFO    : Installed bundle fastuav.models.propulsion.motor.__init__ (ID 60 )\n",
      "INFO    : Installed bundle fastuav.models.propulsion.propulsion (ID 70 )\n",
      "INFO    : Installed bundle fastuav.models.performance.mission.mission_builder (ID 26 )\n",
      "INFO    : Installed bundle fastuav.models.propulsion.motor.catalogue (ID 54 )\n",
      "INFO    : Installed bundle fastuav.models.propulsion.propeller.aerodynamics.surrogate_models (ID 61 )\n",
      "INFO    : Installed bundle fastuav.models.propulsion.propulsion_hybrid (ID 72 )\n",
      "INFO    : Installed bundle fastuav.models.structures.__init__ (ID 99 )\n",
      "INFO    : Installed bundle fastuav.models.propulsion.energy.__init__ (ID 44 )\n",
      "INFO    : Installed bundle fastuav.models.propulsion.propulsion_fixedwing (ID 71 )\n",
      "INFO    : Installed bundle fastuav.models.structures.structures_fixedwing (ID 97 )\n",
      "INFO    : Installed bundle fastuav.models.performance.mission.mission_definition.resources.__init__ (ID 27 )\n",
      "INFO    : Installed bundle fastuav.models.propulsion.esc.estimation_models (ID 49 )\n",
      "INFO    : Installed bundle fastuav.models.propulsion.__init__ (ID 74 )\n",
      "INFO    : Installed bundle fastuav.models.stability.stability_fixedwing (ID 87 )\n",
      "INFO    : Installed bundle fastuav.models.structures.structures_multirotor (ID 98 )\n",
      "INFO    : Installed bundle fastuav.models.propulsion.gearbox.gearbox (ID 52 )\n",
      "INFO    : Installed bundle fastuav.models.propulsion.propeller.aerodynamics.__init__ (ID 62 )\n",
      "INFO    : Installed bundle fastuav.models.propulsion.propulsion_multirotor (ID 73 )\n",
      "INFO    : Installed bundle fastuav.models.performance.mission.mission_definition.tests.test_schema (ID 29 )\n",
      "INFO    : Installed bundle fastuav.models.propulsion.esc.performance_analysis (ID 50 )\n",
      "INFO    : Installed bundle fastuav.models.performance.mission.mission_definition.schema (ID 28 )\n",
      "INFO    : Installed bundle fastuav.models.propulsion.motor.constraints (ID 55 )\n",
      "INFO    : Installed bundle fastuav.models.propulsion.esc.__init__ (ID 51 )\n",
      "INFO    : Installed bundle fastuav.models.scenarios.scenarios_fixedwing (ID 75 )\n",
      "INFO    : Installed bundle fastuav.models.performance.mission.flight_performance (ID 25 )\n",
      "INFO    : Installed bundle fastuav.models.geometry.geometry_fixedwing (ID 16 )\n",
      "INFO    : Installed bundle fastuav.models.performance.mission.mission_definition.tests.__init__ (ID 30 )\n",
      "INFO    : Installed bundle fastuav.models.propulsion.gearbox.__init__ (ID 53 )\n",
      "INFO    : Installed bundle fastuav.models.add_ons.sample_discipline (ID 10 )\n",
      "INFO    : Installed bundle fastuav.models.performance.mission.mission_definition.__init__ (ID 31 )\n",
      "INFO    : Installed bundle fastuav.models.geometry.geometry_hybrid (ID 17 )\n",
      "INFO    : Installed bundle fastuav.models.propulsion.motor.definition_parameters (ID 56 )\n",
      "INFO    : Installed bundle fastuav.models.propulsion.motor.motor (ID 58 )\n",
      "INFO    : Installed bundle fastuav.models.scenarios.scenarios_hybrid (ID 76 )\n",
      "INFO    : Installed bundle fastuav.models.geometry.geometry_multirotor (ID 18 )\n",
      "INFO    : Installed bundle fastuav.models.performance.mission.phase_builder (ID 32 )\n",
      "INFO    : Installed bundle fastuav.models.scenarios.thrust.cruise (ID 79 )\n",
      "INFO    : Installed bundle fastuav.models.wires.wires (ID 100 )\n",
      "INFO    : Installed bundle fastuav.models.add_ons.__init__ (ID 11 )\n",
      "INFO    : Installed bundle fastuav.models.geometry.__init__ (ID 19 )\n",
      "INFO    : Installed bundle fastuav.models.performance.__init__ (ID 36 )\n",
      "INFO    : Installed bundle fastuav.models.scenarios.scenarios_multirotor (ID 77 )\n",
      "INFO    : Installed bundle fastuav.models.wires.wires_fixedwing (ID 101 )\n",
      "INFO    : Installed bundle fastuav.models.performance.mission.route_builder (ID 33 )\n",
      "INFO    : Installed bundle fastuav.models.propulsion.propeller.catalogue (ID 63 )\n",
      "INFO    : Installed bundle fastuav.models.scenarios.thrust.climb (ID 78 )\n",
      "INFO    : Installed bundle fastuav.models.stability.stability_hybrid (ID 88 )\n",
      "INFO    : Installed bundle fastuav.models.aerodynamics.aerodynamics_fixedwing (ID 12 )\n",
      "INFO    : Installed bundle fastuav.models.performance.mission.__init__ (ID 34 )\n",
      "INFO    : Installed bundle fastuav.models.scenarios.thrust.hover (ID 81 )\n",
      "INFO    : Installed bundle fastuav.models.wires.wires_hybrid (ID 102 )\n",
      "INFO    : Installed bundle fastuav.models.scenarios.thrust.flight_models (ID 80 )\n",
      "INFO    : Installed bundle fastuav.models.stability.static_longitudinal.center_of_gravity.cog_components (ID 89 )\n",
      "INFO    : Installed bundle fastuav.models.wires.wires_multirotor (ID 103 )\n",
      "INFO    : Installed bundle fastuav.models.scenarios.thrust.takeoff (ID 82 )\n",
      "INFO    : Installed bundle fastuav.models.stability.static_longitudinal.center_of_gravity.cog_fixedwing (ID 90 )\n",
      "INFO    : Installed bundle fastuav.models.performance.range_and_endurance (ID 35 )\n",
      "INFO    : Installed bundle fastuav.models.scenarios.wing_loading.__init__ (ID 85 )\n",
      "INFO    : Installed bundle fastuav.models.stability.static_longitudinal.center_of_gravity.cog_hybrid (ID 91 )\n",
      "INFO    : Installed bundle fastuav.models.scenarios.thrust.__init__ (ID 83 )\n",
      "INFO    : Installed bundle fastuav.models.wires.__init__ (ID 104 )\n",
      "INFO    : Installed bundle fastuav.models.propulsion.energy.battery.battery (ID 37 )\n",
      "INFO    : Loaded variable descriptions in fastuav.models\n",
      "INFO    : Loading FAST-OAD plugin bundled\n",
      "INFO    : Loading bundles from fastoad.models\n",
      "INFO    : Installed bundle fastoad.models.performances.mission.segments.speed_change (ID 124 )\n",
      "INFO    : Installed bundle fastoad.models.performances.mission.exceptions (ID 107 )\n",
      "INFO    : Installed bundle fastoad.models.performances.mission.mission_definition.exceptions (ID 108 )\n",
      "INFO    : Installed bundle fastoad.models.performances.mission.polar (ID 118 )\n",
      "INFO    : Installed bundle fastoad.models.performances.mission.mission_definition.__init__ (ID 112 )\n",
      "INFO    : Installed bundle fastoad.models.performances.mission.segments.__init__ (ID 127 )\n",
      "INFO    : Installed bundle fastoad.models.performances.mission.routes (ID 119 )\n",
      "INFO    : Installed bundle fastoad.models.performances.mission.segments.base (ID 121 )\n",
      "INFO    : Installed bundle fastoad.models.performances.mission.segments.taxi (ID 125 )\n",
      "INFO    : Installed bundle fastoad.models.performances.mission.segments.cruise (ID 122 )\n",
      "INFO    : Installed bundle fastoad.models.performances.mission.segments.transition (ID 126 )\n",
      "INFO    : Installed bundle fastoad.models.performances.mission.mission_definition.resources.__init__ (ID 110 )\n",
      "INFO    : Installed bundle fastoad.models.performances.mission.openmdao.mission_wrapper (ID 115 )\n",
      "INFO    : Installed bundle fastoad.models.performances.mission.openmdao.resources.__init__ (ID 116 )\n",
      "INFO    : Installed bundle fastoad.models.performances.mission.mission_definition.mission_builder (ID 109 )\n",
      "INFO    : Installed bundle fastoad.models.__init__ (ID 131 )\n",
      "INFO    : Installed bundle fastoad.models.performances.mission.openmdao.link_mtow (ID 113 )\n",
      "INFO    : Installed bundle fastoad.models.performances.__init__ (ID 130 )\n",
      "INFO    : Installed bundle fastoad.models.performances.mission.segments.hold (ID 123 )\n",
      "INFO    : Installed bundle fastoad.models.performances.mission.openmdao.mission (ID 114 )\n",
      "INFO    : Installed bundle fastoad.models.performances.mission.openmdao.__init__ (ID 117 )\n",
      "INFO    : Installed bundle fastoad.models.performances.mission.util (ID 128 )\n",
      "INFO    : Installed bundle fastoad.models.performances.mission.__init__ (ID 129 )\n",
      "INFO    : Installed bundle fastoad.models.performances.mission.base (ID 106 )\n",
      "INFO    : Installed bundle fastoad.models.performances.mission.segments.altitude_change (ID 120 )\n",
      "INFO    : Installed bundle fastoad.models.performances.mission.mission_definition.schema (ID 111 )\n",
      "INFO    : Loaded variable descriptions in fastoad.models\n",
      "INFO    : Sample configuration written in \"D:\\THESE\\Tools\\FAST-UAV\\src\\fastuav\\notebooks\\workdir\\multirotor_mdo_discrete.yaml\".\n"
     ]
    },
    {
     "data": {
      "text/plain": [
       "'D:\\\\THESE\\\\Tools\\\\FAST-UAV\\\\src\\\\fastuav\\\\notebooks\\\\workdir\\\\multirotor_mdo_discrete.yaml'"
      ]
     },
     "execution_count": 4,
     "metadata": {},
     "output_type": "execute_result"
    }
   ],
   "source": [
    "oad.generate_configuration_file(\n",
    "    CONFIGURATION_FILE, overwrite=True, distribution_name=\"fastuav\", sample_file_name=\"multirotor_mdo_discrete.yaml\"\n",
    ")"
   ]
  },
  {
   "cell_type": "markdown",
   "metadata": {},
   "source": [
    "The changes in the model rely in the use of catalogues instead of continuous estimation models to select the components. This is described in the configuration file by the `off_the_shelf` option when defining the model:\n",
    "\n",
    "```yaml\n",
    "model:\n",
    "    scenarios:\n",
    "        id: fastuav.scenarios.multirotor\n",
    "    propulsion:\n",
    "        id: fastuav.propulsion.multirotor\n",
    "        off_the_shelf_propeller: True\n",
    "```\n",
    "\n",
    "You can check with the N2 diagram visualization that the `catalogue_selection` module has replaced the `skip_catalogue_selection` module for components where the option has been set to True."
   ]
  },
  {
   "cell_type": "code",
   "execution_count": 5,
   "metadata": {},
   "outputs": [
    {
     "name": "stderr",
     "output_type": "stream",
     "text": [
      "INFO    : N2 diagram written in D:\\THESE\\Tools\\FAST-UAV\\src\\fastuav\\notebooks\\workdir\\n2.html\n"
     ]
    },
    {
     "data": {
      "text/html": [
       "\n",
       "        <iframe\n",
       "            width=\"100%\"\n",
       "            height=\"500px\"\n",
       "            src=\"./workdir\\n2.html\"\n",
       "            frameborder=\"0\"\n",
       "            allowfullscreen\n",
       "            \n",
       "        ></iframe>\n",
       "        "
      ],
      "text/plain": [
       "<IPython.lib.display.IFrame at 0x25d94736070>"
      ]
     },
     "execution_count": 5,
     "metadata": {},
     "output_type": "execute_result"
    }
   ],
   "source": [
    "N2_FILE = pth.join(WORK_FOLDER_PATH, \"n2.html\")\n",
    "oad.write_n2(CONFIGURATION_FILE, N2_FILE, overwrite=True)\n",
    "from IPython.display import IFrame\n",
    "IFrame(src=N2_FILE, width=\"100%\", height=\"500px\")"
   ]
  },
  {
   "cell_type": "markdown",
   "metadata": {},
   "source": [
    "Now, the problem outputs from the design optimization in the continuous domain will be re-used as an initial guess for the optimization in the discrete domain."
   ]
  },
  {
   "cell_type": "code",
   "execution_count": 6,
   "metadata": {},
   "outputs": [
    {
     "name": "stderr",
     "output_type": "stream",
     "text": [
      "INFO    : Problem inputs written in D:\\THESE\\Tools\\FAST-UAV\\src\\fastuav\\notebooks\\workdir\\problem_inputs.xml\n"
     ]
    },
    {
     "data": {
      "text/plain": [
       "'D:\\\\THESE\\\\Tools\\\\FAST-UAV\\\\src\\\\fastuav\\\\notebooks\\\\workdir\\\\problem_inputs.xml'"
      ]
     },
     "execution_count": 6,
     "metadata": {},
     "output_type": "execute_result"
    }
   ],
   "source": [
    "oad.generate_inputs(CONFIGURATION_FILE, SOURCE_FILE, overwrite=True)"
   ]
  },
  {
   "cell_type": "code",
   "execution_count": 7,
   "metadata": {},
   "outputs": [
    {
     "name": "stderr",
     "output_type": "stream",
     "text": [
      "D:\\Softwares\\poetry\\cache\\virtualenvs\\fastuav-qz6dlUbG-py3.8\\lib\\site-packages\\jupyter_client\\session.py:716: UserWarning: Message serialization failed with:\n",
      "Out of range float values are not JSON compliant\n",
      "Supporting this message is deprecated in jupyter-client 7, please make sure your message is JSON-compliant\n",
      "  content = self.pack(content)\n"
     ]
    },
    {
     "data": {
      "application/vnd.jupyter.widget-view+json": {
       "model_id": "eba0ceae76ca40ca8675eb74e4139b28",
       "version_major": 2,
       "version_minor": 0
      },
      "text/plain": [
       "VBox(children=(HBox(children=(Button(description='Load', icon='upload', style=ButtonStyle(), tooltip='Load the…"
      ]
     },
     "metadata": {},
     "output_type": "display_data"
    }
   ],
   "source": [
    "INPUT_FILE = pth.join(WORK_FOLDER_PATH, \"problem_inputs.xml\")\n",
    "oad.variable_viewer(INPUT_FILE)"
   ]
  },
  {
   "cell_type": "markdown",
   "metadata": {},
   "source": [
    "## 3. Multirotor MDO with off-the-shelf components\n",
    "\n",
    "Due to the non-continuous nature of the selection process, the use of a gradient-based algorithm is risky. We therefore recommend the use of an evolutionary algorithm, [CMA-ES](http://www.cmap.polytechnique.fr/~nikolaus.hansen/cmaesintro.html).\n",
    "\n",
    "### a) Using a gradient-based algorithm: SLSQP"
   ]
  },
  {
   "cell_type": "code",
   "execution_count": 8,
   "metadata": {},
   "outputs": [
    {
     "name": "stdout",
     "output_type": "stream",
     "text": [
      "Optimization terminated successfully    (Exit mode 0)\n",
      "            Current function value: [1.48691983]\n",
      "            Iterations: 14\n",
      "            Function evaluations: 15\n",
      "            Gradient evaluations: 14\n",
      "Optimization Complete\n",
      "-----------------------------------\n"
     ]
    },
    {
     "name": "stderr",
     "output_type": "stream",
     "text": [
      "INFO    : Computation finished after 1.45 seconds\n",
      "INFO    : Problem outputs written in D:\\THESE\\Tools\\FAST-UAV\\src\\fastuav\\notebooks\\workdir\\problem_outputs.xml\n"
     ]
    }
   ],
   "source": [
    "optim_problem = oad.optimize_problem(CONFIGURATION_FILE, overwrite=True)"
   ]
  },
  {
   "cell_type": "markdown",
   "metadata": {},
   "source": [
    "### b) Using an evolutionnary strategy: CMA-ES\n",
    "The [pycma](https://github.com/CMA-ES/pycma) implementation of CMA-ES is used. The optimizer is wrapped with a modified version of the [OpenMDAO driver](https://github.com/OpenMDAO/RevHack2020/tree/master/problems/cma_es).<br>\n",
    "\n",
    "*Note that the use of custom-made drivers is not supported yet by FAST-OAD. Consequently, the setup and run of the problem is made by hand.*"
   ]
  },
  {
   "cell_type": "code",
   "execution_count": 9,
   "metadata": {},
   "outputs": [
    {
     "name": "stdout",
     "output_type": "stream",
     "text": [
      "(5_w,11)-aCMA-ES (mu_w=3.4,w_1=42%) in dimension 11 (seed=626615, Mon May  2 16:40:48 2022)\n",
      "Iterat #Fevals   function value  axis ratio  sigma  min&max std  t[m:s]\n",
      "    1     11 5.920827650236306e+05 1.0e+00 9.27e-02  9e-02  9e-02 0:00.1\n",
      "    2     22 4.915089615230442e+05 1.2e+00 9.34e-02  9e-02  1e-01 0:00.2\n",
      "    3     33 5.372476636073586e+05 1.3e+00 9.04e-02  8e-02  9e-02 0:00.2\n",
      "   42    462 2.422969045578561e+04 8.0e+00 3.29e-02  7e-03  4e-02 0:03.2\n",
      "   92   1012 1.578535046296118e+00 3.2e+01 1.04e-02  7e-04  2e-02 0:07.3\n",
      "  100   1100 1.563242836623196e+00 4.2e+01 8.17e-03  4e-04  1e-02 0:07.9\n",
      "  174   1914 1.509600114639237e+00 7.1e+01 3.90e-03  2e-04  6e-03 0:14.0\n",
      "  200   2200 1.499733423282925e+00 1.0e+02 5.89e-03  2e-04  1e-02 0:16.1\n",
      "  300   3300 1.495488298248681e+00 8.7e+01 3.89e-04  2e-05  5e-04 0:23.7\n",
      "  400   4400 1.493517603917763e+00 3.7e+02 1.21e-03  3e-05  2e-03 0:31.6\n",
      "  500   5500 1.488259743023609e+00 7.4e+02 4.65e-03  9e-05  9e-03 0:40.0\n",
      "  600   6600 1.487337340886376e+00 5.8e+02 1.08e-03  2e-05  1e-03 0:48.1\n",
      "  700   7700 1.487096408290501e+00 2.1e+03 1.88e-03  2e-05  3e-03 0:56.1\n",
      "  800   8800 1.487037566972597e+00 1.7e+03 2.19e-04  1e-06  2e-04 1:04.3\n",
      "  803   8833 1.487036949515961e+00 1.8e+03 2.01e-04  1e-06  2e-04 1:04.6\n",
      "termination on tolfunhist=1e-05 (Mon May  2 16:41:57 2022)\n",
      "final/bestever f-value = 1.487037e+00 1.487037e+00\n",
      "incumbent solution: [2.34179137 0.70219223 0.41386074 0.1334059  0.59077084 1.51210121\n",
      " 0.82058703 0.4711858  ...]\n",
      "std deviations: [1.05462583e-06 1.27213025e-04 1.76858014e-04 1.23378515e-06\n",
      " 4.96364946e-06 1.37131404e-06 4.83965012e-06 2.47751088e-06 ...]\n",
      "(11_w,22)-aCMA-ES (mu_w=6.5,w_1=26%) in dimension 11 (seed=626616, Mon May  2 16:41:57 2022)\n",
      "Iterat #Fevals   function value  axis ratio  sigma  min&max std  t[m:s]\n",
      "    1   8856 3.717135634175440e+05 1.0e+00 8.61e-02  8e-02  9e-02 0:00.2\n"
     ]
    },
    {
     "name": "stderr",
     "output_type": "stream",
     "text": [
      "D:\\Softwares\\poetry\\cache\\virtualenvs\\fastuav-qz6dlUbG-py3.8\\lib\\site-packages\\cma\\utilities\\utils.py:343: UserWarning: CAVE: restart_from_best is often not useful ()\n",
      "  warnings.warn(msg + ' (' +\n"
     ]
    },
    {
     "name": "stdout",
     "output_type": "stream",
     "text": [
      "    2   8878 7.210824570948852e+04 1.2e+00 7.61e-02  7e-02  8e-02 0:00.3\n",
      "    3   8900 2.121022654530656e+05 1.2e+00 7.80e-02  6e-02  8e-02 0:00.5\n",
      "   21   9296 1.570638591523116e+04 5.7e+00 2.35e-02  5e-03  3e-02 0:03.5\n",
      "   46   9846 1.503406427070262e+00 2.7e+01 7.40e-03  5e-04  9e-03 0:07.6\n",
      "   76  10506 1.493998427914751e+00 5.7e+01 4.13e-03  2e-04  6e-03 0:12.6\n",
      "  100  11034 1.491617193251889e+00 6.8e+01 2.68e-03  1e-04  4e-03 0:16.6\n",
      "  144  12002 1.488226727115863e+00 1.6e+02 3.58e-03  9e-05  8e-03 0:23.7\n",
      "  192  13058 1.487669628357060e+00 4.7e+02 1.21e-03  4e-05  3e-03 0:31.8\n",
      "  200  13234 1.487640616849367e+00 5.9e+02 7.66e-04  2e-05  2e-03 0:33.1\n",
      "  257  14488 1.487512785609740e+00 1.3e+03 7.31e-04  1e-05  1e-03 0:43.1\n",
      "  300  15434 1.487404484574306e+00 2.0e+03 2.56e-03  2e-05  5e-03 0:51.1\n",
      "  365  16864 1.487302357876233e+00 4.7e+03 1.84e-03  8e-06  3e-03 1:03.3\n",
      "  400  17634 1.487271952972263e+00 8.6e+03 2.59e-03  9e-06  5e-03 1:09.6\n",
      "  490  19614 1.487116898513305e+00 1.1e+04 7.90e-03  7e-06  8e-03 1:23.8\n",
      "  500  19834 1.487111847929287e+00 1.5e+04 6.30e-03  4e-06  6e-03 1:25.3\n",
      "  600  22034 1.487051323320147e+00 7.5e+04 1.97e-02  6e-06  3e-02 1:41.3\n",
      "NOTE (module=cma, iteration=636):  \n",
      "condition in coordinate system exceeded 1.0e+08, rescaled to 1.0e+00, \n",
      "condition changed from 1.4e+10 to 6.8e+03\n",
      "  679  23772 1.486999056997250e+00 1.2e+02 4.45e-02  5e-06  8e-02 1:55.8\n",
      "termination on tolfunhist=1e-05 after 1 restart (Mon May  2 16:43:56 2022)\n",
      "final/bestever f-value = 1.487001e+00 1.486999e+00\n",
      "incumbent solution: [2.34173506 0.18891641 0.35973359 0.13422949 0.59077919 1.51211068\n",
      " 0.82029743 0.47126777 ...]\n",
      "std deviations: [5.86654059e-06 7.74877289e-02 8.26736612e-02 8.16233453e-05\n",
      " 1.07455011e-04 2.39946852e-05 1.84332852e-05 5.10852557e-06 ...]\n",
      "Objective function value  {'mtow.mtow_calculation.data:weights:mtow': array([1.48699906])}\n"
     ]
    },
    {
     "data": {
      "image/png": "[encoded data removed]",
      "text/plain": [
       "<Figure size 1152x576 with 4 Axes>"
      ]
     },
     "metadata": {
      "needs_background": "light"
     },
     "output_type": "display_data"
    }
   ],
   "source": [
    "# Get problem configuration\n",
    "conf = oad.FASTOADProblemConfigurator(CONFIGURATION_FILE)\n",
    "prob = conf.get_problem(read_inputs=True, auto_scaling=True)\n",
    "\n",
    "# CMA-ES Driver setup (see cma.CMAOptions() for all possible options for CMA-ES)\n",
    "driver = prob.driver = CMAESDriver()\n",
    "driver.options[\"sigma0\"] = 0.1\n",
    "driver.options[\n",
    "    \"penalty_parameter\"\n",
    "] = 1.0e6  # should be chosen such that f and the constraints violation have a similar magnitude.\n",
    "driver.options[\"penalty_exponent\"] = 1.0\n",
    "driver.options[\"restarts\"] = 1\n",
    "driver.options[\"restart_from_best\"] = True\n",
    "driver.options[\"bipop\"] = False\n",
    "driver.CMAOptions[\"tolfun\"] = 1e-6\n",
    "driver.CMAOptions[\"tolfunhist\"] = 1e-5\n",
    "driver.CMAOptions[\"popsize_factor\"] = 1\n",
    "# driver.CMAOptions['CMA_stds'] = [1, 1, 100, 0.1, 0.1, 1, 1, 1, 1]\n",
    "# driver.CMAOptions['CSA_dampfac'] = 1.  # positive multiplier for step-size damping\n",
    "# driver.CMAOptions['CSA_squared'] = True\n",
    "# driver.CMAOptions['integer_variables'] = [2]\n",
    "# driver.options['augmented_lagrangian'] = True  # whether to use penalty method or augmented lagrangian for handling constraints\n",
    "\n",
    "# Setup and run problem\n",
    "prob.setup()\n",
    "start_time = time()\n",
    "prob.optim_failed = prob.run_driver()  # optimize\n",
    "end_time = time()\n",
    "computation_time = round(end_time - start_time, 2)\n",
    "prob.write_outputs()\n",
    "\n",
    "print(\"Objective function value \", driver.get_objective_values())\n",
    "\n",
    "logger = cma.plot()  # plot logger"
   ]
  },
  {
   "cell_type": "markdown",
   "metadata": {},
   "source": [
    "Let's save and visualize the optimization results:"
   ]
  },
  {
   "cell_type": "code",
   "execution_count": 15,
   "metadata": {},
   "outputs": [
    {
     "name": "stderr",
     "output_type": "stream",
     "text": [
      "D:\\Softwares\\poetry\\cache\\virtualenvs\\fastuav-qz6dlUbG-py3.8\\lib\\site-packages\\jupyter_client\\session.py:716: UserWarning:\n",
      "\n",
      "Message serialization failed with:\n",
      "Out of range float values are not JSON compliant\n",
      "Supporting this message is deprecated in jupyter-client 7, please make sure your message is JSON-compliant\n",
      "\n"
     ]
    },
    {
     "data": {
      "application/vnd.jupyter.widget-view+json": {
       "model_id": "0d2180ea759d4d7fb214f4183f5be88b",
       "version_major": 2,
       "version_minor": 0
      },
      "text/plain": [
       "VBox(children=(HBox(children=(Button(description='Load', icon='upload', style=ButtonStyle(), tooltip='Load the…"
      ]
     },
     "metadata": {},
     "output_type": "display_data"
    }
   ],
   "source": [
    "OUTPUT_FILE = pth.join(WORK_FOLDER_PATH, \"problem_outputs.xml\")\n",
    "DJI_M600_OUTPUT_FILE = pth.join(DATA_FOLDER_PATH, \"problem_outputs_discrete_DJI_M600_mdo.xml\")\n",
    "shutil.copy(OUTPUT_FILE, DJI_M600_OUTPUT_FILE)\n",
    "oad.optimization_viewer(CONFIGURATION_FILE)"
   ]
  },
  {
   "cell_type": "code",
   "execution_count": 16,
   "metadata": {},
   "outputs": [
    {
     "data": {
      "application/vnd.jupyter.widget-view+json": {
       "model_id": "8527419027e5404a8e1827aa0672f46f",
       "version_major": 2,
       "version_minor": 0
      },
      "text/plain": [
       "VBox(children=(HBox(children=(Button(description='Load', icon='upload', style=ButtonStyle(), tooltip='Load the…"
      ]
     },
     "metadata": {},
     "output_type": "display_data"
    }
   ],
   "source": [
    "oad.variable_viewer(OUTPUT_FILE)"
   ]
  },
  {
   "cell_type": "markdown",
   "metadata": {},
   "source": [
    "## 3. Analysis and plots\n",
    "\n",
    "We may now compare the results from the optimization in the continuous domain with the off-the-shelf configuration:"
   ]
  },
  {
   "cell_type": "code",
   "execution_count": 17,
   "metadata": {},
   "outputs": [
    {
     "data": {
      "application/vnd.plotly.v1+json": {
       "config": {
        "plotlyServerURL": "https://plot.ly"
       },
       "data": [
        {
         "line": {
          "color": "rgb(31, 119, 180)"
         },
         "mode": "lines",
         "name": "Drone custom",
         "type": "scatter",
         "uid": "8befeab8-02c9-4bdf-aab3-60209ffc0d0c",
         "x": [
          0.2933369190643414,
          0.4899781302341333,
          0.4899781302341333,
          0.2933369190643414,
          0.16609614803188497,
          0.26441675361678096,
          0.22556137661735245,
          0.12724077103245648,
          -0.1272407710324564,
          -0.2255613766173523,
          -0.2644167536167808,
          -0.16609614803188488,
          -0.2933369190643414,
          -0.4899781302341333,
          -0.4899781302341333,
          -0.2933369190643414,
          -0.16609614803188508,
          -0.26441675361678113,
          -0.22556137661735262,
          -0.1272407710324566,
          0.12724077103245648,
          0.22556137661735245,
          0.26441675361678096,
          0.16609614803188497,
          0.2933369190643414
         ],
         "y": [
          0.02243316237008444,
          0.02243316237008444,
          -0.02243316237008444,
          -0.02243316237008444,
          -0.24282064259253722,
          -0.4131169268965173,
          -0.4355500892666017,
          -0.26525380496262163,
          -0.2652538049626217,
          -0.43555008926660177,
          -0.41311692689651736,
          -0.24282064259253727,
          -0.022433162370084473,
          -0.022433162370084497,
          0.02243316237008438,
          0.022433162370084404,
          0.2428206425925372,
          0.41311692689651724,
          0.43555008926660166,
          0.26525380496262163,
          0.26525380496262163,
          0.4355500892666017,
          0.4131169268965173,
          0.24282064259253722,
          0.02243316237008444
         ]
        },
        {
         "line": {
          "color": "rgb(255, 127, 14)"
         },
         "mode": "lines",
         "name": "Drone off-the-shelf",
         "type": "scatter",
         "uid": "729e6abe-337f-4dd3-989f-3f552b81d155",
         "x": [
          0.289295260296887,
          0.45720000000000005,
          0.45720000000000005,
          0.289295260296887,
          0.1633704917768391,
          0.24732286162839565,
          0.20987713837160452,
          0.12592476852004797,
          -0.1259247685200479,
          -0.20987713837160435,
          -0.24732286162839548,
          -0.16337049177683902,
          -0.289295260296887,
          -0.45720000000000005,
          -0.45720000000000005,
          -0.289295260296887,
          -0.1633704917768392,
          -0.24732286162839578,
          -0.20987713837160465,
          -0.12592476852004808,
          0.12592476852004797,
          0.20987713837160452,
          0.24732286162839565,
          0.1633704917768391,
          0.289295260296887
         ],
         "y": [
          0.021619298402308595,
          0.021619298402308595,
          -0.021619298402308595,
          -0.021619298402308595,
          -0.23972739541038157,
          -0.3851371654090911,
          -0.4067564638113997,
          -0.26134669381269016,
          -0.26134669381269016,
          -0.40675646381139974,
          -0.38513716540909115,
          -0.23972739541038157,
          -0.02161929840230863,
          -0.02161929840230865,
          0.02161929840230854,
          0.02161929840230856,
          0.2397273954103815,
          0.38513716540909104,
          0.4067564638113996,
          0.2613466938126901,
          0.26134669381269016,
          0.4067564638113997,
          0.3851371654090911,
          0.23972739541038157,
          0.021619298402308595
         ]
        }
       ],
       "layout": {
        "annotations": [
         {
          "align": "center",
          "bgcolor": "white",
          "bordercolor": "rgb(31, 119, 180)",
          "borderpad": 4,
          "borderwidth": 2,
          "font": {
           "color": "rgb(31, 119, 180)"
          },
          "showarrow": false,
          "text": "Single propellers",
          "x": 1,
          "xanchor": "right",
          "xref": "paper",
          "xshift": 0,
          "y": 1,
          "yanchor": "top",
          "yref": "paper",
          "yshift": 0
         },
         {
          "align": "center",
          "bgcolor": "white",
          "bordercolor": "rgb(255, 127, 14)",
          "borderpad": 4,
          "borderwidth": 2,
          "font": {
           "color": "rgb(255, 127, 14)"
          },
          "showarrow": false,
          "text": "Single propellers",
          "x": 1,
          "xanchor": "right",
          "xref": "paper",
          "xshift": 0,
          "y": 1,
          "yanchor": "top",
          "yref": "paper",
          "yshift": -35
         }
        ],
        "autosize": true,
        "shapes": [
         {
          "fillcolor": "rgb(31, 119, 180)",
          "line": {
           "color": "rgb(31, 119, 180)",
           "width": 3
          },
          "type": "rect",
          "x0": -0.1166435688338027,
          "x1": 0.1166435688338027,
          "xref": "x",
          "y0": -0.03888118961126757,
          "y1": 0.03888118961126757,
          "yref": "y"
         },
         {
          "fillcolor": "rgb(31, 119, 180)",
          "line": {
           "color": "rgb(31, 119, 180)",
           "width": 3
          },
          "type": "circle",
          "x0": 0.4655356040610986,
          "x1": 0.5144206564071679,
          "xref": "x",
          "y0": -0.02444252617303468,
          "y1": 0.02444252617303468,
          "yref": "y"
         },
         {
          "fillcolor": "rgb(31, 119, 180)",
          "line": {
           "color": "rgb(31, 119, 180)",
           "width": 0
          },
          "opacity": 0.25,
          "type": "circle",
          "x0": 0.24498906511706667,
          "x1": 0.7349671953511999,
          "xref": "x",
          "y0": -0.2449890651170666,
          "y1": 0.2449890651170666,
          "yref": "y"
         },
         {
          "fillcolor": "rgb(31, 119, 180)",
          "line": {
           "color": "rgb(31, 119, 180)",
           "width": 3
          },
          "type": "circle",
          "x0": 0.220546538944032,
          "x1": 0.26943159129010136,
          "xref": "x",
          "y0": -0.44877603425459417,
          "y1": -0.39989098190852485,
          "yref": "y"
         },
         {
          "fillcolor": "rgb(31, 119, 180)",
          "line": {
           "color": "rgb(31, 119, 180)",
           "width": 0
          },
          "opacity": 0.25,
          "type": "circle",
          "x0": 8.326672684688674e-17,
          "x1": 0.4899781302341333,
          "xref": "x",
          "y0": -0.6693225731986261,
          "y1": -0.1793444429644929,
          "yref": "y"
         },
         {
          "fillcolor": "rgb(31, 119, 180)",
          "line": {
           "color": "rgb(31, 119, 180)",
           "width": 3
          },
          "type": "circle",
          "x0": -0.2694315912901012,
          "x1": -0.22054653894403184,
          "xref": "x",
          "y0": -0.4487760342545942,
          "y1": -0.3998909819085249,
          "yref": "y"
         },
         {
          "fillcolor": "rgb(31, 119, 180)",
          "line": {
           "color": "rgb(31, 119, 180)",
           "width": 0
          },
          "opacity": 0.25,
          "type": "circle",
          "x0": -0.48997813023413317,
          "x1": 8.326672684688674e-17,
          "xref": "x",
          "y0": -0.6693225731986262,
          "y1": -0.17934444296449295,
          "yref": "y"
         },
         {
          "fillcolor": "rgb(31, 119, 180)",
          "line": {
           "color": "rgb(31, 119, 180)",
           "width": 3
          },
          "type": "circle",
          "x0": -0.5144206564071679,
          "x1": -0.4655356040610986,
          "xref": "x",
          "y0": -0.02444252617303474,
          "y1": 0.02444252617303462,
          "yref": "y"
         },
         {
          "fillcolor": "rgb(31, 119, 180)",
          "line": {
           "color": "rgb(31, 119, 180)",
           "width": 0
          },
          "opacity": 0.25,
          "type": "circle",
          "x0": -0.7349671953511999,
          "x1": -0.24498906511706667,
          "xref": "x",
          "y0": -0.24498906511706667,
          "y1": 0.24498906511706656,
          "yref": "y"
         },
         {
          "fillcolor": "rgb(31, 119, 180)",
          "line": {
           "color": "rgb(31, 119, 180)",
           "width": 3
          },
          "type": "circle",
          "x0": -0.2694315912901015,
          "x1": -0.22054653894403217,
          "xref": "x",
          "y0": 0.3998909819085248,
          "y1": 0.4487760342545941,
          "yref": "y"
         },
         {
          "fillcolor": "rgb(31, 119, 180)",
          "line": {
           "color": "rgb(31, 119, 180)",
           "width": 0
          },
          "opacity": 0.25,
          "type": "circle",
          "x0": -0.4899781302341335,
          "x1": -2.498001805406602e-16,
          "xref": "x",
          "y0": 0.17934444296449284,
          "y1": 0.6693225731986261,
          "yref": "y"
         },
         {
          "fillcolor": "rgb(31, 119, 180)",
          "line": {
           "color": "rgb(31, 119, 180)",
           "width": 3
          },
          "type": "circle",
          "x0": 0.220546538944032,
          "x1": 0.26943159129010136,
          "xref": "x",
          "y0": 0.39989098190852485,
          "y1": 0.44877603425459417,
          "yref": "y"
         },
         {
          "fillcolor": "rgb(31, 119, 180)",
          "line": {
           "color": "rgb(31, 119, 180)",
           "width": 0
          },
          "opacity": 0.25,
          "type": "circle",
          "x0": 8.326672684688674e-17,
          "x1": 0.4899781302341333,
          "xref": "x",
          "y0": 0.1793444429644929,
          "y1": 0.6693225731986261,
          "yref": "y"
         },
         {
          "fillcolor": "rgb(255, 127, 14)",
          "line": {
           "color": "rgb(255, 127, 14)",
           "width": 3
          },
          "type": "rect",
          "x0": -0.11675086895681967,
          "x1": 0.11675086895681967,
          "xref": "x",
          "y0": -0.03891695631893989,
          "y1": 0.03891695631893989,
          "yref": "y"
         },
         {
          "fillcolor": "rgb(255, 127, 14)",
          "line": {
           "color": "rgb(255, 127, 14)",
           "width": 3
          },
          "type": "circle",
          "x0": 0.4334514139798039,
          "x1": 0.4809485860201962,
          "xref": "x",
          "y0": -0.023748586020196118,
          "y1": 0.023748586020196118,
          "yref": "y"
         },
         {
          "fillcolor": "rgb(255, 127, 14)",
          "line": {
           "color": "rgb(255, 127, 14)",
           "width": 0
          },
          "opacity": 0.25,
          "type": "circle",
          "x0": 0.22860000000000005,
          "x1": 0.6858000000000001,
          "xref": "x",
          "y0": -0.2286,
          "y1": 0.2286,
          "yref": "y"
         },
         {
          "fillcolor": "rgb(255, 127, 14)",
          "line": {
           "color": "rgb(255, 127, 14)",
           "width": 3
          },
          "type": "circle",
          "x0": 0.20485141397980397,
          "x1": 0.2523485860201962,
          "xref": "x",
          "y0": -0.41969540063044153,
          "y1": -0.37219822859004925,
          "yref": "y"
         },
         {
          "fillcolor": "rgb(255, 127, 14)",
          "line": {
           "color": "rgb(255, 127, 14)",
           "width": 0
          },
          "opacity": 0.25,
          "type": "circle",
          "x0": 8.326672684688674e-17,
          "x1": 0.45720000000000005,
          "xref": "x",
          "y0": -0.6245468146102454,
          "y1": -0.1673468146102454,
          "yref": "y"
         },
         {
          "fillcolor": "rgb(255, 127, 14)",
          "line": {
           "color": "rgb(255, 127, 14)",
           "width": 3
          },
          "type": "circle",
          "x0": -0.25234858602019605,
          "x1": -0.2048514139798038,
          "xref": "x",
          "y0": -0.4196954006304416,
          "y1": -0.3721982285900493,
          "yref": "y"
         },
         {
          "fillcolor": "rgb(255, 127, 14)",
          "line": {
           "color": "rgb(255, 127, 14)",
           "width": 0
          },
          "opacity": 0.25,
          "type": "circle",
          "x0": -0.45719999999999994,
          "x1": 8.326672684688674e-17,
          "xref": "x",
          "y0": -0.6245468146102454,
          "y1": -0.16734681461024545,
          "yref": "y"
         },
         {
          "fillcolor": "rgb(255, 127, 14)",
          "line": {
           "color": "rgb(255, 127, 14)",
           "width": 3
          },
          "type": "circle",
          "x0": -0.4809485860201962,
          "x1": -0.4334514139798039,
          "xref": "x",
          "y0": -0.023748586020196173,
          "y1": 0.023748586020196062,
          "yref": "y"
         },
         {
          "fillcolor": "rgb(255, 127, 14)",
          "line": {
           "color": "rgb(255, 127, 14)",
           "width": 0
          },
          "opacity": 0.25,
          "type": "circle",
          "x0": -0.6858000000000001,
          "x1": -0.22860000000000005,
          "xref": "x",
          "y0": -0.22860000000000005,
          "y1": 0.22859999999999994,
          "yref": "y"
         },
         {
          "fillcolor": "rgb(255, 127, 14)",
          "line": {
           "color": "rgb(255, 127, 14)",
           "width": 3
          },
          "type": "circle",
          "x0": -0.25234858602019633,
          "x1": -0.2048514139798041,
          "xref": "x",
          "y0": 0.3721982285900492,
          "y1": 0.4196954006304415,
          "yref": "y"
         },
         {
          "fillcolor": "rgb(255, 127, 14)",
          "line": {
           "color": "rgb(255, 127, 14)",
           "width": 0
          },
          "opacity": 0.25,
          "type": "circle",
          "x0": -0.4572000000000002,
          "x1": -2.220446049250313e-16,
          "xref": "x",
          "y0": 0.16734681461024534,
          "y1": 0.6245468146102453,
          "yref": "y"
         },
         {
          "fillcolor": "rgb(255, 127, 14)",
          "line": {
           "color": "rgb(255, 127, 14)",
           "width": 3
          },
          "type": "circle",
          "x0": 0.20485141397980397,
          "x1": 0.2523485860201962,
          "xref": "x",
          "y0": 0.37219822859004925,
          "y1": 0.41969540063044153,
          "yref": "y"
         },
         {
          "fillcolor": "rgb(255, 127, 14)",
          "line": {
           "color": "rgb(255, 127, 14)",
           "width": 0
          },
          "opacity": 0.25,
          "type": "circle",
          "x0": 8.326672684688674e-17,
          "x1": 0.45720000000000005,
          "xref": "x",
          "y0": 0.1673468146102454,
          "y1": 0.6245468146102454,
          "yref": "y"
         }
        ],
        "template": {
         "data": {
          "bar": [
           {
            "error_x": {
             "color": "#2a3f5f"
            },
            "error_y": {
             "color": "#2a3f5f"
            },
            "marker": {
             "line": {
              "color": "#E5ECF6",
              "width": 0.5
             },
             "pattern": {
              "fillmode": "overlay",
              "size": 10,
              "solidity": 0.2
             }
            },
            "type": "bar"
           }
          ],
          "barpolar": [
           {
            "marker": {
             "line": {
              "color": "#E5ECF6",
              "width": 0.5
             },
             "pattern": {
              "fillmode": "overlay",
              "size": 10,
              "solidity": 0.2
             }
            },
            "type": "barpolar"
           }
          ],
          "carpet": [
           {
            "aaxis": {
             "endlinecolor": "#2a3f5f",
             "gridcolor": "white",
             "linecolor": "white",
             "minorgridcolor": "white",
             "startlinecolor": "#2a3f5f"
            },
            "baxis": {
             "endlinecolor": "#2a3f5f",
             "gridcolor": "white",
             "linecolor": "white",
             "minorgridcolor": "white",
             "startlinecolor": "#2a3f5f"
            },
            "type": "carpet"
           }
          ],
          "choropleth": [
           {
            "colorbar": {
             "outlinewidth": 0,
             "ticks": ""
            },
            "type": "choropleth"
           }
          ],
          "contour": [
           {
            "colorbar": {
             "outlinewidth": 0,
             "ticks": ""
            },
            "colorscale": [
             [
              0,
              "#0d0887"
             ],
             [
              0.1111111111111111,
              "#46039f"
             ],
             [
              0.2222222222222222,
              "#7201a8"
             ],
             [
              0.3333333333333333,
              "#9c179e"
             ],
             [
              0.4444444444444444,
              "#bd3786"
             ],
             [
              0.5555555555555556,
              "#d8576b"
             ],
             [
              0.6666666666666666,
              "#ed7953"
             ],
             [
              0.7777777777777778,
              "#fb9f3a"
             ],
             [
              0.8888888888888888,
              "#fdca26"
             ],
             [
              1,
              "#f0f921"
             ]
            ],
            "type": "contour"
           }
          ],
          "contourcarpet": [
           {
            "colorbar": {
             "outlinewidth": 0,
             "ticks": ""
            },
            "type": "contourcarpet"
           }
          ],
          "heatmap": [
           {
            "colorbar": {
             "outlinewidth": 0,
             "ticks": ""
            },
            "colorscale": [
             [
              0,
              "#0d0887"
             ],
             [
              0.1111111111111111,
              "#46039f"
             ],
             [
              0.2222222222222222,
              "#7201a8"
             ],
             [
              0.3333333333333333,
              "#9c179e"
             ],
             [
              0.4444444444444444,
              "#bd3786"
             ],
             [
              0.5555555555555556,
              "#d8576b"
             ],
             [
              0.6666666666666666,
              "#ed7953"
             ],
             [
              0.7777777777777778,
              "#fb9f3a"
             ],
             [
              0.8888888888888888,
              "#fdca26"
             ],
             [
              1,
              "#f0f921"
             ]
            ],
            "type": "heatmap"
           }
          ],
          "heatmapgl": [
           {
            "colorbar": {
             "outlinewidth": 0,
             "ticks": ""
            },
            "colorscale": [
             [
              0,
              "#0d0887"
             ],
             [
              0.1111111111111111,
              "#46039f"
             ],
             [
              0.2222222222222222,
              "#7201a8"
             ],
             [
              0.3333333333333333,
              "#9c179e"
             ],
             [
              0.4444444444444444,
              "#bd3786"
             ],
             [
              0.5555555555555556,
              "#d8576b"
             ],
             [
              0.6666666666666666,
              "#ed7953"
             ],
             [
              0.7777777777777778,
              "#fb9f3a"
             ],
             [
              0.8888888888888888,
              "#fdca26"
             ],
             [
              1,
              "#f0f921"
             ]
            ],
            "type": "heatmapgl"
           }
          ],
          "histogram": [
           {
            "marker": {
             "pattern": {
              "fillmode": "overlay",
              "size": 10,
              "solidity": 0.2
             }
            },
            "type": "histogram"
           }
          ],
          "histogram2d": [
           {
            "colorbar": {
             "outlinewidth": 0,
             "ticks": ""
            },
            "colorscale": [
             [
              0,
              "#0d0887"
             ],
             [
              0.1111111111111111,
              "#46039f"
             ],
             [
              0.2222222222222222,
              "#7201a8"
             ],
             [
              0.3333333333333333,
              "#9c179e"
             ],
             [
              0.4444444444444444,
              "#bd3786"
             ],
             [
              0.5555555555555556,
              "#d8576b"
             ],
             [
              0.6666666666666666,
              "#ed7953"
             ],
             [
              0.7777777777777778,
              "#fb9f3a"
             ],
             [
              0.8888888888888888,
              "#fdca26"
             ],
             [
              1,
              "#f0f921"
             ]
            ],
            "type": "histogram2d"
           }
          ],
          "histogram2dcontour": [
           {
            "colorbar": {
             "outlinewidth": 0,
             "ticks": ""
            },
            "colorscale": [
             [
              0,
              "#0d0887"
             ],
             [
              0.1111111111111111,
              "#46039f"
             ],
             [
              0.2222222222222222,
              "#7201a8"
             ],
             [
              0.3333333333333333,
              "#9c179e"
             ],
             [
              0.4444444444444444,
              "#bd3786"
             ],
             [
              0.5555555555555556,
              "#d8576b"
             ],
             [
              0.6666666666666666,
              "#ed7953"
             ],
             [
              0.7777777777777778,
              "#fb9f3a"
             ],
             [
              0.8888888888888888,
              "#fdca26"
             ],
             [
              1,
              "#f0f921"
             ]
            ],
            "type": "histogram2dcontour"
           }
          ],
          "mesh3d": [
           {
            "colorbar": {
             "outlinewidth": 0,
             "ticks": ""
            },
            "type": "mesh3d"
           }
          ],
          "parcoords": [
           {
            "line": {
             "colorbar": {
              "outlinewidth": 0,
              "ticks": ""
             }
            },
            "type": "parcoords"
           }
          ],
          "pie": [
           {
            "automargin": true,
            "type": "pie"
           }
          ],
          "scatter": [
           {
            "fillpattern": {
             "fillmode": "overlay",
             "size": 10,
             "solidity": 0.2
            },
            "type": "scatter"
           }
          ],
          "scatter3d": [
           {
            "line": {
             "colorbar": {
              "outlinewidth": 0,
              "ticks": ""
             }
            },
            "marker": {
             "colorbar": {
              "outlinewidth": 0,
              "ticks": ""
             }
            },
            "type": "scatter3d"
           }
          ],
          "scattercarpet": [
           {
            "marker": {
             "colorbar": {
              "outlinewidth": 0,
              "ticks": ""
             }
            },
            "type": "scattercarpet"
           }
          ],
          "scattergeo": [
           {
            "marker": {
             "colorbar": {
              "outlinewidth": 0,
              "ticks": ""
             }
            },
            "type": "scattergeo"
           }
          ],
          "scattergl": [
           {
            "marker": {
             "colorbar": {
              "outlinewidth": 0,
              "ticks": ""
             }
            },
            "type": "scattergl"
           }
          ],
          "scattermapbox": [
           {
            "marker": {
             "colorbar": {
              "outlinewidth": 0,
              "ticks": ""
             }
            },
            "type": "scattermapbox"
           }
          ],
          "scatterpolar": [
           {
            "marker": {
             "colorbar": {
              "outlinewidth": 0,
              "ticks": ""
             }
            },
            "type": "scatterpolar"
           }
          ],
          "scatterpolargl": [
           {
            "marker": {
             "colorbar": {
              "outlinewidth": 0,
              "ticks": ""
             }
            },
            "type": "scatterpolargl"
           }
          ],
          "scatterternary": [
           {
            "marker": {
             "colorbar": {
              "outlinewidth": 0,
              "ticks": ""
             }
            },
            "type": "scatterternary"
           }
          ],
          "surface": [
           {
            "colorbar": {
             "outlinewidth": 0,
             "ticks": ""
            },
            "colorscale": [
             [
              0,
              "#0d0887"
             ],
             [
              0.1111111111111111,
              "#46039f"
             ],
             [
              0.2222222222222222,
              "#7201a8"
             ],
             [
              0.3333333333333333,
              "#9c179e"
             ],
             [
              0.4444444444444444,
              "#bd3786"
             ],
             [
              0.5555555555555556,
              "#d8576b"
             ],
             [
              0.6666666666666666,
              "#ed7953"
             ],
             [
              0.7777777777777778,
              "#fb9f3a"
             ],
             [
              0.8888888888888888,
              "#fdca26"
             ],
             [
              1,
              "#f0f921"
             ]
            ],
            "type": "surface"
           }
          ],
          "table": [
           {
            "cells": {
             "fill": {
              "color": "#EBF0F8"
             },
             "line": {
              "color": "white"
             }
            },
            "header": {
             "fill": {
              "color": "#C8D4E3"
             },
             "line": {
              "color": "white"
             }
            },
            "type": "table"
           }
          ]
         },
         "layout": {
          "annotationdefaults": {
           "arrowcolor": "#2a3f5f",
           "arrowhead": 0,
           "arrowwidth": 1
          },
          "autotypenumbers": "strict",
          "coloraxis": {
           "colorbar": {
            "outlinewidth": 0,
            "ticks": ""
           }
          },
          "colorscale": {
           "diverging": [
            [
             0,
             "#8e0152"
            ],
            [
             0.1,
             "#c51b7d"
            ],
            [
             0.2,
             "#de77ae"
            ],
            [
             0.3,
             "#f1b6da"
            ],
            [
             0.4,
             "#fde0ef"
            ],
            [
             0.5,
             "#f7f7f7"
            ],
            [
             0.6,
             "#e6f5d0"
            ],
            [
             0.7,
             "#b8e186"
            ],
            [
             0.8,
             "#7fbc41"
            ],
            [
             0.9,
             "#4d9221"
            ],
            [
             1,
             "#276419"
            ]
           ],
           "sequential": [
            [
             0,
             "#0d0887"
            ],
            [
             0.1111111111111111,
             "#46039f"
            ],
            [
             0.2222222222222222,
             "#7201a8"
            ],
            [
             0.3333333333333333,
             "#9c179e"
            ],
            [
             0.4444444444444444,
             "#bd3786"
            ],
            [
             0.5555555555555556,
             "#d8576b"
            ],
            [
             0.6666666666666666,
             "#ed7953"
            ],
            [
             0.7777777777777778,
             "#fb9f3a"
            ],
            [
             0.8888888888888888,
             "#fdca26"
            ],
            [
             1,
             "#f0f921"
            ]
           ],
           "sequentialminus": [
            [
             0,
             "#0d0887"
            ],
            [
             0.1111111111111111,
             "#46039f"
            ],
            [
             0.2222222222222222,
             "#7201a8"
            ],
            [
             0.3333333333333333,
             "#9c179e"
            ],
            [
             0.4444444444444444,
             "#bd3786"
            ],
            [
             0.5555555555555556,
             "#d8576b"
            ],
            [
             0.6666666666666666,
             "#ed7953"
            ],
            [
             0.7777777777777778,
             "#fb9f3a"
            ],
            [
             0.8888888888888888,
             "#fdca26"
            ],
            [
             1,
             "#f0f921"
            ]
           ]
          },
          "colorway": [
           "#636efa",
           "#EF553B",
           "#00cc96",
           "#ab63fa",
           "#FFA15A",
           "#19d3f3",
           "#FF6692",
           "#B6E880",
           "#FF97FF",
           "#FECB52"
          ],
          "font": {
           "color": "#2a3f5f"
          },
          "geo": {
           "bgcolor": "white",
           "lakecolor": "white",
           "landcolor": "#E5ECF6",
           "showlakes": true,
           "showland": true,
           "subunitcolor": "white"
          },
          "hoverlabel": {
           "align": "left"
          },
          "hovermode": "closest",
          "mapbox": {
           "style": "light"
          },
          "paper_bgcolor": "white",
          "plot_bgcolor": "#E5ECF6",
          "polar": {
           "angularaxis": {
            "gridcolor": "white",
            "linecolor": "white",
            "ticks": ""
           },
           "bgcolor": "#E5ECF6",
           "radialaxis": {
            "gridcolor": "white",
            "linecolor": "white",
            "ticks": ""
           }
          },
          "scene": {
           "xaxis": {
            "backgroundcolor": "#E5ECF6",
            "gridcolor": "white",
            "gridwidth": 2,
            "linecolor": "white",
            "showbackground": true,
            "ticks": "",
            "zerolinecolor": "white"
           },
           "yaxis": {
            "backgroundcolor": "#E5ECF6",
            "gridcolor": "white",
            "gridwidth": 2,
            "linecolor": "white",
            "showbackground": true,
            "ticks": "",
            "zerolinecolor": "white"
           },
           "zaxis": {
            "backgroundcolor": "#E5ECF6",
            "gridcolor": "white",
            "gridwidth": 2,
            "linecolor": "white",
            "showbackground": true,
            "ticks": "",
            "zerolinecolor": "white"
           }
          },
          "shapedefaults": {
           "line": {
            "color": "#2a3f5f"
           }
          },
          "ternary": {
           "aaxis": {
            "gridcolor": "white",
            "linecolor": "white",
            "ticks": ""
           },
           "baxis": {
            "gridcolor": "white",
            "linecolor": "white",
            "ticks": ""
           },
           "bgcolor": "#E5ECF6",
           "caxis": {
            "gridcolor": "white",
            "linecolor": "white",
            "ticks": ""
           }
          },
          "title": {
           "x": 0.05
          },
          "xaxis": {
           "automargin": true,
           "gridcolor": "white",
           "linecolor": "white",
           "ticks": "",
           "title": {
            "standoff": 15
           },
           "zerolinecolor": "white",
           "zerolinewidth": 2
          },
          "yaxis": {
           "automargin": true,
           "gridcolor": "white",
           "linecolor": "white",
           "ticks": "",
           "title": {
            "standoff": 15
           },
           "zerolinecolor": "white",
           "zerolinewidth": 2
          }
         }
        },
        "title": {
         "text": "Drone Geometry",
         "x": 0.5
        },
        "xaxis": {
         "autorange": true,
         "domain": [
          0,
          1
         ],
         "range": [
          -2.9115531934140235,
          2.9115531934140235
         ],
         "title": {
          "text": "y"
         },
         "type": "linear"
        },
        "yaxis": {
         "autorange": true,
         "domain": [
          0,
          1
         ],
         "range": [
          -0.6693225731986262,
          0.6693225731986261
         ],
         "scaleanchor": "x",
         "scaleratio": 1,
         "title": {
          "text": "x"
         },
         "type": "linear"
        }
       }
      },
      "image/png": "[encoded data removed]",
      "text/html": [
       "<div>                            <div id=\"0182d161-8e17-4d8e-8cd5-5883dcf6a080\" class=\"plotly-graph-div\" style=\"height:525px; width:100%;\"></div>            <script type=\"text/javascript\">                require([\"plotly\"], function(Plotly) {                    window.PLOTLYENV=window.PLOTLYENV || {};                                    if (document.getElementById(\"0182d161-8e17-4d8e-8cd5-5883dcf6a080\")) {                    Plotly.newPlot(                        \"0182d161-8e17-4d8e-8cd5-5883dcf6a080\",                        [{\"line\":{\"color\":\"rgb(31, 119, 180)\"},\"mode\":\"lines\",\"name\":\"Drone custom\",\"uid\":\"8befeab8-02c9-4bdf-aab3-60209ffc0d0c\",\"x\":[0.2933369190643414,0.4899781302341333,0.4899781302341333,0.2933369190643414,0.16609614803188497,0.26441675361678096,0.22556137661735245,0.12724077103245648,-0.1272407710324564,-0.2255613766173523,-0.2644167536167808,-0.16609614803188488,-0.2933369190643414,-0.4899781302341333,-0.4899781302341333,-0.2933369190643414,-0.16609614803188508,-0.26441675361678113,-0.22556137661735262,-0.1272407710324566,0.12724077103245648,0.22556137661735245,0.26441675361678096,0.16609614803188497,0.2933369190643414],\"y\":[0.02243316237008444,0.02243316237008444,-0.02243316237008444,-0.02243316237008444,-0.24282064259253722,-0.4131169268965173,-0.4355500892666017,-0.26525380496262163,-0.2652538049626217,-0.43555008926660177,-0.41311692689651736,-0.24282064259253727,-0.022433162370084473,-0.022433162370084497,0.02243316237008438,0.022433162370084404,0.2428206425925372,0.41311692689651724,0.43555008926660166,0.26525380496262163,0.26525380496262163,0.4355500892666017,0.4131169268965173,0.24282064259253722,0.02243316237008444],\"type\":\"scatter\"},{\"line\":{\"color\":\"rgb(255, 127, 14)\"},\"mode\":\"lines\",\"name\":\"Drone off-the-shelf\",\"uid\":\"729e6abe-337f-4dd3-989f-3f552b81d155\",\"x\":[0.289295260296887,0.45720000000000005,0.45720000000000005,0.289295260296887,0.1633704917768391,0.24732286162839565,0.20987713837160452,0.12592476852004797,-0.1259247685200479,-0.20987713837160435,-0.24732286162839548,-0.16337049177683902,-0.289295260296887,-0.45720000000000005,-0.45720000000000005,-0.289295260296887,-0.1633704917768392,-0.24732286162839578,-0.20987713837160465,-0.12592476852004808,0.12592476852004797,0.20987713837160452,0.24732286162839565,0.1633704917768391,0.289295260296887],\"y\":[0.021619298402308595,0.021619298402308595,-0.021619298402308595,-0.021619298402308595,-0.23972739541038157,-0.3851371654090911,-0.4067564638113997,-0.26134669381269016,-0.26134669381269016,-0.40675646381139974,-0.38513716540909115,-0.23972739541038157,-0.02161929840230863,-0.02161929840230865,0.02161929840230854,0.02161929840230856,0.2397273954103815,0.38513716540909104,0.4067564638113996,0.2613466938126901,0.26134669381269016,0.4067564638113997,0.3851371654090911,0.23972739541038157,0.021619298402308595],\"type\":\"scatter\"}],                        {\"annotations\":[{\"align\":\"center\",\"bgcolor\":\"white\",\"bordercolor\":\"rgb(31, 119, 180)\",\"borderpad\":4,\"borderwidth\":2,\"font\":{\"color\":\"rgb(31, 119, 180)\"},\"showarrow\":false,\"text\":\"Single propellers\",\"x\":1,\"xanchor\":\"right\",\"xref\":\"paper\",\"xshift\":0,\"y\":1,\"yanchor\":\"top\",\"yref\":\"paper\",\"yshift\":0},{\"align\":\"center\",\"bgcolor\":\"white\",\"bordercolor\":\"rgb(255, 127, 14)\",\"borderpad\":4,\"borderwidth\":2,\"font\":{\"color\":\"rgb(255, 127, 14)\"},\"showarrow\":false,\"text\":\"Single propellers\",\"x\":1,\"xanchor\":\"right\",\"xref\":\"paper\",\"xshift\":0,\"y\":1,\"yanchor\":\"top\",\"yref\":\"paper\",\"yshift\":-35}],\"shapes\":[{\"fillcolor\":\"rgb(31, 119, 180)\",\"line\":{\"color\":\"rgb(31, 119, 180)\",\"width\":3},\"type\":\"rect\",\"x0\":-0.1166435688338027,\"x1\":0.1166435688338027,\"xref\":\"x\",\"y0\":-0.03888118961126757,\"y1\":0.03888118961126757,\"yref\":\"y\"},{\"fillcolor\":\"rgb(31, 119, 180)\",\"line\":{\"color\":\"rgb(31, 119, 180)\",\"width\":3},\"type\":\"circle\",\"x0\":0.4655356040610986,\"x1\":0.5144206564071679,\"xref\":\"x\",\"y0\":-0.02444252617303468,\"y1\":0.02444252617303468,\"yref\":\"y\"},{\"fillcolor\":\"rgb(31, 119, 180)\",\"line\":{\"color\":\"rgb(31, 119, 180)\",\"width\":0},\"opacity\":0.25,\"type\":\"circle\",\"x0\":0.24498906511706667,\"x1\":0.7349671953511999,\"xref\":\"x\",\"y0\":-0.2449890651170666,\"y1\":0.2449890651170666,\"yref\":\"y\"},{\"fillcolor\":\"rgb(31, 119, 180)\",\"line\":{\"color\":\"rgb(31, 119, 180)\",\"width\":3},\"type\":\"circle\",\"x0\":0.220546538944032,\"x1\":0.26943159129010136,\"xref\":\"x\",\"y0\":-0.44877603425459417,\"y1\":-0.39989098190852485,\"yref\":\"y\"},{\"fillcolor\":\"rgb(31, 119, 180)\",\"line\":{\"color\":\"rgb(31, 119, 180)\",\"width\":0},\"opacity\":0.25,\"type\":\"circle\",\"x0\":8.326672684688674e-17,\"x1\":0.4899781302341333,\"xref\":\"x\",\"y0\":-0.6693225731986261,\"y1\":-0.1793444429644929,\"yref\":\"y\"},{\"fillcolor\":\"rgb(31, 119, 180)\",\"line\":{\"color\":\"rgb(31, 119, 180)\",\"width\":3},\"type\":\"circle\",\"x0\":-0.2694315912901012,\"x1\":-0.22054653894403184,\"xref\":\"x\",\"y0\":-0.4487760342545942,\"y1\":-0.3998909819085249,\"yref\":\"y\"},{\"fillcolor\":\"rgb(31, 119, 180)\",\"line\":{\"color\":\"rgb(31, 119, 180)\",\"width\":0},\"opacity\":0.25,\"type\":\"circle\",\"x0\":-0.48997813023413317,\"x1\":8.326672684688674e-17,\"xref\":\"x\",\"y0\":-0.6693225731986262,\"y1\":-0.17934444296449295,\"yref\":\"y\"},{\"fillcolor\":\"rgb(31, 119, 180)\",\"line\":{\"color\":\"rgb(31, 119, 180)\",\"width\":3},\"type\":\"circle\",\"x0\":-0.5144206564071679,\"x1\":-0.4655356040610986,\"xref\":\"x\",\"y0\":-0.02444252617303474,\"y1\":0.02444252617303462,\"yref\":\"y\"},{\"fillcolor\":\"rgb(31, 119, 180)\",\"line\":{\"color\":\"rgb(31, 119, 180)\",\"width\":0},\"opacity\":0.25,\"type\":\"circle\",\"x0\":-0.7349671953511999,\"x1\":-0.24498906511706667,\"xref\":\"x\",\"y0\":-0.24498906511706667,\"y1\":0.24498906511706656,\"yref\":\"y\"},{\"fillcolor\":\"rgb(31, 119, 180)\",\"line\":{\"color\":\"rgb(31, 119, 180)\",\"width\":3},\"type\":\"circle\",\"x0\":-0.2694315912901015,\"x1\":-0.22054653894403217,\"xref\":\"x\",\"y0\":0.3998909819085248,\"y1\":0.4487760342545941,\"yref\":\"y\"},{\"fillcolor\":\"rgb(31, 119, 180)\",\"line\":{\"color\":\"rgb(31, 119, 180)\",\"width\":0},\"opacity\":0.25,\"type\":\"circle\",\"x0\":-0.4899781302341335,\"x1\":-2.498001805406602e-16,\"xref\":\"x\",\"y0\":0.17934444296449284,\"y1\":0.6693225731986261,\"yref\":\"y\"},{\"fillcolor\":\"rgb(31, 119, 180)\",\"line\":{\"color\":\"rgb(31, 119, 180)\",\"width\":3},\"type\":\"circle\",\"x0\":0.220546538944032,\"x1\":0.26943159129010136,\"xref\":\"x\",\"y0\":0.39989098190852485,\"y1\":0.44877603425459417,\"yref\":\"y\"},{\"fillcolor\":\"rgb(31, 119, 180)\",\"line\":{\"color\":\"rgb(31, 119, 180)\",\"width\":0},\"opacity\":0.25,\"type\":\"circle\",\"x0\":8.326672684688674e-17,\"x1\":0.4899781302341333,\"xref\":\"x\",\"y0\":0.1793444429644929,\"y1\":0.6693225731986261,\"yref\":\"y\"},{\"fillcolor\":\"rgb(255, 127, 14)\",\"line\":{\"color\":\"rgb(255, 127, 14)\",\"width\":3},\"type\":\"rect\",\"x0\":-0.11675086895681967,\"x1\":0.11675086895681967,\"y0\":-0.03891695631893989,\"y1\":0.03891695631893989,\"xref\":\"x\",\"yref\":\"y\"},{\"fillcolor\":\"rgb(255, 127, 14)\",\"line\":{\"color\":\"rgb(255, 127, 14)\",\"width\":3},\"type\":\"circle\",\"x0\":0.4334514139798039,\"x1\":0.4809485860201962,\"y0\":-0.023748586020196118,\"y1\":0.023748586020196118,\"xref\":\"x\",\"yref\":\"y\"},{\"fillcolor\":\"rgb(255, 127, 14)\",\"line\":{\"color\":\"rgb(255, 127, 14)\",\"width\":0},\"opacity\":0.25,\"type\":\"circle\",\"x0\":0.22860000000000005,\"x1\":0.6858000000000001,\"y0\":-0.2286,\"y1\":0.2286,\"xref\":\"x\",\"yref\":\"y\"},{\"fillcolor\":\"rgb(255, 127, 14)\",\"line\":{\"color\":\"rgb(255, 127, 14)\",\"width\":3},\"type\":\"circle\",\"x0\":0.20485141397980397,\"x1\":0.2523485860201962,\"y0\":-0.41969540063044153,\"y1\":-0.37219822859004925,\"xref\":\"x\",\"yref\":\"y\"},{\"fillcolor\":\"rgb(255, 127, 14)\",\"line\":{\"color\":\"rgb(255, 127, 14)\",\"width\":0},\"opacity\":0.25,\"type\":\"circle\",\"x0\":8.326672684688674e-17,\"x1\":0.45720000000000005,\"y0\":-0.6245468146102454,\"y1\":-0.1673468146102454,\"xref\":\"x\",\"yref\":\"y\"},{\"fillcolor\":\"rgb(255, 127, 14)\",\"line\":{\"color\":\"rgb(255, 127, 14)\",\"width\":3},\"type\":\"circle\",\"x0\":-0.25234858602019605,\"x1\":-0.2048514139798038,\"y0\":-0.4196954006304416,\"y1\":-0.3721982285900493,\"xref\":\"x\",\"yref\":\"y\"},{\"fillcolor\":\"rgb(255, 127, 14)\",\"line\":{\"color\":\"rgb(255, 127, 14)\",\"width\":0},\"opacity\":0.25,\"type\":\"circle\",\"x0\":-0.45719999999999994,\"x1\":8.326672684688674e-17,\"y0\":-0.6245468146102454,\"y1\":-0.16734681461024545,\"xref\":\"x\",\"yref\":\"y\"},{\"fillcolor\":\"rgb(255, 127, 14)\",\"line\":{\"color\":\"rgb(255, 127, 14)\",\"width\":3},\"type\":\"circle\",\"x0\":-0.4809485860201962,\"x1\":-0.4334514139798039,\"y0\":-0.023748586020196173,\"y1\":0.023748586020196062,\"xref\":\"x\",\"yref\":\"y\"},{\"fillcolor\":\"rgb(255, 127, 14)\",\"line\":{\"color\":\"rgb(255, 127, 14)\",\"width\":0},\"opacity\":0.25,\"type\":\"circle\",\"x0\":-0.6858000000000001,\"x1\":-0.22860000000000005,\"y0\":-0.22860000000000005,\"y1\":0.22859999999999994,\"xref\":\"x\",\"yref\":\"y\"},{\"fillcolor\":\"rgb(255, 127, 14)\",\"line\":{\"color\":\"rgb(255, 127, 14)\",\"width\":3},\"type\":\"circle\",\"x0\":-0.25234858602019633,\"x1\":-0.2048514139798041,\"y0\":0.3721982285900492,\"y1\":0.4196954006304415,\"xref\":\"x\",\"yref\":\"y\"},{\"fillcolor\":\"rgb(255, 127, 14)\",\"line\":{\"color\":\"rgb(255, 127, 14)\",\"width\":0},\"opacity\":0.25,\"type\":\"circle\",\"x0\":-0.4572000000000002,\"x1\":-2.220446049250313e-16,\"y0\":0.16734681461024534,\"y1\":0.6245468146102453,\"xref\":\"x\",\"yref\":\"y\"},{\"fillcolor\":\"rgb(255, 127, 14)\",\"line\":{\"color\":\"rgb(255, 127, 14)\",\"width\":3},\"type\":\"circle\",\"x0\":0.20485141397980397,\"x1\":0.2523485860201962,\"y0\":0.37219822859004925,\"y1\":0.41969540063044153,\"xref\":\"x\",\"yref\":\"y\"},{\"fillcolor\":\"rgb(255, 127, 14)\",\"line\":{\"color\":\"rgb(255, 127, 14)\",\"width\":0},\"opacity\":0.25,\"type\":\"circle\",\"x0\":8.326672684688674e-17,\"x1\":0.45720000000000005,\"y0\":0.1673468146102454,\"y1\":0.6245468146102454,\"xref\":\"x\",\"yref\":\"y\"}],\"template\":{\"data\":{\"barpolar\":[{\"marker\":{\"line\":{\"color\":\"#E5ECF6\",\"width\":0.5},\"pattern\":{\"fillmode\":\"overlay\",\"size\":10,\"solidity\":0.2}},\"type\":\"barpolar\"}],\"bar\":[{\"error_x\":{\"color\":\"#2a3f5f\"},\"error_y\":{\"color\":\"#2a3f5f\"},\"marker\":{\"line\":{\"color\":\"#E5ECF6\",\"width\":0.5},\"pattern\":{\"fillmode\":\"overlay\",\"size\":10,\"solidity\":0.2}},\"type\":\"bar\"}],\"carpet\":[{\"aaxis\":{\"endlinecolor\":\"#2a3f5f\",\"gridcolor\":\"white\",\"linecolor\":\"white\",\"minorgridcolor\":\"white\",\"startlinecolor\":\"#2a3f5f\"},\"baxis\":{\"endlinecolor\":\"#2a3f5f\",\"gridcolor\":\"white\",\"linecolor\":\"white\",\"minorgridcolor\":\"white\",\"startlinecolor\":\"#2a3f5f\"},\"type\":\"carpet\"}],\"choropleth\":[{\"colorbar\":{\"outlinewidth\":0,\"ticks\":\"\"},\"type\":\"choropleth\"}],\"contourcarpet\":[{\"colorbar\":{\"outlinewidth\":0,\"ticks\":\"\"},\"type\":\"contourcarpet\"}],\"contour\":[{\"colorbar\":{\"outlinewidth\":0,\"ticks\":\"\"},\"colorscale\":[[0.0,\"#0d0887\"],[0.1111111111111111,\"#46039f\"],[0.2222222222222222,\"#7201a8\"],[0.3333333333333333,\"#9c179e\"],[0.4444444444444444,\"#bd3786\"],[0.5555555555555556,\"#d8576b\"],[0.6666666666666666,\"#ed7953\"],[0.7777777777777778,\"#fb9f3a\"],[0.8888888888888888,\"#fdca26\"],[1.0,\"#f0f921\"]],\"type\":\"contour\"}],\"heatmapgl\":[{\"colorbar\":{\"outlinewidth\":0,\"ticks\":\"\"},\"colorscale\":[[0.0,\"#0d0887\"],[0.1111111111111111,\"#46039f\"],[0.2222222222222222,\"#7201a8\"],[0.3333333333333333,\"#9c179e\"],[0.4444444444444444,\"#bd3786\"],[0.5555555555555556,\"#d8576b\"],[0.6666666666666666,\"#ed7953\"],[0.7777777777777778,\"#fb9f3a\"],[0.8888888888888888,\"#fdca26\"],[1.0,\"#f0f921\"]],\"type\":\"heatmapgl\"}],\"heatmap\":[{\"colorbar\":{\"outlinewidth\":0,\"ticks\":\"\"},\"colorscale\":[[0.0,\"#0d0887\"],[0.1111111111111111,\"#46039f\"],[0.2222222222222222,\"#7201a8\"],[0.3333333333333333,\"#9c179e\"],[0.4444444444444444,\"#bd3786\"],[0.5555555555555556,\"#d8576b\"],[0.6666666666666666,\"#ed7953\"],[0.7777777777777778,\"#fb9f3a\"],[0.8888888888888888,\"#fdca26\"],[1.0,\"#f0f921\"]],\"type\":\"heatmap\"}],\"histogram2dcontour\":[{\"colorbar\":{\"outlinewidth\":0,\"ticks\":\"\"},\"colorscale\":[[0.0,\"#0d0887\"],[0.1111111111111111,\"#46039f\"],[0.2222222222222222,\"#7201a8\"],[0.3333333333333333,\"#9c179e\"],[0.4444444444444444,\"#bd3786\"],[0.5555555555555556,\"#d8576b\"],[0.6666666666666666,\"#ed7953\"],[0.7777777777777778,\"#fb9f3a\"],[0.8888888888888888,\"#fdca26\"],[1.0,\"#f0f921\"]],\"type\":\"histogram2dcontour\"}],\"histogram2d\":[{\"colorbar\":{\"outlinewidth\":0,\"ticks\":\"\"},\"colorscale\":[[0.0,\"#0d0887\"],[0.1111111111111111,\"#46039f\"],[0.2222222222222222,\"#7201a8\"],[0.3333333333333333,\"#9c179e\"],[0.4444444444444444,\"#bd3786\"],[0.5555555555555556,\"#d8576b\"],[0.6666666666666666,\"#ed7953\"],[0.7777777777777778,\"#fb9f3a\"],[0.8888888888888888,\"#fdca26\"],[1.0,\"#f0f921\"]],\"type\":\"histogram2d\"}],\"histogram\":[{\"marker\":{\"pattern\":{\"fillmode\":\"overlay\",\"size\":10,\"solidity\":0.2}},\"type\":\"histogram\"}],\"mesh3d\":[{\"colorbar\":{\"outlinewidth\":0,\"ticks\":\"\"},\"type\":\"mesh3d\"}],\"parcoords\":[{\"line\":{\"colorbar\":{\"outlinewidth\":0,\"ticks\":\"\"}},\"type\":\"parcoords\"}],\"pie\":[{\"automargin\":true,\"type\":\"pie\"}],\"scatter3d\":[{\"line\":{\"colorbar\":{\"outlinewidth\":0,\"ticks\":\"\"}},\"marker\":{\"colorbar\":{\"outlinewidth\":0,\"ticks\":\"\"}},\"type\":\"scatter3d\"}],\"scattercarpet\":[{\"marker\":{\"colorbar\":{\"outlinewidth\":0,\"ticks\":\"\"}},\"type\":\"scattercarpet\"}],\"scattergeo\":[{\"marker\":{\"colorbar\":{\"outlinewidth\":0,\"ticks\":\"\"}},\"type\":\"scattergeo\"}],\"scattergl\":[{\"marker\":{\"colorbar\":{\"outlinewidth\":0,\"ticks\":\"\"}},\"type\":\"scattergl\"}],\"scattermapbox\":[{\"marker\":{\"colorbar\":{\"outlinewidth\":0,\"ticks\":\"\"}},\"type\":\"scattermapbox\"}],\"scatterpolargl\":[{\"marker\":{\"colorbar\":{\"outlinewidth\":0,\"ticks\":\"\"}},\"type\":\"scatterpolargl\"}],\"scatterpolar\":[{\"marker\":{\"colorbar\":{\"outlinewidth\":0,\"ticks\":\"\"}},\"type\":\"scatterpolar\"}],\"scatter\":[{\"fillpattern\":{\"fillmode\":\"overlay\",\"size\":10,\"solidity\":0.2},\"type\":\"scatter\"}],\"scatterternary\":[{\"marker\":{\"colorbar\":{\"outlinewidth\":0,\"ticks\":\"\"}},\"type\":\"scatterternary\"}],\"surface\":[{\"colorbar\":{\"outlinewidth\":0,\"ticks\":\"\"},\"colorscale\":[[0.0,\"#0d0887\"],[0.1111111111111111,\"#46039f\"],[0.2222222222222222,\"#7201a8\"],[0.3333333333333333,\"#9c179e\"],[0.4444444444444444,\"#bd3786\"],[0.5555555555555556,\"#d8576b\"],[0.6666666666666666,\"#ed7953\"],[0.7777777777777778,\"#fb9f3a\"],[0.8888888888888888,\"#fdca26\"],[1.0,\"#f0f921\"]],\"type\":\"surface\"}],\"table\":[{\"cells\":{\"fill\":{\"color\":\"#EBF0F8\"},\"line\":{\"color\":\"white\"}},\"header\":{\"fill\":{\"color\":\"#C8D4E3\"},\"line\":{\"color\":\"white\"}},\"type\":\"table\"}]},\"layout\":{\"annotationdefaults\":{\"arrowcolor\":\"#2a3f5f\",\"arrowhead\":0,\"arrowwidth\":1},\"autotypenumbers\":\"strict\",\"coloraxis\":{\"colorbar\":{\"outlinewidth\":0,\"ticks\":\"\"}},\"colorscale\":{\"diverging\":[[0,\"#8e0152\"],[0.1,\"#c51b7d\"],[0.2,\"#de77ae\"],[0.3,\"#f1b6da\"],[0.4,\"#fde0ef\"],[0.5,\"#f7f7f7\"],[0.6,\"#e6f5d0\"],[0.7,\"#b8e186\"],[0.8,\"#7fbc41\"],[0.9,\"#4d9221\"],[1,\"#276419\"]],\"sequential\":[[0.0,\"#0d0887\"],[0.1111111111111111,\"#46039f\"],[0.2222222222222222,\"#7201a8\"],[0.3333333333333333,\"#9c179e\"],[0.4444444444444444,\"#bd3786\"],[0.5555555555555556,\"#d8576b\"],[0.6666666666666666,\"#ed7953\"],[0.7777777777777778,\"#fb9f3a\"],[0.8888888888888888,\"#fdca26\"],[1.0,\"#f0f921\"]],\"sequentialminus\":[[0.0,\"#0d0887\"],[0.1111111111111111,\"#46039f\"],[0.2222222222222222,\"#7201a8\"],[0.3333333333333333,\"#9c179e\"],[0.4444444444444444,\"#bd3786\"],[0.5555555555555556,\"#d8576b\"],[0.6666666666666666,\"#ed7953\"],[0.7777777777777778,\"#fb9f3a\"],[0.8888888888888888,\"#fdca26\"],[1.0,\"#f0f921\"]]},\"colorway\":[\"#636efa\",\"#EF553B\",\"#00cc96\",\"#ab63fa\",\"#FFA15A\",\"#19d3f3\",\"#FF6692\",\"#B6E880\",\"#FF97FF\",\"#FECB52\"],\"font\":{\"color\":\"#2a3f5f\"},\"geo\":{\"bgcolor\":\"white\",\"lakecolor\":\"white\",\"landcolor\":\"#E5ECF6\",\"showlakes\":true,\"showland\":true,\"subunitcolor\":\"white\"},\"hoverlabel\":{\"align\":\"left\"},\"hovermode\":\"closest\",\"mapbox\":{\"style\":\"light\"},\"paper_bgcolor\":\"white\",\"plot_bgcolor\":\"#E5ECF6\",\"polar\":{\"angularaxis\":{\"gridcolor\":\"white\",\"linecolor\":\"white\",\"ticks\":\"\"},\"bgcolor\":\"#E5ECF6\",\"radialaxis\":{\"gridcolor\":\"white\",\"linecolor\":\"white\",\"ticks\":\"\"}},\"scene\":{\"xaxis\":{\"backgroundcolor\":\"#E5ECF6\",\"gridcolor\":\"white\",\"gridwidth\":2,\"linecolor\":\"white\",\"showbackground\":true,\"ticks\":\"\",\"zerolinecolor\":\"white\"},\"yaxis\":{\"backgroundcolor\":\"#E5ECF6\",\"gridcolor\":\"white\",\"gridwidth\":2,\"linecolor\":\"white\",\"showbackground\":true,\"ticks\":\"\",\"zerolinecolor\":\"white\"},\"zaxis\":{\"backgroundcolor\":\"#E5ECF6\",\"gridcolor\":\"white\",\"gridwidth\":2,\"linecolor\":\"white\",\"showbackground\":true,\"ticks\":\"\",\"zerolinecolor\":\"white\"}},\"shapedefaults\":{\"line\":{\"color\":\"#2a3f5f\"}},\"ternary\":{\"aaxis\":{\"gridcolor\":\"white\",\"linecolor\":\"white\",\"ticks\":\"\"},\"baxis\":{\"gridcolor\":\"white\",\"linecolor\":\"white\",\"ticks\":\"\"},\"bgcolor\":\"#E5ECF6\",\"caxis\":{\"gridcolor\":\"white\",\"linecolor\":\"white\",\"ticks\":\"\"}},\"title\":{\"x\":0.05},\"xaxis\":{\"automargin\":true,\"gridcolor\":\"white\",\"linecolor\":\"white\",\"ticks\":\"\",\"title\":{\"standoff\":15},\"zerolinecolor\":\"white\",\"zerolinewidth\":2},\"yaxis\":{\"automargin\":true,\"gridcolor\":\"white\",\"linecolor\":\"white\",\"ticks\":\"\",\"title\":{\"standoff\":15},\"zerolinecolor\":\"white\",\"zerolinewidth\":2}}},\"title\":{\"text\":\"Drone Geometry\",\"x\":0.5},\"xaxis\":{\"title\":{\"text\":\"y\"}},\"yaxis\":{\"scaleanchor\":\"x\",\"scaleratio\":1,\"title\":{\"text\":\"x\"}}},                        {\"responsive\": true}                    ).then(function(){\n",
       "                            \n",
       "var gd = document.getElementById('0182d161-8e17-4d8e-8cd5-5883dcf6a080');\n",
       "var x = new MutationObserver(function (mutations, observer) {{\n",
       "        var display = window.getComputedStyle(gd).display;\n",
       "        if (!display || display === 'none') {{\n",
       "            console.log([gd, 'removed!']);\n",
       "            Plotly.purge(gd);\n",
       "            observer.disconnect();\n",
       "        }}\n",
       "}});\n",
       "\n",
       "// Listen for the removal of the full notebook cells\n",
       "var notebookContainer = gd.closest('#notebook-container');\n",
       "if (notebookContainer) {{\n",
       "    x.observe(notebookContainer, {childList: true});\n",
       "}}\n",
       "\n",
       "// Listen for the clearing of the current output cell\n",
       "var outputEl = gd.closest('.output');\n",
       "if (outputEl) {{\n",
       "    x.observe(outputEl, {childList: true});\n",
       "}}\n",
       "\n",
       "                        })                };                });            </script>        </div>"
      ]
     },
     "metadata": {},
     "output_type": "display_data"
    }
   ],
   "source": [
    "OUTPUT_FILE_CONTINUOUS = pth.join(DATA_FOLDER_PATH, \"problem_outputs_DJI_M600_mdo.xml\")\n",
    "OUTPUT_FILE_DISCRETE = pth.join(DATA_FOLDER_PATH, \"problem_outputs_discrete_DJI_M600_mdo.xml\")\n",
    "fig = multirotor_geometry_plot(OUTPUT_FILE_CONTINUOUS, name=\"Drone custom\")\n",
    "fig = multirotor_geometry_plot(OUTPUT_FILE_DISCRETE, name=\"Drone off-the-shelf\", fig=fig)\n",
    "fig.show()"
   ]
  },
  {
   "cell_type": "code",
   "execution_count": 18,
   "metadata": {},
   "outputs": [
    {
     "data": {
      "application/vnd.plotly.v1+json": {
       "config": {
        "plotlyServerURL": "https://plot.ly"
       },
       "data": [
        {
         "branchvalues": "total",
         "labels": [
          "MTOW<br>14.87 [kg]",
          "Payload<br>6.35 [kg] (42.7%)",
          "Fuel mission<br>0.00 [kg] (0.0%)",
          "Propulsion<br>6.11 [kg] (41.1%)",
          "Airframe<br>2.41 [kg] (16.2%)",
          "multirotor<br>6.11 [kg] (100.0%)",
          "Propellers<br>0.37 [kg] (6.0%)",
          "Motors<br>1.58 [kg] (25.9%)",
          "Gearboxes<br>0.00 [kg] (0.0%)",
          "esc<br>0.20 [kg] (3.3%)",
          "Battery<br>3.85 [kg] (63.0%)",
          "Wires<br>0.11 [kg] (1.9%)",
          "fixedwing<br>0.00 [kg] (0.0%)",
          "Propellers<br>0.00 [kg] (0.0%)",
          "Motors<br>0.00 [kg] (0.0%)",
          "Gearboxes<br>0.00 [kg] (0.0%)",
          "esc<br>0.00 [kg] (0.0%)",
          "Battery<br>0.00 [kg] (0.0%)",
          "Wires<br>0.00 [kg] (0.0%)",
          "Body<br>2.28 [kg] (94.4%)",
          "Arms<br>0.14 [kg] (5.6%)",
          "Wing<br>0.00 [kg] (0.0%)",
          "Fuselage<br>0.00 [kg] (0.0%)",
          "HTP<br>0.00 [kg] (0.0%)",
          "VTP<br>0.00 [kg] (0.0%)"
         ],
         "parents": [
          "",
          "MTOW<br>14.87 [kg]",
          "MTOW<br>14.87 [kg]",
          "MTOW<br>14.87 [kg]",
          "MTOW<br>14.87 [kg]",
          "Propulsion<br>6.11 [kg] (41.1%)",
          "multirotor<br>6.11 [kg] (100.0%)",
          "multirotor<br>6.11 [kg] (100.0%)",
          "multirotor<br>6.11 [kg] (100.0%)",
          "multirotor<br>6.11 [kg] (100.0%)",
          "multirotor<br>6.11 [kg] (100.0%)",
          "multirotor<br>6.11 [kg] (100.0%)",
          "Propulsion<br>6.11 [kg] (41.1%)",
          "fixedwing<br>0.00 [kg] (0.0%)",
          "fixedwing<br>0.00 [kg] (0.0%)",
          "fixedwing<br>0.00 [kg] (0.0%)",
          "fixedwing<br>0.00 [kg] (0.0%)",
          "fixedwing<br>0.00 [kg] (0.0%)",
          "fixedwing<br>0.00 [kg] (0.0%)",
          "Airframe<br>2.41 [kg] (16.2%)",
          "Airframe<br>2.41 [kg] (16.2%)",
          "Airframe<br>2.41 [kg] (16.2%)",
          "Airframe<br>2.41 [kg] (16.2%)",
          "Airframe<br>2.41 [kg] (16.2%)",
          "Airframe<br>2.41 [kg] (16.2%)"
         ],
         "type": "sunburst",
         "values": [
          14.869990569972497,
          6.35,
          0,
          6.107504418341347,
          2.4124861516311507,
          6.107504418341347,
          0.366,
          1.5815401318479232,
          0,
          0.19859554367889465,
          3.8476605140271265,
          0.11370822878740303,
          0,
          0,
          0,
          0,
          0,
          0,
          0,
          2.2762185701180435,
          0.13626758151310703,
          0,
          0,
          0,
          0
         ]
        }
       ],
       "layout": {
        "autosize": true,
        "margin": {
         "b": 0,
         "l": 0,
         "r": 0,
         "t": 80
        },
        "template": {
         "data": {
          "bar": [
           {
            "error_x": {
             "color": "#2a3f5f"
            },
            "error_y": {
             "color": "#2a3f5f"
            },
            "marker": {
             "line": {
              "color": "#E5ECF6",
              "width": 0.5
             },
             "pattern": {
              "fillmode": "overlay",
              "size": 10,
              "solidity": 0.2
             }
            },
            "type": "bar"
           }
          ],
          "barpolar": [
           {
            "marker": {
             "line": {
              "color": "#E5ECF6",
              "width": 0.5
             },
             "pattern": {
              "fillmode": "overlay",
              "size": 10,
              "solidity": 0.2
             }
            },
            "type": "barpolar"
           }
          ],
          "carpet": [
           {
            "aaxis": {
             "endlinecolor": "#2a3f5f",
             "gridcolor": "white",
             "linecolor": "white",
             "minorgridcolor": "white",
             "startlinecolor": "#2a3f5f"
            },
            "baxis": {
             "endlinecolor": "#2a3f5f",
             "gridcolor": "white",
             "linecolor": "white",
             "minorgridcolor": "white",
             "startlinecolor": "#2a3f5f"
            },
            "type": "carpet"
           }
          ],
          "choropleth": [
           {
            "colorbar": {
             "outlinewidth": 0,
             "ticks": ""
            },
            "type": "choropleth"
           }
          ],
          "contour": [
           {
            "colorbar": {
             "outlinewidth": 0,
             "ticks": ""
            },
            "colorscale": [
             [
              0,
              "#0d0887"
             ],
             [
              0.1111111111111111,
              "#46039f"
             ],
             [
              0.2222222222222222,
              "#7201a8"
             ],
             [
              0.3333333333333333,
              "#9c179e"
             ],
             [
              0.4444444444444444,
              "#bd3786"
             ],
             [
              0.5555555555555556,
              "#d8576b"
             ],
             [
              0.6666666666666666,
              "#ed7953"
             ],
             [
              0.7777777777777778,
              "#fb9f3a"
             ],
             [
              0.8888888888888888,
              "#fdca26"
             ],
             [
              1,
              "#f0f921"
             ]
            ],
            "type": "contour"
           }
          ],
          "contourcarpet": [
           {
            "colorbar": {
             "outlinewidth": 0,
             "ticks": ""
            },
            "type": "contourcarpet"
           }
          ],
          "heatmap": [
           {
            "colorbar": {
             "outlinewidth": 0,
             "ticks": ""
            },
            "colorscale": [
             [
              0,
              "#0d0887"
             ],
             [
              0.1111111111111111,
              "#46039f"
             ],
             [
              0.2222222222222222,
              "#7201a8"
             ],
             [
              0.3333333333333333,
              "#9c179e"
             ],
             [
              0.4444444444444444,
              "#bd3786"
             ],
             [
              0.5555555555555556,
              "#d8576b"
             ],
             [
              0.6666666666666666,
              "#ed7953"
             ],
             [
              0.7777777777777778,
              "#fb9f3a"
             ],
             [
              0.8888888888888888,
              "#fdca26"
             ],
             [
              1,
              "#f0f921"
             ]
            ],
            "type": "heatmap"
           }
          ],
          "heatmapgl": [
           {
            "colorbar": {
             "outlinewidth": 0,
             "ticks": ""
            },
            "colorscale": [
             [
              0,
              "#0d0887"
             ],
             [
              0.1111111111111111,
              "#46039f"
             ],
             [
              0.2222222222222222,
              "#7201a8"
             ],
             [
              0.3333333333333333,
              "#9c179e"
             ],
             [
              0.4444444444444444,
              "#bd3786"
             ],
             [
              0.5555555555555556,
              "#d8576b"
             ],
             [
              0.6666666666666666,
              "#ed7953"
             ],
             [
              0.7777777777777778,
              "#fb9f3a"
             ],
             [
              0.8888888888888888,
              "#fdca26"
             ],
             [
              1,
              "#f0f921"
             ]
            ],
            "type": "heatmapgl"
           }
          ],
          "histogram": [
           {
            "marker": {
             "pattern": {
              "fillmode": "overlay",
              "size": 10,
              "solidity": 0.2
             }
            },
            "type": "histogram"
           }
          ],
          "histogram2d": [
           {
            "colorbar": {
             "outlinewidth": 0,
             "ticks": ""
            },
            "colorscale": [
             [
              0,
              "#0d0887"
             ],
             [
              0.1111111111111111,
              "#46039f"
             ],
             [
              0.2222222222222222,
              "#7201a8"
             ],
             [
              0.3333333333333333,
              "#9c179e"
             ],
             [
              0.4444444444444444,
              "#bd3786"
             ],
             [
              0.5555555555555556,
              "#d8576b"
             ],
             [
              0.6666666666666666,
              "#ed7953"
             ],
             [
              0.7777777777777778,
              "#fb9f3a"
             ],
             [
              0.8888888888888888,
              "#fdca26"
             ],
             [
              1,
              "#f0f921"
             ]
            ],
            "type": "histogram2d"
           }
          ],
          "histogram2dcontour": [
           {
            "colorbar": {
             "outlinewidth": 0,
             "ticks": ""
            },
            "colorscale": [
             [
              0,
              "#0d0887"
             ],
             [
              0.1111111111111111,
              "#46039f"
             ],
             [
              0.2222222222222222,
              "#7201a8"
             ],
             [
              0.3333333333333333,
              "#9c179e"
             ],
             [
              0.4444444444444444,
              "#bd3786"
             ],
             [
              0.5555555555555556,
              "#d8576b"
             ],
             [
              0.6666666666666666,
              "#ed7953"
             ],
             [
              0.7777777777777778,
              "#fb9f3a"
             ],
             [
              0.8888888888888888,
              "#fdca26"
             ],
             [
              1,
              "#f0f921"
             ]
            ],
            "type": "histogram2dcontour"
           }
          ],
          "mesh3d": [
           {
            "colorbar": {
             "outlinewidth": 0,
             "ticks": ""
            },
            "type": "mesh3d"
           }
          ],
          "parcoords": [
           {
            "line": {
             "colorbar": {
              "outlinewidth": 0,
              "ticks": ""
             }
            },
            "type": "parcoords"
           }
          ],
          "pie": [
           {
            "automargin": true,
            "type": "pie"
           }
          ],
          "scatter": [
           {
            "fillpattern": {
             "fillmode": "overlay",
             "size": 10,
             "solidity": 0.2
            },
            "type": "scatter"
           }
          ],
          "scatter3d": [
           {
            "line": {
             "colorbar": {
              "outlinewidth": 0,
              "ticks": ""
             }
            },
            "marker": {
             "colorbar": {
              "outlinewidth": 0,
              "ticks": ""
             }
            },
            "type": "scatter3d"
           }
          ],
          "scattercarpet": [
           {
            "marker": {
             "colorbar": {
              "outlinewidth": 0,
              "ticks": ""
             }
            },
            "type": "scattercarpet"
           }
          ],
          "scattergeo": [
           {
            "marker": {
             "colorbar": {
              "outlinewidth": 0,
              "ticks": ""
             }
            },
            "type": "scattergeo"
           }
          ],
          "scattergl": [
           {
            "marker": {
             "colorbar": {
              "outlinewidth": 0,
              "ticks": ""
             }
            },
            "type": "scattergl"
           }
          ],
          "scattermapbox": [
           {
            "marker": {
             "colorbar": {
              "outlinewidth": 0,
              "ticks": ""
             }
            },
            "type": "scattermapbox"
           }
          ],
          "scatterpolar": [
           {
            "marker": {
             "colorbar": {
              "outlinewidth": 0,
              "ticks": ""
             }
            },
            "type": "scatterpolar"
           }
          ],
          "scatterpolargl": [
           {
            "marker": {
             "colorbar": {
              "outlinewidth": 0,
              "ticks": ""
             }
            },
            "type": "scatterpolargl"
           }
          ],
          "scatterternary": [
           {
            "marker": {
             "colorbar": {
              "outlinewidth": 0,
              "ticks": ""
             }
            },
            "type": "scatterternary"
           }
          ],
          "surface": [
           {
            "colorbar": {
             "outlinewidth": 0,
             "ticks": ""
            },
            "colorscale": [
             [
              0,
              "#0d0887"
             ],
             [
              0.1111111111111111,
              "#46039f"
             ],
             [
              0.2222222222222222,
              "#7201a8"
             ],
             [
              0.3333333333333333,
              "#9c179e"
             ],
             [
              0.4444444444444444,
              "#bd3786"
             ],
             [
              0.5555555555555556,
              "#d8576b"
             ],
             [
              0.6666666666666666,
              "#ed7953"
             ],
             [
              0.7777777777777778,
              "#fb9f3a"
             ],
             [
              0.8888888888888888,
              "#fdca26"
             ],
             [
              1,
              "#f0f921"
             ]
            ],
            "type": "surface"
           }
          ],
          "table": [
           {
            "cells": {
             "fill": {
              "color": "#EBF0F8"
             },
             "line": {
              "color": "white"
             }
            },
            "header": {
             "fill": {
              "color": "#C8D4E3"
             },
             "line": {
              "color": "white"
             }
            },
            "type": "table"
           }
          ]
         },
         "layout": {
          "annotationdefaults": {
           "arrowcolor": "#2a3f5f",
           "arrowhead": 0,
           "arrowwidth": 1
          },
          "autotypenumbers": "strict",
          "coloraxis": {
           "colorbar": {
            "outlinewidth": 0,
            "ticks": ""
           }
          },
          "colorscale": {
           "diverging": [
            [
             0,
             "#8e0152"
            ],
            [
             0.1,
             "#c51b7d"
            ],
            [
             0.2,
             "#de77ae"
            ],
            [
             0.3,
             "#f1b6da"
            ],
            [
             0.4,
             "#fde0ef"
            ],
            [
             0.5,
             "#f7f7f7"
            ],
            [
             0.6,
             "#e6f5d0"
            ],
            [
             0.7,
             "#b8e186"
            ],
            [
             0.8,
             "#7fbc41"
            ],
            [
             0.9,
             "#4d9221"
            ],
            [
             1,
             "#276419"
            ]
           ],
           "sequential": [
            [
             0,
             "#0d0887"
            ],
            [
             0.1111111111111111,
             "#46039f"
            ],
            [
             0.2222222222222222,
             "#7201a8"
            ],
            [
             0.3333333333333333,
             "#9c179e"
            ],
            [
             0.4444444444444444,
             "#bd3786"
            ],
            [
             0.5555555555555556,
             "#d8576b"
            ],
            [
             0.6666666666666666,
             "#ed7953"
            ],
            [
             0.7777777777777778,
             "#fb9f3a"
            ],
            [
             0.8888888888888888,
             "#fdca26"
            ],
            [
             1,
             "#f0f921"
            ]
           ],
           "sequentialminus": [
            [
             0,
             "#0d0887"
            ],
            [
             0.1111111111111111,
             "#46039f"
            ],
            [
             0.2222222222222222,
             "#7201a8"
            ],
            [
             0.3333333333333333,
             "#9c179e"
            ],
            [
             0.4444444444444444,
             "#bd3786"
            ],
            [
             0.5555555555555556,
             "#d8576b"
            ],
            [
             0.6666666666666666,
             "#ed7953"
            ],
            [
             0.7777777777777778,
             "#fb9f3a"
            ],
            [
             0.8888888888888888,
             "#fdca26"
            ],
            [
             1,
             "#f0f921"
            ]
           ]
          },
          "colorway": [
           "#636efa",
           "#EF553B",
           "#00cc96",
           "#ab63fa",
           "#FFA15A",
           "#19d3f3",
           "#FF6692",
           "#B6E880",
           "#FF97FF",
           "#FECB52"
          ],
          "font": {
           "color": "#2a3f5f"
          },
          "geo": {
           "bgcolor": "white",
           "lakecolor": "white",
           "landcolor": "#E5ECF6",
           "showlakes": true,
           "showland": true,
           "subunitcolor": "white"
          },
          "hoverlabel": {
           "align": "left"
          },
          "hovermode": "closest",
          "mapbox": {
           "style": "light"
          },
          "paper_bgcolor": "white",
          "plot_bgcolor": "#E5ECF6",
          "polar": {
           "angularaxis": {
            "gridcolor": "white",
            "linecolor": "white",
            "ticks": ""
           },
           "bgcolor": "#E5ECF6",
           "radialaxis": {
            "gridcolor": "white",
            "linecolor": "white",
            "ticks": ""
           }
          },
          "scene": {
           "xaxis": {
            "backgroundcolor": "#E5ECF6",
            "gridcolor": "white",
            "gridwidth": 2,
            "linecolor": "white",
            "showbackground": true,
            "ticks": "",
            "zerolinecolor": "white"
           },
           "yaxis": {
            "backgroundcolor": "#E5ECF6",
            "gridcolor": "white",
            "gridwidth": 2,
            "linecolor": "white",
            "showbackground": true,
            "ticks": "",
            "zerolinecolor": "white"
           },
           "zaxis": {
            "backgroundcolor": "#E5ECF6",
            "gridcolor": "white",
            "gridwidth": 2,
            "linecolor": "white",
            "showbackground": true,
            "ticks": "",
            "zerolinecolor": "white"
           }
          },
          "shapedefaults": {
           "line": {
            "color": "#2a3f5f"
           }
          },
          "ternary": {
           "aaxis": {
            "gridcolor": "white",
            "linecolor": "white",
            "ticks": ""
           },
           "baxis": {
            "gridcolor": "white",
            "linecolor": "white",
            "ticks": ""
           },
           "bgcolor": "#E5ECF6",
           "caxis": {
            "gridcolor": "white",
            "linecolor": "white",
            "ticks": ""
           }
          },
          "title": {
           "x": 0.05
          },
          "xaxis": {
           "automargin": true,
           "gridcolor": "white",
           "linecolor": "white",
           "ticks": "",
           "title": {
            "standoff": 15
           },
           "zerolinecolor": "white",
           "zerolinewidth": 2
          },
          "yaxis": {
           "automargin": true,
           "gridcolor": "white",
           "linecolor": "white",
           "ticks": "",
           "title": {
            "standoff": 15
           },
           "zerolinecolor": "white",
           "zerolinewidth": 2
          }
         }
        },
        "title": {
         "text": "Mass Breakdown",
         "x": 0.5
        }
       }
      },
      "image/png": "[encoded data removed]",
      "text/html": [
       "<div>                            <div id=\"5aa699d0-b770-4526-9050-22c0790a34bd\" class=\"plotly-graph-div\" style=\"height:525px; width:100%;\"></div>            <script type=\"text/javascript\">                require([\"plotly\"], function(Plotly) {                    window.PLOTLYENV=window.PLOTLYENV || {};                                    if (document.getElementById(\"5aa699d0-b770-4526-9050-22c0790a34bd\")) {                    Plotly.newPlot(                        \"5aa699d0-b770-4526-9050-22c0790a34bd\",                        [{\"branchvalues\":\"total\",\"labels\":[\"MTOW<br>14.87 [kg]\",\"Payload<br>6.35 [kg] (42.7%)\",\"Fuel mission<br>0.00 [kg] (0.0%)\",\"Propulsion<br>6.11 [kg] (41.1%)\",\"Airframe<br>2.41 [kg] (16.2%)\",\"multirotor<br>6.11 [kg] (100.0%)\",\"Propellers<br>0.37 [kg] (6.0%)\",\"Motors<br>1.58 [kg] (25.9%)\",\"Gearboxes<br>0.00 [kg] (0.0%)\",\"esc<br>0.20 [kg] (3.3%)\",\"Battery<br>3.85 [kg] (63.0%)\",\"Wires<br>0.11 [kg] (1.9%)\",\"fixedwing<br>0.00 [kg] (0.0%)\",\"Propellers<br>0.00 [kg] (0.0%)\",\"Motors<br>0.00 [kg] (0.0%)\",\"Gearboxes<br>0.00 [kg] (0.0%)\",\"esc<br>0.00 [kg] (0.0%)\",\"Battery<br>0.00 [kg] (0.0%)\",\"Wires<br>0.00 [kg] (0.0%)\",\"Body<br>2.28 [kg] (94.4%)\",\"Arms<br>0.14 [kg] (5.6%)\",\"Wing<br>0.00 [kg] (0.0%)\",\"Fuselage<br>0.00 [kg] (0.0%)\",\"HTP<br>0.00 [kg] (0.0%)\",\"VTP<br>0.00 [kg] (0.0%)\"],\"parents\":[\"\",\"MTOW<br>14.87 [kg]\",\"MTOW<br>14.87 [kg]\",\"MTOW<br>14.87 [kg]\",\"MTOW<br>14.87 [kg]\",\"Propulsion<br>6.11 [kg] (41.1%)\",\"multirotor<br>6.11 [kg] (100.0%)\",\"multirotor<br>6.11 [kg] (100.0%)\",\"multirotor<br>6.11 [kg] (100.0%)\",\"multirotor<br>6.11 [kg] (100.0%)\",\"multirotor<br>6.11 [kg] (100.0%)\",\"multirotor<br>6.11 [kg] (100.0%)\",\"Propulsion<br>6.11 [kg] (41.1%)\",\"fixedwing<br>0.00 [kg] (0.0%)\",\"fixedwing<br>0.00 [kg] (0.0%)\",\"fixedwing<br>0.00 [kg] (0.0%)\",\"fixedwing<br>0.00 [kg] (0.0%)\",\"fixedwing<br>0.00 [kg] (0.0%)\",\"fixedwing<br>0.00 [kg] (0.0%)\",\"Airframe<br>2.41 [kg] (16.2%)\",\"Airframe<br>2.41 [kg] (16.2%)\",\"Airframe<br>2.41 [kg] (16.2%)\",\"Airframe<br>2.41 [kg] (16.2%)\",\"Airframe<br>2.41 [kg] (16.2%)\",\"Airframe<br>2.41 [kg] (16.2%)\"],\"values\":[14.869990569972497,6.35,0,6.107504418341347,2.4124861516311507,6.107504418341347,0.366,1.5815401318479232,0.0,0.19859554367889465,3.8476605140271265,0.11370822878740303,0.0,0.0,0.0,0.0,0.0,0.0,0.0,2.2762185701180435,0.13626758151310703,0.0,0.0,0.0,0.0],\"type\":\"sunburst\"}],                        {\"template\":{\"data\":{\"histogram2dcontour\":[{\"type\":\"histogram2dcontour\",\"colorbar\":{\"outlinewidth\":0,\"ticks\":\"\"},\"colorscale\":[[0.0,\"#0d0887\"],[0.1111111111111111,\"#46039f\"],[0.2222222222222222,\"#7201a8\"],[0.3333333333333333,\"#9c179e\"],[0.4444444444444444,\"#bd3786\"],[0.5555555555555556,\"#d8576b\"],[0.6666666666666666,\"#ed7953\"],[0.7777777777777778,\"#fb9f3a\"],[0.8888888888888888,\"#fdca26\"],[1.0,\"#f0f921\"]]}],\"choropleth\":[{\"type\":\"choropleth\",\"colorbar\":{\"outlinewidth\":0,\"ticks\":\"\"}}],\"histogram2d\":[{\"type\":\"histogram2d\",\"colorbar\":{\"outlinewidth\":0,\"ticks\":\"\"},\"colorscale\":[[0.0,\"#0d0887\"],[0.1111111111111111,\"#46039f\"],[0.2222222222222222,\"#7201a8\"],[0.3333333333333333,\"#9c179e\"],[0.4444444444444444,\"#bd3786\"],[0.5555555555555556,\"#d8576b\"],[0.6666666666666666,\"#ed7953\"],[0.7777777777777778,\"#fb9f3a\"],[0.8888888888888888,\"#fdca26\"],[1.0,\"#f0f921\"]]}],\"heatmap\":[{\"type\":\"heatmap\",\"colorbar\":{\"outlinewidth\":0,\"ticks\":\"\"},\"colorscale\":[[0.0,\"#0d0887\"],[0.1111111111111111,\"#46039f\"],[0.2222222222222222,\"#7201a8\"],[0.3333333333333333,\"#9c179e\"],[0.4444444444444444,\"#bd3786\"],[0.5555555555555556,\"#d8576b\"],[0.6666666666666666,\"#ed7953\"],[0.7777777777777778,\"#fb9f3a\"],[0.8888888888888888,\"#fdca26\"],[1.0,\"#f0f921\"]]}],\"heatmapgl\":[{\"type\":\"heatmapgl\",\"colorbar\":{\"outlinewidth\":0,\"ticks\":\"\"},\"colorscale\":[[0.0,\"#0d0887\"],[0.1111111111111111,\"#46039f\"],[0.2222222222222222,\"#7201a8\"],[0.3333333333333333,\"#9c179e\"],[0.4444444444444444,\"#bd3786\"],[0.5555555555555556,\"#d8576b\"],[0.6666666666666666,\"#ed7953\"],[0.7777777777777778,\"#fb9f3a\"],[0.8888888888888888,\"#fdca26\"],[1.0,\"#f0f921\"]]}],\"contourcarpet\":[{\"type\":\"contourcarpet\",\"colorbar\":{\"outlinewidth\":0,\"ticks\":\"\"}}],\"contour\":[{\"type\":\"contour\",\"colorbar\":{\"outlinewidth\":0,\"ticks\":\"\"},\"colorscale\":[[0.0,\"#0d0887\"],[0.1111111111111111,\"#46039f\"],[0.2222222222222222,\"#7201a8\"],[0.3333333333333333,\"#9c179e\"],[0.4444444444444444,\"#bd3786\"],[0.5555555555555556,\"#d8576b\"],[0.6666666666666666,\"#ed7953\"],[0.7777777777777778,\"#fb9f3a\"],[0.8888888888888888,\"#fdca26\"],[1.0,\"#f0f921\"]]}],\"surface\":[{\"type\":\"surface\",\"colorbar\":{\"outlinewidth\":0,\"ticks\":\"\"},\"colorscale\":[[0.0,\"#0d0887\"],[0.1111111111111111,\"#46039f\"],[0.2222222222222222,\"#7201a8\"],[0.3333333333333333,\"#9c179e\"],[0.4444444444444444,\"#bd3786\"],[0.5555555555555556,\"#d8576b\"],[0.6666666666666666,\"#ed7953\"],[0.7777777777777778,\"#fb9f3a\"],[0.8888888888888888,\"#fdca26\"],[1.0,\"#f0f921\"]]}],\"mesh3d\":[{\"type\":\"mesh3d\",\"colorbar\":{\"outlinewidth\":0,\"ticks\":\"\"}}],\"scatter\":[{\"fillpattern\":{\"fillmode\":\"overlay\",\"size\":10,\"solidity\":0.2},\"type\":\"scatter\"}],\"parcoords\":[{\"type\":\"parcoords\",\"line\":{\"colorbar\":{\"outlinewidth\":0,\"ticks\":\"\"}}}],\"scatterpolargl\":[{\"type\":\"scatterpolargl\",\"marker\":{\"colorbar\":{\"outlinewidth\":0,\"ticks\":\"\"}}}],\"bar\":[{\"error_x\":{\"color\":\"#2a3f5f\"},\"error_y\":{\"color\":\"#2a3f5f\"},\"marker\":{\"line\":{\"color\":\"#E5ECF6\",\"width\":0.5},\"pattern\":{\"fillmode\":\"overlay\",\"size\":10,\"solidity\":0.2}},\"type\":\"bar\"}],\"scattergeo\":[{\"type\":\"scattergeo\",\"marker\":{\"colorbar\":{\"outlinewidth\":0,\"ticks\":\"\"}}}],\"scatterpolar\":[{\"type\":\"scatterpolar\",\"marker\":{\"colorbar\":{\"outlinewidth\":0,\"ticks\":\"\"}}}],\"histogram\":[{\"marker\":{\"pattern\":{\"fillmode\":\"overlay\",\"size\":10,\"solidity\":0.2}},\"type\":\"histogram\"}],\"scattergl\":[{\"type\":\"scattergl\",\"marker\":{\"colorbar\":{\"outlinewidth\":0,\"ticks\":\"\"}}}],\"scatter3d\":[{\"type\":\"scatter3d\",\"line\":{\"colorbar\":{\"outlinewidth\":0,\"ticks\":\"\"}},\"marker\":{\"colorbar\":{\"outlinewidth\":0,\"ticks\":\"\"}}}],\"scattermapbox\":[{\"type\":\"scattermapbox\",\"marker\":{\"colorbar\":{\"outlinewidth\":0,\"ticks\":\"\"}}}],\"scatterternary\":[{\"type\":\"scatterternary\",\"marker\":{\"colorbar\":{\"outlinewidth\":0,\"ticks\":\"\"}}}],\"scattercarpet\":[{\"type\":\"scattercarpet\",\"marker\":{\"colorbar\":{\"outlinewidth\":0,\"ticks\":\"\"}}}],\"carpet\":[{\"aaxis\":{\"endlinecolor\":\"#2a3f5f\",\"gridcolor\":\"white\",\"linecolor\":\"white\",\"minorgridcolor\":\"white\",\"startlinecolor\":\"#2a3f5f\"},\"baxis\":{\"endlinecolor\":\"#2a3f5f\",\"gridcolor\":\"white\",\"linecolor\":\"white\",\"minorgridcolor\":\"white\",\"startlinecolor\":\"#2a3f5f\"},\"type\":\"carpet\"}],\"table\":[{\"cells\":{\"fill\":{\"color\":\"#EBF0F8\"},\"line\":{\"color\":\"white\"}},\"header\":{\"fill\":{\"color\":\"#C8D4E3\"},\"line\":{\"color\":\"white\"}},\"type\":\"table\"}],\"barpolar\":[{\"marker\":{\"line\":{\"color\":\"#E5ECF6\",\"width\":0.5},\"pattern\":{\"fillmode\":\"overlay\",\"size\":10,\"solidity\":0.2}},\"type\":\"barpolar\"}],\"pie\":[{\"automargin\":true,\"type\":\"pie\"}]},\"layout\":{\"autotypenumbers\":\"strict\",\"colorway\":[\"#636efa\",\"#EF553B\",\"#00cc96\",\"#ab63fa\",\"#FFA15A\",\"#19d3f3\",\"#FF6692\",\"#B6E880\",\"#FF97FF\",\"#FECB52\"],\"font\":{\"color\":\"#2a3f5f\"},\"hovermode\":\"closest\",\"hoverlabel\":{\"align\":\"left\"},\"paper_bgcolor\":\"white\",\"plot_bgcolor\":\"#E5ECF6\",\"polar\":{\"bgcolor\":\"#E5ECF6\",\"angularaxis\":{\"gridcolor\":\"white\",\"linecolor\":\"white\",\"ticks\":\"\"},\"radialaxis\":{\"gridcolor\":\"white\",\"linecolor\":\"white\",\"ticks\":\"\"}},\"ternary\":{\"bgcolor\":\"#E5ECF6\",\"aaxis\":{\"gridcolor\":\"white\",\"linecolor\":\"white\",\"ticks\":\"\"},\"baxis\":{\"gridcolor\":\"white\",\"linecolor\":\"white\",\"ticks\":\"\"},\"caxis\":{\"gridcolor\":\"white\",\"linecolor\":\"white\",\"ticks\":\"\"}},\"coloraxis\":{\"colorbar\":{\"outlinewidth\":0,\"ticks\":\"\"}},\"colorscale\":{\"sequential\":[[0.0,\"#0d0887\"],[0.1111111111111111,\"#46039f\"],[0.2222222222222222,\"#7201a8\"],[0.3333333333333333,\"#9c179e\"],[0.4444444444444444,\"#bd3786\"],[0.5555555555555556,\"#d8576b\"],[0.6666666666666666,\"#ed7953\"],[0.7777777777777778,\"#fb9f3a\"],[0.8888888888888888,\"#fdca26\"],[1.0,\"#f0f921\"]],\"sequentialminus\":[[0.0,\"#0d0887\"],[0.1111111111111111,\"#46039f\"],[0.2222222222222222,\"#7201a8\"],[0.3333333333333333,\"#9c179e\"],[0.4444444444444444,\"#bd3786\"],[0.5555555555555556,\"#d8576b\"],[0.6666666666666666,\"#ed7953\"],[0.7777777777777778,\"#fb9f3a\"],[0.8888888888888888,\"#fdca26\"],[1.0,\"#f0f921\"]],\"diverging\":[[0,\"#8e0152\"],[0.1,\"#c51b7d\"],[0.2,\"#de77ae\"],[0.3,\"#f1b6da\"],[0.4,\"#fde0ef\"],[0.5,\"#f7f7f7\"],[0.6,\"#e6f5d0\"],[0.7,\"#b8e186\"],[0.8,\"#7fbc41\"],[0.9,\"#4d9221\"],[1,\"#276419\"]]},\"xaxis\":{\"gridcolor\":\"white\",\"linecolor\":\"white\",\"ticks\":\"\",\"title\":{\"standoff\":15},\"zerolinecolor\":\"white\",\"automargin\":true,\"zerolinewidth\":2},\"yaxis\":{\"gridcolor\":\"white\",\"linecolor\":\"white\",\"ticks\":\"\",\"title\":{\"standoff\":15},\"zerolinecolor\":\"white\",\"automargin\":true,\"zerolinewidth\":2},\"scene\":{\"xaxis\":{\"backgroundcolor\":\"#E5ECF6\",\"gridcolor\":\"white\",\"linecolor\":\"white\",\"showbackground\":true,\"ticks\":\"\",\"zerolinecolor\":\"white\",\"gridwidth\":2},\"yaxis\":{\"backgroundcolor\":\"#E5ECF6\",\"gridcolor\":\"white\",\"linecolor\":\"white\",\"showbackground\":true,\"ticks\":\"\",\"zerolinecolor\":\"white\",\"gridwidth\":2},\"zaxis\":{\"backgroundcolor\":\"#E5ECF6\",\"gridcolor\":\"white\",\"linecolor\":\"white\",\"showbackground\":true,\"ticks\":\"\",\"zerolinecolor\":\"white\",\"gridwidth\":2}},\"shapedefaults\":{\"line\":{\"color\":\"#2a3f5f\"}},\"annotationdefaults\":{\"arrowcolor\":\"#2a3f5f\",\"arrowhead\":0,\"arrowwidth\":1},\"geo\":{\"bgcolor\":\"white\",\"landcolor\":\"#E5ECF6\",\"subunitcolor\":\"white\",\"showland\":true,\"showlakes\":true,\"lakecolor\":\"white\"},\"title\":{\"x\":0.05},\"mapbox\":{\"style\":\"light\"}}},\"margin\":{\"t\":80,\"l\":0,\"r\":0,\"b\":0},\"title\":{\"text\":\"Mass Breakdown\",\"x\":0.5}},                        {\"responsive\": true}                    ).then(function(){\n",
       "                            \n",
       "var gd = document.getElementById('5aa699d0-b770-4526-9050-22c0790a34bd');\n",
       "var x = new MutationObserver(function (mutations, observer) {{\n",
       "        var display = window.getComputedStyle(gd).display;\n",
       "        if (!display || display === 'none') {{\n",
       "            console.log([gd, 'removed!']);\n",
       "            Plotly.purge(gd);\n",
       "            observer.disconnect();\n",
       "        }}\n",
       "}});\n",
       "\n",
       "// Listen for the removal of the full notebook cells\n",
       "var notebookContainer = gd.closest('#notebook-container');\n",
       "if (notebookContainer) {{\n",
       "    x.observe(notebookContainer, {childList: true});\n",
       "}}\n",
       "\n",
       "// Listen for the clearing of the current output cell\n",
       "var outputEl = gd.closest('.output');\n",
       "if (outputEl) {{\n",
       "    x.observe(outputEl, {childList: true});\n",
       "}}\n",
       "\n",
       "                        })                };                });            </script>        </div>"
      ]
     },
     "metadata": {},
     "output_type": "display_data"
    }
   ],
   "source": [
    "fig = mass_breakdown_sun_plot_drone(OUTPUT_FILE_DISCRETE)\n",
    "fig.show()"
   ]
  },
  {
   "cell_type": "code",
   "execution_count": 14,
   "metadata": {},
   "outputs": [],
   "source": [
    "#fig = mass_breakdown_bar_plot_drone(OUTPUT_FILE_CONTINUOUS, name=\"Drone custom\")\n",
    "#fig = mass_breakdown_bar_plot_drone(OUTPUT_FILE_DISCRETE, name=\"Drone off-the-shelf\", fig=fig)\n",
    "#fig.show()"
   ]
  }
 ],
 "metadata": {
  "kernelspec": {
   "display_name": "Python 3 (ipykernel)",
   "language": "python",
   "name": "python3"
  },
  "language_info": {
   "codemirror_mode": {
    "name": "ipython",
    "version": 3
   },
   "file_extension": ".py",
   "mimetype": "text/x-python",
   "name": "python",
   "nbconvert_exporter": "python",
   "pygments_lexer": "ipython3",
   "version": "3.8.10"
  }
 },
 "nbformat": 4,
 "nbformat_minor": 4
}
