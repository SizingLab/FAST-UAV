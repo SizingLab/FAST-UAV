{
 "cells": [
  {
   "cell_type": "markdown",
   "metadata": {},
   "source": [
    "# FAST-UAV - Hybrid VTOL Design Optimization"
   ]
  },
  {
   "cell_type": "markdown",
   "metadata": {},
   "source": [
    "[FAST-OAD](https://fast-oad.readthedocs.io) is a framework for performing rapid Overall Aircraft Design. The computational core of FAST-OAD is based on the  [OpenMDAO framework](https://openmdao.org/). <br>\n",
    "FAST-UAV is the drone declination of FAST-OAD."
   ]
  },
  {
   "cell_type": "markdown",
   "metadata": {},
   "source": [
    "## 1. Setting up and analyzing the initial problem"
   ]
  },
  {
   "cell_type": "markdown",
   "metadata": {},
   "source": [
    "To organize our work, we propose to use two user folders `data/` and `workdir/`. For instance, in `data/` we store a XML file which describes a hybrid VTOL drone. In `workdir/`, we store files generated or modified by FAST-UAV."
   ]
  },
  {
   "cell_type": "code",
   "execution_count": 1,
   "metadata": {},
   "outputs": [
    {
     "data": {
      "text/html": [
       "<style>.container { width:95% !important; }</style>"
      ],
      "text/plain": [
       "<IPython.core.display.HTML object>"
      ]
     },
     "metadata": {},
     "output_type": "display_data"
    }
   ],
   "source": [
    "import os.path as pth\n",
    "import openmdao.api as om\n",
    "import logging\n",
    "import shutil\n",
    "import fastoad.api as oad\n",
    "from time import time\n",
    "import matplotlib.pyplot as plt\n",
    "from fastuav.utils.postprocessing.analysis_and_plots import *\n",
    "\n",
    "plt.rcParams[\"figure.figsize\"] = 16, 8\n",
    "plt.rcParams.update({\"font.size\": 13})\n",
    "\n",
    "DATA_FOLDER_PATH = \"../data\"\n",
    "CONFIGURATIONS_FOLDER_PATH = \"../configurations\"\n",
    "WORK_FOLDER_PATH = \"./workdir\"\n",
    "\n",
    "CONFIGURATION_FILE = pth.join(WORK_FOLDER_PATH, \"hybrid_mdo.yaml\")\n",
    "SOURCE_FILE = pth.join(DATA_FOLDER_PATH, \"problem_inputs_hybrid.xml\")\n",
    "\n",
    "# For having log messages display on screen\n",
    "logging.basicConfig(level=logging.INFO, format=\"%(levelname)-8s: %(message)s\")\n",
    "\n",
    "# For using all screen width\n",
    "from IPython.core.display import display, HTML\n",
    "\n",
    "display(HTML(\"<style>.container { width:95% !important; }</style>\"))"
   ]
  },
  {
   "cell_type": "code",
   "execution_count": 2,
   "metadata": {},
   "outputs": [
    {
     "name": "stderr",
     "output_type": "stream",
     "text": [
      "INFO    : Loading FAST-OAD plugin uav\n",
      "INFO    : Loading bundles from fastuav.models\n",
      "INFO    : Installed bundle fastuav.models.performance.range_and_endurance (ID 35 )\n",
      "INFO    : Installed bundle fastuav.models.geometry.geometry_fixedwing (ID 16 )\n",
      "INFO    : Installed bundle fastuav.models.propulsion.propeller.catalogue (ID 63 )\n",
      "INFO    : Installed bundle fastuav.models.performance.mission.flight_performance (ID 25 )\n",
      "INFO    : Installed bundle fastuav.models.scenarios.scenarios_hybrid (ID 76 )\n",
      "INFO    : Installed bundle fastuav.models.add_ons.sample_discipline (ID 10 )\n",
      "INFO    : Installed bundle fastuav.models.propulsion.energy.battery.battery (ID 37 )\n",
      "INFO    : Installed bundle fastuav.models.scenarios.thrust.cruise (ID 79 )\n",
      "INFO    : Installed bundle fastuav.models.wires.wires (ID 110 )\n",
      "INFO    : Installed bundle fastuav.models.scenarios.scenarios_multirotor (ID 77 )\n",
      "INFO    : Installed bundle fastuav.models.wires.wires_fixedwing (ID 111 )\n",
      "INFO    : Installed bundle fastuav.models.geometry.geometry_hybrid (ID 17 )\n",
      "INFO    : Installed bundle fastuav.models.propulsion.energy.battery.catalogue (ID 38 )\n",
      "INFO    : Installed bundle fastuav.models.propulsion.esc.catalogue (ID 45 )\n",
      "INFO    : Installed bundle fastuav.models.scenarios.thrust.climb (ID 78 )\n",
      "INFO    : Installed bundle fastuav.models.stability.stability_fixedwing (ID 87 )\n",
      "INFO    : Installed bundle fastuav.models.scenarios.thrust.hover (ID 81 )\n",
      "INFO    : Installed bundle fastuav.models.wires.wires_hybrid (ID 112 )\n",
      "INFO    : Installed bundle fastuav.models.add_ons.__init__ (ID 11 )\n",
      "INFO    : Installed bundle fastuav.models.propulsion.propeller.constraints (ID 64 )\n",
      "INFO    : Installed bundle fastuav.models.propulsion.energy.battery.constraints (ID 39 )\n",
      "INFO    : Installed bundle fastuav.models.scenarios.thrust.flight_models (ID 80 )\n",
      "INFO    : Installed bundle fastuav.models.stability.stability_hybrid (ID 88 )\n",
      "INFO    : Installed bundle fastuav.models.wires.wires_multirotor (ID 113 )\n",
      "INFO    : Installed bundle fastuav.models.geometry.geometry_multirotor (ID 18 )\n",
      "INFO    : Installed bundle fastuav.models.propulsion.energy.battery.definition_parameters (ID 40 )\n",
      "INFO    : Installed bundle fastuav.models.propulsion.esc.constraints (ID 46 )\n",
      "INFO    : Installed bundle fastuav.models.scenarios.thrust.takeoff (ID 82 )\n",
      "INFO    : Installed bundle fastuav.models.aerodynamics.aerodynamics_fixedwing (ID 12 )\n",
      "INFO    : Installed bundle fastuav.models.geometry.__init__ (ID 19 )\n",
      "INFO    : Installed bundle fastuav.models.stability.static_longitudinal.center_of_gravity.cog (ID 89 )\n",
      "INFO    : Installed bundle fastuav.models.propulsion.propeller.definition_parameters (ID 65 )\n",
      "INFO    : Installed bundle fastuav.models.scenarios.thrust.__init__ (ID 83 )\n",
      "INFO    : Installed bundle fastuav.models.stability.static_longitudinal.center_of_gravity.components.cog_airframe (ID 90 )\n",
      "INFO    : Installed bundle fastuav.models.wires.__init__ (ID 114 )\n",
      "INFO    : Installed bundle fastuav.models.propulsion.energy.battery.estimation_models (ID 41 )\n",
      "INFO    : Installed bundle fastuav.models.propulsion.propeller.estimation_models (ID 66 )\n",
      "INFO    : Installed bundle fastuav.models.stability.static_longitudinal.center_of_gravity.components.cog_propulsion (ID 91 )\n",
      "INFO    : Installed bundle fastuav.models.propulsion.esc.definition_parameters (ID 47 )\n",
      "INFO    : Installed bundle fastuav.models.propulsion.energy.battery.performance_analysis (ID 42 )\n",
      "INFO    : Installed bundle fastuav.models.scenarios.wing_loading.wing_loading (ID 84 )\n",
      "INFO    : Installed bundle fastuav.models.stability.static_longitudinal.center_of_gravity.components.__init__ (ID 92 )\n",
      "INFO    : Installed bundle fastuav.models.propulsion.esc.esc (ID 48 )\n",
      "INFO    : Installed bundle fastuav.models.propulsion.motor.estimation_models (ID 57 )\n",
      "INFO    : Installed bundle fastuav.models.propulsion.propeller.__init__ (ID 69 )\n",
      "INFO    : Installed bundle fastuav.models.scenarios.__init__ (ID 86 )\n",
      "INFO    : Installed bundle fastuav.models.stability.static_longitudinal.center_of_gravity.__init__ (ID 93 )\n",
      "INFO    : Installed bundle fastuav.models.performance.mission.mission_builder (ID 26 )\n",
      "INFO    : Installed bundle fastuav.models.propulsion.propeller.performance_analysis (ID 67 )\n",
      "INFO    : Installed bundle fastuav.models.scenarios.wing_loading.__init__ (ID 85 )\n",
      "INFO    : Installed bundle fastuav.models.aerodynamics.aerodynamics_hybrid (ID 13 )\n",
      "INFO    : Installed bundle fastuav.models.propulsion.energy.battery.__init__ (ID 43 )\n",
      "INFO    : Installed bundle fastuav.models.__init__ (ID 115 )\n",
      "INFO    : Installed bundle fastuav.models.performance.mission.mission_definition.resources.__init__ (ID 27 )\n",
      "INFO    : Installed bundle fastuav.models.aerodynamics.__init__ (ID 15 )\n",
      "INFO    : Installed bundle fastuav.models.propulsion.propeller.propeller (ID 68 )\n",
      "INFO    : Installed bundle fastuav.models.propulsion.motor.performance_analysis (ID 59 )\n",
      "INFO    : Installed bundle fastuav.models.stability.static_longitudinal.neutral_point (ID 94 )\n",
      "INFO    : Installed bundle fastuav.models.structures.structures_hybrid (ID 101 )\n",
      "INFO    : Installed bundle fastuav.models.aerodynamics.aerodynamics_multirotor (ID 14 )\n",
      "INFO    : Installed bundle fastuav.models.propulsion.energy.__init__ (ID 44 )\n",
      "INFO    : Installed bundle fastuav.models.propulsion.motor.catalogue (ID 54 )\n",
      "INFO    : Installed bundle fastuav.models.propulsion.motor.__init__ (ID 60 )\n",
      "INFO    : Installed bundle fastuav.models.propulsion.propulsion (ID 70 )\n",
      "INFO    : Installed bundle fastuav.models.structures.structures_fixedwing_obsolete (ID 100 )\n",
      "INFO    : Installed bundle fastuav.models.mtow.mtow (ID 20 )\n",
      "INFO    : Installed bundle fastuav.models.performance.mission.mission_definition.tests.test_schema (ID 29 )\n",
      "INFO    : Installed bundle fastuav.models.propulsion.esc.estimation_models (ID 49 )\n",
      "INFO    : Installed bundle fastuav.models.propulsion.propeller.aerodynamics.surrogate_models (ID 61 )\n",
      "INFO    : Installed bundle fastuav.models.propulsion.propulsion_hybrid (ID 72 )\n",
      "INFO    : Installed bundle fastuav.models.stability.static_longitudinal.static_margin (ID 95 )\n",
      "INFO    : Installed bundle fastuav.models.structures.tails (ID 103 )\n",
      "INFO    : Installed bundle fastuav.models.mtow.mtow_fixedwing (ID 21 )\n",
      "INFO    : Installed bundle fastuav.models.performance.mission.mission_definition.schema (ID 28 )\n",
      "INFO    : Installed bundle fastuav.models.propulsion.gearbox.gearbox (ID 52 )\n",
      "INFO    : Installed bundle fastuav.models.propulsion.propulsion_fixedwing (ID 71 )\n",
      "INFO    : Installed bundle fastuav.models.stability.__init__ (ID 97 )\n",
      "INFO    : Installed bundle fastuav.models.structures.structures_multirotor (ID 102 )\n",
      "INFO    : Installed bundle fastuav.models.propulsion.esc.performance_analysis (ID 50 )\n",
      "INFO    : Installed bundle fastuav.models.propulsion.__init__ (ID 74 )\n",
      "INFO    : Installed bundle fastuav.models.stability.static_longitudinal.__init__ (ID 96 )\n",
      "INFO    : Installed bundle fastuav.models.structures.wing.constraints (ID 104 )\n",
      "INFO    : Installed bundle fastuav.models.propulsion.esc.__init__ (ID 51 )\n",
      "INFO    : Installed bundle fastuav.models.propulsion.propeller.aerodynamics.__init__ (ID 62 )\n",
      "INFO    : Installed bundle fastuav.models.propulsion.propulsion_multirotor (ID 73 )\n",
      "INFO    : Installed bundle fastuav.models.mtow.mtow_hybrid (ID 22 )\n",
      "INFO    : Installed bundle fastuav.models.propulsion.motor.constraints (ID 55 )\n",
      "INFO    : Installed bundle fastuav.models.scenarios.scenarios_fixedwing (ID 75 )\n",
      "INFO    : Installed bundle fastuav.models.structures.wing.estimation_models (ID 105 )\n",
      "INFO    : Installed bundle fastuav.models.performance.mission.mission_definition.tests.__init__ (ID 30 )\n",
      "INFO    : Installed bundle fastuav.models.structures.wing.wing (ID 107 )\n",
      "INFO    : Installed bundle fastuav.models.mtow.mtow_multirotor (ID 23 )\n",
      "INFO    : Installed bundle fastuav.models.structures.wing.structural_analysis (ID 106 )\n",
      "INFO    : Installed bundle fastuav.models.structures.fuselage (ID 98 )\n",
      "INFO    : Installed bundle fastuav.models.performance.mission.mission_definition.__init__ (ID 31 )\n",
      "INFO    : Installed bundle fastuav.models.propulsion.gearbox.__init__ (ID 53 )\n",
      "INFO    : Installed bundle fastuav.models.structures.__init__ (ID 109 )\n",
      "INFO    : Installed bundle fastuav.models.structures.wing.__init__ (ID 108 )\n",
      "INFO    : Installed bundle fastuav.models.mtow.__init__ (ID 24 )\n",
      "INFO    : Installed bundle fastuav.models.performance.mission.phase_builder (ID 32 )\n",
      "INFO    : Installed bundle fastuav.models.structures.structures_fixedwing (ID 99 )\n",
      "INFO    : Installed bundle fastuav.models.performance.__init__ (ID 36 )\n",
      "INFO    : Installed bundle fastuav.models.performance.mission.route_builder (ID 33 )\n",
      "INFO    : Installed bundle fastuav.models.performance.mission.__init__ (ID 34 )\n",
      "INFO    : Installed bundle fastuav.models.propulsion.motor.definition_parameters (ID 56 )\n",
      "INFO    : Installed bundle fastuav.models.propulsion.motor.motor (ID 58 )\n",
      "INFO    : Loaded variable descriptions in fastuav.models\n",
      "INFO    : Loading FAST-OAD plugin bundled\n",
      "INFO    : Loading bundles from fastoad.models\n",
      "INFO    : Installed bundle fastoad.models.performances.mission.exceptions (ID 117 )\n",
      "INFO    : Installed bundle fastoad.models.performances.mission.mission_definition.exceptions (ID 118 )\n",
      "INFO    : Installed bundle fastoad.models.performances.mission.openmdao.mission (ID 124 )\n",
      "INFO    : Installed bundle fastoad.models.performances.mission.segments.transition (ID 136 )\n",
      "INFO    : Installed bundle fastoad.models.performances.mission.segments.hold (ID 133 )\n",
      "INFO    : Installed bundle fastoad.models.performances.mission.routes (ID 129 )\n",
      "INFO    : Installed bundle fastoad.models.performances.mission.openmdao.mission_wrapper (ID 125 )\n",
      "INFO    : Installed bundle fastoad.models.__init__ (ID 141 )\n",
      "INFO    : Installed bundle fastoad.models.performances.mission.mission_definition.resources.__init__ (ID 120 )\n",
      "INFO    : Installed bundle fastoad.models.performances.mission.mission_definition.mission_builder (ID 119 )\n",
      "INFO    : Installed bundle fastoad.models.performances.__init__ (ID 140 )\n",
      "INFO    : Installed bundle fastoad.models.performances.mission.openmdao.resources.__init__ (ID 126 )\n",
      "INFO    : Installed bundle fastoad.models.performances.mission.base (ID 116 )\n",
      "INFO    : Installed bundle fastoad.models.performances.mission.segments.speed_change (ID 134 )\n",
      "INFO    : Installed bundle fastoad.models.performances.mission.segments.altitude_change (ID 130 )\n",
      "INFO    : Installed bundle fastoad.models.performances.mission.mission_definition.schema (ID 121 )\n",
      "INFO    : Installed bundle fastoad.models.performances.mission.__init__ (ID 139 )\n",
      "INFO    : Installed bundle fastoad.models.performances.mission.openmdao.link_mtow (ID 123 )\n",
      "INFO    : Installed bundle fastoad.models.performances.mission.openmdao.__init__ (ID 127 )\n",
      "INFO    : Installed bundle fastoad.models.performances.mission.util (ID 138 )\n",
      "INFO    : Installed bundle fastoad.models.performances.mission.segments.taxi (ID 135 )\n",
      "INFO    : Installed bundle fastoad.models.performances.mission.segments.base (ID 131 )\n",
      "INFO    : Installed bundle fastoad.models.performances.mission.polar (ID 128 )\n",
      "INFO    : Installed bundle fastoad.models.performances.mission.segments.__init__ (ID 137 )\n",
      "INFO    : Installed bundle fastoad.models.performances.mission.mission_definition.__init__ (ID 122 )\n",
      "INFO    : Installed bundle fastoad.models.performances.mission.segments.cruise (ID 132 )\n",
      "INFO    : Loaded variable descriptions in fastoad.models\n",
      "INFO    : Loading FAST-OAD plugin cs25\n",
      "INFO    : Loading bundles from fastoad_cs25.models\n",
      "INFO    : Installed bundle fastoad_cs25.models.aerodynamics.external.xfoil.xfoil699.__init__ (ID 169 )\n",
      "INFO    : Installed bundle fastoad_cs25.models.weight.mass_breakdown.__init__ (ID 298 )\n",
      "INFO    : Installed bundle fastoad_cs25.models.aerodynamics.aerodynamics_low_speed (ID 144 )\n",
      "INFO    : Installed bundle fastoad_cs25.models.aerodynamics.external.xfoil.resources.__init__ (ID 168 )\n",
      "INFO    : Installed bundle fastoad_cs25.models.handling_qualities.tail_sizing.__init__ (ID 224 )\n",
      "INFO    : Installed bundle fastoad_cs25.models.weight.cg.cg_components.load_cases.compute_cg_loadcase2 (ID 247 )\n",
      "INFO    : Installed bundle fastoad_cs25.models.weight.weight (ID 299 )\n",
      "INFO    : Installed bundle fastoad_cs25.models.weight.__init__ (ID 300 )\n",
      "INFO    : Installed bundle fastoad_cs25.models.handling_qualities.__init__ (ID 225 )\n",
      "INFO    : Installed bundle fastoad_cs25.models.weight.mass_breakdown.b_propulsion.b2_fuel_lines_weight (ID 269 )\n",
      "INFO    : Installed bundle fastoad_cs25.models.weight.mass_breakdown.d_furniture.d1_cargo_configuration_weight (ID 286 )\n",
      "INFO    : Installed bundle fastoad_cs25.models.__init__ (ID 301 )\n",
      "INFO    : Installed bundle fastoad_cs25.models.weight.mass_breakdown.b_propulsion.b3_unconsumables_weight (ID 270 )\n",
      "INFO    : Installed bundle fastoad_cs25.models.weight.mass_breakdown.d_furniture.d2_passenger_seats_weight (ID 287 )\n",
      "INFO    : Installed bundle fastoad_cs25.models.aerodynamics.aerodynamics_takeoff (ID 145 )\n",
      "INFO    : Installed bundle fastoad_cs25.models.aerodynamics.external.xfoil.xfoil_polar (ID 170 )\n",
      "INFO    : Installed bundle fastoad_cs25.models.loops.compute_wing_area (ID 226 )\n",
      "INFO    : Installed bundle fastoad_cs25.models.weight.cg.cg_components.compute_vt_cg (ID 245 )\n",
      "INFO    : Installed bundle fastoad_cs25.models.weight.mass_breakdown.b_propulsion.constants (ID 271 )\n",
      "INFO    : Installed bundle fastoad_cs25.models.weight.mass_breakdown.d_furniture.d3_food_water_weight (ID 288 )\n",
      "INFO    : Installed bundle fastoad_cs25.models.aerodynamics.components.cd0 (ID 146 )\n",
      "INFO    : Installed bundle fastoad_cs25.models.aerodynamics.__init__ (ID 173 )\n",
      "INFO    : Installed bundle fastoad_cs25.models.loops.__init__ (ID 228 )\n",
      "INFO    : Installed bundle fastoad_cs25.models.weight.mass_breakdown.d_furniture.d4_security_kit_weight (ID 289 )\n",
      "INFO    : Installed bundle fastoad_cs25.models.aerodynamics.external.xfoil.__init__ (ID 171 )\n",
      "INFO    : Installed bundle fastoad_cs25.models.weight.mass_breakdown.d_furniture.d5_toilets_weight (ID 290 )\n",
      "INFO    : Installed bundle fastoad_cs25.models.loops.compute_wing_position (ID 227 )\n",
      "INFO    : Installed bundle fastoad_cs25.models.weight.mass_breakdown.b_propulsion.sum (ID 272 )\n",
      "INFO    : Installed bundle fastoad_cs25.models.aerodynamics.external.__init__ (ID 172 )\n",
      "INFO    : Installed bundle fastoad_cs25.models.propulsion.fuel_propulsion.rubber_engine.constants (ID 229 )\n",
      "INFO    : Installed bundle fastoad_cs25.models.weight.mass_breakdown.b_propulsion.__init__ (ID 273 )\n",
      "INFO    : Installed bundle fastoad_cs25.models.weight.mass_breakdown.d_furniture.sum (ID 291 )\n",
      "INFO    : Installed bundle fastoad_cs25.models.constants (ID 174 )\n",
      "INFO    : Installed bundle fastoad_cs25.models.aerodynamics.components.cd0_fuselage (ID 147 )\n",
      "INFO    : Installed bundle fastoad_cs25.models.geometry.constants (ID 176 )\n",
      "INFO    : Installed bundle fastoad_cs25.models.weight.mass_breakdown.d_furniture.__init__ (ID 292 )\n",
      "INFO    : Installed bundle fastoad_cs25.models.weight.cg.cg_components.compute_ht_cg (ID 243 )\n",
      "INFO    : Installed bundle fastoad_cs25.models.weight.mass_breakdown.constants (ID 274 )\n",
      "INFO    : Installed bundle fastoad_cs25.models.weight.cg.cg_components.compute_global_cg (ID 242 )\n",
      "INFO    : Installed bundle fastoad_cs25.models.weight.mass_breakdown.c_systems.c1_power_systems_weight (ID 276 )\n",
      "INFO    : Installed bundle fastoad_cs25.models.weight.mass_breakdown.cs25 (ID 275 )\n",
      "INFO    : Installed bundle fastoad_cs25.models.weight.cg.cg_components.load_cases.compute_cg_loadcase1 (ID 246 )\n",
      "INFO    : Installed bundle fastoad_cs25.models.aerodynamics.components.cd0_ht (ID 148 )\n",
      "INFO    : Installed bundle fastoad_cs25.models.geometry.compute_aero_center (ID 175 )\n",
      "INFO    : Installed bundle fastoad_cs25.models.geometry.geometry (ID 177 )\n",
      "INFO    : Installed bundle fastoad_cs25.models.weight.cg.cg_components.compute_max_cg_ratio (ID 244 )\n",
      "INFO    : Installed bundle fastoad_cs25.models.weight.mass_breakdown.e_crew.crew_weight (ID 293 )\n",
      "INFO    : Installed bundle fastoad_cs25.models.geometry.geom_components.compute_wetted_area (ID 178 )\n",
      "INFO    : Installed bundle fastoad_cs25.models.weight.mass_breakdown.e_crew.__init__ (ID 294 )\n",
      "INFO    : Installed bundle fastoad_cs25.models.geometry.geom_components.fuselage.compute_cnbeta_fuselage (ID 179 )\n",
      "INFO    : Installed bundle fastoad_cs25.models.weight.mass_breakdown.mass_breakdown (ID 295 )\n",
      "INFO    : Installed bundle fastoad_cs25.models.aerodynamics.components.cd0_nacelles_pylons (ID 149 )\n",
      "INFO    : Installed bundle fastoad_cs25.models.geometry.geom_components.fuselage.compute_fuselage (ID 180 )\n",
      "INFO    : Installed bundle fastoad_cs25.models.aerodynamics.aerodynamics_high_speed (ID 142 )\n",
      "INFO    : Installed bundle fastoad_cs25.models.weight.mass_breakdown.payload (ID 296 )\n",
      "INFO    : Installed bundle fastoad_cs25.models.weight.mass_breakdown.update_mlw_and_mzfw (ID 297 )\n",
      "INFO    : Installed bundle fastoad_cs25.models.geometry.geom_components.fuselage.__init__ (ID 181 )\n",
      "INFO    : Installed bundle fastoad_cs25.models.geometry.geom_components.nacelle_pylons.compute_nacelle_pylons (ID 189 )\n",
      "INFO    : Installed bundle fastoad_cs25.models.propulsion.fuel_propulsion.rubber_engine.exceptions (ID 230 )\n",
      "INFO    : Installed bundle fastoad_cs25.models.aerodynamics.components.compute_reynolds (ID 158 )\n",
      "INFO    : Installed bundle fastoad_cs25.models.geometry.geom_components.vt.components.compute_vt_distance (ID 193 )\n",
      "INFO    : Installed bundle fastoad_cs25.models.propulsion.fuel_propulsion.rubber_engine.openmdao (ID 231 )\n",
      "INFO    : Installed bundle fastoad_cs25.models.weight.mass_breakdown.c_systems.constants (ID 282 )\n",
      "INFO    : Installed bundle fastoad_cs25.models.geometry.geom_components.vt.components.compute_vt_mac (ID 194 )\n",
      "INFO    : Installed bundle fastoad_cs25.models.propulsion.fuel_propulsion.rubber_engine.rubber_engine (ID 232 )\n",
      "INFO    : Installed bundle fastoad_cs25.models.aerodynamics.components.high_lift_aero (ID 159 )\n",
      "INFO    : Installed bundle fastoad_cs25.models.geometry.geom_components.nacelle_pylons.__init__ (ID 190 )\n",
      "INFO    : Installed bundle fastoad_cs25.models.geometry.geom_components.vt.components.compute_vt_sweep (ID 195 )\n",
      "INFO    : Installed bundle fastoad_cs25.models.propulsion.fuel_propulsion.rubber_engine.__init__ (ID 233 )\n",
      "INFO    : Installed bundle fastoad_cs25.models.geometry.geom_components.vt.components.__init__ (ID 196 )\n",
      "INFO    : Installed bundle fastoad_cs25.models.weight.cg.cg_components.update_mlg (ID 253 )\n",
      "INFO    : Installed bundle fastoad_cs25.models.weight.mass_breakdown.c_systems.sum (ID 283 )\n",
      "INFO    : Installed bundle fastoad_cs25.models.aerodynamics.components.cd0_total (ID 150 )\n",
      "INFO    : Installed bundle fastoad_cs25.models.geometry.geom_components.ht.components.compute_ht_chords (ID 182 )\n",
      "INFO    : Installed bundle fastoad_cs25.models.propulsion.__init__ (ID 235 )\n",
      "INFO    : Installed bundle fastoad_cs25.models.weight.cg.constants (ID 255 )\n",
      "INFO    : Installed bundle fastoad_cs25.models.geometry.geom_components.vt.compute_vertical_tail (ID 197 )\n",
      "INFO    : Installed bundle fastoad_cs25.models.weight.cg.cg_components.__init__ (ID 254 )\n",
      "INFO    : Installed bundle fastoad_cs25.models.aerodynamics.aerodynamics_landing (ID 143 )\n",
      "INFO    : Installed bundle fastoad_cs25.models.propulsion.fuel_propulsion.__init__ (ID 234 )\n",
      "INFO    : Installed bundle fastoad_cs25.models.geometry.geom_components.__init__ (ID 213 )\n",
      "INFO    : Installed bundle fastoad_cs25.models.weight.cg.__init__ (ID 256 )\n",
      "INFO    : Installed bundle fastoad_cs25.models.aerodynamics.components.cd0_vt (ID 151 )\n",
      "INFO    : Installed bundle fastoad_cs25.models.weight.constants (ID 257 )\n",
      "INFO    : Installed bundle fastoad_cs25.models.geometry.geom_components.vt.__init__ (ID 198 )\n",
      "INFO    : Installed bundle fastoad_cs25.models.geometry.profiles.profile (ID 214 )\n",
      "INFO    : Installed bundle fastoad_cs25.models.weight.cg.cg_components.compute_cg_ratio_aft (ID 239 )\n",
      "INFO    : Installed bundle fastoad_cs25.models.aerodynamics.components.cd0_wing (ID 152 )\n",
      "INFO    : Installed bundle fastoad_cs25.models.geometry.__init__ (ID 219 )\n",
      "INFO    : Installed bundle fastoad_cs25.models.weight.cg.cg (ID 236 )\n",
      "INFO    : Installed bundle fastoad_cs25.models.geometry.geom_components.vt.components.compute_vt_chords (ID 191 )\n",
      "INFO    : Installed bundle fastoad_cs25.models.geometry.geom_components.wing.components.compute_b_50 (ID 199 )\n",
      "INFO    : Installed bundle fastoad_cs25.models.geometry.profiles.profile_getter (ID 215 )\n",
      "INFO    : Installed bundle fastoad_cs25.models.weight.cg.cg_components.compute_cg_tanks (ID 240 )\n",
      "INFO    : Installed bundle fastoad_cs25.models.aerodynamics.components.cd_compressibility (ID 153 )\n",
      "INFO    : Installed bundle fastoad_cs25.models.aerodynamics.components.initialize_cl (ID 160 )\n",
      "INFO    : Installed bundle fastoad_cs25.models.geometry.geom_components.wing.components.compute_sweep_wing (ID 205 )\n",
      "INFO    : Installed bundle fastoad_cs25.models.weight.cg.cg_components.compute_cg_control_surfaces (ID 237 )\n",
      "INFO    : Installed bundle fastoad_cs25.models.weight.mass_breakdown.a_airframe.a2_fuselage_weight (ID 259 )\n",
      "INFO    : Installed bundle fastoad_cs25.models.weight.mass_breakdown.c_systems.__init__ (ID 284 )\n",
      "INFO    : Installed bundle fastoad_cs25.models.geometry.geom_components.wing.components.compute_toc_wing (ID 206 )\n",
      "INFO    : Installed bundle fastoad_cs25.models.weight.mass_breakdown.a_airframe.a3_empennage_weight (ID 260 )\n",
      "INFO    : Installed bundle fastoad_cs25.models.weight.cg.cg_components.compute_cg_wing (ID 241 )\n",
      "INFO    : Installed bundle fastoad_cs25.models.weight.mass_breakdown.a_airframe.a4_flight_control_weight (ID 261 )\n",
      "INFO    : Installed bundle fastoad_cs25.models.geometry.geom_components.wing.components.compute_wet_area_wing (ID 207 )\n",
      "INFO    : Installed bundle fastoad_cs25.models.weight.mass_breakdown.a_airframe.a1_wing_weight (ID 258 )\n",
      "INFO    : Installed bundle fastoad_cs25.models.weight.mass_breakdown.a_airframe.a5_landing_gear_weight (ID 262 )\n",
      "INFO    : Installed bundle fastoad_cs25.models.geometry.geom_components.vt.components.compute_vt_clalpha (ID 192 )\n",
      "INFO    : Installed bundle fastoad_cs25.models.geometry.geom_components.wing.components.compute_cl_alpha (ID 200 )\n",
      "INFO    : Installed bundle fastoad_cs25.models.handling_qualities.compute_static_margin (ID 220 )\n",
      "INFO    : Installed bundle fastoad_cs25.models.weight.mass_breakdown.a_airframe.a6_pylons_weight (ID 263 )\n",
      "INFO    : Installed bundle fastoad_cs25.models.weight.mass_breakdown.d_furniture.constants (ID 285 )\n",
      "INFO    : Installed bundle fastoad_cs25.models.weight.mass_breakdown.a_airframe.a7_paint_weight (ID 264 )\n",
      "INFO    : Installed bundle fastoad_cs25.models.aerodynamics.components.cd_trim (ID 154 )\n",
      "INFO    : Installed bundle fastoad_cs25.models.geometry.geom_components.wing.components.compute_l1_l4 (ID 201 )\n",
      "INFO    : Installed bundle fastoad_cs25.models.geometry.geom_components.wing.components.compute_x_wing (ID 208 )\n",
      "INFO    : Installed bundle fastoad_cs25.models.weight.mass_breakdown.a_airframe.constants (ID 265 )\n",
      "INFO    : Installed bundle fastoad_cs25.models.aerodynamics.components.oswald (ID 161 )\n",
      "INFO    : Installed bundle fastoad_cs25.models.aerodynamics.components.compute_low_speed_aero (ID 155 )\n",
      "INFO    : Installed bundle fastoad_cs25.models.geometry.geom_components.wing.components.compute_l2_l3 (ID 202 )\n",
      "INFO    : Installed bundle fastoad_cs25.models.weight.cg.cg_components.load_cases.compute_cg_loadcase3 (ID 248 )\n",
      "INFO    : Installed bundle fastoad_cs25.models.aerodynamics.components.compute_max_cl_landing (ID 156 )\n",
      "INFO    : Installed bundle fastoad_cs25.models.aerodynamics.components.utils.cd0_lifting_surface (ID 163 )\n",
      "INFO    : Installed bundle fastoad_cs25.models.geometry.geom_components.ht.components.compute_ht_cl_alpha (ID 183 )\n",
      "INFO    : Installed bundle fastoad_cs25.models.handling_qualities.tail_sizing.compute_tail_areas (ID 222 )\n",
      "INFO    : Installed bundle fastoad_cs25.models.aerodynamics.components.resources.__init__ (ID 162 )\n",
      "INFO    : Installed bundle fastoad_cs25.models.geometry.geom_components.ht.components.compute_ht_mac (ID 184 )\n",
      "INFO    : Installed bundle fastoad_cs25.models.geometry.geom_components.wing.components.compute_mac_wing (ID 203 )\n",
      "INFO    : Installed bundle fastoad_cs25.models.geometry.geom_components.wing.components.compute_y_wing (ID 209 )\n",
      "INFO    : Installed bundle fastoad_cs25.models.weight.mass_breakdown.a_airframe.sum (ID 266 )\n",
      "INFO    : Installed bundle fastoad_cs25.models.geometry.geom_components.ht.components.compute_ht_sweep (ID 185 )\n",
      "INFO    : Installed bundle fastoad_cs25.models.weight.cg.cg_components.load_cases.compute_cg_loadcase4 (ID 249 )\n",
      "INFO    : Installed bundle fastoad_cs25.models.geometry.geom_components.wing.components.__init__ (ID 210 )\n",
      "INFO    : Installed bundle fastoad_cs25.models.geometry.geom_components.ht.components.__init__ (ID 186 )\n",
      "INFO    : Installed bundle fastoad_cs25.models.weight.cg.cg_components.compute_cg_others (ID 238 )\n",
      "INFO    : Installed bundle fastoad_cs25.models.weight.mass_breakdown.a_airframe.__init__ (ID 267 )\n",
      "INFO    : Installed bundle fastoad_cs25.models.geometry.geom_components.wing.compute_wing (ID 211 )\n",
      "INFO    : Installed bundle fastoad_cs25.models.handling_qualities.tail_sizing.compute_ht_area (ID 221 )\n",
      "INFO    : Installed bundle fastoad_cs25.models.aerodynamics.components.utils.friction_drag (ID 164 )\n",
      "INFO    : Installed bundle fastoad_cs25.models.geometry.geom_components.wing.components.compute_mfw (ID 204 )\n",
      "INFO    : Installed bundle fastoad_cs25.models.aerodynamics.constants (ID 167 )\n",
      "INFO    : Installed bundle fastoad_cs25.models.geometry.wing_global_positions (ID 218 )\n",
      "INFO    : Installed bundle fastoad_cs25.models.weight.cg.cg_components.load_cases.compute_cg_loadcases (ID 250 )\n",
      "INFO    : Installed bundle fastoad_cs25.models.weight.mass_breakdown.b_propulsion.b1_engine_weight (ID 268 )\n",
      "INFO    : Installed bundle fastoad_cs25.models.geometry.geom_components.ht.compute_horizontal_tail (ID 187 )\n",
      "INFO    : Installed bundle fastoad_cs25.models.geometry.geom_components.wing.__init__ (ID 212 )\n",
      "INFO    : Installed bundle fastoad_cs25.models.weight.cg.cg_components.load_cases.compute_cg_loadcase_base (ID 251 )\n",
      "INFO    : Installed bundle fastoad_cs25.models.aerodynamics.components.utils.__init__ (ID 165 )\n",
      "INFO    : Installed bundle fastoad_cs25.models.weight.mass_breakdown.c_systems.c2_life_support_systems_weight (ID 277 )\n",
      "INFO    : Installed bundle fastoad_cs25.models.geometry.profiles.__init__ (ID 217 )\n",
      "INFO    : Installed bundle fastoad_cs25.models.handling_qualities.tail_sizing.compute_vt_area (ID 223 )\n",
      "INFO    : Installed bundle fastoad_cs25.models.weight.cg.cg_components.load_cases.__init__ (ID 252 )\n",
      "INFO    : Installed bundle fastoad_cs25.models.weight.mass_breakdown.c_systems.c3_navigation_systems_weight (ID 278 )\n",
      "INFO    : Installed bundle fastoad_cs25.models.aerodynamics.components.compute_polar (ID 157 )\n",
      "INFO    : Installed bundle fastoad_cs25.models.geometry.profiles.resources.__init__ (ID 216 )\n",
      "INFO    : Installed bundle fastoad_cs25.models.weight.mass_breakdown.c_systems.c4_transmissions_systems_weight (ID 279 )\n",
      "INFO    : Installed bundle fastoad_cs25.models.aerodynamics.components.__init__ (ID 166 )\n",
      "INFO    : Installed bundle fastoad_cs25.models.geometry.geom_components.ht.__init__ (ID 188 )\n",
      "INFO    : Installed bundle fastoad_cs25.models.weight.mass_breakdown.c_systems.c5_fixed_operational_systems_weight (ID 280 )\n",
      "INFO    : Installed bundle fastoad_cs25.models.weight.mass_breakdown.c_systems.c6_flight_kit_weight (ID 281 )\n",
      "INFO    : Loaded variable descriptions in fastoad_cs25.models\n",
      "INFO    : Sample configuration written in \"D:\\THESE\\Tools\\FAST-UAV\\src\\fastuav\\notebooks\\workdir\\hybrid_mdo.yaml\".\n"
     ]
    },
    {
     "data": {
      "text/plain": [
       "'D:\\\\THESE\\\\Tools\\\\FAST-UAV\\\\src\\\\fastuav\\\\notebooks\\\\workdir\\\\hybrid_mdo.yaml'"
      ]
     },
     "execution_count": 2,
     "metadata": {},
     "output_type": "execute_result"
    }
   ],
   "source": [
    "oad.generate_configuration_file(\n",
    "    CONFIGURATION_FILE, overwrite=True, distribution_name=\"fastuav\", sample_file_name=\"hybrid_mdo.yaml\"\n",
    ")"
   ]
  },
  {
   "cell_type": "markdown",
   "metadata": {},
   "source": [
    "The YAML configuration file located in the [data folder](./data/) defines the design problem, i.e. the model, the problem driver and the optimization problem definition.<br>\n",
    "A useful feature is the [N2 diagram](http://openmdao.org/twodocs/versions/latest/basic_guide/make_n2.html) visualization available in OpenMDAO to see the structure of the model:"
   ]
  },
  {
   "cell_type": "code",
   "execution_count": 3,
   "metadata": {},
   "outputs": [
    {
     "name": "stderr",
     "output_type": "stream",
     "text": [
      "INFO    : N2 diagram written in D:\\THESE\\Tools\\FAST-UAV\\src\\fastuav\\notebooks\\workdir\\n2.html\n"
     ]
    },
    {
     "data": {
      "text/html": [
       "\n",
       "        <iframe\n",
       "            width=\"100%\"\n",
       "            height=\"500px\"\n",
       "            src=\"./workdir\\n2.html\"\n",
       "            frameborder=\"0\"\n",
       "            allowfullscreen\n",
       "            \n",
       "        ></iframe>\n",
       "        "
      ],
      "text/plain": [
       "<IPython.lib.display.IFrame at 0x17edd4880d0>"
      ]
     },
     "execution_count": 3,
     "metadata": {},
     "output_type": "execute_result"
    }
   ],
   "source": [
    "N2_FILE = pth.join(WORK_FOLDER_PATH, \"n2.html\")\n",
    "oad.write_n2(CONFIGURATION_FILE, N2_FILE, overwrite=True)\n",
    "from IPython.display import IFrame\n",
    "IFrame(src=N2_FILE, width=\"100%\", height=\"500px\")"
   ]
  },
  {
   "cell_type": "markdown",
   "metadata": {},
   "source": [
    "In the configuration file, we have specified an input file name 'problem_inputs.xml'. We can ask FAST-UAV to generate the inputs of the model with the reference parameters from 'problem_inputs_hybrid.xml' as default values:"
   ]
  },
  {
   "cell_type": "code",
   "execution_count": 4,
   "metadata": {},
   "outputs": [
    {
     "name": "stderr",
     "output_type": "stream",
     "text": [
      "INFO    : Problem inputs written in D:\\THESE\\Tools\\FAST-UAV\\src\\fastuav\\notebooks\\workdir\\problem_inputs.xml\n"
     ]
    },
    {
     "data": {
      "text/plain": [
       "'D:\\\\THESE\\\\Tools\\\\FAST-UAV\\\\src\\\\fastuav\\\\notebooks\\\\workdir\\\\problem_inputs.xml'"
      ]
     },
     "execution_count": 4,
     "metadata": {},
     "output_type": "execute_result"
    }
   ],
   "source": [
    "oad.generate_inputs(CONFIGURATION_FILE, SOURCE_FILE, overwrite=True)"
   ]
  },
  {
   "cell_type": "markdown",
   "metadata": {},
   "source": [
    "You can now checkout the generated [input file](./workdir/problem_inputs.xml). The values in this file can be modified by the user and will be considered by FAST-UAV when executing a computational process.<br>\n",
    "The `variable-viewer` provides a way to inspect and modify the content of the XML file. The dropdown lists above the table allow to filter the displayed variable."
   ]
  },
  {
   "cell_type": "code",
   "execution_count": 62,
   "metadata": {},
   "outputs": [
    {
     "data": {
      "application/vnd.jupyter.widget-view+json": {
       "model_id": "98d865718b144dd7929e1aaa98bb2de2",
       "version_major": 2,
       "version_minor": 0
      },
      "text/plain": [
       "VBox(children=(HBox(children=(Button(description='Load', icon='upload', style=ButtonStyle(), tooltip='Load the…"
      ]
     },
     "metadata": {},
     "output_type": "display_data"
    }
   ],
   "source": [
    "INPUT_FILE = pth.join(WORK_FOLDER_PATH, \"problem_inputs.xml\")\n",
    "oad.variable_viewer(INPUT_FILE)"
   ]
  },
  {
   "cell_type": "markdown",
   "metadata": {},
   "source": [
    "## 2. Running an MDO\n",
    "\n",
    "You can now run an optimization problem. The last part of the configuration file .yaml is where this optimization problem is defined:\n",
    "\n",
    "```yaml\n",
    "optimization:\n",
    "  design_variables:\n",
    "    - name: data:weight:mtow:k # over estimation coefficient on the load mass\n",
    "      upper: 40.0\n",
    "      lower: 1.0\n",
    "  constraints:\n",
    "    - name: data:performance:constraints:mass:convergence # mass consistency\n",
    "      lower: 0.0\n",
    "  objective:\n",
    "    - name: data:weight:mtow\n",
    "      scaler: 1e-1\n",
    "```"
   ]
  },
  {
   "cell_type": "code",
   "execution_count": 67,
   "metadata": {
    "tags": []
   },
   "outputs": [
    {
     "name": "stdout",
     "output_type": "stream",
     "text": [
      "Optimization terminated successfully    (Exit mode 0)\n",
      "            Current function value: [-0.0851686]\n",
      "            Iterations: 124\n",
      "            Function evaluations: 131\n",
      "            Gradient evaluations: 124\n",
      "Optimization Complete\n",
      "-----------------------------------\n"
     ]
    },
    {
     "name": "stderr",
     "output_type": "stream",
     "text": [
      "INFO    : Computation finished after 24.94 seconds\n",
      "INFO    : Problem outputs written in D:\\THESE\\Tools\\FAST-UAV\\src\\fastuav\\notebooks\\workdir\\problem_outputs.xml\n"
     ]
    }
   ],
   "source": [
    "optim_problem = oad.optimize_problem(CONFIGURATION_FILE, overwrite=True)\n",
    "#optim_problem = oad.evaluate_problem(CONFIGURATION_FILE, overwrite=True)"
   ]
  },
  {
   "cell_type": "markdown",
   "metadata": {},
   "source": [
    "Let's save these results:"
   ]
  },
  {
   "cell_type": "code",
   "execution_count": 68,
   "metadata": {},
   "outputs": [],
   "source": [
    "OUTPUT_FILE = pth.join(WORK_FOLDER_PATH, \"problem_outputs.xml\")\n",
    "# FW_OUTPUT_FILE = pth.join(DATA_FOLDER_PATH, 'problem_outputs_FW_mdo.xml')\n",
    "# shutil.copy(OUTPUT_FILE, FW_OUTPUT_FILE)"
   ]
  },
  {
   "cell_type": "markdown",
   "metadata": {},
   "source": [
    "The `optimizer_viewer` offers a convenient summary of the optimization result. If design variables or constraints have active bounds they are yellow whereas they are red if they are violated."
   ]
  },
  {
   "cell_type": "code",
   "execution_count": 69,
   "metadata": {
    "tags": []
   },
   "outputs": [
    {
     "name": "stderr",
     "output_type": "stream",
     "text": [
      "D:\\Softwares\\poetry\\cache\\virtualenvs\\fastuav-qz6dlUbG-py3.8\\lib\\site-packages\\jupyter_client\\session.py:716: UserWarning:\n",
      "\n",
      "Message serialization failed with:\n",
      "Out of range float values are not JSON compliant\n",
      "Supporting this message is deprecated in jupyter-client 7, please make sure your message is JSON-compliant\n",
      "\n"
     ]
    },
    {
     "data": {
      "application/vnd.jupyter.widget-view+json": {
       "model_id": "7d0207a7c87f4df1a4ccb50bea3cd14f",
       "version_major": 2,
       "version_minor": 0
      },
      "text/plain": [
       "VBox(children=(HBox(children=(Button(description='Load', icon='upload', style=ButtonStyle(), tooltip='Load the…"
      ]
     },
     "metadata": {},
     "output_type": "display_data"
    }
   ],
   "source": [
    "oad.optimization_viewer(CONFIGURATION_FILE)"
   ]
  },
  {
   "cell_type": "markdown",
   "metadata": {},
   "source": [
    "You can use the `VariableViewer` tool to see the optimization results for all variables of the system by loading the .xml output file:"
   ]
  },
  {
   "cell_type": "code",
   "execution_count": 70,
   "metadata": {},
   "outputs": [
    {
     "data": {
      "application/vnd.jupyter.widget-view+json": {
       "model_id": "0377132ca43b4f84a3ea7bd346c27560",
       "version_major": 2,
       "version_minor": 0
      },
      "text/plain": [
       "VBox(children=(HBox(children=(Button(description='Load', icon='upload', style=ButtonStyle(), tooltip='Load the…"
      ]
     },
     "metadata": {},
     "output_type": "display_data"
    }
   ],
   "source": [
    "oad.variable_viewer(OUTPUT_FILE)"
   ]
  },
  {
   "cell_type": "markdown",
   "metadata": {},
   "source": [
    "## 3. Analysis and plots\n",
    "\n",
    "You can now use postprocessing plots to visualize the results of the MDO."
   ]
  },
  {
   "cell_type": "code",
   "execution_count": 71,
   "metadata": {
    "tags": []
   },
   "outputs": [
    {
     "data": {
      "application/vnd.plotly.v1+json": {
       "config": {
        "plotlyServerURL": "https://plot.ly"
       },
       "data": [
        {
         "mode": "lines+markers",
         "name": "Drone MDO",
         "type": "scatter",
         "uid": "c14d8afa-1ec0-43d5-9807-b13fdec5b872",
         "x": [
          0,
          -0.16038646250032335,
          -0.16038646250032335,
          -0.03207729250006467,
          0,
          0,
          0,
          -2.064444908956433,
          -2.064444908956433,
          0,
          0,
          0,
          0,
          -0.6513368457837299,
          -0.6513368457837299,
          0,
          0,
          0,
          0.16038646250032335,
          0.16038646250032335,
          0.03207729250006467,
          0,
          0,
          0,
          2.064444908956433,
          2.064444908956433,
          0,
          0,
          0,
          0,
          0.6513368457837299,
          0.6513368457837299,
          0,
          0
         ],
         "y": [
          0,
          0.16038646250032335,
          0.9680310660708853,
          1.6038646250032336,
          1.6038646250032336,
          0.6770448139380527,
          0.6770448139380527,
          0.6770448139380527,
          0.9680310660708853,
          0.9680310660708853,
          0.9680310660708853,
          0.6770448139380527,
          1.375325380867549,
          1.375325380867549,
          1.581010700589665,
          1.6038646250032336,
          1.375325380867549,
          0,
          0.16038646250032335,
          0.9680310660708853,
          1.6038646250032336,
          1.6038646250032336,
          0.6770448139380527,
          0.6770448139380527,
          0.6770448139380527,
          0.9680310660708853,
          0.9680310660708853,
          0.9680310660708853,
          0.6770448139380527,
          1.375325380867549,
          1.375325380867549,
          1.581010700589665,
          1.6038646250032336,
          1.375325380867549
         ]
        }
       ],
       "layout": {
        "autosize": true,
        "template": {
         "data": {
          "bar": [
           {
            "error_x": {
             "color": "#2a3f5f"
            },
            "error_y": {
             "color": "#2a3f5f"
            },
            "marker": {
             "line": {
              "color": "#E5ECF6",
              "width": 0.5
             },
             "pattern": {
              "fillmode": "overlay",
              "size": 10,
              "solidity": 0.2
             }
            },
            "type": "bar"
           }
          ],
          "barpolar": [
           {
            "marker": {
             "line": {
              "color": "#E5ECF6",
              "width": 0.5
             },
             "pattern": {
              "fillmode": "overlay",
              "size": 10,
              "solidity": 0.2
             }
            },
            "type": "barpolar"
           }
          ],
          "carpet": [
           {
            "aaxis": {
             "endlinecolor": "#2a3f5f",
             "gridcolor": "white",
             "linecolor": "white",
             "minorgridcolor": "white",
             "startlinecolor": "#2a3f5f"
            },
            "baxis": {
             "endlinecolor": "#2a3f5f",
             "gridcolor": "white",
             "linecolor": "white",
             "minorgridcolor": "white",
             "startlinecolor": "#2a3f5f"
            },
            "type": "carpet"
           }
          ],
          "choropleth": [
           {
            "colorbar": {
             "outlinewidth": 0,
             "ticks": ""
            },
            "type": "choropleth"
           }
          ],
          "contour": [
           {
            "colorbar": {
             "outlinewidth": 0,
             "ticks": ""
            },
            "colorscale": [
             [
              0,
              "#0d0887"
             ],
             [
              0.1111111111111111,
              "#46039f"
             ],
             [
              0.2222222222222222,
              "#7201a8"
             ],
             [
              0.3333333333333333,
              "#9c179e"
             ],
             [
              0.4444444444444444,
              "#bd3786"
             ],
             [
              0.5555555555555556,
              "#d8576b"
             ],
             [
              0.6666666666666666,
              "#ed7953"
             ],
             [
              0.7777777777777778,
              "#fb9f3a"
             ],
             [
              0.8888888888888888,
              "#fdca26"
             ],
             [
              1,
              "#f0f921"
             ]
            ],
            "type": "contour"
           }
          ],
          "contourcarpet": [
           {
            "colorbar": {
             "outlinewidth": 0,
             "ticks": ""
            },
            "type": "contourcarpet"
           }
          ],
          "heatmap": [
           {
            "colorbar": {
             "outlinewidth": 0,
             "ticks": ""
            },
            "colorscale": [
             [
              0,
              "#0d0887"
             ],
             [
              0.1111111111111111,
              "#46039f"
             ],
             [
              0.2222222222222222,
              "#7201a8"
             ],
             [
              0.3333333333333333,
              "#9c179e"
             ],
             [
              0.4444444444444444,
              "#bd3786"
             ],
             [
              0.5555555555555556,
              "#d8576b"
             ],
             [
              0.6666666666666666,
              "#ed7953"
             ],
             [
              0.7777777777777778,
              "#fb9f3a"
             ],
             [
              0.8888888888888888,
              "#fdca26"
             ],
             [
              1,
              "#f0f921"
             ]
            ],
            "type": "heatmap"
           }
          ],
          "heatmapgl": [
           {
            "colorbar": {
             "outlinewidth": 0,
             "ticks": ""
            },
            "colorscale": [
             [
              0,
              "#0d0887"
             ],
             [
              0.1111111111111111,
              "#46039f"
             ],
             [
              0.2222222222222222,
              "#7201a8"
             ],
             [
              0.3333333333333333,
              "#9c179e"
             ],
             [
              0.4444444444444444,
              "#bd3786"
             ],
             [
              0.5555555555555556,
              "#d8576b"
             ],
             [
              0.6666666666666666,
              "#ed7953"
             ],
             [
              0.7777777777777778,
              "#fb9f3a"
             ],
             [
              0.8888888888888888,
              "#fdca26"
             ],
             [
              1,
              "#f0f921"
             ]
            ],
            "type": "heatmapgl"
           }
          ],
          "histogram": [
           {
            "marker": {
             "pattern": {
              "fillmode": "overlay",
              "size": 10,
              "solidity": 0.2
             }
            },
            "type": "histogram"
           }
          ],
          "histogram2d": [
           {
            "colorbar": {
             "outlinewidth": 0,
             "ticks": ""
            },
            "colorscale": [
             [
              0,
              "#0d0887"
             ],
             [
              0.1111111111111111,
              "#46039f"
             ],
             [
              0.2222222222222222,
              "#7201a8"
             ],
             [
              0.3333333333333333,
              "#9c179e"
             ],
             [
              0.4444444444444444,
              "#bd3786"
             ],
             [
              0.5555555555555556,
              "#d8576b"
             ],
             [
              0.6666666666666666,
              "#ed7953"
             ],
             [
              0.7777777777777778,
              "#fb9f3a"
             ],
             [
              0.8888888888888888,
              "#fdca26"
             ],
             [
              1,
              "#f0f921"
             ]
            ],
            "type": "histogram2d"
           }
          ],
          "histogram2dcontour": [
           {
            "colorbar": {
             "outlinewidth": 0,
             "ticks": ""
            },
            "colorscale": [
             [
              0,
              "#0d0887"
             ],
             [
              0.1111111111111111,
              "#46039f"
             ],
             [
              0.2222222222222222,
              "#7201a8"
             ],
             [
              0.3333333333333333,
              "#9c179e"
             ],
             [
              0.4444444444444444,
              "#bd3786"
             ],
             [
              0.5555555555555556,
              "#d8576b"
             ],
             [
              0.6666666666666666,
              "#ed7953"
             ],
             [
              0.7777777777777778,
              "#fb9f3a"
             ],
             [
              0.8888888888888888,
              "#fdca26"
             ],
             [
              1,
              "#f0f921"
             ]
            ],
            "type": "histogram2dcontour"
           }
          ],
          "mesh3d": [
           {
            "colorbar": {
             "outlinewidth": 0,
             "ticks": ""
            },
            "type": "mesh3d"
           }
          ],
          "parcoords": [
           {
            "line": {
             "colorbar": {
              "outlinewidth": 0,
              "ticks": ""
             }
            },
            "type": "parcoords"
           }
          ],
          "pie": [
           {
            "automargin": true,
            "type": "pie"
           }
          ],
          "scatter": [
           {
            "fillpattern": {
             "fillmode": "overlay",
             "size": 10,
             "solidity": 0.2
            },
            "type": "scatter"
           }
          ],
          "scatter3d": [
           {
            "line": {
             "colorbar": {
              "outlinewidth": 0,
              "ticks": ""
             }
            },
            "marker": {
             "colorbar": {
              "outlinewidth": 0,
              "ticks": ""
             }
            },
            "type": "scatter3d"
           }
          ],
          "scattercarpet": [
           {
            "marker": {
             "colorbar": {
              "outlinewidth": 0,
              "ticks": ""
             }
            },
            "type": "scattercarpet"
           }
          ],
          "scattergeo": [
           {
            "marker": {
             "colorbar": {
              "outlinewidth": 0,
              "ticks": ""
             }
            },
            "type": "scattergeo"
           }
          ],
          "scattergl": [
           {
            "marker": {
             "colorbar": {
              "outlinewidth": 0,
              "ticks": ""
             }
            },
            "type": "scattergl"
           }
          ],
          "scattermapbox": [
           {
            "marker": {
             "colorbar": {
              "outlinewidth": 0,
              "ticks": ""
             }
            },
            "type": "scattermapbox"
           }
          ],
          "scatterpolar": [
           {
            "marker": {
             "colorbar": {
              "outlinewidth": 0,
              "ticks": ""
             }
            },
            "type": "scatterpolar"
           }
          ],
          "scatterpolargl": [
           {
            "marker": {
             "colorbar": {
              "outlinewidth": 0,
              "ticks": ""
             }
            },
            "type": "scatterpolargl"
           }
          ],
          "scatterternary": [
           {
            "marker": {
             "colorbar": {
              "outlinewidth": 0,
              "ticks": ""
             }
            },
            "type": "scatterternary"
           }
          ],
          "surface": [
           {
            "colorbar": {
             "outlinewidth": 0,
             "ticks": ""
            },
            "colorscale": [
             [
              0,
              "#0d0887"
             ],
             [
              0.1111111111111111,
              "#46039f"
             ],
             [
              0.2222222222222222,
              "#7201a8"
             ],
             [
              0.3333333333333333,
              "#9c179e"
             ],
             [
              0.4444444444444444,
              "#bd3786"
             ],
             [
              0.5555555555555556,
              "#d8576b"
             ],
             [
              0.6666666666666666,
              "#ed7953"
             ],
             [
              0.7777777777777778,
              "#fb9f3a"
             ],
             [
              0.8888888888888888,
              "#fdca26"
             ],
             [
              1,
              "#f0f921"
             ]
            ],
            "type": "surface"
           }
          ],
          "table": [
           {
            "cells": {
             "fill": {
              "color": "#EBF0F8"
             },
             "line": {
              "color": "white"
             }
            },
            "header": {
             "fill": {
              "color": "#C8D4E3"
             },
             "line": {
              "color": "white"
             }
            },
            "type": "table"
           }
          ]
         },
         "layout": {
          "annotationdefaults": {
           "arrowcolor": "#2a3f5f",
           "arrowhead": 0,
           "arrowwidth": 1
          },
          "autotypenumbers": "strict",
          "coloraxis": {
           "colorbar": {
            "outlinewidth": 0,
            "ticks": ""
           }
          },
          "colorscale": {
           "diverging": [
            [
             0,
             "#8e0152"
            ],
            [
             0.1,
             "#c51b7d"
            ],
            [
             0.2,
             "#de77ae"
            ],
            [
             0.3,
             "#f1b6da"
            ],
            [
             0.4,
             "#fde0ef"
            ],
            [
             0.5,
             "#f7f7f7"
            ],
            [
             0.6,
             "#e6f5d0"
            ],
            [
             0.7,
             "#b8e186"
            ],
            [
             0.8,
             "#7fbc41"
            ],
            [
             0.9,
             "#4d9221"
            ],
            [
             1,
             "#276419"
            ]
           ],
           "sequential": [
            [
             0,
             "#0d0887"
            ],
            [
             0.1111111111111111,
             "#46039f"
            ],
            [
             0.2222222222222222,
             "#7201a8"
            ],
            [
             0.3333333333333333,
             "#9c179e"
            ],
            [
             0.4444444444444444,
             "#bd3786"
            ],
            [
             0.5555555555555556,
             "#d8576b"
            ],
            [
             0.6666666666666666,
             "#ed7953"
            ],
            [
             0.7777777777777778,
             "#fb9f3a"
            ],
            [
             0.8888888888888888,
             "#fdca26"
            ],
            [
             1,
             "#f0f921"
            ]
           ],
           "sequentialminus": [
            [
             0,
             "#0d0887"
            ],
            [
             0.1111111111111111,
             "#46039f"
            ],
            [
             0.2222222222222222,
             "#7201a8"
            ],
            [
             0.3333333333333333,
             "#9c179e"
            ],
            [
             0.4444444444444444,
             "#bd3786"
            ],
            [
             0.5555555555555556,
             "#d8576b"
            ],
            [
             0.6666666666666666,
             "#ed7953"
            ],
            [
             0.7777777777777778,
             "#fb9f3a"
            ],
            [
             0.8888888888888888,
             "#fdca26"
            ],
            [
             1,
             "#f0f921"
            ]
           ]
          },
          "colorway": [
           "#636efa",
           "#EF553B",
           "#00cc96",
           "#ab63fa",
           "#FFA15A",
           "#19d3f3",
           "#FF6692",
           "#B6E880",
           "#FF97FF",
           "#FECB52"
          ],
          "font": {
           "color": "#2a3f5f"
          },
          "geo": {
           "bgcolor": "white",
           "lakecolor": "white",
           "landcolor": "#E5ECF6",
           "showlakes": true,
           "showland": true,
           "subunitcolor": "white"
          },
          "hoverlabel": {
           "align": "left"
          },
          "hovermode": "closest",
          "mapbox": {
           "style": "light"
          },
          "paper_bgcolor": "white",
          "plot_bgcolor": "#E5ECF6",
          "polar": {
           "angularaxis": {
            "gridcolor": "white",
            "linecolor": "white",
            "ticks": ""
           },
           "bgcolor": "#E5ECF6",
           "radialaxis": {
            "gridcolor": "white",
            "linecolor": "white",
            "ticks": ""
           }
          },
          "scene": {
           "xaxis": {
            "backgroundcolor": "#E5ECF6",
            "gridcolor": "white",
            "gridwidth": 2,
            "linecolor": "white",
            "showbackground": true,
            "ticks": "",
            "zerolinecolor": "white"
           },
           "yaxis": {
            "backgroundcolor": "#E5ECF6",
            "gridcolor": "white",
            "gridwidth": 2,
            "linecolor": "white",
            "showbackground": true,
            "ticks": "",
            "zerolinecolor": "white"
           },
           "zaxis": {
            "backgroundcolor": "#E5ECF6",
            "gridcolor": "white",
            "gridwidth": 2,
            "linecolor": "white",
            "showbackground": true,
            "ticks": "",
            "zerolinecolor": "white"
           }
          },
          "shapedefaults": {
           "line": {
            "color": "#2a3f5f"
           }
          },
          "ternary": {
           "aaxis": {
            "gridcolor": "white",
            "linecolor": "white",
            "ticks": ""
           },
           "baxis": {
            "gridcolor": "white",
            "linecolor": "white",
            "ticks": ""
           },
           "bgcolor": "#E5ECF6",
           "caxis": {
            "gridcolor": "white",
            "linecolor": "white",
            "ticks": ""
           }
          },
          "title": {
           "x": 0.05
          },
          "xaxis": {
           "automargin": true,
           "gridcolor": "white",
           "linecolor": "white",
           "ticks": "",
           "title": {
            "standoff": 15
           },
           "zerolinecolor": "white",
           "zerolinewidth": 2
          },
          "yaxis": {
           "automargin": true,
           "gridcolor": "white",
           "linecolor": "white",
           "ticks": "",
           "title": {
            "standoff": 15
           },
           "zerolinecolor": "white",
           "zerolinewidth": 2
          }
         }
        },
        "title": {
         "text": "Drone Geometry",
         "x": 0.5
        },
        "xaxis": {
         "autorange": true,
         "domain": [
          0,
          1
         ],
         "range": [
          -5.7562649486362005,
          5.7562649486362005
         ],
         "title": {
          "text": "y"
         },
         "type": "linear"
        },
        "yaxis": {
         "autorange": true,
         "domain": [
          0,
          1
         ],
         "range": [
          -0.13235776031580085,
          1.7362223853190344
         ],
         "scaleanchor": "x",
         "scaleratio": 1,
         "title": {
          "text": "x"
         },
         "type": "linear"
        }
       }
      },
      "image/png": "[encoded data removed]",
      "text/html": [
       "<div>                            <div id=\"a989584d-ffc2-4076-940e-de77a76092db\" class=\"plotly-graph-div\" style=\"height:525px; width:100%;\"></div>            <script type=\"text/javascript\">                require([\"plotly\"], function(Plotly) {                    window.PLOTLYENV=window.PLOTLYENV || {};                                    if (document.getElementById(\"a989584d-ffc2-4076-940e-de77a76092db\")) {                    Plotly.newPlot(                        \"a989584d-ffc2-4076-940e-de77a76092db\",                        [{\"mode\":\"lines+markers\",\"name\":\"Drone MDO\",\"x\":[-0.0,-0.16038646250032335,-0.16038646250032335,-0.03207729250006467,-0.0,-0.0,-0.0,-2.064444908956433,-2.064444908956433,-0.0,-0.0,-0.0,-0.0,-0.6513368457837299,-0.6513368457837299,-0.0,-0.0,0.0,0.16038646250032335,0.16038646250032335,0.03207729250006467,0.0,0.0,0.0,2.064444908956433,2.064444908956433,0.0,0.0,0.0,0.0,0.6513368457837299,0.6513368457837299,0.0,0.0],\"y\":[0.0,0.16038646250032335,0.9680310660708853,1.6038646250032336,1.6038646250032336,0.6770448139380527,0.6770448139380527,0.6770448139380527,0.9680310660708853,0.9680310660708853,0.9680310660708853,0.6770448139380527,1.375325380867549,1.375325380867549,1.581010700589665,1.6038646250032336,1.375325380867549,0.0,0.16038646250032335,0.9680310660708853,1.6038646250032336,1.6038646250032336,0.6770448139380527,0.6770448139380527,0.6770448139380527,0.9680310660708853,0.9680310660708853,0.9680310660708853,0.6770448139380527,1.375325380867549,1.375325380867549,1.581010700589665,1.6038646250032336,1.375325380867549],\"type\":\"scatter\",\"uid\":\"c14d8afa-1ec0-43d5-9807-b13fdec5b872\"}],                        {\"template\":{\"data\":{\"barpolar\":[{\"marker\":{\"line\":{\"color\":\"#E5ECF6\",\"width\":0.5},\"pattern\":{\"fillmode\":\"overlay\",\"size\":10,\"solidity\":0.2}},\"type\":\"barpolar\"}],\"bar\":[{\"error_x\":{\"color\":\"#2a3f5f\"},\"error_y\":{\"color\":\"#2a3f5f\"},\"marker\":{\"line\":{\"color\":\"#E5ECF6\",\"width\":0.5},\"pattern\":{\"fillmode\":\"overlay\",\"size\":10,\"solidity\":0.2}},\"type\":\"bar\"}],\"carpet\":[{\"aaxis\":{\"endlinecolor\":\"#2a3f5f\",\"gridcolor\":\"white\",\"linecolor\":\"white\",\"minorgridcolor\":\"white\",\"startlinecolor\":\"#2a3f5f\"},\"baxis\":{\"endlinecolor\":\"#2a3f5f\",\"gridcolor\":\"white\",\"linecolor\":\"white\",\"minorgridcolor\":\"white\",\"startlinecolor\":\"#2a3f5f\"},\"type\":\"carpet\"}],\"choropleth\":[{\"colorbar\":{\"outlinewidth\":0,\"ticks\":\"\"},\"type\":\"choropleth\"}],\"contourcarpet\":[{\"colorbar\":{\"outlinewidth\":0,\"ticks\":\"\"},\"type\":\"contourcarpet\"}],\"contour\":[{\"colorbar\":{\"outlinewidth\":0,\"ticks\":\"\"},\"colorscale\":[[0.0,\"#0d0887\"],[0.1111111111111111,\"#46039f\"],[0.2222222222222222,\"#7201a8\"],[0.3333333333333333,\"#9c179e\"],[0.4444444444444444,\"#bd3786\"],[0.5555555555555556,\"#d8576b\"],[0.6666666666666666,\"#ed7953\"],[0.7777777777777778,\"#fb9f3a\"],[0.8888888888888888,\"#fdca26\"],[1.0,\"#f0f921\"]],\"type\":\"contour\"}],\"heatmapgl\":[{\"colorbar\":{\"outlinewidth\":0,\"ticks\":\"\"},\"colorscale\":[[0.0,\"#0d0887\"],[0.1111111111111111,\"#46039f\"],[0.2222222222222222,\"#7201a8\"],[0.3333333333333333,\"#9c179e\"],[0.4444444444444444,\"#bd3786\"],[0.5555555555555556,\"#d8576b\"],[0.6666666666666666,\"#ed7953\"],[0.7777777777777778,\"#fb9f3a\"],[0.8888888888888888,\"#fdca26\"],[1.0,\"#f0f921\"]],\"type\":\"heatmapgl\"}],\"heatmap\":[{\"colorbar\":{\"outlinewidth\":0,\"ticks\":\"\"},\"colorscale\":[[0.0,\"#0d0887\"],[0.1111111111111111,\"#46039f\"],[0.2222222222222222,\"#7201a8\"],[0.3333333333333333,\"#9c179e\"],[0.4444444444444444,\"#bd3786\"],[0.5555555555555556,\"#d8576b\"],[0.6666666666666666,\"#ed7953\"],[0.7777777777777778,\"#fb9f3a\"],[0.8888888888888888,\"#fdca26\"],[1.0,\"#f0f921\"]],\"type\":\"heatmap\"}],\"histogram2dcontour\":[{\"colorbar\":{\"outlinewidth\":0,\"ticks\":\"\"},\"colorscale\":[[0.0,\"#0d0887\"],[0.1111111111111111,\"#46039f\"],[0.2222222222222222,\"#7201a8\"],[0.3333333333333333,\"#9c179e\"],[0.4444444444444444,\"#bd3786\"],[0.5555555555555556,\"#d8576b\"],[0.6666666666666666,\"#ed7953\"],[0.7777777777777778,\"#fb9f3a\"],[0.8888888888888888,\"#fdca26\"],[1.0,\"#f0f921\"]],\"type\":\"histogram2dcontour\"}],\"histogram2d\":[{\"colorbar\":{\"outlinewidth\":0,\"ticks\":\"\"},\"colorscale\":[[0.0,\"#0d0887\"],[0.1111111111111111,\"#46039f\"],[0.2222222222222222,\"#7201a8\"],[0.3333333333333333,\"#9c179e\"],[0.4444444444444444,\"#bd3786\"],[0.5555555555555556,\"#d8576b\"],[0.6666666666666666,\"#ed7953\"],[0.7777777777777778,\"#fb9f3a\"],[0.8888888888888888,\"#fdca26\"],[1.0,\"#f0f921\"]],\"type\":\"histogram2d\"}],\"histogram\":[{\"marker\":{\"pattern\":{\"fillmode\":\"overlay\",\"size\":10,\"solidity\":0.2}},\"type\":\"histogram\"}],\"mesh3d\":[{\"colorbar\":{\"outlinewidth\":0,\"ticks\":\"\"},\"type\":\"mesh3d\"}],\"parcoords\":[{\"line\":{\"colorbar\":{\"outlinewidth\":0,\"ticks\":\"\"}},\"type\":\"parcoords\"}],\"pie\":[{\"automargin\":true,\"type\":\"pie\"}],\"scatter3d\":[{\"line\":{\"colorbar\":{\"outlinewidth\":0,\"ticks\":\"\"}},\"marker\":{\"colorbar\":{\"outlinewidth\":0,\"ticks\":\"\"}},\"type\":\"scatter3d\"}],\"scattercarpet\":[{\"marker\":{\"colorbar\":{\"outlinewidth\":0,\"ticks\":\"\"}},\"type\":\"scattercarpet\"}],\"scattergeo\":[{\"marker\":{\"colorbar\":{\"outlinewidth\":0,\"ticks\":\"\"}},\"type\":\"scattergeo\"}],\"scattergl\":[{\"marker\":{\"colorbar\":{\"outlinewidth\":0,\"ticks\":\"\"}},\"type\":\"scattergl\"}],\"scattermapbox\":[{\"marker\":{\"colorbar\":{\"outlinewidth\":0,\"ticks\":\"\"}},\"type\":\"scattermapbox\"}],\"scatterpolargl\":[{\"marker\":{\"colorbar\":{\"outlinewidth\":0,\"ticks\":\"\"}},\"type\":\"scatterpolargl\"}],\"scatterpolar\":[{\"marker\":{\"colorbar\":{\"outlinewidth\":0,\"ticks\":\"\"}},\"type\":\"scatterpolar\"}],\"scatter\":[{\"fillpattern\":{\"fillmode\":\"overlay\",\"size\":10,\"solidity\":0.2},\"type\":\"scatter\"}],\"scatterternary\":[{\"marker\":{\"colorbar\":{\"outlinewidth\":0,\"ticks\":\"\"}},\"type\":\"scatterternary\"}],\"surface\":[{\"colorbar\":{\"outlinewidth\":0,\"ticks\":\"\"},\"colorscale\":[[0.0,\"#0d0887\"],[0.1111111111111111,\"#46039f\"],[0.2222222222222222,\"#7201a8\"],[0.3333333333333333,\"#9c179e\"],[0.4444444444444444,\"#bd3786\"],[0.5555555555555556,\"#d8576b\"],[0.6666666666666666,\"#ed7953\"],[0.7777777777777778,\"#fb9f3a\"],[0.8888888888888888,\"#fdca26\"],[1.0,\"#f0f921\"]],\"type\":\"surface\"}],\"table\":[{\"cells\":{\"fill\":{\"color\":\"#EBF0F8\"},\"line\":{\"color\":\"white\"}},\"header\":{\"fill\":{\"color\":\"#C8D4E3\"},\"line\":{\"color\":\"white\"}},\"type\":\"table\"}]},\"layout\":{\"annotationdefaults\":{\"arrowcolor\":\"#2a3f5f\",\"arrowhead\":0,\"arrowwidth\":1},\"autotypenumbers\":\"strict\",\"coloraxis\":{\"colorbar\":{\"outlinewidth\":0,\"ticks\":\"\"}},\"colorscale\":{\"diverging\":[[0,\"#8e0152\"],[0.1,\"#c51b7d\"],[0.2,\"#de77ae\"],[0.3,\"#f1b6da\"],[0.4,\"#fde0ef\"],[0.5,\"#f7f7f7\"],[0.6,\"#e6f5d0\"],[0.7,\"#b8e186\"],[0.8,\"#7fbc41\"],[0.9,\"#4d9221\"],[1,\"#276419\"]],\"sequential\":[[0.0,\"#0d0887\"],[0.1111111111111111,\"#46039f\"],[0.2222222222222222,\"#7201a8\"],[0.3333333333333333,\"#9c179e\"],[0.4444444444444444,\"#bd3786\"],[0.5555555555555556,\"#d8576b\"],[0.6666666666666666,\"#ed7953\"],[0.7777777777777778,\"#fb9f3a\"],[0.8888888888888888,\"#fdca26\"],[1.0,\"#f0f921\"]],\"sequentialminus\":[[0.0,\"#0d0887\"],[0.1111111111111111,\"#46039f\"],[0.2222222222222222,\"#7201a8\"],[0.3333333333333333,\"#9c179e\"],[0.4444444444444444,\"#bd3786\"],[0.5555555555555556,\"#d8576b\"],[0.6666666666666666,\"#ed7953\"],[0.7777777777777778,\"#fb9f3a\"],[0.8888888888888888,\"#fdca26\"],[1.0,\"#f0f921\"]]},\"colorway\":[\"#636efa\",\"#EF553B\",\"#00cc96\",\"#ab63fa\",\"#FFA15A\",\"#19d3f3\",\"#FF6692\",\"#B6E880\",\"#FF97FF\",\"#FECB52\"],\"font\":{\"color\":\"#2a3f5f\"},\"geo\":{\"bgcolor\":\"white\",\"lakecolor\":\"white\",\"landcolor\":\"#E5ECF6\",\"showlakes\":true,\"showland\":true,\"subunitcolor\":\"white\"},\"hoverlabel\":{\"align\":\"left\"},\"hovermode\":\"closest\",\"mapbox\":{\"style\":\"light\"},\"paper_bgcolor\":\"white\",\"plot_bgcolor\":\"#E5ECF6\",\"polar\":{\"angularaxis\":{\"gridcolor\":\"white\",\"linecolor\":\"white\",\"ticks\":\"\"},\"bgcolor\":\"#E5ECF6\",\"radialaxis\":{\"gridcolor\":\"white\",\"linecolor\":\"white\",\"ticks\":\"\"}},\"scene\":{\"xaxis\":{\"backgroundcolor\":\"#E5ECF6\",\"gridcolor\":\"white\",\"gridwidth\":2,\"linecolor\":\"white\",\"showbackground\":true,\"ticks\":\"\",\"zerolinecolor\":\"white\"},\"yaxis\":{\"backgroundcolor\":\"#E5ECF6\",\"gridcolor\":\"white\",\"gridwidth\":2,\"linecolor\":\"white\",\"showbackground\":true,\"ticks\":\"\",\"zerolinecolor\":\"white\"},\"zaxis\":{\"backgroundcolor\":\"#E5ECF6\",\"gridcolor\":\"white\",\"gridwidth\":2,\"linecolor\":\"white\",\"showbackground\":true,\"ticks\":\"\",\"zerolinecolor\":\"white\"}},\"shapedefaults\":{\"line\":{\"color\":\"#2a3f5f\"}},\"ternary\":{\"aaxis\":{\"gridcolor\":\"white\",\"linecolor\":\"white\",\"ticks\":\"\"},\"baxis\":{\"gridcolor\":\"white\",\"linecolor\":\"white\",\"ticks\":\"\"},\"bgcolor\":\"#E5ECF6\",\"caxis\":{\"gridcolor\":\"white\",\"linecolor\":\"white\",\"ticks\":\"\"}},\"title\":{\"x\":0.05},\"xaxis\":{\"automargin\":true,\"gridcolor\":\"white\",\"linecolor\":\"white\",\"ticks\":\"\",\"title\":{\"standoff\":15},\"zerolinecolor\":\"white\",\"zerolinewidth\":2},\"yaxis\":{\"automargin\":true,\"gridcolor\":\"white\",\"linecolor\":\"white\",\"ticks\":\"\",\"title\":{\"standoff\":15},\"zerolinecolor\":\"white\",\"zerolinewidth\":2}}},\"yaxis\":{\"scaleanchor\":\"x\",\"scaleratio\":1,\"title\":{\"text\":\"x\"}},\"title\":{\"text\":\"Drone Geometry\",\"x\":0.5},\"xaxis\":{\"title\":{\"text\":\"y\"}}},                        {\"responsive\": true}                    ).then(function(){\n",
       "                            \n",
       "var gd = document.getElementById('a989584d-ffc2-4076-940e-de77a76092db');\n",
       "var x = new MutationObserver(function (mutations, observer) {{\n",
       "        var display = window.getComputedStyle(gd).display;\n",
       "        if (!display || display === 'none') {{\n",
       "            console.log([gd, 'removed!']);\n",
       "            Plotly.purge(gd);\n",
       "            observer.disconnect();\n",
       "        }}\n",
       "}});\n",
       "\n",
       "// Listen for the removal of the full notebook cells\n",
       "var notebookContainer = gd.closest('#notebook-container');\n",
       "if (notebookContainer) {{\n",
       "    x.observe(notebookContainer, {childList: true});\n",
       "}}\n",
       "\n",
       "// Listen for the clearing of the current output cell\n",
       "var outputEl = gd.closest('.output');\n",
       "if (outputEl) {{\n",
       "    x.observe(outputEl, {childList: true});\n",
       "}}\n",
       "\n",
       "                        })                };                });            </script>        </div>"
      ]
     },
     "metadata": {},
     "output_type": "display_data"
    }
   ],
   "source": [
    "fig = fixedwing_geometry_plot(OUTPUT_FILE, name=\"Drone MDO\")\n",
    "fig.show()"
   ]
  },
  {
   "cell_type": "code",
   "execution_count": 72,
   "metadata": {
    "tags": []
   },
   "outputs": [
    {
     "data": {
      "application/vnd.plotly.v1+json": {
       "config": {
        "plotlyServerURL": "https://plot.ly"
       },
       "data": [
        {
         "branchvalues": "total",
         "labels": [
          "MTOW<br>15.00 [kg]",
          "Payload<br>3.00 [kg] (20.0%)",
          "Fuel mission<br>0.00 [kg] (0.0%)",
          "Propulsion<br>5.44 [kg] (36.3%)",
          "Airframe<br>6.56 [kg] (43.7%)",
          "multirotor<br>2.06 [kg] (37.8%)",
          "Propellers<br>0.30 [kg] (14.7%)",
          "Motors<br>1.09 [kg] (52.9%)",
          "Gearboxes<br>0.00 [kg] (0.0%)",
          "esc<br>0.13 [kg] (6.2%)",
          "Battery<br>0.54 [kg] (26.2%)",
          "Wires<br>0.00 [kg] (0.0%)",
          "fixedwing<br>3.38 [kg] (62.2%)",
          "Propellers<br>0.22 [kg] (6.5%)",
          "Motors<br>1.16 [kg] (34.3%)",
          "Gearboxes<br>0.00 [kg] (0.0%)",
          "esc<br>0.04 [kg] (1.1%)",
          "Battery<br>1.96 [kg] (57.8%)",
          "Wires<br>0.01 [kg] (0.3%)",
          "Body<br>0.00 [kg] (0.0%)",
          "Arms<br>0.10 [kg] (1.5%)",
          "Wing<br>1.58 [kg] (24.1%)",
          "Fuselage<br>2.73 [kg] (41.6%)",
          "HTP<br>1.13 [kg] (17.2%)",
          "VTP<br>1.02 [kg] (15.6%)"
         ],
         "parents": [
          "",
          "MTOW<br>15.00 [kg]",
          "MTOW<br>15.00 [kg]",
          "MTOW<br>15.00 [kg]",
          "MTOW<br>15.00 [kg]",
          "Propulsion<br>5.44 [kg] (36.3%)",
          "multirotor<br>2.06 [kg] (37.8%)",
          "multirotor<br>2.06 [kg] (37.8%)",
          "multirotor<br>2.06 [kg] (37.8%)",
          "multirotor<br>2.06 [kg] (37.8%)",
          "multirotor<br>2.06 [kg] (37.8%)",
          "multirotor<br>2.06 [kg] (37.8%)",
          "Propulsion<br>5.44 [kg] (36.3%)",
          "fixedwing<br>3.38 [kg] (62.2%)",
          "fixedwing<br>3.38 [kg] (62.2%)",
          "fixedwing<br>3.38 [kg] (62.2%)",
          "fixedwing<br>3.38 [kg] (62.2%)",
          "fixedwing<br>3.38 [kg] (62.2%)",
          "fixedwing<br>3.38 [kg] (62.2%)",
          "Airframe<br>6.56 [kg] (43.7%)",
          "Airframe<br>6.56 [kg] (43.7%)",
          "Airframe<br>6.56 [kg] (43.7%)",
          "Airframe<br>6.56 [kg] (43.7%)",
          "Airframe<br>6.56 [kg] (43.7%)",
          "Airframe<br>6.56 [kg] (43.7%)"
         ],
         "type": "sunburst",
         "values": [
          14.99999999995272,
          3,
          0,
          5.441316262231068,
          6.558683737721654,
          2.056387103254729,
          0.30330651267848946,
          1.087515793942434,
          0,
          0.1269115989502466,
          0.5383998748255029,
          0.00025332285805599393,
          3.384929158976339,
          0.22050210623668368,
          1.161025816270379,
          0,
          0.03609675575566692,
          1.9575266294247073,
          0.009777851288901539,
          0,
          0.10022489661869222,
          1.5792221048189572,
          2.7264124828722567,
          1.1313058311398227,
          1.0215184222719247
         ]
        }
       ],
       "layout": {
        "autosize": true,
        "margin": {
         "b": 0,
         "l": 0,
         "r": 0,
         "t": 80
        },
        "template": {
         "data": {
          "bar": [
           {
            "error_x": {
             "color": "#2a3f5f"
            },
            "error_y": {
             "color": "#2a3f5f"
            },
            "marker": {
             "line": {
              "color": "#E5ECF6",
              "width": 0.5
             },
             "pattern": {
              "fillmode": "overlay",
              "size": 10,
              "solidity": 0.2
             }
            },
            "type": "bar"
           }
          ],
          "barpolar": [
           {
            "marker": {
             "line": {
              "color": "#E5ECF6",
              "width": 0.5
             },
             "pattern": {
              "fillmode": "overlay",
              "size": 10,
              "solidity": 0.2
             }
            },
            "type": "barpolar"
           }
          ],
          "carpet": [
           {
            "aaxis": {
             "endlinecolor": "#2a3f5f",
             "gridcolor": "white",
             "linecolor": "white",
             "minorgridcolor": "white",
             "startlinecolor": "#2a3f5f"
            },
            "baxis": {
             "endlinecolor": "#2a3f5f",
             "gridcolor": "white",
             "linecolor": "white",
             "minorgridcolor": "white",
             "startlinecolor": "#2a3f5f"
            },
            "type": "carpet"
           }
          ],
          "choropleth": [
           {
            "colorbar": {
             "outlinewidth": 0,
             "ticks": ""
            },
            "type": "choropleth"
           }
          ],
          "contour": [
           {
            "colorbar": {
             "outlinewidth": 0,
             "ticks": ""
            },
            "colorscale": [
             [
              0,
              "#0d0887"
             ],
             [
              0.1111111111111111,
              "#46039f"
             ],
             [
              0.2222222222222222,
              "#7201a8"
             ],
             [
              0.3333333333333333,
              "#9c179e"
             ],
             [
              0.4444444444444444,
              "#bd3786"
             ],
             [
              0.5555555555555556,
              "#d8576b"
             ],
             [
              0.6666666666666666,
              "#ed7953"
             ],
             [
              0.7777777777777778,
              "#fb9f3a"
             ],
             [
              0.8888888888888888,
              "#fdca26"
             ],
             [
              1,
              "#f0f921"
             ]
            ],
            "type": "contour"
           }
          ],
          "contourcarpet": [
           {
            "colorbar": {
             "outlinewidth": 0,
             "ticks": ""
            },
            "type": "contourcarpet"
           }
          ],
          "heatmap": [
           {
            "colorbar": {
             "outlinewidth": 0,
             "ticks": ""
            },
            "colorscale": [
             [
              0,
              "#0d0887"
             ],
             [
              0.1111111111111111,
              "#46039f"
             ],
             [
              0.2222222222222222,
              "#7201a8"
             ],
             [
              0.3333333333333333,
              "#9c179e"
             ],
             [
              0.4444444444444444,
              "#bd3786"
             ],
             [
              0.5555555555555556,
              "#d8576b"
             ],
             [
              0.6666666666666666,
              "#ed7953"
             ],
             [
              0.7777777777777778,
              "#fb9f3a"
             ],
             [
              0.8888888888888888,
              "#fdca26"
             ],
             [
              1,
              "#f0f921"
             ]
            ],
            "type": "heatmap"
           }
          ],
          "heatmapgl": [
           {
            "colorbar": {
             "outlinewidth": 0,
             "ticks": ""
            },
            "colorscale": [
             [
              0,
              "#0d0887"
             ],
             [
              0.1111111111111111,
              "#46039f"
             ],
             [
              0.2222222222222222,
              "#7201a8"
             ],
             [
              0.3333333333333333,
              "#9c179e"
             ],
             [
              0.4444444444444444,
              "#bd3786"
             ],
             [
              0.5555555555555556,
              "#d8576b"
             ],
             [
              0.6666666666666666,
              "#ed7953"
             ],
             [
              0.7777777777777778,
              "#fb9f3a"
             ],
             [
              0.8888888888888888,
              "#fdca26"
             ],
             [
              1,
              "#f0f921"
             ]
            ],
            "type": "heatmapgl"
           }
          ],
          "histogram": [
           {
            "marker": {
             "pattern": {
              "fillmode": "overlay",
              "size": 10,
              "solidity": 0.2
             }
            },
            "type": "histogram"
           }
          ],
          "histogram2d": [
           {
            "colorbar": {
             "outlinewidth": 0,
             "ticks": ""
            },
            "colorscale": [
             [
              0,
              "#0d0887"
             ],
             [
              0.1111111111111111,
              "#46039f"
             ],
             [
              0.2222222222222222,
              "#7201a8"
             ],
             [
              0.3333333333333333,
              "#9c179e"
             ],
             [
              0.4444444444444444,
              "#bd3786"
             ],
             [
              0.5555555555555556,
              "#d8576b"
             ],
             [
              0.6666666666666666,
              "#ed7953"
             ],
             [
              0.7777777777777778,
              "#fb9f3a"
             ],
             [
              0.8888888888888888,
              "#fdca26"
             ],
             [
              1,
              "#f0f921"
             ]
            ],
            "type": "histogram2d"
           }
          ],
          "histogram2dcontour": [
           {
            "colorbar": {
             "outlinewidth": 0,
             "ticks": ""
            },
            "colorscale": [
             [
              0,
              "#0d0887"
             ],
             [
              0.1111111111111111,
              "#46039f"
             ],
             [
              0.2222222222222222,
              "#7201a8"
             ],
             [
              0.3333333333333333,
              "#9c179e"
             ],
             [
              0.4444444444444444,
              "#bd3786"
             ],
             [
              0.5555555555555556,
              "#d8576b"
             ],
             [
              0.6666666666666666,
              "#ed7953"
             ],
             [
              0.7777777777777778,
              "#fb9f3a"
             ],
             [
              0.8888888888888888,
              "#fdca26"
             ],
             [
              1,
              "#f0f921"
             ]
            ],
            "type": "histogram2dcontour"
           }
          ],
          "mesh3d": [
           {
            "colorbar": {
             "outlinewidth": 0,
             "ticks": ""
            },
            "type": "mesh3d"
           }
          ],
          "parcoords": [
           {
            "line": {
             "colorbar": {
              "outlinewidth": 0,
              "ticks": ""
             }
            },
            "type": "parcoords"
           }
          ],
          "pie": [
           {
            "automargin": true,
            "type": "pie"
           }
          ],
          "scatter": [
           {
            "fillpattern": {
             "fillmode": "overlay",
             "size": 10,
             "solidity": 0.2
            },
            "type": "scatter"
           }
          ],
          "scatter3d": [
           {
            "line": {
             "colorbar": {
              "outlinewidth": 0,
              "ticks": ""
             }
            },
            "marker": {
             "colorbar": {
              "outlinewidth": 0,
              "ticks": ""
             }
            },
            "type": "scatter3d"
           }
          ],
          "scattercarpet": [
           {
            "marker": {
             "colorbar": {
              "outlinewidth": 0,
              "ticks": ""
             }
            },
            "type": "scattercarpet"
           }
          ],
          "scattergeo": [
           {
            "marker": {
             "colorbar": {
              "outlinewidth": 0,
              "ticks": ""
             }
            },
            "type": "scattergeo"
           }
          ],
          "scattergl": [
           {
            "marker": {
             "colorbar": {
              "outlinewidth": 0,
              "ticks": ""
             }
            },
            "type": "scattergl"
           }
          ],
          "scattermapbox": [
           {
            "marker": {
             "colorbar": {
              "outlinewidth": 0,
              "ticks": ""
             }
            },
            "type": "scattermapbox"
           }
          ],
          "scatterpolar": [
           {
            "marker": {
             "colorbar": {
              "outlinewidth": 0,
              "ticks": ""
             }
            },
            "type": "scatterpolar"
           }
          ],
          "scatterpolargl": [
           {
            "marker": {
             "colorbar": {
              "outlinewidth": 0,
              "ticks": ""
             }
            },
            "type": "scatterpolargl"
           }
          ],
          "scatterternary": [
           {
            "marker": {
             "colorbar": {
              "outlinewidth": 0,
              "ticks": ""
             }
            },
            "type": "scatterternary"
           }
          ],
          "surface": [
           {
            "colorbar": {
             "outlinewidth": 0,
             "ticks": ""
            },
            "colorscale": [
             [
              0,
              "#0d0887"
             ],
             [
              0.1111111111111111,
              "#46039f"
             ],
             [
              0.2222222222222222,
              "#7201a8"
             ],
             [
              0.3333333333333333,
              "#9c179e"
             ],
             [
              0.4444444444444444,
              "#bd3786"
             ],
             [
              0.5555555555555556,
              "#d8576b"
             ],
             [
              0.6666666666666666,
              "#ed7953"
             ],
             [
              0.7777777777777778,
              "#fb9f3a"
             ],
             [
              0.8888888888888888,
              "#fdca26"
             ],
             [
              1,
              "#f0f921"
             ]
            ],
            "type": "surface"
           }
          ],
          "table": [
           {
            "cells": {
             "fill": {
              "color": "#EBF0F8"
             },
             "line": {
              "color": "white"
             }
            },
            "header": {
             "fill": {
              "color": "#C8D4E3"
             },
             "line": {
              "color": "white"
             }
            },
            "type": "table"
           }
          ]
         },
         "layout": {
          "annotationdefaults": {
           "arrowcolor": "#2a3f5f",
           "arrowhead": 0,
           "arrowwidth": 1
          },
          "autotypenumbers": "strict",
          "coloraxis": {
           "colorbar": {
            "outlinewidth": 0,
            "ticks": ""
           }
          },
          "colorscale": {
           "diverging": [
            [
             0,
             "#8e0152"
            ],
            [
             0.1,
             "#c51b7d"
            ],
            [
             0.2,
             "#de77ae"
            ],
            [
             0.3,
             "#f1b6da"
            ],
            [
             0.4,
             "#fde0ef"
            ],
            [
             0.5,
             "#f7f7f7"
            ],
            [
             0.6,
             "#e6f5d0"
            ],
            [
             0.7,
             "#b8e186"
            ],
            [
             0.8,
             "#7fbc41"
            ],
            [
             0.9,
             "#4d9221"
            ],
            [
             1,
             "#276419"
            ]
           ],
           "sequential": [
            [
             0,
             "#0d0887"
            ],
            [
             0.1111111111111111,
             "#46039f"
            ],
            [
             0.2222222222222222,
             "#7201a8"
            ],
            [
             0.3333333333333333,
             "#9c179e"
            ],
            [
             0.4444444444444444,
             "#bd3786"
            ],
            [
             0.5555555555555556,
             "#d8576b"
            ],
            [
             0.6666666666666666,
             "#ed7953"
            ],
            [
             0.7777777777777778,
             "#fb9f3a"
            ],
            [
             0.8888888888888888,
             "#fdca26"
            ],
            [
             1,
             "#f0f921"
            ]
           ],
           "sequentialminus": [
            [
             0,
             "#0d0887"
            ],
            [
             0.1111111111111111,
             "#46039f"
            ],
            [
             0.2222222222222222,
             "#7201a8"
            ],
            [
             0.3333333333333333,
             "#9c179e"
            ],
            [
             0.4444444444444444,
             "#bd3786"
            ],
            [
             0.5555555555555556,
             "#d8576b"
            ],
            [
             0.6666666666666666,
             "#ed7953"
            ],
            [
             0.7777777777777778,
             "#fb9f3a"
            ],
            [
             0.8888888888888888,
             "#fdca26"
            ],
            [
             1,
             "#f0f921"
            ]
           ]
          },
          "colorway": [
           "#636efa",
           "#EF553B",
           "#00cc96",
           "#ab63fa",
           "#FFA15A",
           "#19d3f3",
           "#FF6692",
           "#B6E880",
           "#FF97FF",
           "#FECB52"
          ],
          "font": {
           "color": "#2a3f5f"
          },
          "geo": {
           "bgcolor": "white",
           "lakecolor": "white",
           "landcolor": "#E5ECF6",
           "showlakes": true,
           "showland": true,
           "subunitcolor": "white"
          },
          "hoverlabel": {
           "align": "left"
          },
          "hovermode": "closest",
          "mapbox": {
           "style": "light"
          },
          "paper_bgcolor": "white",
          "plot_bgcolor": "#E5ECF6",
          "polar": {
           "angularaxis": {
            "gridcolor": "white",
            "linecolor": "white",
            "ticks": ""
           },
           "bgcolor": "#E5ECF6",
           "radialaxis": {
            "gridcolor": "white",
            "linecolor": "white",
            "ticks": ""
           }
          },
          "scene": {
           "xaxis": {
            "backgroundcolor": "#E5ECF6",
            "gridcolor": "white",
            "gridwidth": 2,
            "linecolor": "white",
            "showbackground": true,
            "ticks": "",
            "zerolinecolor": "white"
           },
           "yaxis": {
            "backgroundcolor": "#E5ECF6",
            "gridcolor": "white",
            "gridwidth": 2,
            "linecolor": "white",
            "showbackground": true,
            "ticks": "",
            "zerolinecolor": "white"
           },
           "zaxis": {
            "backgroundcolor": "#E5ECF6",
            "gridcolor": "white",
            "gridwidth": 2,
            "linecolor": "white",
            "showbackground": true,
            "ticks": "",
            "zerolinecolor": "white"
           }
          },
          "shapedefaults": {
           "line": {
            "color": "#2a3f5f"
           }
          },
          "ternary": {
           "aaxis": {
            "gridcolor": "white",
            "linecolor": "white",
            "ticks": ""
           },
           "baxis": {
            "gridcolor": "white",
            "linecolor": "white",
            "ticks": ""
           },
           "bgcolor": "#E5ECF6",
           "caxis": {
            "gridcolor": "white",
            "linecolor": "white",
            "ticks": ""
           }
          },
          "title": {
           "x": 0.05
          },
          "xaxis": {
           "automargin": true,
           "gridcolor": "white",
           "linecolor": "white",
           "ticks": "",
           "title": {
            "standoff": 15
           },
           "zerolinecolor": "white",
           "zerolinewidth": 2
          },
          "yaxis": {
           "automargin": true,
           "gridcolor": "white",
           "linecolor": "white",
           "ticks": "",
           "title": {
            "standoff": 15
           },
           "zerolinecolor": "white",
           "zerolinewidth": 2
          }
         }
        },
        "title": {
         "text": "Mass Breakdown",
         "x": 0.5
        }
       }
      },
      "image/png": "[encoded data removed]",
      "text/html": [
       "<div>                            <div id=\"4abf24d3-2d88-4f47-9ee6-c4bf3bb1e5f5\" class=\"plotly-graph-div\" style=\"height:525px; width:100%;\"></div>            <script type=\"text/javascript\">                require([\"plotly\"], function(Plotly) {                    window.PLOTLYENV=window.PLOTLYENV || {};                                    if (document.getElementById(\"4abf24d3-2d88-4f47-9ee6-c4bf3bb1e5f5\")) {                    Plotly.newPlot(                        \"4abf24d3-2d88-4f47-9ee6-c4bf3bb1e5f5\",                        [{\"branchvalues\":\"total\",\"labels\":[\"MTOW<br>15.00 [kg]\",\"Payload<br>3.00 [kg] (20.0%)\",\"Fuel mission<br>0.00 [kg] (0.0%)\",\"Propulsion<br>5.44 [kg] (36.3%)\",\"Airframe<br>6.56 [kg] (43.7%)\",\"multirotor<br>2.06 [kg] (37.8%)\",\"Propellers<br>0.30 [kg] (14.7%)\",\"Motors<br>1.09 [kg] (52.9%)\",\"Gearboxes<br>0.00 [kg] (0.0%)\",\"esc<br>0.13 [kg] (6.2%)\",\"Battery<br>0.54 [kg] (26.2%)\",\"Wires<br>0.00 [kg] (0.0%)\",\"fixedwing<br>3.38 [kg] (62.2%)\",\"Propellers<br>0.22 [kg] (6.5%)\",\"Motors<br>1.16 [kg] (34.3%)\",\"Gearboxes<br>0.00 [kg] (0.0%)\",\"esc<br>0.04 [kg] (1.1%)\",\"Battery<br>1.96 [kg] (57.8%)\",\"Wires<br>0.01 [kg] (0.3%)\",\"Body<br>0.00 [kg] (0.0%)\",\"Arms<br>0.10 [kg] (1.5%)\",\"Wing<br>1.58 [kg] (24.1%)\",\"Fuselage<br>2.73 [kg] (41.6%)\",\"HTP<br>1.13 [kg] (17.2%)\",\"VTP<br>1.02 [kg] (15.6%)\"],\"parents\":[\"\",\"MTOW<br>15.00 [kg]\",\"MTOW<br>15.00 [kg]\",\"MTOW<br>15.00 [kg]\",\"MTOW<br>15.00 [kg]\",\"Propulsion<br>5.44 [kg] (36.3%)\",\"multirotor<br>2.06 [kg] (37.8%)\",\"multirotor<br>2.06 [kg] (37.8%)\",\"multirotor<br>2.06 [kg] (37.8%)\",\"multirotor<br>2.06 [kg] (37.8%)\",\"multirotor<br>2.06 [kg] (37.8%)\",\"multirotor<br>2.06 [kg] (37.8%)\",\"Propulsion<br>5.44 [kg] (36.3%)\",\"fixedwing<br>3.38 [kg] (62.2%)\",\"fixedwing<br>3.38 [kg] (62.2%)\",\"fixedwing<br>3.38 [kg] (62.2%)\",\"fixedwing<br>3.38 [kg] (62.2%)\",\"fixedwing<br>3.38 [kg] (62.2%)\",\"fixedwing<br>3.38 [kg] (62.2%)\",\"Airframe<br>6.56 [kg] (43.7%)\",\"Airframe<br>6.56 [kg] (43.7%)\",\"Airframe<br>6.56 [kg] (43.7%)\",\"Airframe<br>6.56 [kg] (43.7%)\",\"Airframe<br>6.56 [kg] (43.7%)\",\"Airframe<br>6.56 [kg] (43.7%)\"],\"values\":[14.99999999995272,3.0,0,5.441316262231068,6.558683737721654,2.056387103254729,0.30330651267848946,1.087515793942434,0.0,0.1269115989502466,0.5383998748255029,0.00025332285805599393,3.384929158976339,0.22050210623668368,1.161025816270379,0.0,0.03609675575566692,1.9575266294247073,0.009777851288901539,0.0,0.10022489661869222,1.5792221048189572,2.7264124828722567,1.1313058311398227,1.0215184222719247],\"type\":\"sunburst\"}],                        {\"template\":{\"data\":{\"histogram2dcontour\":[{\"type\":\"histogram2dcontour\",\"colorbar\":{\"outlinewidth\":0,\"ticks\":\"\"},\"colorscale\":[[0.0,\"#0d0887\"],[0.1111111111111111,\"#46039f\"],[0.2222222222222222,\"#7201a8\"],[0.3333333333333333,\"#9c179e\"],[0.4444444444444444,\"#bd3786\"],[0.5555555555555556,\"#d8576b\"],[0.6666666666666666,\"#ed7953\"],[0.7777777777777778,\"#fb9f3a\"],[0.8888888888888888,\"#fdca26\"],[1.0,\"#f0f921\"]]}],\"choropleth\":[{\"type\":\"choropleth\",\"colorbar\":{\"outlinewidth\":0,\"ticks\":\"\"}}],\"histogram2d\":[{\"type\":\"histogram2d\",\"colorbar\":{\"outlinewidth\":0,\"ticks\":\"\"},\"colorscale\":[[0.0,\"#0d0887\"],[0.1111111111111111,\"#46039f\"],[0.2222222222222222,\"#7201a8\"],[0.3333333333333333,\"#9c179e\"],[0.4444444444444444,\"#bd3786\"],[0.5555555555555556,\"#d8576b\"],[0.6666666666666666,\"#ed7953\"],[0.7777777777777778,\"#fb9f3a\"],[0.8888888888888888,\"#fdca26\"],[1.0,\"#f0f921\"]]}],\"heatmap\":[{\"type\":\"heatmap\",\"colorbar\":{\"outlinewidth\":0,\"ticks\":\"\"},\"colorscale\":[[0.0,\"#0d0887\"],[0.1111111111111111,\"#46039f\"],[0.2222222222222222,\"#7201a8\"],[0.3333333333333333,\"#9c179e\"],[0.4444444444444444,\"#bd3786\"],[0.5555555555555556,\"#d8576b\"],[0.6666666666666666,\"#ed7953\"],[0.7777777777777778,\"#fb9f3a\"],[0.8888888888888888,\"#fdca26\"],[1.0,\"#f0f921\"]]}],\"heatmapgl\":[{\"type\":\"heatmapgl\",\"colorbar\":{\"outlinewidth\":0,\"ticks\":\"\"},\"colorscale\":[[0.0,\"#0d0887\"],[0.1111111111111111,\"#46039f\"],[0.2222222222222222,\"#7201a8\"],[0.3333333333333333,\"#9c179e\"],[0.4444444444444444,\"#bd3786\"],[0.5555555555555556,\"#d8576b\"],[0.6666666666666666,\"#ed7953\"],[0.7777777777777778,\"#fb9f3a\"],[0.8888888888888888,\"#fdca26\"],[1.0,\"#f0f921\"]]}],\"contourcarpet\":[{\"type\":\"contourcarpet\",\"colorbar\":{\"outlinewidth\":0,\"ticks\":\"\"}}],\"contour\":[{\"type\":\"contour\",\"colorbar\":{\"outlinewidth\":0,\"ticks\":\"\"},\"colorscale\":[[0.0,\"#0d0887\"],[0.1111111111111111,\"#46039f\"],[0.2222222222222222,\"#7201a8\"],[0.3333333333333333,\"#9c179e\"],[0.4444444444444444,\"#bd3786\"],[0.5555555555555556,\"#d8576b\"],[0.6666666666666666,\"#ed7953\"],[0.7777777777777778,\"#fb9f3a\"],[0.8888888888888888,\"#fdca26\"],[1.0,\"#f0f921\"]]}],\"surface\":[{\"type\":\"surface\",\"colorbar\":{\"outlinewidth\":0,\"ticks\":\"\"},\"colorscale\":[[0.0,\"#0d0887\"],[0.1111111111111111,\"#46039f\"],[0.2222222222222222,\"#7201a8\"],[0.3333333333333333,\"#9c179e\"],[0.4444444444444444,\"#bd3786\"],[0.5555555555555556,\"#d8576b\"],[0.6666666666666666,\"#ed7953\"],[0.7777777777777778,\"#fb9f3a\"],[0.8888888888888888,\"#fdca26\"],[1.0,\"#f0f921\"]]}],\"mesh3d\":[{\"type\":\"mesh3d\",\"colorbar\":{\"outlinewidth\":0,\"ticks\":\"\"}}],\"scatter\":[{\"fillpattern\":{\"fillmode\":\"overlay\",\"size\":10,\"solidity\":0.2},\"type\":\"scatter\"}],\"parcoords\":[{\"type\":\"parcoords\",\"line\":{\"colorbar\":{\"outlinewidth\":0,\"ticks\":\"\"}}}],\"scatterpolargl\":[{\"type\":\"scatterpolargl\",\"marker\":{\"colorbar\":{\"outlinewidth\":0,\"ticks\":\"\"}}}],\"bar\":[{\"error_x\":{\"color\":\"#2a3f5f\"},\"error_y\":{\"color\":\"#2a3f5f\"},\"marker\":{\"line\":{\"color\":\"#E5ECF6\",\"width\":0.5},\"pattern\":{\"fillmode\":\"overlay\",\"size\":10,\"solidity\":0.2}},\"type\":\"bar\"}],\"scattergeo\":[{\"type\":\"scattergeo\",\"marker\":{\"colorbar\":{\"outlinewidth\":0,\"ticks\":\"\"}}}],\"scatterpolar\":[{\"type\":\"scatterpolar\",\"marker\":{\"colorbar\":{\"outlinewidth\":0,\"ticks\":\"\"}}}],\"histogram\":[{\"marker\":{\"pattern\":{\"fillmode\":\"overlay\",\"size\":10,\"solidity\":0.2}},\"type\":\"histogram\"}],\"scattergl\":[{\"type\":\"scattergl\",\"marker\":{\"colorbar\":{\"outlinewidth\":0,\"ticks\":\"\"}}}],\"scatter3d\":[{\"type\":\"scatter3d\",\"line\":{\"colorbar\":{\"outlinewidth\":0,\"ticks\":\"\"}},\"marker\":{\"colorbar\":{\"outlinewidth\":0,\"ticks\":\"\"}}}],\"scattermapbox\":[{\"type\":\"scattermapbox\",\"marker\":{\"colorbar\":{\"outlinewidth\":0,\"ticks\":\"\"}}}],\"scatterternary\":[{\"type\":\"scatterternary\",\"marker\":{\"colorbar\":{\"outlinewidth\":0,\"ticks\":\"\"}}}],\"scattercarpet\":[{\"type\":\"scattercarpet\",\"marker\":{\"colorbar\":{\"outlinewidth\":0,\"ticks\":\"\"}}}],\"carpet\":[{\"aaxis\":{\"endlinecolor\":\"#2a3f5f\",\"gridcolor\":\"white\",\"linecolor\":\"white\",\"minorgridcolor\":\"white\",\"startlinecolor\":\"#2a3f5f\"},\"baxis\":{\"endlinecolor\":\"#2a3f5f\",\"gridcolor\":\"white\",\"linecolor\":\"white\",\"minorgridcolor\":\"white\",\"startlinecolor\":\"#2a3f5f\"},\"type\":\"carpet\"}],\"table\":[{\"cells\":{\"fill\":{\"color\":\"#EBF0F8\"},\"line\":{\"color\":\"white\"}},\"header\":{\"fill\":{\"color\":\"#C8D4E3\"},\"line\":{\"color\":\"white\"}},\"type\":\"table\"}],\"barpolar\":[{\"marker\":{\"line\":{\"color\":\"#E5ECF6\",\"width\":0.5},\"pattern\":{\"fillmode\":\"overlay\",\"size\":10,\"solidity\":0.2}},\"type\":\"barpolar\"}],\"pie\":[{\"automargin\":true,\"type\":\"pie\"}]},\"layout\":{\"autotypenumbers\":\"strict\",\"colorway\":[\"#636efa\",\"#EF553B\",\"#00cc96\",\"#ab63fa\",\"#FFA15A\",\"#19d3f3\",\"#FF6692\",\"#B6E880\",\"#FF97FF\",\"#FECB52\"],\"font\":{\"color\":\"#2a3f5f\"},\"hovermode\":\"closest\",\"hoverlabel\":{\"align\":\"left\"},\"paper_bgcolor\":\"white\",\"plot_bgcolor\":\"#E5ECF6\",\"polar\":{\"bgcolor\":\"#E5ECF6\",\"angularaxis\":{\"gridcolor\":\"white\",\"linecolor\":\"white\",\"ticks\":\"\"},\"radialaxis\":{\"gridcolor\":\"white\",\"linecolor\":\"white\",\"ticks\":\"\"}},\"ternary\":{\"bgcolor\":\"#E5ECF6\",\"aaxis\":{\"gridcolor\":\"white\",\"linecolor\":\"white\",\"ticks\":\"\"},\"baxis\":{\"gridcolor\":\"white\",\"linecolor\":\"white\",\"ticks\":\"\"},\"caxis\":{\"gridcolor\":\"white\",\"linecolor\":\"white\",\"ticks\":\"\"}},\"coloraxis\":{\"colorbar\":{\"outlinewidth\":0,\"ticks\":\"\"}},\"colorscale\":{\"sequential\":[[0.0,\"#0d0887\"],[0.1111111111111111,\"#46039f\"],[0.2222222222222222,\"#7201a8\"],[0.3333333333333333,\"#9c179e\"],[0.4444444444444444,\"#bd3786\"],[0.5555555555555556,\"#d8576b\"],[0.6666666666666666,\"#ed7953\"],[0.7777777777777778,\"#fb9f3a\"],[0.8888888888888888,\"#fdca26\"],[1.0,\"#f0f921\"]],\"sequentialminus\":[[0.0,\"#0d0887\"],[0.1111111111111111,\"#46039f\"],[0.2222222222222222,\"#7201a8\"],[0.3333333333333333,\"#9c179e\"],[0.4444444444444444,\"#bd3786\"],[0.5555555555555556,\"#d8576b\"],[0.6666666666666666,\"#ed7953\"],[0.7777777777777778,\"#fb9f3a\"],[0.8888888888888888,\"#fdca26\"],[1.0,\"#f0f921\"]],\"diverging\":[[0,\"#8e0152\"],[0.1,\"#c51b7d\"],[0.2,\"#de77ae\"],[0.3,\"#f1b6da\"],[0.4,\"#fde0ef\"],[0.5,\"#f7f7f7\"],[0.6,\"#e6f5d0\"],[0.7,\"#b8e186\"],[0.8,\"#7fbc41\"],[0.9,\"#4d9221\"],[1,\"#276419\"]]},\"xaxis\":{\"gridcolor\":\"white\",\"linecolor\":\"white\",\"ticks\":\"\",\"title\":{\"standoff\":15},\"zerolinecolor\":\"white\",\"automargin\":true,\"zerolinewidth\":2},\"yaxis\":{\"gridcolor\":\"white\",\"linecolor\":\"white\",\"ticks\":\"\",\"title\":{\"standoff\":15},\"zerolinecolor\":\"white\",\"automargin\":true,\"zerolinewidth\":2},\"scene\":{\"xaxis\":{\"backgroundcolor\":\"#E5ECF6\",\"gridcolor\":\"white\",\"linecolor\":\"white\",\"showbackground\":true,\"ticks\":\"\",\"zerolinecolor\":\"white\",\"gridwidth\":2},\"yaxis\":{\"backgroundcolor\":\"#E5ECF6\",\"gridcolor\":\"white\",\"linecolor\":\"white\",\"showbackground\":true,\"ticks\":\"\",\"zerolinecolor\":\"white\",\"gridwidth\":2},\"zaxis\":{\"backgroundcolor\":\"#E5ECF6\",\"gridcolor\":\"white\",\"linecolor\":\"white\",\"showbackground\":true,\"ticks\":\"\",\"zerolinecolor\":\"white\",\"gridwidth\":2}},\"shapedefaults\":{\"line\":{\"color\":\"#2a3f5f\"}},\"annotationdefaults\":{\"arrowcolor\":\"#2a3f5f\",\"arrowhead\":0,\"arrowwidth\":1},\"geo\":{\"bgcolor\":\"white\",\"landcolor\":\"#E5ECF6\",\"subunitcolor\":\"white\",\"showland\":true,\"showlakes\":true,\"lakecolor\":\"white\"},\"title\":{\"x\":0.05},\"mapbox\":{\"style\":\"light\"}}},\"margin\":{\"t\":80,\"l\":0,\"r\":0,\"b\":0},\"title\":{\"text\":\"Mass Breakdown\",\"x\":0.5}},                        {\"responsive\": true}                    ).then(function(){\n",
       "                            \n",
       "var gd = document.getElementById('4abf24d3-2d88-4f47-9ee6-c4bf3bb1e5f5');\n",
       "var x = new MutationObserver(function (mutations, observer) {{\n",
       "        var display = window.getComputedStyle(gd).display;\n",
       "        if (!display || display === 'none') {{\n",
       "            console.log([gd, 'removed!']);\n",
       "            Plotly.purge(gd);\n",
       "            observer.disconnect();\n",
       "        }}\n",
       "}});\n",
       "\n",
       "// Listen for the removal of the full notebook cells\n",
       "var notebookContainer = gd.closest('#notebook-container');\n",
       "if (notebookContainer) {{\n",
       "    x.observe(notebookContainer, {childList: true});\n",
       "}}\n",
       "\n",
       "// Listen for the clearing of the current output cell\n",
       "var outputEl = gd.closest('.output');\n",
       "if (outputEl) {{\n",
       "    x.observe(outputEl, {childList: true});\n",
       "}}\n",
       "\n",
       "                        })                };                });            </script>        </div>"
      ]
     },
     "metadata": {},
     "output_type": "display_data"
    }
   ],
   "source": [
    "fig = mass_breakdown_sun_plot_drone(OUTPUT_FILE)\n",
    "fig.show()"
   ]
  },
  {
   "cell_type": "code",
   "execution_count": null,
   "metadata": {},
   "outputs": [],
   "source": []
  }
 ],
 "metadata": {
  "kernelspec": {
   "display_name": "Python 3 (ipykernel)",
   "language": "python",
   "name": "python3"
  },
  "language_info": {
   "codemirror_mode": {
    "name": "ipython",
    "version": 3
   },
   "file_extension": ".py",
   "mimetype": "text/x-python",
   "name": "python",
   "nbconvert_exporter": "python",
   "pygments_lexer": "ipython3",
   "version": "3.8.10"
  }
 },
 "nbformat": 4,
 "nbformat_minor": 4
}
